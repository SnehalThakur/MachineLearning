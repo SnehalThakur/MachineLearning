{
 "cells": [
  {
   "cell_type": "code",
   "execution_count": 1,
   "id": "57f09908",
   "metadata": {
    "_cell_guid": "b1076dfc-b9ad-4769-8c92-a6c4dae69d19",
    "_uuid": "8f2839f25d086af736a60e9eeb907d3b93b6e0e5",
    "execution": {
     "iopub.execute_input": "2022-03-05T12:15:37.466898Z",
     "iopub.status.busy": "2022-03-05T12:15:37.462075Z",
     "iopub.status.idle": "2022-03-05T12:15:37.484265Z",
     "shell.execute_reply": "2022-03-05T12:15:37.485023Z",
     "shell.execute_reply.started": "2022-03-01T12:44:37.139382Z"
    },
    "papermill": {
     "duration": 0.077859,
     "end_time": "2022-03-05T12:15:37.485433",
     "exception": false,
     "start_time": "2022-03-05T12:15:37.407574",
     "status": "completed"
    },
    "tags": []
   },
   "outputs": [
    {
     "name": "stdout",
     "output_type": "stream",
     "text": [
      "/kaggle/input/trafficaccidentclassificationdatasetcleaned/trafficAccidentCleanedDataset.csv\n",
      "/kaggle/input/road-traffic-accidents/RTA Dataset.csv\n",
      "/kaggle/input/road-traffic-accidents/cleaned.csv\n"
     ]
    }
   ],
   "source": [
    "# This Python 3 environment comes with many helpful analytics libraries installed\n",
    "# It is defined by the kaggle/python Docker image: https://github.com/kaggle/docker-python\n",
    "# For example, here's several helpful packages to load\n",
    "\n",
    "import numpy as np # linear algebra\n",
    "import pandas as pd # data processing, CSV file I/O (e.g. pd.read_csv)\n",
    "\n",
    "# Input data files are available in the read-only \"../input/\" directory\n",
    "# For example, running this (by clicking run or pressing Shift+Enter) will list all files under the input directory\n",
    "\n",
    "import os\n",
    "for dirname, _, filenames in os.walk('/kaggle/input'):\n",
    "    for filename in filenames:\n",
    "        print(os.path.join(dirname, filename))\n",
    "\n",
    "# You can write up to 20GB to the current directory (/kaggle/working/) that gets preserved as output when you create a version using \"Save & Run All\" \n",
    "# You can also write temporary files to /kaggle/temp/, but they won't be saved outside of the current session"
   ]
  },
  {
   "cell_type": "code",
   "execution_count": 2,
   "id": "f07cf266",
   "metadata": {
    "execution": {
     "iopub.execute_input": "2022-03-05T12:15:37.597437Z",
     "iopub.status.busy": "2022-03-05T12:15:37.596732Z",
     "iopub.status.idle": "2022-03-05T12:15:44.080190Z",
     "shell.execute_reply": "2022-03-05T12:15:44.079655Z",
     "shell.execute_reply.started": "2022-03-05T11:31:03.825572Z"
    },
    "papermill": {
     "duration": 6.544852,
     "end_time": "2022-03-05T12:15:44.080353",
     "exception": false,
     "start_time": "2022-03-05T12:15:37.535501",
     "status": "completed"
    },
    "tags": []
   },
   "outputs": [],
   "source": [
    "import numpy as np\n",
    "import pandas as pd\n",
    "import matplotlib.pyplot as plt\n",
    "from matplotlib import style\n",
    "import seaborn as sns\n",
    "sns.set_style('whitegrid')\n",
    "import tensorflow as tf\n",
    "from sklearn.model_selection import train_test_split, cross_val_predict\n",
    "from sklearn.svm import SVC\n",
    "from sklearn.ensemble import RandomForestClassifier\n",
    "from sklearn.linear_model import SGDClassifier\n",
    "from sklearn.neighbors import KNeighborsClassifier\n",
    "from sklearn.naive_bayes import GaussianNB\n",
    "from sklearn.decomposition import PCA\n",
    "from xgboost import XGBClassifier\n",
    "from sklearn.preprocessing import LabelEncoder, MinMaxScaler\n",
    "from sklearn.metrics import confusion_matrix, precision_score, recall_score, f1_score\n",
    "import time\n",
    "import warnings\n",
    "warnings.filterwarnings(\"ignore\", category=DeprecationWarning)\n",
    "%matplotlib inline\n",
    "\n",
    "SMALL_SIZE = 10\n",
    "MEDIUM_SIZE = 12\n",
    "\n",
    "plt.rc('font', size=SMALL_SIZE)\n",
    "plt.rc('axes', titlesize=MEDIUM_SIZE)\n",
    "plt.rc('axes', labelsize=MEDIUM_SIZE)\n",
    "plt.rcParams['figure.dpi']=150"
   ]
  },
  {
   "cell_type": "code",
   "execution_count": 3,
   "id": "fba58a18",
   "metadata": {
    "execution": {
     "iopub.execute_input": "2022-03-05T12:15:44.183716Z",
     "iopub.status.busy": "2022-03-05T12:15:44.183050Z",
     "iopub.status.idle": "2022-03-05T12:15:44.352057Z",
     "shell.execute_reply": "2022-03-05T12:15:44.352560Z",
     "shell.execute_reply.started": "2022-03-05T10:51:47.173705Z"
    },
    "papermill": {
     "duration": 0.221972,
     "end_time": "2022-03-05T12:15:44.352731",
     "exception": false,
     "start_time": "2022-03-05T12:15:44.130759",
     "status": "completed"
    },
    "tags": []
   },
   "outputs": [
    {
     "data": {
      "text/html": [
       "<div>\n",
       "<style scoped>\n",
       "    .dataframe tbody tr th:only-of-type {\n",
       "        vertical-align: middle;\n",
       "    }\n",
       "\n",
       "    .dataframe tbody tr th {\n",
       "        vertical-align: top;\n",
       "    }\n",
       "\n",
       "    .dataframe thead th {\n",
       "        text-align: right;\n",
       "    }\n",
       "</style>\n",
       "<table border=\"1\" class=\"dataframe\">\n",
       "  <thead>\n",
       "    <tr style=\"text-align: right;\">\n",
       "      <th></th>\n",
       "      <th>Time</th>\n",
       "      <th>Day_of_week</th>\n",
       "      <th>Age_band_of_driver</th>\n",
       "      <th>Sex_of_driver</th>\n",
       "      <th>Educational_level</th>\n",
       "      <th>Vehicle_driver_relation</th>\n",
       "      <th>Driving_experience</th>\n",
       "      <th>Type_of_vehicle</th>\n",
       "      <th>Owner_of_vehicle</th>\n",
       "      <th>Service_year_of_vehicle</th>\n",
       "      <th>...</th>\n",
       "      <th>Vehicle_movement</th>\n",
       "      <th>Casualty_class</th>\n",
       "      <th>Sex_of_casualty</th>\n",
       "      <th>Age_band_of_casualty</th>\n",
       "      <th>Casualty_severity</th>\n",
       "      <th>Work_of_casuality</th>\n",
       "      <th>Fitness_of_casuality</th>\n",
       "      <th>Pedestrian_movement</th>\n",
       "      <th>Cause_of_accident</th>\n",
       "      <th>Accident_severity</th>\n",
       "    </tr>\n",
       "  </thead>\n",
       "  <tbody>\n",
       "    <tr>\n",
       "      <th>0</th>\n",
       "      <td>17:02:00</td>\n",
       "      <td>Monday</td>\n",
       "      <td>18-30</td>\n",
       "      <td>Male</td>\n",
       "      <td>Above high school</td>\n",
       "      <td>Employee</td>\n",
       "      <td>1-2yr</td>\n",
       "      <td>Automobile</td>\n",
       "      <td>Owner</td>\n",
       "      <td>Above 10yr</td>\n",
       "      <td>...</td>\n",
       "      <td>Going straight</td>\n",
       "      <td>na</td>\n",
       "      <td>na</td>\n",
       "      <td>na</td>\n",
       "      <td>na</td>\n",
       "      <td>NaN</td>\n",
       "      <td>NaN</td>\n",
       "      <td>Not a Pedestrian</td>\n",
       "      <td>Moving Backward</td>\n",
       "      <td>Slight Injury</td>\n",
       "    </tr>\n",
       "    <tr>\n",
       "      <th>1</th>\n",
       "      <td>17:02:00</td>\n",
       "      <td>Monday</td>\n",
       "      <td>31-50</td>\n",
       "      <td>Male</td>\n",
       "      <td>Junior high school</td>\n",
       "      <td>Employee</td>\n",
       "      <td>Above 10yr</td>\n",
       "      <td>Public (&gt; 45 seats)</td>\n",
       "      <td>Owner</td>\n",
       "      <td>5-10yrs</td>\n",
       "      <td>...</td>\n",
       "      <td>Going straight</td>\n",
       "      <td>na</td>\n",
       "      <td>na</td>\n",
       "      <td>na</td>\n",
       "      <td>na</td>\n",
       "      <td>NaN</td>\n",
       "      <td>NaN</td>\n",
       "      <td>Not a Pedestrian</td>\n",
       "      <td>Overtaking</td>\n",
       "      <td>Slight Injury</td>\n",
       "    </tr>\n",
       "    <tr>\n",
       "      <th>2</th>\n",
       "      <td>17:02:00</td>\n",
       "      <td>Monday</td>\n",
       "      <td>18-30</td>\n",
       "      <td>Male</td>\n",
       "      <td>Junior high school</td>\n",
       "      <td>Employee</td>\n",
       "      <td>1-2yr</td>\n",
       "      <td>Lorry (41?100Q)</td>\n",
       "      <td>Owner</td>\n",
       "      <td>NaN</td>\n",
       "      <td>...</td>\n",
       "      <td>Going straight</td>\n",
       "      <td>Driver or rider</td>\n",
       "      <td>Male</td>\n",
       "      <td>31-50</td>\n",
       "      <td>3</td>\n",
       "      <td>Driver</td>\n",
       "      <td>NaN</td>\n",
       "      <td>Not a Pedestrian</td>\n",
       "      <td>Changing lane to the left</td>\n",
       "      <td>Serious Injury</td>\n",
       "    </tr>\n",
       "    <tr>\n",
       "      <th>3</th>\n",
       "      <td>1:06:00</td>\n",
       "      <td>Sunday</td>\n",
       "      <td>18-30</td>\n",
       "      <td>Male</td>\n",
       "      <td>Junior high school</td>\n",
       "      <td>Employee</td>\n",
       "      <td>5-10yr</td>\n",
       "      <td>Public (&gt; 45 seats)</td>\n",
       "      <td>Governmental</td>\n",
       "      <td>NaN</td>\n",
       "      <td>...</td>\n",
       "      <td>Going straight</td>\n",
       "      <td>Pedestrian</td>\n",
       "      <td>Female</td>\n",
       "      <td>18-30</td>\n",
       "      <td>3</td>\n",
       "      <td>Driver</td>\n",
       "      <td>Normal</td>\n",
       "      <td>Not a Pedestrian</td>\n",
       "      <td>Changing lane to the right</td>\n",
       "      <td>Slight Injury</td>\n",
       "    </tr>\n",
       "    <tr>\n",
       "      <th>4</th>\n",
       "      <td>1:06:00</td>\n",
       "      <td>Sunday</td>\n",
       "      <td>18-30</td>\n",
       "      <td>Male</td>\n",
       "      <td>Junior high school</td>\n",
       "      <td>Employee</td>\n",
       "      <td>2-5yr</td>\n",
       "      <td>NaN</td>\n",
       "      <td>Owner</td>\n",
       "      <td>5-10yrs</td>\n",
       "      <td>...</td>\n",
       "      <td>Going straight</td>\n",
       "      <td>na</td>\n",
       "      <td>na</td>\n",
       "      <td>na</td>\n",
       "      <td>na</td>\n",
       "      <td>NaN</td>\n",
       "      <td>NaN</td>\n",
       "      <td>Not a Pedestrian</td>\n",
       "      <td>Overtaking</td>\n",
       "      <td>Slight Injury</td>\n",
       "    </tr>\n",
       "  </tbody>\n",
       "</table>\n",
       "<p>5 rows × 32 columns</p>\n",
       "</div>"
      ],
      "text/plain": [
       "       Time Day_of_week Age_band_of_driver Sex_of_driver   Educational_level  \\\n",
       "0  17:02:00      Monday              18-30          Male   Above high school   \n",
       "1  17:02:00      Monday              31-50          Male  Junior high school   \n",
       "2  17:02:00      Monday              18-30          Male  Junior high school   \n",
       "3   1:06:00      Sunday              18-30          Male  Junior high school   \n",
       "4   1:06:00      Sunday              18-30          Male  Junior high school   \n",
       "\n",
       "  Vehicle_driver_relation Driving_experience      Type_of_vehicle  \\\n",
       "0                Employee              1-2yr           Automobile   \n",
       "1                Employee         Above 10yr  Public (> 45 seats)   \n",
       "2                Employee              1-2yr      Lorry (41?100Q)   \n",
       "3                Employee             5-10yr  Public (> 45 seats)   \n",
       "4                Employee              2-5yr                  NaN   \n",
       "\n",
       "  Owner_of_vehicle Service_year_of_vehicle  ... Vehicle_movement  \\\n",
       "0            Owner              Above 10yr  ...   Going straight   \n",
       "1            Owner                 5-10yrs  ...   Going straight   \n",
       "2            Owner                     NaN  ...   Going straight   \n",
       "3     Governmental                     NaN  ...   Going straight   \n",
       "4            Owner                 5-10yrs  ...   Going straight   \n",
       "\n",
       "    Casualty_class Sex_of_casualty Age_band_of_casualty Casualty_severity  \\\n",
       "0               na              na                   na                na   \n",
       "1               na              na                   na                na   \n",
       "2  Driver or rider            Male                31-50                 3   \n",
       "3       Pedestrian          Female                18-30                 3   \n",
       "4               na              na                   na                na   \n",
       "\n",
       "  Work_of_casuality Fitness_of_casuality Pedestrian_movement  \\\n",
       "0               NaN                  NaN    Not a Pedestrian   \n",
       "1               NaN                  NaN    Not a Pedestrian   \n",
       "2            Driver                  NaN    Not a Pedestrian   \n",
       "3            Driver               Normal    Not a Pedestrian   \n",
       "4               NaN                  NaN    Not a Pedestrian   \n",
       "\n",
       "            Cause_of_accident Accident_severity  \n",
       "0             Moving Backward     Slight Injury  \n",
       "1                  Overtaking     Slight Injury  \n",
       "2   Changing lane to the left    Serious Injury  \n",
       "3  Changing lane to the right     Slight Injury  \n",
       "4                  Overtaking     Slight Injury  \n",
       "\n",
       "[5 rows x 32 columns]"
      ]
     },
     "execution_count": 3,
     "metadata": {},
     "output_type": "execute_result"
    }
   ],
   "source": [
    "rta_data = pd.read_csv(\"/kaggle/input/road-traffic-accidents/RTA Dataset.csv\")\n",
    "rta_data.head()"
   ]
  },
  {
   "cell_type": "markdown",
   "id": "92e287cc",
   "metadata": {
    "papermill": {
     "duration": 0.04824,
     "end_time": "2022-03-05T12:15:44.449898",
     "exception": false,
     "start_time": "2022-03-05T12:15:44.401658",
     "status": "completed"
    },
    "tags": []
   },
   "source": [
    "We have done investigation about which features to select and that helps to get better model with less number of features.\n",
    "https://www.kaggle.com/snehalthakur1991/traffic-accident-classification-updated"
   ]
  },
  {
   "cell_type": "code",
   "execution_count": 4,
   "id": "c8077e63",
   "metadata": {
    "execution": {
     "iopub.execute_input": "2022-03-05T12:15:44.554042Z",
     "iopub.status.busy": "2022-03-05T12:15:44.553351Z",
     "iopub.status.idle": "2022-03-05T12:15:44.555909Z",
     "shell.execute_reply": "2022-03-05T12:15:44.556400Z",
     "shell.execute_reply.started": "2022-03-05T10:52:51.864052Z"
    },
    "papermill": {
     "duration": 0.057716,
     "end_time": "2022-03-05T12:15:44.556567",
     "exception": false,
     "start_time": "2022-03-05T12:15:44.498851",
     "status": "completed"
    },
    "tags": []
   },
   "outputs": [
    {
     "data": {
      "text/plain": [
       "Index(['Time', 'Day_of_week', 'Age_band_of_driver', 'Sex_of_driver',\n",
       "       'Educational_level', 'Vehicle_driver_relation', 'Driving_experience',\n",
       "       'Type_of_vehicle', 'Owner_of_vehicle', 'Service_year_of_vehicle',\n",
       "       'Defect_of_vehicle', 'Area_accident_occured', 'Lanes_or_Medians',\n",
       "       'Road_allignment', 'Types_of_Junction', 'Road_surface_type',\n",
       "       'Road_surface_conditions', 'Light_conditions', 'Weather_conditions',\n",
       "       'Type_of_collision', 'Number_of_vehicles_involved',\n",
       "       'Number_of_casualties', 'Vehicle_movement', 'Casualty_class',\n",
       "       'Sex_of_casualty', 'Age_band_of_casualty', 'Casualty_severity',\n",
       "       'Work_of_casuality', 'Fitness_of_casuality', 'Pedestrian_movement',\n",
       "       'Cause_of_accident', 'Accident_severity'],\n",
       "      dtype='object')"
      ]
     },
     "execution_count": 4,
     "metadata": {},
     "output_type": "execute_result"
    }
   ],
   "source": [
    "rta_data.columns"
   ]
  },
  {
   "cell_type": "code",
   "execution_count": 5,
   "id": "fc0842ff",
   "metadata": {
    "execution": {
     "iopub.execute_input": "2022-03-05T12:15:44.658064Z",
     "iopub.status.busy": "2022-03-05T12:15:44.657439Z",
     "iopub.status.idle": "2022-03-05T12:15:44.704319Z",
     "shell.execute_reply": "2022-03-05T12:15:44.704934Z",
     "shell.execute_reply.started": "2022-03-05T10:52:57.440474Z"
    },
    "papermill": {
     "duration": 0.099251,
     "end_time": "2022-03-05T12:15:44.705105",
     "exception": false,
     "start_time": "2022-03-05T12:15:44.605854",
     "status": "completed"
    },
    "tags": []
   },
   "outputs": [
    {
     "data": {
      "text/plain": [
       "Time                              0\n",
       "Day_of_week                       0\n",
       "Age_band_of_driver                0\n",
       "Sex_of_driver                     0\n",
       "Educational_level               741\n",
       "Vehicle_driver_relation         579\n",
       "Driving_experience              829\n",
       "Type_of_vehicle                 950\n",
       "Owner_of_vehicle                482\n",
       "Service_year_of_vehicle        3928\n",
       "Defect_of_vehicle              4427\n",
       "Area_accident_occured           239\n",
       "Lanes_or_Medians                385\n",
       "Road_allignment                 142\n",
       "Types_of_Junction               887\n",
       "Road_surface_type               172\n",
       "Road_surface_conditions           0\n",
       "Light_conditions                  0\n",
       "Weather_conditions                0\n",
       "Type_of_collision               155\n",
       "Number_of_vehicles_involved       0\n",
       "Number_of_casualties              0\n",
       "Vehicle_movement                308\n",
       "Casualty_class                    0\n",
       "Sex_of_casualty                   0\n",
       "Age_band_of_casualty              0\n",
       "Casualty_severity                 0\n",
       "Work_of_casuality              3198\n",
       "Fitness_of_casuality           2635\n",
       "Pedestrian_movement               0\n",
       "Cause_of_accident                 0\n",
       "Accident_severity                 0\n",
       "dtype: int64"
      ]
     },
     "execution_count": 5,
     "metadata": {},
     "output_type": "execute_result"
    }
   ],
   "source": [
    "rta_data.isna().sum()"
   ]
  },
  {
   "cell_type": "code",
   "execution_count": 6,
   "id": "c37f0a1a",
   "metadata": {
    "execution": {
     "iopub.execute_input": "2022-03-05T12:15:44.807731Z",
     "iopub.status.busy": "2022-03-05T12:15:44.807068Z",
     "iopub.status.idle": "2022-03-05T12:15:44.819232Z",
     "shell.execute_reply": "2022-03-05T12:15:44.819755Z",
     "shell.execute_reply.started": "2022-03-05T10:55:14.680009Z"
    },
    "papermill": {
     "duration": 0.06535,
     "end_time": "2022-03-05T12:15:44.819930",
     "exception": false,
     "start_time": "2022-03-05T12:15:44.754580",
     "status": "completed"
    },
    "tags": []
   },
   "outputs": [
    {
     "data": {
      "text/plain": [
       "Slight Injury     10415\n",
       "Serious Injury     1743\n",
       "Fatal injury        158\n",
       "Name: Accident_severity, dtype: int64"
      ]
     },
     "execution_count": 6,
     "metadata": {},
     "output_type": "execute_result"
    }
   ],
   "source": [
    "rta_data['Accident_severity'].value_counts()"
   ]
  },
  {
   "cell_type": "code",
   "execution_count": 7,
   "id": "db73c12e",
   "metadata": {
    "execution": {
     "iopub.execute_input": "2022-03-05T12:15:44.924715Z",
     "iopub.status.busy": "2022-03-05T12:15:44.923994Z",
     "iopub.status.idle": "2022-03-05T12:15:45.004476Z",
     "shell.execute_reply": "2022-03-05T12:15:45.004933Z",
     "shell.execute_reply.started": "2022-03-01T12:44:37.394342Z"
    },
    "papermill": {
     "duration": 0.134808,
     "end_time": "2022-03-05T12:15:45.005111",
     "exception": false,
     "start_time": "2022-03-05T12:15:44.870303",
     "status": "completed"
    },
    "tags": []
   },
   "outputs": [
    {
     "data": {
      "text/html": [
       "<style type=\"text/css\">\n",
       "#T_afeb4_row0_col0, #T_afeb4_row1_col1 {\n",
       "  background-color: #ff00ff;\n",
       "  color: #f1f1f1;\n",
       "}\n",
       "#T_afeb4_row0_col1, #T_afeb4_row1_col0 {\n",
       "  background-color: #00ffff;\n",
       "  color: #000000;\n",
       "}\n",
       "</style>\n",
       "<table id=\"T_afeb4_\">\n",
       "  <thead>\n",
       "    <tr>\n",
       "      <th class=\"blank level0\" >&nbsp;</th>\n",
       "      <th class=\"col_heading level0 col0\" >Number_of_vehicles_involved</th>\n",
       "      <th class=\"col_heading level0 col1\" >Number_of_casualties</th>\n",
       "    </tr>\n",
       "  </thead>\n",
       "  <tbody>\n",
       "    <tr>\n",
       "      <th id=\"T_afeb4_level0_row0\" class=\"row_heading level0 row0\" >Number_of_vehicles_involved</th>\n",
       "      <td id=\"T_afeb4_row0_col0\" class=\"data row0 col0\" >1.000000</td>\n",
       "      <td id=\"T_afeb4_row0_col1\" class=\"data row0 col1\" >0.213427</td>\n",
       "    </tr>\n",
       "    <tr>\n",
       "      <th id=\"T_afeb4_level0_row1\" class=\"row_heading level0 row1\" >Number_of_casualties</th>\n",
       "      <td id=\"T_afeb4_row1_col0\" class=\"data row1 col0\" >0.213427</td>\n",
       "      <td id=\"T_afeb4_row1_col1\" class=\"data row1 col1\" >1.000000</td>\n",
       "    </tr>\n",
       "  </tbody>\n",
       "</table>\n"
      ],
      "text/plain": [
       "<pandas.io.formats.style.Styler at 0x7f4c48c34450>"
      ]
     },
     "execution_count": 7,
     "metadata": {},
     "output_type": "execute_result"
    }
   ],
   "source": [
    "rta_data_corr = rta_data.corr()\n",
    "rta_data_corr.style.background_gradient(cmap=\"cool\")"
   ]
  },
  {
   "cell_type": "code",
   "execution_count": 8,
   "id": "d80df9af",
   "metadata": {
    "execution": {
     "iopub.execute_input": "2022-03-05T12:15:45.116187Z",
     "iopub.status.busy": "2022-03-05T12:15:45.115259Z",
     "iopub.status.idle": "2022-03-05T12:15:55.480491Z",
     "shell.execute_reply": "2022-03-05T12:15:55.479511Z",
     "shell.execute_reply.started": "2022-03-05T11:00:20.336434Z"
    },
    "papermill": {
     "duration": 10.422337,
     "end_time": "2022-03-05T12:15:55.480741",
     "exception": false,
     "start_time": "2022-03-05T12:15:45.058404",
     "status": "completed"
    },
    "tags": []
   },
   "outputs": [
    {
     "name": "stdout",
     "output_type": "stream",
     "text": [
      "Collecting sklearn-pandas==1.5.0\r\n",
      "  Downloading sklearn_pandas-1.5.0-py2.py3-none-any.whl (8.9 kB)\r\n",
      "Requirement already satisfied: pandas>=0.11.0 in /opt/conda/lib/python3.7/site-packages (from sklearn-pandas==1.5.0) (1.3.5)\r\n",
      "Requirement already satisfied: scipy>=0.14 in /opt/conda/lib/python3.7/site-packages (from sklearn-pandas==1.5.0) (1.7.3)\r\n",
      "Requirement already satisfied: numpy>=1.6.1 in /opt/conda/lib/python3.7/site-packages (from sklearn-pandas==1.5.0) (1.20.3)\r\n",
      "Requirement already satisfied: scikit-learn>=0.15.0 in /opt/conda/lib/python3.7/site-packages (from sklearn-pandas==1.5.0) (0.23.2)\r\n",
      "Requirement already satisfied: python-dateutil>=2.7.3 in /opt/conda/lib/python3.7/site-packages (from pandas>=0.11.0->sklearn-pandas==1.5.0) (2.8.2)\r\n",
      "Requirement already satisfied: pytz>=2017.3 in /opt/conda/lib/python3.7/site-packages (from pandas>=0.11.0->sklearn-pandas==1.5.0) (2021.3)\r\n",
      "Requirement already satisfied: threadpoolctl>=2.0.0 in /opt/conda/lib/python3.7/site-packages (from scikit-learn>=0.15.0->sklearn-pandas==1.5.0) (3.0.0)\r\n",
      "Requirement already satisfied: joblib>=0.11 in /opt/conda/lib/python3.7/site-packages (from scikit-learn>=0.15.0->sklearn-pandas==1.5.0) (1.1.0)\r\n",
      "Requirement already satisfied: six>=1.5 in /opt/conda/lib/python3.7/site-packages (from python-dateutil>=2.7.3->pandas>=0.11.0->sklearn-pandas==1.5.0) (1.16.0)\r\n",
      "Installing collected packages: sklearn-pandas\r\n",
      "  Attempting uninstall: sklearn-pandas\r\n",
      "    Found existing installation: sklearn-pandas 2.2.0\r\n",
      "    Uninstalling sklearn-pandas-2.2.0:\r\n",
      "      Successfully uninstalled sklearn-pandas-2.2.0\r\n",
      "Successfully installed sklearn-pandas-1.5.0\r\n",
      "\u001b[33mWARNING: Running pip as the 'root' user can result in broken permissions and conflicting behaviour with the system package manager. It is recommended to use a virtual environment instead: https://pip.pypa.io/warnings/venv\u001b[0m\r\n",
      "Note: you may need to restart the kernel to use updated packages.\n"
     ]
    }
   ],
   "source": [
    "pip install sklearn-pandas==1.5.0"
   ]
  },
  {
   "cell_type": "code",
   "execution_count": null,
   "id": "fdf2d3b9",
   "metadata": {
    "execution": {
     "iopub.execute_input": "2022-03-05T11:00:33.556740Z",
     "iopub.status.busy": "2022-03-05T11:00:33.556437Z",
     "iopub.status.idle": "2022-03-05T11:00:33.560898Z",
     "shell.execute_reply": "2022-03-05T11:00:33.560150Z",
     "shell.execute_reply.started": "2022-03-05T11:00:33.556705Z"
    },
    "papermill": {
     "duration": 0.054327,
     "end_time": "2022-03-05T12:15:55.591358",
     "exception": false,
     "start_time": "2022-03-05T12:15:55.537031",
     "status": "completed"
    },
    "tags": []
   },
   "outputs": [],
   "source": []
  },
  {
   "cell_type": "code",
   "execution_count": 9,
   "id": "52d659fa",
   "metadata": {
    "execution": {
     "iopub.execute_input": "2022-03-05T12:15:55.708293Z",
     "iopub.status.busy": "2022-03-05T12:15:55.707291Z",
     "iopub.status.idle": "2022-03-05T12:15:55.714246Z",
     "shell.execute_reply": "2022-03-05T12:15:55.714842Z",
     "shell.execute_reply.started": "2022-03-01T12:44:46.800958Z"
    },
    "papermill": {
     "duration": 0.070195,
     "end_time": "2022-03-05T12:15:55.715011",
     "exception": false,
     "start_time": "2022-03-05T12:15:55.644816",
     "status": "completed"
    },
    "tags": []
   },
   "outputs": [
    {
     "data": {
      "text/plain": [
       "\"from sklearn_pandas import CategoricalImputer\\nimputer = CategoricalImputer()\\n\\nrta_data['Type_of_vehicle_new']=imputer.fit_transform(rta_data['Type_of_vehicle'])\\nrta_data['Type_of_vehicle'] = rta_data['Type_of_vehicle'].map({'Automobile' : 1, 'Lorry (41?100Q)' : 2 ,'Lorry (11?40Q)':2,'Long lorry':2, 'Public (12 seats)':3,'Public (13?45 seats)':3,'Public (> 45 seats)':3,'Stationwagen':4,\\n                                                              'Pick up upto 10Q':4, 'Taxi':4,'Turbo':4, 'Special vehicle': 4, 'Motorcycle':5,'Bajaj':5,'Bicycle':6,'Ridden horse ':7,'Other':8})\\nrta_data['Day_of_week'] = rta_data['Day_of_week'].map({'Monday' : 1, 'Tuesday' : 2 ,'Wednesday':3,'Thursday':4,'Friday':5, 'Saturday':6,'Sunday':7})\\nrta_data['Age_band_of_driver'] = rta_data['Age_band_of_driver'].map({'Under 18' : 1, '18-30' : 2 ,'31-50':3,'Over 51':4,'Unknown':5})\\nrta_data['Sex_of_driver'] = rta_data['Sex_of_driver'].map({'Male' : 1, 'Female' : 2 ,'Unknown':3})\\nrta_data['Educational_level'] = rta_data['Educational_level'].map({'Junior high school' : 1, 'Elementary school' : 2 ,'High school':3\\n                                                                  ,'Above high school':4,'Writing & reading':5,'Unknown':6,'Illiterate':7})\\nrta_data['Vehicle_driver_relation'] = rta_data['Vehicle_driver_relation'].map({'Employee' : 1, 'Owner' : 2 ,'Other':3,'Unknown':3})\\nrta_data['Driving_experience'] = rta_data['Driving_experience'].map({'1-2yr' : 1, '2-5yr' : 2 ,'5-10yr':3,'Unknown':3\\n                                                                    ,'Above 10yr':4,'Below 1yr':5,'No Licence':6,'unknown':7})\\nrta_data['Owner_of_vehicle'] = rta_data['Owner_of_vehicle'].map({'Owner' : 1, 'Governmental' : 2 ,'Organization':3,'Other':4})\\nrta_data['Service_year_of_vehicle'] = rta_data['Service_year_of_vehicle'].map({'1-2yr' : 1, '2-5yrs' : 2 ,'5-10yrs':3,'Unknown':3\\n                                                                    ,'Above 10yr':4,'Below 1yr':5,'unknown':6})\\nrta_data['Defect_of_vehicle'] = rta_data['Defect_of_vehicle'].map({'No defect' : 1})\\nrta_data['Defect_of_vehicle']=imputer.fit_transform(rta_data['Defect_of_vehicle'])\\nrta_data['Area_accident_occured'] = rta_data['Area_accident_occured'].map({'Other' : 1, 'Office areas' : 2 ,'Residential areas':3,'Unknown':4,'Church areas':5,'Industrial areas':6,'School areas':7, 'Recreational areas':8, 'Outside rural areas': 9, 'Hospital areas': 10, 'Market areas': 11, 'Rural village areas': 12,\\n'Rural village areasOffice areas': 13, 'Recreational areas': 14})\\nrta_data['Lanes_or_Medians'] = rta_data['Lanes_or_Medians'].map({'Two-way (divided with broken lines road marking)' : 1, 'Undivided Two way' : 2 ,\\n                                                                           'other':3,'Unknown':4,'Double carriageway (median)':5,'One way':6,\\n                                                                           'Two-way (divided with solid lines road marking)':7})\\nrta_data['Road_allignment'] = rta_data['Road_allignment'].map({'Tangent road with flat terrain' : 1, 'Tangent road with mild grade and flat terrain' : 2 ,\\n                                                                           'Steep grade downward with mountainous terrain':3,'Tangent road with mountainous terrain and':4,'Gentle horizontal curve':5,'Escarpments':6,\\n                                                                           'Sharp reverse curve':7, 'Tangent road with rolling terrain':8, 'Steep grade upward with mountainous terrain':9})\\nrta_data['Types_of_Junction'] = rta_data['Types_of_Junction'].map({'Y Shape' : 1, 'No junction' : 2 ,\\n                                                                           'Crossing':3,'Other':4,'Unknown':5,'O Shape':6,\\n                                                                           'T Shape':7, 'X Shape':8})\\nrta_data['Fitness_of_casuality'] = rta_data['Fitness_of_casuality'].map({'Normal' : 1, 'NormalNormal' : 1 ,'Deaf':2, 'Blind':3, 'Other':4})\\nrta_data['Work_of_casuality'] = rta_data['Work_of_casuality'].map({'Driver' : 1, 'Self-employed' : 2 ,'Employee':3, 'Unemployed':4, 'Student':5, 'Unknown':6, 'Other':7})\\nrta_data['Vehicle_movement'] = rta_data['Vehicle_movement'].map({'Going straight' : 1, 'Moving Backward' : 2 ,'Reversing':3, 'Turnover':4, 'Getting off':5, 'Entering a junction':6, 'Overtaking':7, 'Unknown':8, 'Stopping':9, 'U-Turn':10, 'Waiting to go':11, 'Parked':12, 'Other':13})\\nrta_data['Type_of_collision'] = rta_data['Type_of_collision'].map({'Vehicle with vehicle collision' : 1, 'Collision with roadside objects' : 2 ,'Collision with pedestrians':3, 'Rollover':4, 'Collision with animals':5, 'Collision with roadside-parked vehicles':6, 'Fall from vehicles':7, 'Unknown':8, 'With Train':9, 'Other':10})\\nrta_data['Weather_conditions'] = rta_data['Weather_conditions'].map({'Normal' : 1, 'Raining' : 2 ,'Unknown':3, 'Cloudy':4, 'Windy':5, 'Raining and Windy':6, 'Fog or mist':7, 'Other':8})\\nrta_data['Light_conditions'] = rta_data['Light_conditions'].map({'Daylight' : 1, 'Darkness - lights lit' : 2 ,'Darkness - no lighting':3, 'Darkness - lights unlit':4})\\nrta_data['Road_surface_conditions'] = rta_data['Road_surface_conditions'].map({'Dry' : 1, 'Wet or damp' : 2 ,'Snow':3, 'Flood over 3cm. deep':4})\\nrta_data['Road_surface_type'] = rta_data['Road_surface_type'].map({'Asphalt roads' : 1, 'Earth roads' : 2 ,'Other':3, 'Gravel roads':4})\\nrta_data['Accident_severity'] = rta_data['Accident_severity'].map({'Slight Injury' : 1, 'Serious Injury' : 2 ,'Fatal injury':3})\""
      ]
     },
     "execution_count": 9,
     "metadata": {},
     "output_type": "execute_result"
    }
   ],
   "source": [
    "# As the columns which have missing values, they are only categorical, we'll use the categorical imputer\n",
    "# Importing the categorical imputer\n",
    "'''from sklearn_pandas import CategoricalImputer\n",
    "imputer = CategoricalImputer()\n",
    "\n",
    "rta_data['Type_of_vehicle_new']=imputer.fit_transform(rta_data['Type_of_vehicle'])\n",
    "rta_data['Type_of_vehicle'] = rta_data['Type_of_vehicle'].map({'Automobile' : 1, 'Lorry (41?100Q)' : 2 ,'Lorry (11?40Q)':2,'Long lorry':2, 'Public (12 seats)':3,'Public (13?45 seats)':3,'Public (> 45 seats)':3,'Stationwagen':4,\n",
    "                                                              'Pick up upto 10Q':4, 'Taxi':4,'Turbo':4, 'Special vehicle': 4, 'Motorcycle':5,'Bajaj':5,'Bicycle':6,'Ridden horse ':7,'Other':8})\n",
    "rta_data['Day_of_week'] = rta_data['Day_of_week'].map({'Monday' : 1, 'Tuesday' : 2 ,'Wednesday':3,'Thursday':4,'Friday':5, 'Saturday':6,'Sunday':7})\n",
    "rta_data['Age_band_of_driver'] = rta_data['Age_band_of_driver'].map({'Under 18' : 1, '18-30' : 2 ,'31-50':3,'Over 51':4,'Unknown':5})\n",
    "rta_data['Sex_of_driver'] = rta_data['Sex_of_driver'].map({'Male' : 1, 'Female' : 2 ,'Unknown':3})\n",
    "rta_data['Educational_level'] = rta_data['Educational_level'].map({'Junior high school' : 1, 'Elementary school' : 2 ,'High school':3\n",
    "                                                                  ,'Above high school':4,'Writing & reading':5,'Unknown':6,'Illiterate':7})\n",
    "rta_data['Vehicle_driver_relation'] = rta_data['Vehicle_driver_relation'].map({'Employee' : 1, 'Owner' : 2 ,'Other':3,'Unknown':3})\n",
    "rta_data['Driving_experience'] = rta_data['Driving_experience'].map({'1-2yr' : 1, '2-5yr' : 2 ,'5-10yr':3,'Unknown':3\n",
    "                                                                    ,'Above 10yr':4,'Below 1yr':5,'No Licence':6,'unknown':7})\n",
    "rta_data['Owner_of_vehicle'] = rta_data['Owner_of_vehicle'].map({'Owner' : 1, 'Governmental' : 2 ,'Organization':3,'Other':4})\n",
    "rta_data['Service_year_of_vehicle'] = rta_data['Service_year_of_vehicle'].map({'1-2yr' : 1, '2-5yrs' : 2 ,'5-10yrs':3,'Unknown':3\n",
    "                                                                    ,'Above 10yr':4,'Below 1yr':5,'unknown':6})\n",
    "rta_data['Defect_of_vehicle'] = rta_data['Defect_of_vehicle'].map({'No defect' : 1})\n",
    "rta_data['Defect_of_vehicle']=imputer.fit_transform(rta_data['Defect_of_vehicle'])\n",
    "rta_data['Area_accident_occured'] = rta_data['Area_accident_occured'].map({'Other' : 1, 'Office areas' : 2 ,'Residential areas':3,'Unknown':4,'Church areas':5,'Industrial areas':6,'School areas':7, 'Recreational areas':8, 'Outside rural areas': 9, 'Hospital areas': 10, 'Market areas': 11, 'Rural village areas': 12,\n",
    "'Rural village areasOffice areas': 13, 'Recreational areas': 14})\n",
    "rta_data['Lanes_or_Medians'] = rta_data['Lanes_or_Medians'].map({'Two-way (divided with broken lines road marking)' : 1, 'Undivided Two way' : 2 ,\n",
    "                                                                           'other':3,'Unknown':4,'Double carriageway (median)':5,'One way':6,\n",
    "                                                                           'Two-way (divided with solid lines road marking)':7})\n",
    "rta_data['Road_allignment'] = rta_data['Road_allignment'].map({'Tangent road with flat terrain' : 1, 'Tangent road with mild grade and flat terrain' : 2 ,\n",
    "                                                                           'Steep grade downward with mountainous terrain':3,'Tangent road with mountainous terrain and':4,'Gentle horizontal curve':5,'Escarpments':6,\n",
    "                                                                           'Sharp reverse curve':7, 'Tangent road with rolling terrain':8, 'Steep grade upward with mountainous terrain':9})\n",
    "rta_data['Types_of_Junction'] = rta_data['Types_of_Junction'].map({'Y Shape' : 1, 'No junction' : 2 ,\n",
    "                                                                           'Crossing':3,'Other':4,'Unknown':5,'O Shape':6,\n",
    "                                                                           'T Shape':7, 'X Shape':8})\n",
    "rta_data['Fitness_of_casuality'] = rta_data['Fitness_of_casuality'].map({'Normal' : 1, 'NormalNormal' : 1 ,'Deaf':2, 'Blind':3, 'Other':4})\n",
    "rta_data['Work_of_casuality'] = rta_data['Work_of_casuality'].map({'Driver' : 1, 'Self-employed' : 2 ,'Employee':3, 'Unemployed':4, 'Student':5, 'Unknown':6, 'Other':7})\n",
    "rta_data['Vehicle_movement'] = rta_data['Vehicle_movement'].map({'Going straight' : 1, 'Moving Backward' : 2 ,'Reversing':3, 'Turnover':4, 'Getting off':5, 'Entering a junction':6, 'Overtaking':7, 'Unknown':8, 'Stopping':9, 'U-Turn':10, 'Waiting to go':11, 'Parked':12, 'Other':13})\n",
    "rta_data['Type_of_collision'] = rta_data['Type_of_collision'].map({'Vehicle with vehicle collision' : 1, 'Collision with roadside objects' : 2 ,'Collision with pedestrians':3, 'Rollover':4, 'Collision with animals':5, 'Collision with roadside-parked vehicles':6, 'Fall from vehicles':7, 'Unknown':8, 'With Train':9, 'Other':10})\n",
    "rta_data['Weather_conditions'] = rta_data['Weather_conditions'].map({'Normal' : 1, 'Raining' : 2 ,'Unknown':3, 'Cloudy':4, 'Windy':5, 'Raining and Windy':6, 'Fog or mist':7, 'Other':8})\n",
    "rta_data['Light_conditions'] = rta_data['Light_conditions'].map({'Daylight' : 1, 'Darkness - lights lit' : 2 ,'Darkness - no lighting':3, 'Darkness - lights unlit':4})\n",
    "rta_data['Road_surface_conditions'] = rta_data['Road_surface_conditions'].map({'Dry' : 1, 'Wet or damp' : 2 ,'Snow':3, 'Flood over 3cm. deep':4})\n",
    "rta_data['Road_surface_type'] = rta_data['Road_surface_type'].map({'Asphalt roads' : 1, 'Earth roads' : 2 ,'Other':3, 'Gravel roads':4})\n",
    "rta_data['Accident_severity'] = rta_data['Accident_severity'].map({'Slight Injury' : 1, 'Serious Injury' : 2 ,'Fatal injury':3})'''"
   ]
  },
  {
   "cell_type": "code",
   "execution_count": 10,
   "id": "e708db07",
   "metadata": {
    "execution": {
     "iopub.execute_input": "2022-03-05T12:15:55.831307Z",
     "iopub.status.busy": "2022-03-05T12:15:55.830363Z",
     "iopub.status.idle": "2022-03-05T12:15:55.872586Z",
     "shell.execute_reply": "2022-03-05T12:15:55.873122Z",
     "shell.execute_reply.started": "2022-03-05T11:12:46.991941Z"
    },
    "papermill": {
     "duration": 0.104241,
     "end_time": "2022-03-05T12:15:55.873296",
     "exception": false,
     "start_time": "2022-03-05T12:15:55.769055",
     "status": "completed"
    },
    "tags": []
   },
   "outputs": [],
   "source": [
    "cleaned_data = pd.read_csv('../input/trafficaccidentclassificationdatasetcleaned/trafficAccidentCleanedDataset.csv')"
   ]
  },
  {
   "cell_type": "code",
   "execution_count": 11,
   "id": "08f53a1b",
   "metadata": {
    "execution": {
     "iopub.execute_input": "2022-03-05T12:15:55.993741Z",
     "iopub.status.busy": "2022-03-05T12:15:55.993061Z",
     "iopub.status.idle": "2022-03-05T12:15:56.004217Z",
     "shell.execute_reply": "2022-03-05T12:15:56.003693Z",
     "shell.execute_reply.started": "2022-03-05T11:12:59.508462Z"
    },
    "papermill": {
     "duration": 0.076365,
     "end_time": "2022-03-05T12:15:56.004356",
     "exception": false,
     "start_time": "2022-03-05T12:15:55.927991",
     "status": "completed"
    },
    "tags": []
   },
   "outputs": [
    {
     "data": {
      "text/html": [
       "<div>\n",
       "<style scoped>\n",
       "    .dataframe tbody tr th:only-of-type {\n",
       "        vertical-align: middle;\n",
       "    }\n",
       "\n",
       "    .dataframe tbody tr th {\n",
       "        vertical-align: top;\n",
       "    }\n",
       "\n",
       "    .dataframe thead th {\n",
       "        text-align: right;\n",
       "    }\n",
       "</style>\n",
       "<table border=\"1\" class=\"dataframe\">\n",
       "  <thead>\n",
       "    <tr style=\"text-align: right;\">\n",
       "      <th></th>\n",
       "      <th>Day_of_week</th>\n",
       "      <th>Age_band_of_driver</th>\n",
       "      <th>Educational_level</th>\n",
       "      <th>Driving_experience</th>\n",
       "      <th>Type_of_vehicle</th>\n",
       "      <th>Owner_of_vehicle</th>\n",
       "      <th>Service_year_of_vehicle</th>\n",
       "      <th>Defect_of_vehicle</th>\n",
       "      <th>Road_allignment</th>\n",
       "      <th>Road_surface_type</th>\n",
       "      <th>Weather_conditions</th>\n",
       "      <th>Type_of_collision</th>\n",
       "      <th>Number_of_vehicles_involved</th>\n",
       "      <th>Number_of_casualties</th>\n",
       "      <th>Casualty_severity</th>\n",
       "      <th>Work_of_casuality</th>\n",
       "      <th>Cause_of_accident</th>\n",
       "      <th>Accident_severity</th>\n",
       "    </tr>\n",
       "  </thead>\n",
       "  <tbody>\n",
       "    <tr>\n",
       "      <th>0</th>\n",
       "      <td>1</td>\n",
       "      <td>2</td>\n",
       "      <td>4</td>\n",
       "      <td>1</td>\n",
       "      <td>1.0</td>\n",
       "      <td>1</td>\n",
       "      <td>4</td>\n",
       "      <td>1</td>\n",
       "      <td>1</td>\n",
       "      <td>1.0</td>\n",
       "      <td>1.0</td>\n",
       "      <td>6</td>\n",
       "      <td>2</td>\n",
       "      <td>2</td>\n",
       "      <td>0.0</td>\n",
       "      <td>1</td>\n",
       "      <td>2</td>\n",
       "      <td>1</td>\n",
       "    </tr>\n",
       "    <tr>\n",
       "      <th>1</th>\n",
       "      <td>1</td>\n",
       "      <td>3</td>\n",
       "      <td>1</td>\n",
       "      <td>4</td>\n",
       "      <td>3.0</td>\n",
       "      <td>1</td>\n",
       "      <td>3</td>\n",
       "      <td>1</td>\n",
       "      <td>1</td>\n",
       "      <td>1.0</td>\n",
       "      <td>1.0</td>\n",
       "      <td>1</td>\n",
       "      <td>2</td>\n",
       "      <td>2</td>\n",
       "      <td>0.0</td>\n",
       "      <td>1</td>\n",
       "      <td>7</td>\n",
       "      <td>1</td>\n",
       "    </tr>\n",
       "    <tr>\n",
       "      <th>2</th>\n",
       "      <td>1</td>\n",
       "      <td>2</td>\n",
       "      <td>1</td>\n",
       "      <td>1</td>\n",
       "      <td>2.0</td>\n",
       "      <td>1</td>\n",
       "      <td>3</td>\n",
       "      <td>1</td>\n",
       "      <td>1</td>\n",
       "      <td>1.0</td>\n",
       "      <td>1.0</td>\n",
       "      <td>2</td>\n",
       "      <td>2</td>\n",
       "      <td>2</td>\n",
       "      <td>3.0</td>\n",
       "      <td>1</td>\n",
       "      <td>8</td>\n",
       "      <td>2</td>\n",
       "    </tr>\n",
       "    <tr>\n",
       "      <th>3</th>\n",
       "      <td>7</td>\n",
       "      <td>2</td>\n",
       "      <td>1</td>\n",
       "      <td>3</td>\n",
       "      <td>3.0</td>\n",
       "      <td>2</td>\n",
       "      <td>3</td>\n",
       "      <td>1</td>\n",
       "      <td>2</td>\n",
       "      <td>2.0</td>\n",
       "      <td>1.0</td>\n",
       "      <td>1</td>\n",
       "      <td>2</td>\n",
       "      <td>2</td>\n",
       "      <td>3.0</td>\n",
       "      <td>1</td>\n",
       "      <td>9</td>\n",
       "      <td>1</td>\n",
       "    </tr>\n",
       "    <tr>\n",
       "      <th>4</th>\n",
       "      <td>7</td>\n",
       "      <td>2</td>\n",
       "      <td>1</td>\n",
       "      <td>2</td>\n",
       "      <td>1.0</td>\n",
       "      <td>1</td>\n",
       "      <td>3</td>\n",
       "      <td>1</td>\n",
       "      <td>1</td>\n",
       "      <td>1.0</td>\n",
       "      <td>1.0</td>\n",
       "      <td>1</td>\n",
       "      <td>2</td>\n",
       "      <td>2</td>\n",
       "      <td>0.0</td>\n",
       "      <td>1</td>\n",
       "      <td>7</td>\n",
       "      <td>1</td>\n",
       "    </tr>\n",
       "  </tbody>\n",
       "</table>\n",
       "</div>"
      ],
      "text/plain": [
       "   Day_of_week  Age_band_of_driver  Educational_level  Driving_experience  \\\n",
       "0            1                   2                  4                   1   \n",
       "1            1                   3                  1                   4   \n",
       "2            1                   2                  1                   1   \n",
       "3            7                   2                  1                   3   \n",
       "4            7                   2                  1                   2   \n",
       "\n",
       "   Type_of_vehicle  Owner_of_vehicle  Service_year_of_vehicle  \\\n",
       "0              1.0                 1                        4   \n",
       "1              3.0                 1                        3   \n",
       "2              2.0                 1                        3   \n",
       "3              3.0                 2                        3   \n",
       "4              1.0                 1                        3   \n",
       "\n",
       "   Defect_of_vehicle  Road_allignment  Road_surface_type  Weather_conditions  \\\n",
       "0                  1                1                1.0                 1.0   \n",
       "1                  1                1                1.0                 1.0   \n",
       "2                  1                1                1.0                 1.0   \n",
       "3                  1                2                2.0                 1.0   \n",
       "4                  1                1                1.0                 1.0   \n",
       "\n",
       "   Type_of_collision  Number_of_vehicles_involved  Number_of_casualties  \\\n",
       "0                  6                            2                     2   \n",
       "1                  1                            2                     2   \n",
       "2                  2                            2                     2   \n",
       "3                  1                            2                     2   \n",
       "4                  1                            2                     2   \n",
       "\n",
       "   Casualty_severity  Work_of_casuality  Cause_of_accident  Accident_severity  \n",
       "0                0.0                  1                  2                  1  \n",
       "1                0.0                  1                  7                  1  \n",
       "2                3.0                  1                  8                  2  \n",
       "3                3.0                  1                  9                  1  \n",
       "4                0.0                  1                  7                  1  "
      ]
     },
     "execution_count": 11,
     "metadata": {},
     "output_type": "execute_result"
    }
   ],
   "source": [
    "cleaned_data.head()"
   ]
  },
  {
   "cell_type": "code",
   "execution_count": 12,
   "id": "4e18901e",
   "metadata": {
    "execution": {
     "iopub.execute_input": "2022-03-05T12:15:56.120925Z",
     "iopub.status.busy": "2022-03-05T12:15:56.119929Z",
     "iopub.status.idle": "2022-03-05T12:15:56.136990Z",
     "shell.execute_reply": "2022-03-05T12:15:56.137539Z",
     "shell.execute_reply.started": "2022-03-05T11:13:06.908443Z"
    },
    "papermill": {
     "duration": 0.077799,
     "end_time": "2022-03-05T12:15:56.137717",
     "exception": false,
     "start_time": "2022-03-05T12:15:56.059918",
     "status": "completed"
    },
    "tags": []
   },
   "outputs": [
    {
     "name": "stdout",
     "output_type": "stream",
     "text": [
      "<class 'pandas.core.frame.DataFrame'>\n",
      "RangeIndex: 12316 entries, 0 to 12315\n",
      "Data columns (total 18 columns):\n",
      " #   Column                       Non-Null Count  Dtype  \n",
      "---  ------                       --------------  -----  \n",
      " 0   Day_of_week                  12316 non-null  int64  \n",
      " 1   Age_band_of_driver           12316 non-null  int64  \n",
      " 2   Educational_level            12316 non-null  int64  \n",
      " 3   Driving_experience           12316 non-null  int64  \n",
      " 4   Type_of_vehicle              12316 non-null  float64\n",
      " 5   Owner_of_vehicle             12316 non-null  int64  \n",
      " 6   Service_year_of_vehicle      12316 non-null  int64  \n",
      " 7   Defect_of_vehicle            12316 non-null  int64  \n",
      " 8   Road_allignment              12316 non-null  int64  \n",
      " 9   Road_surface_type            12316 non-null  float64\n",
      " 10  Weather_conditions           12316 non-null  float64\n",
      " 11  Type_of_collision            12316 non-null  int64  \n",
      " 12  Number_of_vehicles_involved  12316 non-null  int64  \n",
      " 13  Number_of_casualties         12316 non-null  int64  \n",
      " 14  Casualty_severity            12316 non-null  float64\n",
      " 15  Work_of_casuality            12316 non-null  int64  \n",
      " 16  Cause_of_accident            12316 non-null  int64  \n",
      " 17  Accident_severity            12316 non-null  int64  \n",
      "dtypes: float64(4), int64(14)\n",
      "memory usage: 1.7 MB\n"
     ]
    }
   ],
   "source": [
    "cleaned_data.info()"
   ]
  },
  {
   "cell_type": "code",
   "execution_count": 13,
   "id": "eedba9d4",
   "metadata": {
    "execution": {
     "iopub.execute_input": "2022-03-05T12:15:56.254798Z",
     "iopub.status.busy": "2022-03-05T12:15:56.253923Z",
     "iopub.status.idle": "2022-03-05T12:15:56.256915Z",
     "shell.execute_reply": "2022-03-05T12:15:56.257518Z",
     "shell.execute_reply.started": "2022-03-05T11:14:30.799875Z"
    },
    "papermill": {
     "duration": 0.063692,
     "end_time": "2022-03-05T12:15:56.257685",
     "exception": false,
     "start_time": "2022-03-05T12:15:56.193993",
     "status": "completed"
    },
    "tags": []
   },
   "outputs": [],
   "source": [
    "cleaned_data = cleaned_data.astype(int)\n"
   ]
  },
  {
   "cell_type": "code",
   "execution_count": 14,
   "id": "3d1e4b23",
   "metadata": {
    "execution": {
     "iopub.execute_input": "2022-03-05T12:15:56.373050Z",
     "iopub.status.busy": "2022-03-05T12:15:56.372115Z",
     "iopub.status.idle": "2022-03-05T12:15:56.385709Z",
     "shell.execute_reply": "2022-03-05T12:15:56.385110Z",
     "shell.execute_reply.started": "2022-03-05T11:14:32.037936Z"
    },
    "papermill": {
     "duration": 0.071993,
     "end_time": "2022-03-05T12:15:56.385864",
     "exception": false,
     "start_time": "2022-03-05T12:15:56.313871",
     "status": "completed"
    },
    "tags": []
   },
   "outputs": [
    {
     "name": "stdout",
     "output_type": "stream",
     "text": [
      "<class 'pandas.core.frame.DataFrame'>\n",
      "RangeIndex: 12316 entries, 0 to 12315\n",
      "Data columns (total 18 columns):\n",
      " #   Column                       Non-Null Count  Dtype\n",
      "---  ------                       --------------  -----\n",
      " 0   Day_of_week                  12316 non-null  int64\n",
      " 1   Age_band_of_driver           12316 non-null  int64\n",
      " 2   Educational_level            12316 non-null  int64\n",
      " 3   Driving_experience           12316 non-null  int64\n",
      " 4   Type_of_vehicle              12316 non-null  int64\n",
      " 5   Owner_of_vehicle             12316 non-null  int64\n",
      " 6   Service_year_of_vehicle      12316 non-null  int64\n",
      " 7   Defect_of_vehicle            12316 non-null  int64\n",
      " 8   Road_allignment              12316 non-null  int64\n",
      " 9   Road_surface_type            12316 non-null  int64\n",
      " 10  Weather_conditions           12316 non-null  int64\n",
      " 11  Type_of_collision            12316 non-null  int64\n",
      " 12  Number_of_vehicles_involved  12316 non-null  int64\n",
      " 13  Number_of_casualties         12316 non-null  int64\n",
      " 14  Casualty_severity            12316 non-null  int64\n",
      " 15  Work_of_casuality            12316 non-null  int64\n",
      " 16  Cause_of_accident            12316 non-null  int64\n",
      " 17  Accident_severity            12316 non-null  int64\n",
      "dtypes: int64(18)\n",
      "memory usage: 1.7 MB\n"
     ]
    }
   ],
   "source": [
    "cleaned_data.info()"
   ]
  },
  {
   "cell_type": "markdown",
   "id": "326c8780",
   "metadata": {
    "papermill": {
     "duration": 0.05539,
     "end_time": "2022-03-05T12:15:56.496798",
     "exception": false,
     "start_time": "2022-03-05T12:15:56.441408",
     "status": "completed"
    },
    "tags": []
   },
   "source": [
    "Univariate Analysis"
   ]
  },
  {
   "cell_type": "code",
   "execution_count": 15,
   "id": "b4277b82",
   "metadata": {
    "execution": {
     "iopub.execute_input": "2022-03-05T12:15:56.611515Z",
     "iopub.status.busy": "2022-03-05T12:15:56.610893Z",
     "iopub.status.idle": "2022-03-05T12:15:57.548743Z",
     "shell.execute_reply": "2022-03-05T12:15:57.548105Z",
     "shell.execute_reply.started": "2022-03-05T11:19:23.942004Z"
    },
    "papermill": {
     "duration": 0.996415,
     "end_time": "2022-03-05T12:15:57.548886",
     "exception": false,
     "start_time": "2022-03-05T12:15:56.552471",
     "status": "completed"
    },
    "tags": []
   },
   "outputs": [
    {
     "name": "stderr",
     "output_type": "stream",
     "text": [
      "/opt/conda/lib/python3.7/site-packages/seaborn/distributions.py:2619: FutureWarning: `distplot` is a deprecated function and will be removed in a future version. Please adapt your code to use either `displot` (a figure-level function with similar flexibility) or `histplot` (an axes-level function for histograms).\n",
      "  warnings.warn(msg, FutureWarning)\n"
     ]
    },
    {
     "data": {
      "image/png": "[encoded data removed]",
      "text/plain": [
       "<Figure size 2400x600 with 3 Axes>"
      ]
     },
     "metadata": {
      "needs_background": "light"
     },
     "output_type": "display_data"
    }
   ],
   "source": [
    "fig, axes = plt.subplots(nrows=1, ncols=3,figsize=(16, 4))\n",
    "ax = sns.distplot(cleaned_data[cleaned_data['Accident_severity']==1].Defect_of_vehicle, bins = 30, ax = axes[0], kde = False)\n",
    "ax.set_title('Slight Injury')\n",
    "ax = sns.distplot(cleaned_data[cleaned_data['Accident_severity']==2].Defect_of_vehicle, bins = 30, ax = axes[1], kde = False)\n",
    "ax.set_title('Serious Injury')\n",
    "ax = sns.distplot(cleaned_data[cleaned_data['Accident_severity']==3].Defect_of_vehicle, bins = 30, ax = axes[2], kde = False)\n",
    "ax = ax.set_title('Fatal injury')"
   ]
  },
  {
   "cell_type": "code",
   "execution_count": 16,
   "id": "a1d72ba2",
   "metadata": {
    "execution": {
     "iopub.execute_input": "2022-03-05T12:15:57.674804Z",
     "iopub.status.busy": "2022-03-05T12:15:57.668755Z",
     "iopub.status.idle": "2022-03-05T12:15:57.677876Z",
     "shell.execute_reply": "2022-03-05T12:15:57.678499Z",
     "shell.execute_reply.started": "2022-03-05T11:15:50.333320Z"
    },
    "papermill": {
     "duration": 0.071384,
     "end_time": "2022-03-05T12:15:57.678669",
     "exception": false,
     "start_time": "2022-03-05T12:15:57.607285",
     "status": "completed"
    },
    "tags": []
   },
   "outputs": [
    {
     "data": {
      "text/plain": [
       "Slight Injury     10415\n",
       "Serious Injury     1743\n",
       "Fatal injury        158\n",
       "Name: Accident_severity, dtype: int64"
      ]
     },
     "execution_count": 16,
     "metadata": {},
     "output_type": "execute_result"
    }
   ],
   "source": [
    "rta_data['Accident_severity'].value_counts()"
   ]
  },
  {
   "cell_type": "code",
   "execution_count": 17,
   "id": "ac9c5b98",
   "metadata": {
    "execution": {
     "iopub.execute_input": "2022-03-05T12:15:57.800189Z",
     "iopub.status.busy": "2022-03-05T12:15:57.799212Z",
     "iopub.status.idle": "2022-03-05T12:15:57.805544Z",
     "shell.execute_reply": "2022-03-05T12:15:57.806012Z",
     "shell.execute_reply.started": "2022-03-05T11:20:52.343210Z"
    },
    "papermill": {
     "duration": 0.068716,
     "end_time": "2022-03-05T12:15:57.806184",
     "exception": false,
     "start_time": "2022-03-05T12:15:57.737468",
     "status": "completed"
    },
    "tags": []
   },
   "outputs": [
    {
     "data": {
      "text/plain": [
       "Index(['Day_of_week', 'Age_band_of_driver', 'Educational_level',\n",
       "       'Driving_experience', 'Type_of_vehicle', 'Owner_of_vehicle',\n",
       "       'Service_year_of_vehicle', 'Defect_of_vehicle', 'Road_allignment',\n",
       "       'Road_surface_type', 'Weather_conditions', 'Type_of_collision',\n",
       "       'Number_of_vehicles_involved', 'Number_of_casualties',\n",
       "       'Casualty_severity', 'Work_of_casuality', 'Cause_of_accident',\n",
       "       'Accident_severity'],\n",
       "      dtype='object')"
      ]
     },
     "execution_count": 17,
     "metadata": {},
     "output_type": "execute_result"
    }
   ],
   "source": [
    "cleaned_data.columns"
   ]
  },
  {
   "cell_type": "code",
   "execution_count": 18,
   "id": "992e1dad",
   "metadata": {
    "execution": {
     "iopub.execute_input": "2022-03-05T12:15:57.928331Z",
     "iopub.status.busy": "2022-03-05T12:15:57.927349Z",
     "iopub.status.idle": "2022-03-05T12:15:58.603707Z",
     "shell.execute_reply": "2022-03-05T12:15:58.604195Z",
     "shell.execute_reply.started": "2022-03-05T11:24:15.958187Z"
    },
    "papermill": {
     "duration": 0.739055,
     "end_time": "2022-03-05T12:15:58.604371",
     "exception": false,
     "start_time": "2022-03-05T12:15:57.865316",
     "status": "completed"
    },
    "tags": []
   },
   "outputs": [
    {
     "data": {
      "text/plain": [
       "Text(0.5, 1.0, 'Slight Injury')"
      ]
     },
     "execution_count": 18,
     "metadata": {},
     "output_type": "execute_result"
    },
    {
     "data": {
      "image/png": "[encoded data removed]",
      "text/plain": [
       "<Figure size 1600x600 with 2 Axes>"
      ]
     },
     "metadata": {
      "needs_background": "light"
     },
     "output_type": "display_data"
    }
   ],
   "source": [
    "fig, axes = plt.subplots(nrows=1, ncols=1,figsize=(16, 6))\n",
    "fig.set_dpi(100)\n",
    "ax = sns.heatmap(cleaned_data[cleaned_data['Accident_severity']==1][['Day_of_week', 'Age_band_of_driver', 'Educational_level',\n",
    "       'Driving_experience', 'Type_of_vehicle', 'Owner_of_vehicle',\n",
    "       'Service_year_of_vehicle', 'Defect_of_vehicle', 'Road_allignment',\n",
    "       'Road_surface_type', 'Weather_conditions', 'Type_of_collision',\n",
    "       'Number_of_vehicles_involved', 'Number_of_casualties',\n",
    "       'Casualty_severity', 'Work_of_casuality', 'Cause_of_accident']].corr(), cmap='coolwarm')\n",
    "ax.set_title('Slight Injury')"
   ]
  },
  {
   "cell_type": "code",
   "execution_count": 19,
   "id": "23ecd600",
   "metadata": {
    "execution": {
     "iopub.execute_input": "2022-03-05T12:15:58.731821Z",
     "iopub.status.busy": "2022-03-05T12:15:58.731124Z",
     "iopub.status.idle": "2022-03-05T12:15:59.399935Z",
     "shell.execute_reply": "2022-03-05T12:15:59.399371Z",
     "shell.execute_reply.started": "2022-03-05T11:25:09.200477Z"
    },
    "papermill": {
     "duration": 0.733775,
     "end_time": "2022-03-05T12:15:59.400098",
     "exception": false,
     "start_time": "2022-03-05T12:15:58.666323",
     "status": "completed"
    },
    "tags": []
   },
   "outputs": [
    {
     "data": {
      "text/plain": [
       "Text(0.5, 1.0, 'Serious Injury')"
      ]
     },
     "execution_count": 19,
     "metadata": {},
     "output_type": "execute_result"
    },
    {
     "data": {
      "image/png": "[encoded data removed]",
      "text/plain": [
       "<Figure size 1600x600 with 2 Axes>"
      ]
     },
     "metadata": {
      "needs_background": "light"
     },
     "output_type": "display_data"
    }
   ],
   "source": [
    "fig, axes = plt.subplots(nrows=1, ncols=1,figsize=(16, 6))\n",
    "fig.set_dpi(100)\n",
    "ax = sns.heatmap(cleaned_data[cleaned_data['Accident_severity']==2][['Day_of_week', 'Age_band_of_driver', 'Educational_level',\n",
    "       'Driving_experience', 'Type_of_vehicle', 'Owner_of_vehicle',\n",
    "       'Service_year_of_vehicle', 'Defect_of_vehicle', 'Road_allignment',\n",
    "       'Road_surface_type', 'Weather_conditions', 'Type_of_collision',\n",
    "       'Number_of_vehicles_involved', 'Number_of_casualties',\n",
    "       'Casualty_severity', 'Work_of_casuality', 'Cause_of_accident']].corr(), cmap='coolwarm')\n",
    "ax.set_title('Serious Injury')\n"
   ]
  },
  {
   "cell_type": "code",
   "execution_count": 20,
   "id": "0f83856d",
   "metadata": {
    "execution": {
     "iopub.execute_input": "2022-03-05T12:15:59.539516Z",
     "iopub.status.busy": "2022-03-05T12:15:59.538830Z",
     "iopub.status.idle": "2022-03-05T12:16:00.190134Z",
     "shell.execute_reply": "2022-03-05T12:16:00.191013Z",
     "shell.execute_reply.started": "2022-03-05T11:25:27.741272Z"
    },
    "papermill": {
     "duration": 0.724985,
     "end_time": "2022-03-05T12:16:00.191207",
     "exception": false,
     "start_time": "2022-03-05T12:15:59.466222",
     "status": "completed"
    },
    "tags": []
   },
   "outputs": [
    {
     "data": {
      "image/png": "[encoded data removed]",
      "text/plain": [
       "<Figure size 1600x600 with 2 Axes>"
      ]
     },
     "metadata": {
      "needs_background": "light"
     },
     "output_type": "display_data"
    }
   ],
   "source": [
    "fig, axes = plt.subplots(nrows=1, ncols=1,figsize=(16, 6))\n",
    "fig.set_dpi(100)\n",
    "ax = sns.heatmap(cleaned_data[cleaned_data['Accident_severity']==3][['Day_of_week', 'Age_band_of_driver', 'Educational_level',\n",
    "       'Driving_experience', 'Type_of_vehicle', 'Owner_of_vehicle',\n",
    "       'Service_year_of_vehicle', 'Defect_of_vehicle', 'Road_allignment',\n",
    "       'Road_surface_type', 'Weather_conditions', 'Type_of_collision',\n",
    "       'Number_of_vehicles_involved', 'Number_of_casualties',\n",
    "       'Casualty_severity', 'Work_of_casuality', 'Cause_of_accident']].corr(), cmap='coolwarm')\n",
    "ax = ax.set_title('Fatal injury')"
   ]
  },
  {
   "cell_type": "markdown",
   "id": "7d2aba7e",
   "metadata": {
    "papermill": {
     "duration": 0.068079,
     "end_time": "2022-03-05T12:16:00.329612",
     "exception": false,
     "start_time": "2022-03-05T12:16:00.261533",
     "status": "completed"
    },
    "tags": []
   },
   "source": [
    "PCA"
   ]
  },
  {
   "cell_type": "code",
   "execution_count": 21,
   "id": "9a8df15e",
   "metadata": {
    "execution": {
     "iopub.execute_input": "2022-03-05T12:16:00.469324Z",
     "iopub.status.busy": "2022-03-05T12:16:00.468653Z",
     "iopub.status.idle": "2022-03-05T12:16:00.606958Z",
     "shell.execute_reply": "2022-03-05T12:16:00.607803Z",
     "shell.execute_reply.started": "2022-03-05T11:48:09.339998Z"
    },
    "papermill": {
     "duration": 0.210265,
     "end_time": "2022-03-05T12:16:00.608064",
     "exception": false,
     "start_time": "2022-03-05T12:16:00.397799",
     "status": "completed"
    },
    "tags": []
   },
   "outputs": [
    {
     "data": {
      "text/html": [
       "<div>\n",
       "<style scoped>\n",
       "    .dataframe tbody tr th:only-of-type {\n",
       "        vertical-align: middle;\n",
       "    }\n",
       "\n",
       "    .dataframe tbody tr th {\n",
       "        vertical-align: top;\n",
       "    }\n",
       "\n",
       "    .dataframe thead th {\n",
       "        text-align: right;\n",
       "    }\n",
       "</style>\n",
       "<table border=\"1\" class=\"dataframe\">\n",
       "  <thead>\n",
       "    <tr style=\"text-align: right;\">\n",
       "      <th></th>\n",
       "      <th>Day_of_week</th>\n",
       "      <th>Age_band_of_driver</th>\n",
       "      <th>Educational_level</th>\n",
       "      <th>Driving_experience</th>\n",
       "      <th>Type_of_vehicle</th>\n",
       "      <th>Owner_of_vehicle</th>\n",
       "      <th>Service_year_of_vehicle</th>\n",
       "      <th>Defect_of_vehicle</th>\n",
       "      <th>Road_allignment</th>\n",
       "      <th>Road_surface_type</th>\n",
       "      <th>...</th>\n",
       "      <th>Type_of_collision</th>\n",
       "      <th>Number_of_vehicles_involved</th>\n",
       "      <th>Number_of_casualties</th>\n",
       "      <th>Casualty_severity</th>\n",
       "      <th>Work_of_casuality</th>\n",
       "      <th>Cause_of_accident</th>\n",
       "      <th>Accident_severity</th>\n",
       "      <th>PCA_1</th>\n",
       "      <th>PCA_2</th>\n",
       "      <th>PCA_3</th>\n",
       "    </tr>\n",
       "  </thead>\n",
       "  <tbody>\n",
       "    <tr>\n",
       "      <th>0</th>\n",
       "      <td>1</td>\n",
       "      <td>2</td>\n",
       "      <td>4</td>\n",
       "      <td>1</td>\n",
       "      <td>1</td>\n",
       "      <td>1</td>\n",
       "      <td>4</td>\n",
       "      <td>1</td>\n",
       "      <td>1</td>\n",
       "      <td>1</td>\n",
       "      <td>...</td>\n",
       "      <td>6</td>\n",
       "      <td>2</td>\n",
       "      <td>2</td>\n",
       "      <td>0</td>\n",
       "      <td>1</td>\n",
       "      <td>2</td>\n",
       "      <td>0</td>\n",
       "      <td>-4.540152</td>\n",
       "      <td>-1.920754</td>\n",
       "      <td>-2.755430</td>\n",
       "    </tr>\n",
       "    <tr>\n",
       "      <th>1</th>\n",
       "      <td>1</td>\n",
       "      <td>3</td>\n",
       "      <td>1</td>\n",
       "      <td>4</td>\n",
       "      <td>3</td>\n",
       "      <td>1</td>\n",
       "      <td>3</td>\n",
       "      <td>1</td>\n",
       "      <td>1</td>\n",
       "      <td>1</td>\n",
       "      <td>...</td>\n",
       "      <td>1</td>\n",
       "      <td>2</td>\n",
       "      <td>2</td>\n",
       "      <td>0</td>\n",
       "      <td>1</td>\n",
       "      <td>7</td>\n",
       "      <td>0</td>\n",
       "      <td>0.428226</td>\n",
       "      <td>0.186454</td>\n",
       "      <td>-2.895595</td>\n",
       "    </tr>\n",
       "    <tr>\n",
       "      <th>2</th>\n",
       "      <td>1</td>\n",
       "      <td>2</td>\n",
       "      <td>1</td>\n",
       "      <td>1</td>\n",
       "      <td>2</td>\n",
       "      <td>1</td>\n",
       "      <td>3</td>\n",
       "      <td>1</td>\n",
       "      <td>1</td>\n",
       "      <td>1</td>\n",
       "      <td>...</td>\n",
       "      <td>2</td>\n",
       "      <td>2</td>\n",
       "      <td>2</td>\n",
       "      <td>3</td>\n",
       "      <td>1</td>\n",
       "      <td>8</td>\n",
       "      <td>1</td>\n",
       "      <td>1.428256</td>\n",
       "      <td>-0.810659</td>\n",
       "      <td>-2.828866</td>\n",
       "    </tr>\n",
       "    <tr>\n",
       "      <th>3</th>\n",
       "      <td>7</td>\n",
       "      <td>2</td>\n",
       "      <td>1</td>\n",
       "      <td>3</td>\n",
       "      <td>3</td>\n",
       "      <td>2</td>\n",
       "      <td>3</td>\n",
       "      <td>1</td>\n",
       "      <td>2</td>\n",
       "      <td>2</td>\n",
       "      <td>...</td>\n",
       "      <td>1</td>\n",
       "      <td>2</td>\n",
       "      <td>2</td>\n",
       "      <td>3</td>\n",
       "      <td>1</td>\n",
       "      <td>9</td>\n",
       "      <td>0</td>\n",
       "      <td>2.397626</td>\n",
       "      <td>0.381128</td>\n",
       "      <td>3.089894</td>\n",
       "    </tr>\n",
       "    <tr>\n",
       "      <th>4</th>\n",
       "      <td>7</td>\n",
       "      <td>2</td>\n",
       "      <td>1</td>\n",
       "      <td>2</td>\n",
       "      <td>1</td>\n",
       "      <td>1</td>\n",
       "      <td>3</td>\n",
       "      <td>1</td>\n",
       "      <td>1</td>\n",
       "      <td>1</td>\n",
       "      <td>...</td>\n",
       "      <td>1</td>\n",
       "      <td>2</td>\n",
       "      <td>2</td>\n",
       "      <td>0</td>\n",
       "      <td>1</td>\n",
       "      <td>7</td>\n",
       "      <td>0</td>\n",
       "      <td>0.428005</td>\n",
       "      <td>-1.666973</td>\n",
       "      <td>3.158317</td>\n",
       "    </tr>\n",
       "  </tbody>\n",
       "</table>\n",
       "<p>5 rows × 21 columns</p>\n",
       "</div>"
      ],
      "text/plain": [
       "   Day_of_week  Age_band_of_driver  Educational_level  Driving_experience  \\\n",
       "0            1                   2                  4                   1   \n",
       "1            1                   3                  1                   4   \n",
       "2            1                   2                  1                   1   \n",
       "3            7                   2                  1                   3   \n",
       "4            7                   2                  1                   2   \n",
       "\n",
       "   Type_of_vehicle  Owner_of_vehicle  Service_year_of_vehicle  \\\n",
       "0                1                 1                        4   \n",
       "1                3                 1                        3   \n",
       "2                2                 1                        3   \n",
       "3                3                 2                        3   \n",
       "4                1                 1                        3   \n",
       "\n",
       "   Defect_of_vehicle  Road_allignment  Road_surface_type  ...  \\\n",
       "0                  1                1                  1  ...   \n",
       "1                  1                1                  1  ...   \n",
       "2                  1                1                  1  ...   \n",
       "3                  1                2                  2  ...   \n",
       "4                  1                1                  1  ...   \n",
       "\n",
       "   Type_of_collision  Number_of_vehicles_involved  Number_of_casualties  \\\n",
       "0                  6                            2                     2   \n",
       "1                  1                            2                     2   \n",
       "2                  2                            2                     2   \n",
       "3                  1                            2                     2   \n",
       "4                  1                            2                     2   \n",
       "\n",
       "   Casualty_severity  Work_of_casuality  Cause_of_accident  Accident_severity  \\\n",
       "0                  0                  1                  2                  0   \n",
       "1                  0                  1                  7                  0   \n",
       "2                  3                  1                  8                  1   \n",
       "3                  3                  1                  9                  0   \n",
       "4                  0                  1                  7                  0   \n",
       "\n",
       "      PCA_1     PCA_2     PCA_3  \n",
       "0 -4.540152 -1.920754 -2.755430  \n",
       "1  0.428226  0.186454 -2.895595  \n",
       "2  1.428256 -0.810659 -2.828866  \n",
       "3  2.397626  0.381128  3.089894  \n",
       "4  0.428005 -1.666973  3.158317  \n",
       "\n",
       "[5 rows x 21 columns]"
      ]
     },
     "execution_count": 21,
     "metadata": {},
     "output_type": "execute_result"
    }
   ],
   "source": [
    "cleaned_data_fe = cleaned_data\n",
    "\n",
    "# encode class labels to integers\n",
    "le = LabelEncoder()\n",
    "y_encoded = le.fit_transform(cleaned_data_fe['Accident_severity'])\n",
    "cleaned_data_fe['Accident_severity'] = y_encoded\n",
    "\n",
    "# Principal Component Analysis\n",
    "pca = PCA(n_components=3)\n",
    "ugriz = pca.fit_transform(cleaned_data_fe[['Day_of_week', 'Age_band_of_driver', 'Educational_level',\n",
    "       'Driving_experience', 'Type_of_vehicle', 'Owner_of_vehicle',\n",
    "       'Service_year_of_vehicle', 'Defect_of_vehicle', 'Road_allignment',\n",
    "       'Road_surface_type', 'Weather_conditions', 'Type_of_collision',\n",
    "       'Number_of_vehicles_involved', 'Number_of_casualties',\n",
    "       'Casualty_severity', 'Work_of_casuality', 'Cause_of_accident']])\n",
    "\n",
    "# update dataframe \n",
    "cleaned_data_fe = pd.concat((cleaned_data_fe, pd.DataFrame(ugriz)), axis=1)\n",
    "cleaned_data_fe.rename({0: 'PCA_1', 1: 'PCA_2', 2: 'PCA_3'}, axis=1, inplace = True)\n",
    "'''cleaned_data_fe.drop(['Day_of_week', 'Age_band_of_driver', 'Educational_level',\n",
    "       'Driving_experience', 'Type_of_vehicle', 'Owner_of_vehicle',\n",
    "       'Service_year_of_vehicle', 'Defect_of_vehicle', 'Road_allignment',\n",
    "       'Road_surface_type', 'Weather_conditions', 'Type_of_collision',\n",
    "       'Number_of_vehicles_involved', 'Number_of_casualties',\n",
    "       'Casualty_severity', 'Work_of_casuality', 'Cause_of_accident'], axis=1, inplace=True)'''\n",
    "cleaned_data_fe.head()"
   ]
  },
  {
   "cell_type": "code",
   "execution_count": 22,
   "id": "1fa6791e",
   "metadata": {
    "execution": {
     "iopub.execute_input": "2022-03-05T12:16:00.789048Z",
     "iopub.status.busy": "2022-03-05T12:16:00.788011Z",
     "iopub.status.idle": "2022-03-05T12:16:00.796248Z",
     "shell.execute_reply": "2022-03-05T12:16:00.795654Z",
     "shell.execute_reply.started": "2022-03-05T11:48:10.303761Z"
    },
    "papermill": {
     "duration": 0.085392,
     "end_time": "2022-03-05T12:16:00.796408",
     "exception": false,
     "start_time": "2022-03-05T12:16:00.711016",
     "status": "completed"
    },
    "tags": []
   },
   "outputs": [],
   "source": [
    "scaler = MinMaxScaler()\n",
    "cleaned_data_scl = scaler.fit_transform(cleaned_data_fe.drop('Accident_severity', axis=1))"
   ]
  },
  {
   "cell_type": "code",
   "execution_count": 23,
   "id": "281c8212",
   "metadata": {
    "execution": {
     "iopub.execute_input": "2022-03-05T12:16:00.940101Z",
     "iopub.status.busy": "2022-03-05T12:16:00.937156Z",
     "iopub.status.idle": "2022-03-05T12:16:00.945449Z",
     "shell.execute_reply": "2022-03-05T12:16:00.944858Z",
     "shell.execute_reply.started": "2022-03-05T11:48:11.020251Z"
    },
    "papermill": {
     "duration": 0.080106,
     "end_time": "2022-03-05T12:16:00.945595",
     "exception": false,
     "start_time": "2022-03-05T12:16:00.865489",
     "status": "completed"
    },
    "tags": []
   },
   "outputs": [],
   "source": [
    "X_train, X_test, y_train, y_test = train_test_split(cleaned_data_scl, cleaned_data_fe['Accident_severity'], test_size=0.33, shuffle=True)"
   ]
  },
  {
   "cell_type": "code",
   "execution_count": 24,
   "id": "7648f192",
   "metadata": {
    "execution": {
     "iopub.execute_input": "2022-03-05T12:16:01.094562Z",
     "iopub.status.busy": "2022-03-05T12:16:01.093842Z",
     "iopub.status.idle": "2022-03-05T12:16:02.278544Z",
     "shell.execute_reply": "2022-03-05T12:16:02.279243Z",
     "shell.execute_reply.started": "2022-03-05T11:48:11.318739Z"
    },
    "papermill": {
     "duration": 1.262697,
     "end_time": "2022-03-05T12:16:02.279489",
     "exception": false,
     "start_time": "2022-03-05T12:16:01.016792",
     "status": "completed"
    },
    "tags": []
   },
   "outputs": [
    {
     "name": "stdout",
     "output_type": "stream",
     "text": [
      "Scikit-Learn's K Nearest Neighbors Classifier's prediction accuracy is: 82.88\n",
      "Time consumed for training: 0.039 seconds\n",
      "Time consumed for prediction: 1.14267 seconds\n"
     ]
    }
   ],
   "source": [
    "knn = KNeighborsClassifier()\n",
    "training_start = time.perf_counter()\n",
    "knn.fit(X_train, y_train)\n",
    "training_end = time.perf_counter()\n",
    "prediction_start = time.perf_counter()\n",
    "preds = knn.predict(X_test)\n",
    "prediction_end = time.perf_counter()\n",
    "acc_knn = (preds == y_test).sum().astype(float) / len(preds)*100\n",
    "knn_train_time = training_end-training_start\n",
    "knn_prediction_time = prediction_end-prediction_start\n",
    "print(\"Scikit-Learn's K Nearest Neighbors Classifier's prediction accuracy is: %3.2f\" % (acc_knn))\n",
    "print(\"Time consumed for training: %4.3f seconds\" % (knn_train_time))\n",
    "print(\"Time consumed for prediction: %6.5f seconds\" % (knn_prediction_time))"
   ]
  },
  {
   "cell_type": "code",
   "execution_count": 25,
   "id": "9232ee3f",
   "metadata": {
    "execution": {
     "iopub.execute_input": "2022-03-05T12:16:02.423414Z",
     "iopub.status.busy": "2022-03-05T12:16:02.422780Z",
     "iopub.status.idle": "2022-03-05T12:16:02.451647Z",
     "shell.execute_reply": "2022-03-05T12:16:02.452216Z",
     "shell.execute_reply.started": "2022-03-05T11:48:12.838093Z"
    },
    "papermill": {
     "duration": 0.101783,
     "end_time": "2022-03-05T12:16:02.452407",
     "exception": false,
     "start_time": "2022-03-05T12:16:02.350624",
     "status": "completed"
    },
    "tags": []
   },
   "outputs": [
    {
     "name": "stdout",
     "output_type": "stream",
     "text": [
      "Scikit-Learn's Gaussian Naive Bayes Classifier's prediction accuracy is: 13.09\n",
      "Time consumed for training: 0.004 seconds\n",
      "Time consumed for prediction: 0.00398 seconds\n"
     ]
    }
   ],
   "source": [
    "from sklearn.preprocessing import MaxAbsScaler\n",
    "scaler_gnb = MaxAbsScaler()\n",
    "sdss = scaler_gnb.fit_transform(cleaned_data_fe.drop('Accident_severity', axis=1))\n",
    "X_train_gnb, X_test_gnb, y_train_gnb, y_test_gnb = train_test_split(sdss, cleaned_data_fe['Accident_severity'], test_size=0.33, shuffle=True)\n",
    "\n",
    "gnb = GaussianNB()\n",
    "training_start = time.perf_counter()\n",
    "gnb.fit(X_train_gnb, y_train_gnb)\n",
    "training_end = time.perf_counter()\n",
    "prediction_start = time.perf_counter()\n",
    "preds = gnb.predict(X_test_gnb)\n",
    "prediction_end = time.perf_counter()\n",
    "acc_gnb = (preds == y_test_gnb).sum().astype(float) / len(preds)*100\n",
    "gnb_train_time = training_end-training_start\n",
    "gnb_prediction_time = prediction_end-prediction_start\n",
    "print(\"Scikit-Learn's Gaussian Naive Bayes Classifier's prediction accuracy is: %3.2f\" % (acc_gnb))\n",
    "print(\"Time consumed for training: %4.3f seconds\" % (gnb_train_time))\n",
    "print(\"Time consumed for prediction: %6.5f seconds\" % (gnb_prediction_time))"
   ]
  },
  {
   "cell_type": "code",
   "execution_count": 26,
   "id": "439ab05b",
   "metadata": {
    "execution": {
     "iopub.execute_input": "2022-03-05T12:16:02.597128Z",
     "iopub.status.busy": "2022-03-05T12:16:02.596470Z",
     "iopub.status.idle": "2022-03-05T12:16:05.219094Z",
     "shell.execute_reply": "2022-03-05T12:16:05.219627Z",
     "shell.execute_reply.started": "2022-03-05T11:48:12.869670Z"
    },
    "papermill": {
     "duration": 2.697484,
     "end_time": "2022-03-05T12:16:05.219839",
     "exception": false,
     "start_time": "2022-03-05T12:16:02.522355",
     "status": "completed"
    },
    "tags": []
   },
   "outputs": [
    {
     "name": "stderr",
     "output_type": "stream",
     "text": [
      "/opt/conda/lib/python3.7/site-packages/xgboost/sklearn.py:1224: UserWarning: The use of label encoder in XGBClassifier is deprecated and will be removed in a future release. To remove this warning, do the following: 1) Pass option use_label_encoder=False when constructing XGBClassifier object; and 2) Encode your labels (y) as integers starting with 0, i.e. 0, 1, 2, ..., [num_class - 1].\n",
      "  warnings.warn(label_encoder_deprecation_msg, UserWarning)\n"
     ]
    },
    {
     "name": "stdout",
     "output_type": "stream",
     "text": [
      "[12:16:02] WARNING: ../src/learner.cc:1115: Starting in XGBoost 1.3.0, the default evaluation metric used with the objective 'multi:softprob' was changed from 'merror' to 'mlogloss'. Explicitly set eval_metric if you'd like to restore the old behavior.\n",
      "XGBoost's prediction accuracy is: 84.65\n",
      "Time consumed for training: 2.596\n",
      "Time consumed for prediction: 0.01626 seconds\n"
     ]
    }
   ],
   "source": [
    "xgb = XGBClassifier(n_estimators=100)\n",
    "training_start = time.perf_counter()\n",
    "xgb.fit(X_train, y_train)\n",
    "training_end = time.perf_counter()\n",
    "prediction_start = time.perf_counter()\n",
    "preds = xgb.predict(X_test)\n",
    "prediction_end = time.perf_counter()\n",
    "acc_xgb = (preds == y_test).sum().astype(float) / len(preds)*100\n",
    "xgb_train_time = training_end-training_start\n",
    "xgb_prediction_time = prediction_end-prediction_start\n",
    "print(\"XGBoost's prediction accuracy is: %3.2f\" % (acc_xgb))\n",
    "print(\"Time consumed for training: %4.3f\" % (xgb_train_time))\n",
    "print(\"Time consumed for prediction: %6.5f seconds\" % (xgb_prediction_time))"
   ]
  },
  {
   "cell_type": "code",
   "execution_count": 27,
   "id": "ed95e27b",
   "metadata": {
    "execution": {
     "iopub.execute_input": "2022-03-05T12:16:05.372769Z",
     "iopub.status.busy": "2022-03-05T12:16:05.372110Z",
     "iopub.status.idle": "2022-03-05T12:16:05.560566Z",
     "shell.execute_reply": "2022-03-05T12:16:05.559984Z",
     "shell.execute_reply.started": "2022-03-05T11:48:14.901598Z"
    },
    "papermill": {
     "duration": 0.266985,
     "end_time": "2022-03-05T12:16:05.560729",
     "exception": false,
     "start_time": "2022-03-05T12:16:05.293744",
     "status": "completed"
    },
    "tags": []
   },
   "outputs": [
    {
     "name": "stdout",
     "output_type": "stream",
     "text": [
      "Scikit-Learn's Random Forest Classifier's prediction accuracy is: 84.06\n",
      "Time consumed for training: 0.174 seconds\n",
      "Time consumed for prediction: 0.01043 seconds\n"
     ]
    }
   ],
   "source": [
    "rfc = RandomForestClassifier(n_estimators=10)\n",
    "training_start = time.perf_counter()\n",
    "rfc.fit(X_train, y_train)\n",
    "training_end = time.perf_counter()\n",
    "prediction_start = time.perf_counter()\n",
    "preds = rfc.predict(X_test)\n",
    "prediction_end = time.perf_counter()\n",
    "acc_rfc = (preds == y_test).sum().astype(float) / len(preds)*100\n",
    "rfc_train_time = training_end-training_start\n",
    "rfc_prediction_time = prediction_end-prediction_start\n",
    "print(\"Scikit-Learn's Random Forest Classifier's prediction accuracy is: %3.2f\" % (acc_rfc))\n",
    "print(\"Time consumed for training: %4.3f seconds\" % (rfc_train_time))\n",
    "print(\"Time consumed for prediction: %6.5f seconds\" % (rfc_prediction_time))"
   ]
  },
  {
   "cell_type": "code",
   "execution_count": 28,
   "id": "2e535abe",
   "metadata": {
    "execution": {
     "iopub.execute_input": "2022-03-05T12:16:05.707945Z",
     "iopub.status.busy": "2022-03-05T12:16:05.707295Z",
     "iopub.status.idle": "2022-03-05T12:16:10.077117Z",
     "shell.execute_reply": "2022-03-05T12:16:10.077728Z",
     "shell.execute_reply.started": "2022-03-05T11:48:57.038422Z"
    },
    "papermill": {
     "duration": 4.444995,
     "end_time": "2022-03-05T12:16:10.077920",
     "exception": false,
     "start_time": "2022-03-05T12:16:05.632925",
     "status": "completed"
    },
    "tags": []
   },
   "outputs": [
    {
     "name": "stdout",
     "output_type": "stream",
     "text": [
      "Scikit-Learn's Support Vector Machine Classifier's prediction accuracy is: 84.55\n",
      "Time consumed for training: 3.800 seconds\n",
      "Time consumed for prediction: 0.56049 seconds\n"
     ]
    }
   ],
   "source": [
    "svc = SVC()\n",
    "training_start = time.perf_counter()\n",
    "svc.fit(X_train, y_train)\n",
    "training_end = time.perf_counter()\n",
    "prediction_start = time.perf_counter()\n",
    "preds = svc.predict(X_test)\n",
    "prediction_end = time.perf_counter()\n",
    "acc_svc = (preds == y_test).sum().astype(float) / len(preds)*100\n",
    "svc_train_time = training_end-training_start\n",
    "svc_prediction_time = prediction_end-prediction_start\n",
    "print(\"Scikit-Learn's Support Vector Machine Classifier's prediction accuracy is: %3.2f\" % (acc_svc))\n",
    "print(\"Time consumed for training: %4.3f seconds\" % (svc_train_time))\n",
    "print(\"Time consumed for prediction: %6.5f seconds\" % (svc_prediction_time))"
   ]
  },
  {
   "cell_type": "code",
   "execution_count": 29,
   "id": "7cb3a46e",
   "metadata": {
    "execution": {
     "iopub.execute_input": "2022-03-05T12:16:10.244347Z",
     "iopub.status.busy": "2022-03-05T12:16:10.243722Z",
     "iopub.status.idle": "2022-03-05T12:16:10.255056Z",
     "shell.execute_reply": "2022-03-05T12:16:10.259662Z",
     "shell.execute_reply.started": "2022-03-05T11:49:07.297358Z"
    },
    "papermill": {
     "duration": 0.09494,
     "end_time": "2022-03-05T12:16:10.259851",
     "exception": false,
     "start_time": "2022-03-05T12:16:10.164911",
     "status": "completed"
    },
    "tags": []
   },
   "outputs": [
    {
     "data": {
      "text/html": [
       "<div>\n",
       "<style scoped>\n",
       "    .dataframe tbody tr th:only-of-type {\n",
       "        vertical-align: middle;\n",
       "    }\n",
       "\n",
       "    .dataframe tbody tr th {\n",
       "        vertical-align: top;\n",
       "    }\n",
       "\n",
       "    .dataframe thead th {\n",
       "        text-align: right;\n",
       "    }\n",
       "</style>\n",
       "<table border=\"1\" class=\"dataframe\">\n",
       "  <thead>\n",
       "    <tr style=\"text-align: right;\">\n",
       "      <th></th>\n",
       "      <th>Score</th>\n",
       "      <th>Runtime Training</th>\n",
       "      <th>Runtime Prediction</th>\n",
       "    </tr>\n",
       "    <tr>\n",
       "      <th>Model</th>\n",
       "      <th></th>\n",
       "      <th></th>\n",
       "      <th></th>\n",
       "    </tr>\n",
       "  </thead>\n",
       "  <tbody>\n",
       "    <tr>\n",
       "      <th>XGBoost</th>\n",
       "      <td>84.649446</td>\n",
       "      <td>2.595678</td>\n",
       "      <td>0.016259</td>\n",
       "    </tr>\n",
       "    <tr>\n",
       "      <th>SVC</th>\n",
       "      <td>84.551046</td>\n",
       "      <td>3.800021</td>\n",
       "      <td>0.560489</td>\n",
       "    </tr>\n",
       "    <tr>\n",
       "      <th>Random Forest</th>\n",
       "      <td>84.059041</td>\n",
       "      <td>0.173530</td>\n",
       "      <td>0.010427</td>\n",
       "    </tr>\n",
       "    <tr>\n",
       "      <th>KNN</th>\n",
       "      <td>82.878229</td>\n",
       "      <td>0.038727</td>\n",
       "      <td>1.142673</td>\n",
       "    </tr>\n",
       "    <tr>\n",
       "      <th>Naive Bayes</th>\n",
       "      <td>13.087331</td>\n",
       "      <td>0.003785</td>\n",
       "      <td>0.003984</td>\n",
       "    </tr>\n",
       "  </tbody>\n",
       "</table>\n",
       "</div>"
      ],
      "text/plain": [
       "                   Score  Runtime Training  Runtime Prediction\n",
       "Model                                                         \n",
       "XGBoost        84.649446          2.595678            0.016259\n",
       "SVC            84.551046          3.800021            0.560489\n",
       "Random Forest  84.059041          0.173530            0.010427\n",
       "KNN            82.878229          0.038727            1.142673\n",
       "Naive Bayes    13.087331          0.003785            0.003984"
      ]
     },
     "execution_count": 29,
     "metadata": {},
     "output_type": "execute_result"
    }
   ],
   "source": [
    "results = pd.DataFrame({\n",
    "    'Model': ['KNN', 'Naive Bayes', \n",
    "              'XGBoost', 'Random Forest', 'SVC'],\n",
    "    'Score': [acc_knn, acc_gnb, acc_xgb, acc_rfc, acc_svc],\n",
    "    'Runtime Training': [knn_train_time, gnb_train_time, xgb_train_time, rfc_train_time, \n",
    "                         svc_train_time],\n",
    "    'Runtime Prediction': [knn_prediction_time, gnb_prediction_time, xgb_prediction_time, rfc_prediction_time,\n",
    "                          svc_prediction_time]})\n",
    "result_df = results.sort_values(by='Score', ascending=False)\n",
    "result_df = result_df.set_index('Model')\n",
    "result_df"
   ]
  },
  {
   "cell_type": "code",
   "execution_count": 30,
   "id": "0cd5c22f",
   "metadata": {
    "execution": {
     "iopub.execute_input": "2022-03-05T12:16:10.412334Z",
     "iopub.status.busy": "2022-03-05T12:16:10.411603Z",
     "iopub.status.idle": "2022-03-05T12:16:25.206951Z",
     "shell.execute_reply": "2022-03-05T12:16:25.207451Z",
     "shell.execute_reply.started": "2022-03-05T11:50:49.745733Z"
    },
    "papermill": {
     "duration": 14.874317,
     "end_time": "2022-03-05T12:16:25.207658",
     "exception": false,
     "start_time": "2022-03-05T12:16:10.333341",
     "status": "completed"
    },
    "tags": []
   },
   "outputs": [
    {
     "name": "stdout",
     "output_type": "stream",
     "text": [
      "Scores: [0.84503632 0.84484848 0.84484848 0.84121212 0.84242424 0.84848485\n",
      " 0.84484848 0.84727273 0.84363636 0.84969697]\n",
      "Mean: 0.8452309046885318\n",
      "Standard Deviation: 0.0024849559225785583\n"
     ]
    }
   ],
   "source": [
    "from sklearn.model_selection import cross_val_score\n",
    "rfc_cv = RandomForestClassifier(n_estimators=100)\n",
    "scores = cross_val_score(rfc_cv, X_train, y_train, cv=10, scoring = \"accuracy\")\n",
    "print(\"Scores:\", scores)\n",
    "print(\"Mean:\", scores.mean())\n",
    "print(\"Standard Deviation:\", scores.std())"
   ]
  },
  {
   "cell_type": "code",
   "execution_count": 31,
   "id": "a0e11250",
   "metadata": {
    "execution": {
     "iopub.execute_input": "2022-03-05T12:16:25.358312Z",
     "iopub.status.busy": "2022-03-05T12:16:25.357356Z",
     "iopub.status.idle": "2022-03-05T12:16:50.158016Z",
     "shell.execute_reply": "2022-03-05T12:16:50.157432Z",
     "shell.execute_reply.started": "2022-03-05T11:51:12.564074Z"
    },
    "papermill": {
     "duration": 24.8767,
     "end_time": "2022-03-05T12:16:50.158186",
     "exception": false,
     "start_time": "2022-03-05T12:16:25.281486",
     "status": "completed"
    },
    "tags": []
   },
   "outputs": [
    {
     "name": "stdout",
     "output_type": "stream",
     "text": [
      "[12:16:25] WARNING: ../src/learner.cc:1115: Starting in XGBoost 1.3.0, the default evaluation metric used with the objective 'multi:softprob' was changed from 'merror' to 'mlogloss'. Explicitly set eval_metric if you'd like to restore the old behavior.\n"
     ]
    },
    {
     "name": "stderr",
     "output_type": "stream",
     "text": [
      "/opt/conda/lib/python3.7/site-packages/xgboost/sklearn.py:1224: UserWarning: The use of label encoder in XGBClassifier is deprecated and will be removed in a future release. To remove this warning, do the following: 1) Pass option use_label_encoder=False when constructing XGBClassifier object; and 2) Encode your labels (y) as integers starting with 0, i.e. 0, 1, 2, ..., [num_class - 1].\n",
      "  warnings.warn(label_encoder_deprecation_msg, UserWarning)\n"
     ]
    },
    {
     "name": "stdout",
     "output_type": "stream",
     "text": [
      "[12:16:28] WARNING: ../src/learner.cc:1115: Starting in XGBoost 1.3.0, the default evaluation metric used with the objective 'multi:softprob' was changed from 'merror' to 'mlogloss'. Explicitly set eval_metric if you'd like to restore the old behavior.\n",
      "[12:16:30] WARNING: ../src/learner.cc:1115: Starting in XGBoost 1.3.0, the default evaluation metric used with the objective 'multi:softprob' was changed from 'merror' to 'mlogloss'. Explicitly set eval_metric if you'd like to restore the old behavior.\n",
      "[12:16:33] WARNING: ../src/learner.cc:1115: Starting in XGBoost 1.3.0, the default evaluation metric used with the objective 'multi:softprob' was changed from 'merror' to 'mlogloss'. Explicitly set eval_metric if you'd like to restore the old behavior.\n",
      "[12:16:35] WARNING: ../src/learner.cc:1115: Starting in XGBoost 1.3.0, the default evaluation metric used with the objective 'multi:softprob' was changed from 'merror' to 'mlogloss'. Explicitly set eval_metric if you'd like to restore the old behavior.\n",
      "[12:16:38] WARNING: ../src/learner.cc:1115: Starting in XGBoost 1.3.0, the default evaluation metric used with the objective 'multi:softprob' was changed from 'merror' to 'mlogloss'. Explicitly set eval_metric if you'd like to restore the old behavior.\n",
      "[12:16:40] WARNING: ../src/learner.cc:1115: Starting in XGBoost 1.3.0, the default evaluation metric used with the objective 'multi:softprob' was changed from 'merror' to 'mlogloss'. Explicitly set eval_metric if you'd like to restore the old behavior.\n",
      "[12:16:43] WARNING: ../src/learner.cc:1115: Starting in XGBoost 1.3.0, the default evaluation metric used with the objective 'multi:softprob' was changed from 'merror' to 'mlogloss'. Explicitly set eval_metric if you'd like to restore the old behavior.\n",
      "[12:16:45] WARNING: ../src/learner.cc:1115: Starting in XGBoost 1.3.0, the default evaluation metric used with the objective 'multi:softprob' was changed from 'merror' to 'mlogloss'. Explicitly set eval_metric if you'd like to restore the old behavior.\n",
      "[12:16:47] WARNING: ../src/learner.cc:1115: Starting in XGBoost 1.3.0, the default evaluation metric used with the objective 'multi:softprob' was changed from 'merror' to 'mlogloss'. Explicitly set eval_metric if you'd like to restore the old behavior.\n",
      "Scores: [0.84624697 0.84363636 0.83636364 0.84363636 0.84       0.84484848\n",
      " 0.84       0.85333333 0.83757576 0.85090909]\n",
      "Mean: 0.8436550003668648\n",
      "Standard Deviation: 0.005208403016267034\n"
     ]
    }
   ],
   "source": [
    "xgb_cv = XGBClassifier(n_estimators=100)\n",
    "scores = cross_val_score(xgb_cv, X_train, y_train, cv=10, scoring = \"accuracy\")\n",
    "print(\"Scores:\", scores)\n",
    "print(\"Mean:\", scores.mean())\n",
    "print(\"Standard Deviation:\", scores.std())"
   ]
  },
  {
   "cell_type": "code",
   "execution_count": 32,
   "id": "1ea4cf7f",
   "metadata": {
    "execution": {
     "iopub.execute_input": "2022-03-05T12:16:50.319681Z",
     "iopub.status.busy": "2022-03-05T12:16:50.318976Z",
     "iopub.status.idle": "2022-03-05T12:16:50.331268Z",
     "shell.execute_reply": "2022-03-05T12:16:50.330755Z",
     "shell.execute_reply.started": "2022-03-05T11:51:48.809673Z"
    },
    "papermill": {
     "duration": 0.095746,
     "end_time": "2022-03-05T12:16:50.331426",
     "exception": false,
     "start_time": "2022-03-05T12:16:50.235680",
     "status": "completed"
    },
    "tags": []
   },
   "outputs": [
    {
     "data": {
      "text/html": [
       "<div>\n",
       "<style scoped>\n",
       "    .dataframe tbody tr th:only-of-type {\n",
       "        vertical-align: middle;\n",
       "    }\n",
       "\n",
       "    .dataframe tbody tr th {\n",
       "        vertical-align: top;\n",
       "    }\n",
       "\n",
       "    .dataframe thead th {\n",
       "        text-align: right;\n",
       "    }\n",
       "</style>\n",
       "<table border=\"1\" class=\"dataframe\">\n",
       "  <thead>\n",
       "    <tr style=\"text-align: right;\">\n",
       "      <th></th>\n",
       "      <th>Importance</th>\n",
       "    </tr>\n",
       "    <tr>\n",
       "      <th>Feature</th>\n",
       "      <th></th>\n",
       "    </tr>\n",
       "  </thead>\n",
       "  <tbody>\n",
       "    <tr>\n",
       "      <th>Number_of_vehicles_involved</th>\n",
       "      <td>0.100424</td>\n",
       "    </tr>\n",
       "    <tr>\n",
       "      <th>Number_of_casualties</th>\n",
       "      <td>0.067175</td>\n",
       "    </tr>\n",
       "    <tr>\n",
       "      <th>PCA_3</th>\n",
       "      <td>0.054458</td>\n",
       "    </tr>\n",
       "    <tr>\n",
       "      <th>Owner_of_vehicle</th>\n",
       "      <td>0.051291</td>\n",
       "    </tr>\n",
       "    <tr>\n",
       "      <th>Work_of_casuality</th>\n",
       "      <td>0.050803</td>\n",
       "    </tr>\n",
       "    <tr>\n",
       "      <th>Day_of_week</th>\n",
       "      <td>0.050261</td>\n",
       "    </tr>\n",
       "    <tr>\n",
       "      <th>Age_band_of_driver</th>\n",
       "      <td>0.050156</td>\n",
       "    </tr>\n",
       "    <tr>\n",
       "      <th>PCA_2</th>\n",
       "      <td>0.049708</td>\n",
       "    </tr>\n",
       "    <tr>\n",
       "      <th>PCA_1</th>\n",
       "      <td>0.049475</td>\n",
       "    </tr>\n",
       "    <tr>\n",
       "      <th>Type_of_collision</th>\n",
       "      <td>0.047306</td>\n",
       "    </tr>\n",
       "    <tr>\n",
       "      <th>Educational_level</th>\n",
       "      <td>0.047149</td>\n",
       "    </tr>\n",
       "    <tr>\n",
       "      <th>Weather_conditions</th>\n",
       "      <td>0.046821</td>\n",
       "    </tr>\n",
       "    <tr>\n",
       "      <th>Road_allignment</th>\n",
       "      <td>0.046525</td>\n",
       "    </tr>\n",
       "    <tr>\n",
       "      <th>Casualty_severity</th>\n",
       "      <td>0.044800</td>\n",
       "    </tr>\n",
       "    <tr>\n",
       "      <th>Service_year_of_vehicle</th>\n",
       "      <td>0.043343</td>\n",
       "    </tr>\n",
       "    <tr>\n",
       "      <th>Road_surface_type</th>\n",
       "      <td>0.043050</td>\n",
       "    </tr>\n",
       "    <tr>\n",
       "      <th>Driving_experience</th>\n",
       "      <td>0.042248</td>\n",
       "    </tr>\n",
       "    <tr>\n",
       "      <th>Cause_of_accident</th>\n",
       "      <td>0.040608</td>\n",
       "    </tr>\n",
       "    <tr>\n",
       "      <th>Type_of_vehicle</th>\n",
       "      <td>0.039606</td>\n",
       "    </tr>\n",
       "    <tr>\n",
       "      <th>Defect_of_vehicle</th>\n",
       "      <td>0.034795</td>\n",
       "    </tr>\n",
       "  </tbody>\n",
       "</table>\n",
       "</div>"
      ],
      "text/plain": [
       "                             Importance\n",
       "Feature                                \n",
       "Number_of_vehicles_involved    0.100424\n",
       "Number_of_casualties           0.067175\n",
       "PCA_3                          0.054458\n",
       "Owner_of_vehicle               0.051291\n",
       "Work_of_casuality              0.050803\n",
       "Day_of_week                    0.050261\n",
       "Age_band_of_driver             0.050156\n",
       "PCA_2                          0.049708\n",
       "PCA_1                          0.049475\n",
       "Type_of_collision              0.047306\n",
       "Educational_level              0.047149\n",
       "Weather_conditions             0.046821\n",
       "Road_allignment                0.046525\n",
       "Casualty_severity              0.044800\n",
       "Service_year_of_vehicle        0.043343\n",
       "Road_surface_type              0.043050\n",
       "Driving_experience             0.042248\n",
       "Cause_of_accident              0.040608\n",
       "Type_of_vehicle                0.039606\n",
       "Defect_of_vehicle              0.034795"
      ]
     },
     "execution_count": 32,
     "metadata": {},
     "output_type": "execute_result"
    }
   ],
   "source": [
    "importances = pd.DataFrame({\n",
    "    'Feature': cleaned_data_fe.drop('Accident_severity', axis=1).columns,\n",
    "    'Importance': xgb.feature_importances_\n",
    "})\n",
    "importances = importances.sort_values(by='Importance', ascending=False)\n",
    "importances = importances.set_index('Feature')\n",
    "importances"
   ]
  },
  {
   "cell_type": "code",
   "execution_count": 33,
   "id": "21c610d2",
   "metadata": {
    "execution": {
     "iopub.execute_input": "2022-03-05T12:16:50.491911Z",
     "iopub.status.busy": "2022-03-05T12:16:50.490150Z",
     "iopub.status.idle": "2022-03-05T12:16:51.007812Z",
     "shell.execute_reply": "2022-03-05T12:16:51.008299Z",
     "shell.execute_reply.started": "2022-03-05T11:52:21.971497Z"
    },
    "papermill": {
     "duration": 0.598035,
     "end_time": "2022-03-05T12:16:51.008490",
     "exception": false,
     "start_time": "2022-03-05T12:16:50.410455",
     "status": "completed"
    },
    "tags": []
   },
   "outputs": [
    {
     "data": {
      "text/plain": [
       "<AxesSubplot:xlabel='Feature'>"
      ]
     },
     "execution_count": 33,
     "metadata": {},
     "output_type": "execute_result"
    },
    {
     "data": {
      "image/png": "[encoded data removed]",
      "text/plain": [
       "<Figure size 900x600 with 1 Axes>"
      ]
     },
     "metadata": {
      "needs_background": "light"
     },
     "output_type": "display_data"
    }
   ],
   "source": [
    "importances.plot.bar()"
   ]
  },
  {
   "cell_type": "markdown",
   "id": "03060a57",
   "metadata": {
    "papermill": {
     "duration": 0.081689,
     "end_time": "2022-03-05T12:16:51.172587",
     "exception": false,
     "start_time": "2022-03-05T12:16:51.090898",
     "status": "completed"
    },
    "tags": []
   },
   "source": [
    "XGBoost - Testing optimal hyperparameters\n",
    "The following model implements the best performing model with optimal parameters evaluated by the hyperparameter tuning. We will expect the model to perform even better than before.\n",
    "\n",
    "Analytics Vidhya presented a really nice guide for tuning XGBoost.\n",
    "\n",
    "Please read more: https://www.analyticsvidhya.com/blog/2016/03/complete-guide-parameter-tuning-xgboost-with-codes-python/"
   ]
  },
  {
   "cell_type": "code",
   "execution_count": 34,
   "id": "0287d807",
   "metadata": {
    "execution": {
     "iopub.execute_input": "2022-03-05T12:16:51.341599Z",
     "iopub.status.busy": "2022-03-05T12:16:51.340823Z",
     "iopub.status.idle": "2022-03-05T12:16:51.345429Z",
     "shell.execute_reply": "2022-03-05T12:16:51.346019Z",
     "shell.execute_reply.started": "2022-03-05T11:55:09.481623Z"
    },
    "papermill": {
     "duration": 0.093361,
     "end_time": "2022-03-05T12:16:51.346256",
     "exception": false,
     "start_time": "2022-03-05T12:16:51.252895",
     "status": "completed"
    },
    "tags": []
   },
   "outputs": [],
   "source": [
    "X_train, X_test, y_train, y_test = train_test_split(cleaned_data.drop('Accident_severity', axis=1), cleaned_data['Accident_severity'],\n",
    "                                                   test_size=0.33, shuffle=True)"
   ]
  },
  {
   "cell_type": "code",
   "execution_count": 35,
   "id": "8573129a",
   "metadata": {
    "execution": {
     "iopub.execute_input": "2022-03-05T12:16:51.517094Z",
     "iopub.status.busy": "2022-03-05T12:16:51.516102Z",
     "iopub.status.idle": "2022-03-05T12:16:52.412143Z",
     "shell.execute_reply": "2022-03-05T12:16:52.412712Z",
     "shell.execute_reply.started": "2022-03-05T11:57:30.677625Z"
    },
    "papermill": {
     "duration": 0.983919,
     "end_time": "2022-03-05T12:16:52.412904",
     "exception": false,
     "start_time": "2022-03-05T12:16:51.428985",
     "status": "completed"
    },
    "tags": []
   },
   "outputs": [
    {
     "name": "stderr",
     "output_type": "stream",
     "text": [
      "/opt/conda/lib/python3.7/site-packages/xgboost/sklearn.py:1224: UserWarning: The use of label encoder in XGBClassifier is deprecated and will be removed in a future release. To remove this warning, do the following: 1) Pass option use_label_encoder=False when constructing XGBClassifier object; and 2) Encode your labels (y) as integers starting with 0, i.e. 0, 1, 2, ..., [num_class - 1].\n",
      "  warnings.warn(label_encoder_deprecation_msg, UserWarning)\n"
     ]
    },
    {
     "name": "stdout",
     "output_type": "stream",
     "text": [
      "[12:16:51] WARNING: ../src/learner.cc:1115: Starting in XGBoost 1.3.0, the default evaluation metric used with the objective 'multi:softprob' was changed from 'merror' to 'mlogloss'. Explicitly set eval_metric if you'd like to restore the old behavior.\n",
      "XGBoost's prediction accuracy WITH optimal hyperparameters is: 84.31\n"
     ]
    }
   ],
   "source": [
    "xgboost = XGBClassifier(max_depth=3, learning_rate=0.005, n_estimators=100, gamma=0, \n",
    "                        min_child_weight=1, subsample=0.8, colsample_bytree=0.8, reg_alpha=0.005)\n",
    "\n",
    "xgboost.fit(X_train, y_train)\n",
    "preds = xgboost.predict(X_test)\n",
    "\n",
    "accuracy = (preds == y_test).sum().astype(float) / len(preds)*100\n",
    "\n",
    "print(\"XGBoost's prediction accuracy WITH optimal hyperparameters is: %3.2f\" % (accuracy))"
   ]
  },
  {
   "cell_type": "code",
   "execution_count": 36,
   "id": "3b72462e",
   "metadata": {
    "execution": {
     "iopub.execute_input": "2022-03-05T12:16:52.584886Z",
     "iopub.status.busy": "2022-03-05T12:16:52.584221Z",
     "iopub.status.idle": "2022-03-05T12:17:08.380867Z",
     "shell.execute_reply": "2022-03-05T12:17:08.381422Z",
     "shell.execute_reply.started": "2022-03-05T11:56:14.664210Z"
    },
    "papermill": {
     "duration": 15.884281,
     "end_time": "2022-03-05T12:17:08.381636",
     "exception": false,
     "start_time": "2022-03-05T12:16:52.497355",
     "status": "completed"
    },
    "tags": []
   },
   "outputs": [
    {
     "name": "stderr",
     "output_type": "stream",
     "text": [
      "/opt/conda/lib/python3.7/site-packages/xgboost/sklearn.py:1224: UserWarning: The use of label encoder in XGBClassifier is deprecated and will be removed in a future release. To remove this warning, do the following: 1) Pass option use_label_encoder=False when constructing XGBClassifier object; and 2) Encode your labels (y) as integers starting with 0, i.e. 0, 1, 2, ..., [num_class - 1].\n",
      "  warnings.warn(label_encoder_deprecation_msg, UserWarning)\n"
     ]
    },
    {
     "name": "stdout",
     "output_type": "stream",
     "text": [
      "[12:16:52] WARNING: ../src/learner.cc:1115: Starting in XGBoost 1.3.0, the default evaluation metric used with the objective 'multi:softprob' was changed from 'merror' to 'mlogloss'. Explicitly set eval_metric if you'd like to restore the old behavior.\n",
      "[12:16:54] WARNING: ../src/learner.cc:1115: Starting in XGBoost 1.3.0, the default evaluation metric used with the objective 'multi:softprob' was changed from 'merror' to 'mlogloss'. Explicitly set eval_metric if you'd like to restore the old behavior.\n",
      "[12:16:55] WARNING: ../src/learner.cc:1115: Starting in XGBoost 1.3.0, the default evaluation metric used with the objective 'multi:softprob' was changed from 'merror' to 'mlogloss'. Explicitly set eval_metric if you'd like to restore the old behavior.\n",
      "[12:16:57] WARNING: ../src/learner.cc:1115: Starting in XGBoost 1.3.0, the default evaluation metric used with the objective 'multi:softprob' was changed from 'merror' to 'mlogloss'. Explicitly set eval_metric if you'd like to restore the old behavior.\n",
      "[12:16:58] WARNING: ../src/learner.cc:1115: Starting in XGBoost 1.3.0, the default evaluation metric used with the objective 'multi:softprob' was changed from 'merror' to 'mlogloss'. Explicitly set eval_metric if you'd like to restore the old behavior.\n",
      "[12:17:00] WARNING: ../src/learner.cc:1115: Starting in XGBoost 1.3.0, the default evaluation metric used with the objective 'multi:softprob' was changed from 'merror' to 'mlogloss'. Explicitly set eval_metric if you'd like to restore the old behavior.\n",
      "[12:17:02] WARNING: ../src/learner.cc:1115: Starting in XGBoost 1.3.0, the default evaluation metric used with the objective 'multi:softprob' was changed from 'merror' to 'mlogloss'. Explicitly set eval_metric if you'd like to restore the old behavior.\n",
      "[12:17:03] WARNING: ../src/learner.cc:1115: Starting in XGBoost 1.3.0, the default evaluation metric used with the objective 'multi:softprob' was changed from 'merror' to 'mlogloss'. Explicitly set eval_metric if you'd like to restore the old behavior.\n",
      "[12:17:05] WARNING: ../src/learner.cc:1115: Starting in XGBoost 1.3.0, the default evaluation metric used with the objective 'multi:softprob' was changed from 'merror' to 'mlogloss'. Explicitly set eval_metric if you'd like to restore the old behavior.\n",
      "[12:17:06] WARNING: ../src/learner.cc:1115: Starting in XGBoost 1.3.0, the default evaluation metric used with the objective 'multi:softprob' was changed from 'merror' to 'mlogloss'. Explicitly set eval_metric if you'd like to restore the old behavior.\n",
      "Scores: [0.84987893 0.84363636 0.84       0.84242424 0.84121212 0.84727273\n",
      " 0.83878788 0.84242424 0.84121212 0.83636364]\n",
      "Mean: 0.842321226795803\n",
      "Standard Deviation: 0.0037311240944295334\n"
     ]
    }
   ],
   "source": [
    "xgb_cv = XGBClassifier(n_estimators=100)\n",
    "scores = cross_val_score(xgb_cv, X_train, y_train, cv=10, scoring = \"accuracy\")\n",
    "print(\"Scores:\", scores)\n",
    "print(\"Mean:\", scores.mean())\n",
    "print(\"Standard Deviation:\", scores.std())"
   ]
  },
  {
   "cell_type": "markdown",
   "id": "6a24104e",
   "metadata": {
    "papermill": {
     "duration": 0.086103,
     "end_time": "2022-03-05T12:17:08.557404",
     "exception": false,
     "start_time": "2022-03-05T12:17:08.471301",
     "status": "completed"
    },
    "tags": []
   },
   "source": [
    "XGBoost - Evaluation\n",
    "Confusion Matrix"
   ]
  },
  {
   "cell_type": "code",
   "execution_count": 37,
   "id": "0b5fe1e2",
   "metadata": {
    "execution": {
     "iopub.execute_input": "2022-03-05T12:17:08.736974Z",
     "iopub.status.busy": "2022-03-05T12:17:08.736229Z",
     "iopub.status.idle": "2022-03-05T12:17:08.739132Z",
     "shell.execute_reply": "2022-03-05T12:17:08.739628Z",
     "shell.execute_reply.started": "2022-03-05T11:58:41.011227Z"
    },
    "papermill": {
     "duration": 0.09606,
     "end_time": "2022-03-05T12:17:08.739798",
     "exception": false,
     "start_time": "2022-03-05T12:17:08.643738",
     "status": "completed"
    },
    "tags": []
   },
   "outputs": [
    {
     "data": {
      "text/plain": [
       "{0: 10415, 1: 1743, 2: 158}"
      ]
     },
     "execution_count": 37,
     "metadata": {},
     "output_type": "execute_result"
    }
   ],
   "source": [
    "unique, counts = np.unique(cleaned_data['Accident_severity'], return_counts=True)\n",
    "dict(zip(unique, counts))"
   ]
  },
  {
   "cell_type": "code",
   "execution_count": 38,
   "id": "b1fc6d55",
   "metadata": {
    "execution": {
     "iopub.execute_input": "2022-03-05T12:17:08.918571Z",
     "iopub.status.busy": "2022-03-05T12:17:08.917844Z",
     "iopub.status.idle": "2022-03-05T12:17:13.776413Z",
     "shell.execute_reply": "2022-03-05T12:17:13.775708Z",
     "shell.execute_reply.started": "2022-03-05T11:59:30.794887Z"
    },
    "papermill": {
     "duration": 4.950255,
     "end_time": "2022-03-05T12:17:13.776574",
     "exception": false,
     "start_time": "2022-03-05T12:17:08.826319",
     "status": "completed"
    },
    "tags": []
   },
   "outputs": [
    {
     "name": "stderr",
     "output_type": "stream",
     "text": [
      "/opt/conda/lib/python3.7/site-packages/xgboost/sklearn.py:1224: UserWarning: The use of label encoder in XGBClassifier is deprecated and will be removed in a future release. To remove this warning, do the following: 1) Pass option use_label_encoder=False when constructing XGBClassifier object; and 2) Encode your labels (y) as integers starting with 0, i.e. 0, 1, 2, ..., [num_class - 1].\n",
      "  warnings.warn(label_encoder_deprecation_msg, UserWarning)\n"
     ]
    },
    {
     "name": "stdout",
     "output_type": "stream",
     "text": [
      "[12:17:08] WARNING: ../src/learner.cc:1115: Starting in XGBoost 1.3.0, the default evaluation metric used with the objective 'multi:softprob' was changed from 'merror' to 'mlogloss'. Explicitly set eval_metric if you'd like to restore the old behavior.\n",
      "[12:17:10] WARNING: ../src/learner.cc:1115: Starting in XGBoost 1.3.0, the default evaluation metric used with the objective 'multi:softprob' was changed from 'merror' to 'mlogloss'. Explicitly set eval_metric if you'd like to restore the old behavior.\n",
      "[12:17:12] WARNING: ../src/learner.cc:1115: Starting in XGBoost 1.3.0, the default evaluation metric used with the objective 'multi:softprob' was changed from 'merror' to 'mlogloss'. Explicitly set eval_metric if you'd like to restore the old behavior.\n"
     ]
    },
    {
     "data": {
      "text/plain": [
       "array([[10170,   232,    13],\n",
       "       [ 1613,   128,     2],\n",
       "       [  145,     8,     5]])"
      ]
     },
     "execution_count": 38,
     "metadata": {},
     "output_type": "execute_result"
    }
   ],
   "source": [
    "predictions = cross_val_predict(xgb, cleaned_data.drop('Accident_severity', axis=1), cleaned_data['Accident_severity'], cv=3)\n",
    "confusion_matrix(cleaned_data['Accident_severity'], predictions)"
   ]
  },
  {
   "cell_type": "markdown",
   "id": "6cb5da36",
   "metadata": {
    "papermill": {
     "duration": 0.09001,
     "end_time": "2022-03-05T12:17:13.955966",
     "exception": false,
     "start_time": "2022-03-05T12:17:13.865956",
     "status": "completed"
    },
    "tags": []
   },
   "source": [
    "The first row shows that out of 10415 stars, 10170 were classified correctly as Slight Injury. 232 Accident_severity were classified incorrectly as Serious Injury and 13 Accident_severity were classified incorrectly as quasars.\n",
    "\n",
    "The second row shows out of 1743 quasars 1613 were classified correctly. 128 qsos were classified incorrectly as stars and 2 quasar was classified as galaxy.\n",
    "\n",
    "The last row tells us that out of 158 galaxies 145 were classified correctly.. 8 galaxies were classified incorrectly as star.\n",
    "\n",
    "In total:\n",
    "\n",
    "We have only 64 objects which were classified incorrectly. Most of the objects were recognized as what they are."
   ]
  },
  {
   "cell_type": "markdown",
   "id": "6ddbb64c",
   "metadata": {
    "papermill": {
     "duration": 0.089316,
     "end_time": "2022-03-05T12:17:14.135329",
     "exception": false,
     "start_time": "2022-03-05T12:17:14.046013",
     "status": "completed"
    },
    "tags": []
   },
   "source": [
    "Precision & Recall"
   ]
  },
  {
   "cell_type": "code",
   "execution_count": 39,
   "id": "8bf174ed",
   "metadata": {
    "execution": {
     "iopub.execute_input": "2022-03-05T12:17:14.315775Z",
     "iopub.status.busy": "2022-03-05T12:17:14.315069Z",
     "iopub.status.idle": "2022-03-05T12:17:14.327877Z",
     "shell.execute_reply": "2022-03-05T12:17:14.328365Z",
     "shell.execute_reply.started": "2022-03-05T12:06:59.509146Z"
    },
    "papermill": {
     "duration": 0.103936,
     "end_time": "2022-03-05T12:17:14.328554",
     "exception": false,
     "start_time": "2022-03-05T12:17:14.224618",
     "status": "completed"
    },
    "tags": []
   },
   "outputs": [
    {
     "name": "stdout",
     "output_type": "stream",
     "text": [
      "Precision: 0.8365540759987009\n",
      "Recall: 0.8365540759987009\n"
     ]
    }
   ],
   "source": [
    "print(\"Precision:\", precision_score(cleaned_data['Accident_severity'], predictions, average='micro'))\n",
    "print(\"Recall:\",recall_score(cleaned_data['Accident_severity'], predictions, average='micro'))"
   ]
  },
  {
   "cell_type": "markdown",
   "id": "79a722b3",
   "metadata": {
    "papermill": {
     "duration": 0.088712,
     "end_time": "2022-03-05T12:17:14.507010",
     "exception": false,
     "start_time": "2022-03-05T12:17:14.418298",
     "status": "completed"
    },
    "tags": []
   },
   "source": [
    "F1-Score\n",
    "\n",
    "One can combine precision and recall into one score, which is called the F-score. The F-score is computed with the harmonic mean of precision and recall. Note that it assigns much more weight to low values. As a result of that, the classifier will only get a high F-score, if both recall and precision are high."
   ]
  },
  {
   "cell_type": "code",
   "execution_count": 40,
   "id": "e2b718c7",
   "metadata": {
    "execution": {
     "iopub.execute_input": "2022-03-05T12:17:14.689244Z",
     "iopub.status.busy": "2022-03-05T12:17:14.688520Z",
     "iopub.status.idle": "2022-03-05T12:17:14.697867Z",
     "shell.execute_reply": "2022-03-05T12:17:14.698948Z",
     "shell.execute_reply.started": "2022-03-05T12:07:54.341895Z"
    },
    "papermill": {
     "duration": 0.103207,
     "end_time": "2022-03-05T12:17:14.699314",
     "exception": false,
     "start_time": "2022-03-05T12:17:14.596107",
     "status": "completed"
    },
    "tags": []
   },
   "outputs": [
    {
     "name": "stdout",
     "output_type": "stream",
     "text": [
      "F1-Score: 0.8365540759987009\n"
     ]
    }
   ],
   "source": [
    "print(\"F1-Score:\", f1_score(cleaned_data['Accident_severity'], predictions, average='micro'))\n"
   ]
  },
  {
   "cell_type": "code",
   "execution_count": null,
   "id": "132fc379",
   "metadata": {
    "execution": {
     "iopub.execute_input": "2022-03-01T13:35:52.685718Z",
     "iopub.status.busy": "2022-03-01T13:35:52.685226Z",
     "iopub.status.idle": "2022-03-01T13:35:52.70678Z",
     "shell.execute_reply": "2022-03-01T13:35:52.705044Z",
     "shell.execute_reply.started": "2022-03-01T13:35:52.685678Z"
    },
    "papermill": {
     "duration": 0.089494,
     "end_time": "2022-03-05T12:17:14.880861",
     "exception": false,
     "start_time": "2022-03-05T12:17:14.791367",
     "status": "completed"
    },
    "tags": []
   },
   "outputs": [],
   "source": []
  },
  {
   "cell_type": "code",
   "execution_count": null,
   "id": "a4db7ee7",
   "metadata": {
    "papermill": {
     "duration": 0.092804,
     "end_time": "2022-03-05T12:17:15.062302",
     "exception": false,
     "start_time": "2022-03-05T12:17:14.969498",
     "status": "completed"
    },
    "tags": []
   },
   "outputs": [],
   "source": []
  }
 ],
 "metadata": {
  "kernelspec": {
   "display_name": "Python 3",
   "language": "python",
   "name": "python3"
  },
  "language_info": {
   "codemirror_mode": {
    "name": "ipython",
    "version": 3
   },
   "file_extension": ".py",
   "mimetype": "text/x-python",
   "name": "python",
   "nbconvert_exporter": "python",
   "pygments_lexer": "ipython3",
   "version": "3.7.12"
  },
  "papermill": {
   "default_parameters": {},
   "duration": 110.778319,
   "end_time": "2022-03-05T12:17:18.419620",
   "environment_variables": {},
   "exception": null,
   "input_path": "__notebook__.ipynb",
   "output_path": "__notebook__.ipynb",
   "parameters": {},
   "start_time": "2022-03-05T12:15:27.641301",
   "version": "2.3.3"
  }
 },
 "nbformat": 4,
 "nbformat_minor": 5
}
