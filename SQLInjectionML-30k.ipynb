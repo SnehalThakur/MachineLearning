{
 "cells": [
  {
   "cell_type": "markdown",
   "id": "ed697856",
   "metadata": {},
   "source": [
    "# SQL Injection Detection using Machine Learning"
   ]
  },
  {
   "cell_type": "code",
   "execution_count": 1,
   "id": "4d3ee147",
   "metadata": {},
   "outputs": [
    {
     "name": "stdout",
     "output_type": "stream",
     "text": [
      "Requirement already satisfied: seaborn in c:\\users\\public\\datascience\\envs\\sqlinjection\\lib\\site-packages (0.12.1)\n",
      "Requirement already satisfied: matplotlib!=3.6.1,>=3.1 in c:\\users\\public\\datascience\\envs\\sqlinjection\\lib\\site-packages (from seaborn) (3.6.2)\n",
      "Requirement already satisfied: pandas>=0.25 in c:\\users\\public\\datascience\\envs\\sqlinjection\\lib\\site-packages (from seaborn) (1.5.1)\n",
      "Requirement already satisfied: numpy>=1.17 in c:\\users\\public\\datascience\\envs\\sqlinjection\\lib\\site-packages (from seaborn) (1.23.5)\n",
      "Requirement already satisfied: python-dateutil>=2.7 in c:\\users\\public\\datascience\\envs\\sqlinjection\\lib\\site-packages (from matplotlib!=3.6.1,>=3.1->seaborn) (2.8.2)\n",
      "Requirement already satisfied: pillow>=6.2.0 in c:\\users\\public\\datascience\\envs\\sqlinjection\\lib\\site-packages (from matplotlib!=3.6.1,>=3.1->seaborn) (9.3.0)\n",
      "Requirement already satisfied: fonttools>=4.22.0 in c:\\users\\public\\datascience\\envs\\sqlinjection\\lib\\site-packages (from matplotlib!=3.6.1,>=3.1->seaborn) (4.38.0)\n",
      "Requirement already satisfied: packaging>=20.0 in c:\\users\\public\\datascience\\envs\\sqlinjection\\lib\\site-packages (from matplotlib!=3.6.1,>=3.1->seaborn) (21.3)\n",
      "Requirement already satisfied: kiwisolver>=1.0.1 in c:\\users\\public\\datascience\\envs\\sqlinjection\\lib\\site-packages (from matplotlib!=3.6.1,>=3.1->seaborn) (1.4.4)\n",
      "Requirement already satisfied: pyparsing>=2.2.1 in c:\\users\\public\\datascience\\envs\\sqlinjection\\lib\\site-packages (from matplotlib!=3.6.1,>=3.1->seaborn) (3.0.9)\n",
      "Requirement already satisfied: contourpy>=1.0.1 in c:\\users\\public\\datascience\\envs\\sqlinjection\\lib\\site-packages (from matplotlib!=3.6.1,>=3.1->seaborn) (1.0.6)\n",
      "Requirement already satisfied: cycler>=0.10 in c:\\users\\public\\datascience\\envs\\sqlinjection\\lib\\site-packages (from matplotlib!=3.6.1,>=3.1->seaborn) (0.11.0)\n",
      "Requirement already satisfied: pytz>=2020.1 in c:\\users\\public\\datascience\\envs\\sqlinjection\\lib\\site-packages (from pandas>=0.25->seaborn) (2022.6)\n",
      "Requirement already satisfied: six>=1.5 in c:\\users\\public\\datascience\\envs\\sqlinjection\\lib\\site-packages (from python-dateutil>=2.7->matplotlib!=3.6.1,>=3.1->seaborn) (1.16.0)\n",
      "Note: you may need to restart the kernel to use updated packages.\n",
      "Requirement already satisfied: nltk in c:\\users\\public\\datascience\\envs\\sqlinjection\\lib\\site-packages (3.7)\n",
      "Requirement already satisfied: regex>=2021.8.3 in c:\\users\\public\\datascience\\envs\\sqlinjection\\lib\\site-packages (from nltk) (2022.10.31)\n",
      "Requirement already satisfied: joblib in c:\\users\\public\\datascience\\envs\\sqlinjection\\lib\\site-packages (from nltk) (1.2.0)\n",
      "Requirement already satisfied: click in c:\\users\\public\\datascience\\envs\\sqlinjection\\lib\\site-packages (from nltk) (8.1.3)\n",
      "Requirement already satisfied: tqdm in c:\\users\\public\\datascience\\envs\\sqlinjection\\lib\\site-packages (from nltk) (4.64.1)\n",
      "Requirement already satisfied: colorama in c:\\users\\public\\datascience\\envs\\sqlinjection\\lib\\site-packages (from click->nltk) (0.4.6)\n",
      "Note: you may need to restart the kernel to use updated packages.\n",
      "Requirement already satisfied: xgboost in c:\\users\\public\\datascience\\envs\\sqlinjection\\lib\\site-packages (1.7.1)\n",
      "Requirement already satisfied: scipy in c:\\users\\public\\datascience\\envs\\sqlinjection\\lib\\site-packages (from xgboost) (1.9.3)\n",
      "Requirement already satisfied: numpy in c:\\users\\public\\datascience\\envs\\sqlinjection\\lib\\site-packages (from xgboost) (1.23.5)\n",
      "Note: you may need to restart the kernel to use updated packages.\n"
     ]
    }
   ],
   "source": [
    "%pip install seaborn\n",
    "%pip install nltk\n",
    "%pip install xgboost"
   ]
  },
  {
   "cell_type": "code",
   "execution_count": 2,
   "id": "5efe320b",
   "metadata": {},
   "outputs": [],
   "source": [
    "# importing required libraries\n",
    "import numpy as np \n",
    "import pandas as pd \n",
    "import seaborn as sns\n",
    "import matplotlib.pyplot as plt\n",
    "from sklearn.feature_extraction.text import CountVectorizer, TfidfVectorizer\n",
    "from sklearn.model_selection import train_test_split\n",
    "from nltk.corpus import stopwords\n",
    "from sklearn.metrics import accuracy_score, f1_score\n",
    "from sklearn.linear_model import LogisticRegression\n",
    "from sklearn.ensemble import RandomForestClassifier\n",
    "from sklearn.ensemble import ExtraTreesClassifier\n",
    "from xgboost import XGBClassifier\n",
    "from sklearn.svm import SVC\n",
    "from sklearn.naive_bayes import GaussianNB\n",
    "from sklearn.metrics import classification_report\n",
    "from sklearn.metrics import ConfusionMatrixDisplay, confusion_matrix"
   ]
  },
  {
   "cell_type": "markdown",
   "id": "dbd0a612",
   "metadata": {},
   "source": [
    "## Reading sql data file "
   ]
  },
  {
   "cell_type": "code",
   "execution_count": 3,
   "id": "ca9bc54e",
   "metadata": {},
   "outputs": [
    {
     "data": {
      "text/html": [
       "<div>\n",
       "<style scoped>\n",
       "    .dataframe tbody tr th:only-of-type {\n",
       "        vertical-align: middle;\n",
       "    }\n",
       "\n",
       "    .dataframe tbody tr th {\n",
       "        vertical-align: top;\n",
       "    }\n",
       "\n",
       "    .dataframe thead th {\n",
       "        text-align: right;\n",
       "    }\n",
       "</style>\n",
       "<table border=\"1\" class=\"dataframe\">\n",
       "  <thead>\n",
       "    <tr style=\"text-align: right;\">\n",
       "      <th></th>\n",
       "      <th>Sentence</th>\n",
       "      <th>Label</th>\n",
       "      <th>Unnamed: 2</th>\n",
       "      <th>Unnamed: 3</th>\n",
       "    </tr>\n",
       "  </thead>\n",
       "  <tbody>\n",
       "    <tr>\n",
       "      <th>0</th>\n",
       "      <td>\" or pg_sleep  (  __TIME__  )  --\"</td>\n",
       "      <td>1</td>\n",
       "      <td>NaN</td>\n",
       "      <td>NaN</td>\n",
       "    </tr>\n",
       "    <tr>\n",
       "      <th>1</th>\n",
       "      <td>create user name identified by pass123 tempora...</td>\n",
       "      <td>1</td>\n",
       "      <td>NaN</td>\n",
       "      <td>NaN</td>\n",
       "    </tr>\n",
       "    <tr>\n",
       "      <th>2</th>\n",
       "      <td>AND 1  =  utl_inaddr.get_host_address   (    ...</td>\n",
       "      <td>1</td>\n",
       "      <td>NaN</td>\n",
       "      <td>NaN</td>\n",
       "    </tr>\n",
       "    <tr>\n",
       "      <th>3</th>\n",
       "      <td>select * from users where id  =  '1' or @ @1 ...</td>\n",
       "      <td>1</td>\n",
       "      <td>NaN</td>\n",
       "      <td>NaN</td>\n",
       "    </tr>\n",
       "    <tr>\n",
       "      <th>4</th>\n",
       "      <td>select * from users where id  =  1 or 1#\"  ( ...</td>\n",
       "      <td>1</td>\n",
       "      <td>NaN</td>\n",
       "      <td>NaN</td>\n",
       "    </tr>\n",
       "    <tr>\n",
       "      <th>5</th>\n",
       "      <td>select name from syscolumns where id   =     ...</td>\n",
       "      <td>1</td>\n",
       "      <td>NaN</td>\n",
       "      <td>NaN</td>\n",
       "    </tr>\n",
       "    <tr>\n",
       "      <th>6</th>\n",
       "      <td>select * from users where id  =  1 +$+ or 1  =...</td>\n",
       "      <td>1</td>\n",
       "      <td>NaN</td>\n",
       "      <td>NaN</td>\n",
       "    </tr>\n",
       "    <tr>\n",
       "      <th>7</th>\n",
       "      <td>1;  (  load_file  (  char  (  47,101,116,99,47...</td>\n",
       "      <td>1</td>\n",
       "      <td>NaN</td>\n",
       "      <td>NaN</td>\n",
       "    </tr>\n",
       "    <tr>\n",
       "      <th>8</th>\n",
       "      <td>select * from users where id  =  '1' or ||/1 ...</td>\n",
       "      <td>1</td>\n",
       "      <td>NaN</td>\n",
       "      <td>NaN</td>\n",
       "    </tr>\n",
       "    <tr>\n",
       "      <th>9</th>\n",
       "      <td>select * from users where id  =  '1' or \\.&lt;\\ ...</td>\n",
       "      <td>1</td>\n",
       "      <td>NaN</td>\n",
       "      <td>NaN</td>\n",
       "    </tr>\n",
       "  </tbody>\n",
       "</table>\n",
       "</div>"
      ],
      "text/plain": [
       "                                            Sentence Label  Unnamed: 2  \\\n",
       "0                 \" or pg_sleep  (  __TIME__  )  --\"     1         NaN   \n",
       "1  create user name identified by pass123 tempora...     1         NaN   \n",
       "2   AND 1  =  utl_inaddr.get_host_address   (    ...     1         NaN   \n",
       "3   select * from users where id  =  '1' or @ @1 ...     1         NaN   \n",
       "4   select * from users where id  =  1 or 1#\"  ( ...     1         NaN   \n",
       "5   select name from syscolumns where id   =     ...     1         NaN   \n",
       "6  select * from users where id  =  1 +$+ or 1  =...     1         NaN   \n",
       "7  1;  (  load_file  (  char  (  47,101,116,99,47...     1         NaN   \n",
       "8   select * from users where id  =  '1' or ||/1 ...     1         NaN   \n",
       "9   select * from users where id  =  '1' or \\.<\\ ...     1         NaN   \n",
       "\n",
       "   Unnamed: 3  \n",
       "0         NaN  \n",
       "1         NaN  \n",
       "2         NaN  \n",
       "3         NaN  \n",
       "4         NaN  \n",
       "5         NaN  \n",
       "6         NaN  \n",
       "7         NaN  \n",
       "8         NaN  \n",
       "9         NaN  "
      ]
     },
     "execution_count": 3,
     "metadata": {},
     "output_type": "execute_result"
    }
   ],
   "source": [
    "#df = pd.read_csv(r'C:\\Users\\Snehal Thakur\\PycharmProjects\\SQLInjectionML\\dataset\\sqlCleaned.csv', encoding = 'utf-16') # Read the dataset.\n",
    "df = pd.read_csv(r'C:\\Users\\Snehal Thakur\\PycharmProjects\\SQLInjectionML\\dataset\\sql_30k.csv') # Read the dataset.\n",
    "df.head(10)"
   ]
  },
  {
   "cell_type": "markdown",
   "id": "69e6a30d",
   "metadata": {},
   "source": [
    "## Shape of Dataframe"
   ]
  },
  {
   "cell_type": "code",
   "execution_count": 4,
   "id": "7a8cd4c0",
   "metadata": {},
   "outputs": [
    {
     "data": {
      "text/plain": [
       "(30909, 4)"
      ]
     },
     "execution_count": 4,
     "metadata": {},
     "output_type": "execute_result"
    }
   ],
   "source": [
    "df.shape"
   ]
  },
  {
   "cell_type": "code",
   "execution_count": 5,
   "id": "146e82a0",
   "metadata": {},
   "outputs": [],
   "source": [
    "df.drop([\"Unnamed: 2\",\"Unnamed: 3\"], axis=1, inplace=True)"
   ]
  },
  {
   "cell_type": "code",
   "execution_count": 6,
   "id": "78654e79",
   "metadata": {},
   "outputs": [
    {
     "data": {
      "text/html": [
       "<div>\n",
       "<style scoped>\n",
       "    .dataframe tbody tr th:only-of-type {\n",
       "        vertical-align: middle;\n",
       "    }\n",
       "\n",
       "    .dataframe tbody tr th {\n",
       "        vertical-align: top;\n",
       "    }\n",
       "\n",
       "    .dataframe thead th {\n",
       "        text-align: right;\n",
       "    }\n",
       "</style>\n",
       "<table border=\"1\" class=\"dataframe\">\n",
       "  <thead>\n",
       "    <tr style=\"text-align: right;\">\n",
       "      <th></th>\n",
       "      <th>Sentence</th>\n",
       "      <th>Label</th>\n",
       "    </tr>\n",
       "  </thead>\n",
       "  <tbody>\n",
       "    <tr>\n",
       "      <th>0</th>\n",
       "      <td>\" or pg_sleep  (  __TIME__  )  --\"</td>\n",
       "      <td>1</td>\n",
       "    </tr>\n",
       "    <tr>\n",
       "      <th>1</th>\n",
       "      <td>create user name identified by pass123 tempora...</td>\n",
       "      <td>1</td>\n",
       "    </tr>\n",
       "    <tr>\n",
       "      <th>2</th>\n",
       "      <td>AND 1  =  utl_inaddr.get_host_address   (    ...</td>\n",
       "      <td>1</td>\n",
       "    </tr>\n",
       "    <tr>\n",
       "      <th>3</th>\n",
       "      <td>select * from users where id  =  '1' or @ @1 ...</td>\n",
       "      <td>1</td>\n",
       "    </tr>\n",
       "    <tr>\n",
       "      <th>4</th>\n",
       "      <td>select * from users where id  =  1 or 1#\"  ( ...</td>\n",
       "      <td>1</td>\n",
       "    </tr>\n",
       "    <tr>\n",
       "      <th>...</th>\n",
       "      <td>...</td>\n",
       "      <td>...</td>\n",
       "    </tr>\n",
       "    <tr>\n",
       "      <th>30904</th>\n",
       "      <td>DELETE FROM door WHERE grow = 'small'</td>\n",
       "      <td>0</td>\n",
       "    </tr>\n",
       "    <tr>\n",
       "      <th>30905</th>\n",
       "      <td>DELETE FROM tomorrow</td>\n",
       "      <td>0</td>\n",
       "    </tr>\n",
       "    <tr>\n",
       "      <th>30906</th>\n",
       "      <td>SELECT wide ( s )  FROM west</td>\n",
       "      <td>0</td>\n",
       "    </tr>\n",
       "    <tr>\n",
       "      <th>30907</th>\n",
       "      <td>SELECT * FROM  ( SELECT slide FROM breath )</td>\n",
       "      <td>0</td>\n",
       "    </tr>\n",
       "    <tr>\n",
       "      <th>30908</th>\n",
       "      <td>SELECT TOP 3 * FROM race</td>\n",
       "      <td>0</td>\n",
       "    </tr>\n",
       "  </tbody>\n",
       "</table>\n",
       "<p>30909 rows × 2 columns</p>\n",
       "</div>"
      ],
      "text/plain": [
       "                                                Sentence Label\n",
       "0                     \" or pg_sleep  (  __TIME__  )  --\"     1\n",
       "1      create user name identified by pass123 tempora...     1\n",
       "2       AND 1  =  utl_inaddr.get_host_address   (    ...     1\n",
       "3       select * from users where id  =  '1' or @ @1 ...     1\n",
       "4       select * from users where id  =  1 or 1#\"  ( ...     1\n",
       "...                                                  ...   ...\n",
       "30904              DELETE FROM door WHERE grow = 'small'     0\n",
       "30905                               DELETE FROM tomorrow     0\n",
       "30906                       SELECT wide ( s )  FROM west     0\n",
       "30907       SELECT * FROM  ( SELECT slide FROM breath )      0\n",
       "30908                           SELECT TOP 3 * FROM race     0\n",
       "\n",
       "[30909 rows x 2 columns]"
      ]
     },
     "execution_count": 6,
     "metadata": {},
     "output_type": "execute_result"
    }
   ],
   "source": [
    "df"
   ]
  },
  {
   "cell_type": "markdown",
   "id": "f564688b",
   "metadata": {},
   "source": [
    "## Dataframe column information "
   ]
  },
  {
   "cell_type": "code",
   "execution_count": 7,
   "id": "3cb7639f",
   "metadata": {},
   "outputs": [
    {
     "name": "stdout",
     "output_type": "stream",
     "text": [
      "<class 'pandas.core.frame.DataFrame'>\n",
      "RangeIndex: 30909 entries, 0 to 30908\n",
      "Data columns (total 2 columns):\n",
      " #   Column    Non-Null Count  Dtype \n",
      "---  ------    --------------  ----- \n",
      " 0   Sentence  30897 non-null  object\n",
      " 1   Label     30909 non-null  object\n",
      "dtypes: object(2)\n",
      "memory usage: 483.1+ KB\n"
     ]
    }
   ],
   "source": [
    "df.info()"
   ]
  },
  {
   "cell_type": "markdown",
   "id": "dad3b006",
   "metadata": {},
   "source": [
    "## Describe Dataframe "
   ]
  },
  {
   "cell_type": "code",
   "execution_count": 8,
   "id": "ca048a40",
   "metadata": {},
   "outputs": [
    {
     "data": {
      "text/html": [
       "<div>\n",
       "<style scoped>\n",
       "    .dataframe tbody tr th:only-of-type {\n",
       "        vertical-align: middle;\n",
       "    }\n",
       "\n",
       "    .dataframe tbody tr th {\n",
       "        vertical-align: top;\n",
       "    }\n",
       "\n",
       "    .dataframe thead th {\n",
       "        text-align: right;\n",
       "    }\n",
       "</style>\n",
       "<table border=\"1\" class=\"dataframe\">\n",
       "  <thead>\n",
       "    <tr style=\"text-align: right;\">\n",
       "      <th></th>\n",
       "      <th>Sentence</th>\n",
       "      <th>Label</th>\n",
       "    </tr>\n",
       "  </thead>\n",
       "  <tbody>\n",
       "    <tr>\n",
       "      <th>count</th>\n",
       "      <td>30897</td>\n",
       "      <td>30909</td>\n",
       "    </tr>\n",
       "    <tr>\n",
       "      <th>unique</th>\n",
       "      <td>30869</td>\n",
       "      <td>14</td>\n",
       "    </tr>\n",
       "    <tr>\n",
       "      <th>top</th>\n",
       "      <td>#NAME?</td>\n",
       "      <td>0</td>\n",
       "    </tr>\n",
       "    <tr>\n",
       "      <th>freq</th>\n",
       "      <td>8</td>\n",
       "      <td>19537</td>\n",
       "    </tr>\n",
       "  </tbody>\n",
       "</table>\n",
       "</div>"
      ],
      "text/plain": [
       "       Sentence  Label\n",
       "count     30897  30909\n",
       "unique    30869     14\n",
       "top      #NAME?      0\n",
       "freq          8  19537"
      ]
     },
     "execution_count": 8,
     "metadata": {},
     "output_type": "execute_result"
    }
   ],
   "source": [
    "df.describe(include=\"all\")"
   ]
  },
  {
   "cell_type": "markdown",
   "id": "7a3b0f93",
   "metadata": {},
   "source": [
    "## Describe Label column "
   ]
  },
  {
   "cell_type": "code",
   "execution_count": 9,
   "id": "756d1923",
   "metadata": {},
   "outputs": [
    {
     "data": {
      "text/plain": [
       "count     30909\n",
       "unique       14\n",
       "top           0\n",
       "freq      19537\n",
       "Name: Label, dtype: object"
      ]
     },
     "execution_count": 9,
     "metadata": {},
     "output_type": "execute_result"
    }
   ],
   "source": [
    "df['Label'].describe()"
   ]
  },
  {
   "cell_type": "markdown",
   "id": "bdf1a30f",
   "metadata": {},
   "source": [
    "## Check null values "
   ]
  },
  {
   "cell_type": "code",
   "execution_count": 10,
   "id": "dd8799ee",
   "metadata": {},
   "outputs": [
    {
     "data": {
      "text/plain": [
       "Sentence    12\n",
       "Label        0\n",
       "dtype: int64"
      ]
     },
     "execution_count": 10,
     "metadata": {},
     "output_type": "execute_result"
    }
   ],
   "source": [
    "df.isna().sum()"
   ]
  },
  {
   "cell_type": "markdown",
   "id": "1084a054",
   "metadata": {},
   "source": [
    "## Drop null values "
   ]
  },
  {
   "cell_type": "code",
   "execution_count": 11,
   "id": "0438f46f",
   "metadata": {},
   "outputs": [],
   "source": [
    "df.dropna(inplace=True)"
   ]
  },
  {
   "cell_type": "markdown",
   "id": "423cbc68",
   "metadata": {},
   "source": [
    "## Check null values after dropping null values "
   ]
  },
  {
   "cell_type": "code",
   "execution_count": 12,
   "id": "331b992b",
   "metadata": {},
   "outputs": [
    {
     "data": {
      "text/plain": [
       "Sentence    0\n",
       "Label       0\n",
       "dtype: int64"
      ]
     },
     "execution_count": 12,
     "metadata": {},
     "output_type": "execute_result"
    }
   ],
   "source": [
    "df.isna().sum()"
   ]
  },
  {
   "cell_type": "markdown",
   "id": "3b79de5d",
   "metadata": {},
   "source": [
    "##  Count values where Label is 1 "
   ]
  },
  {
   "cell_type": "code",
   "execution_count": 13,
   "id": "adcd876e",
   "metadata": {},
   "outputs": [
    {
     "data": {
      "text/plain": [
       "Sentence    0\n",
       "Label       0\n",
       "dtype: int64"
      ]
     },
     "execution_count": 13,
     "metadata": {},
     "output_type": "execute_result"
    }
   ],
   "source": [
    "df[df['Label'] == 1].count() # Count how much label are 1."
   ]
  },
  {
   "cell_type": "markdown",
   "id": "430c4c28",
   "metadata": {},
   "source": [
    "##  Count values where Label is 0"
   ]
  },
  {
   "cell_type": "code",
   "execution_count": 14,
   "id": "cb1f6a29",
   "metadata": {},
   "outputs": [
    {
     "data": {
      "text/plain": [
       "Sentence    0\n",
       "Label       0\n",
       "dtype: int64"
      ]
     },
     "execution_count": 14,
     "metadata": {},
     "output_type": "execute_result"
    }
   ],
   "source": [
    "df[df['Label'] == 0].count() # Count how much label are 0."
   ]
  },
  {
   "cell_type": "markdown",
   "id": "a38e1f2e",
   "metadata": {},
   "source": [
    "## Label value counts"
   ]
  },
  {
   "cell_type": "code",
   "execution_count": 15,
   "id": "44f9418d",
   "metadata": {},
   "outputs": [
    {
     "data": {
      "text/plain": [
       "0    19537\n",
       "1    11360\n",
       "Name: Label, dtype: int64"
      ]
     },
     "execution_count": 15,
     "metadata": {},
     "output_type": "execute_result"
    }
   ],
   "source": [
    "df['Label'].value_counts()"
   ]
  },
  {
   "cell_type": "code",
   "execution_count": 16,
   "id": "eb6f4a8b",
   "metadata": {},
   "outputs": [],
   "source": [
    "df['Label'] = df['Label'].apply(pd.to_numeric,errors='ignore')"
   ]
  },
  {
   "cell_type": "code",
   "execution_count": 17,
   "id": "f4016def",
   "metadata": {},
   "outputs": [
    {
     "data": {
      "text/plain": [
       "0    19537\n",
       "1    11360\n",
       "Name: Label, dtype: int64"
      ]
     },
     "execution_count": 17,
     "metadata": {},
     "output_type": "execute_result"
    }
   ],
   "source": [
    "df['Label'].value_counts()"
   ]
  },
  {
   "cell_type": "markdown",
   "id": "bf2f682d",
   "metadata": {},
   "source": [
    "## Plot label counts "
   ]
  },
  {
   "cell_type": "code",
   "execution_count": 18,
   "id": "109365ce",
   "metadata": {},
   "outputs": [
    {
     "data": {
      "image/png": "[encoded data removed]",
      "text/plain": [
       "<Figure size 1200x400 with 2 Axes>"
      ]
     },
     "metadata": {},
     "output_type": "display_data"
    }
   ],
   "source": [
    "f,ax=plt.subplots(1,2,figsize=(12,4))\n",
    "df['Label'].value_counts().plot.pie(explode=[0,0.1],autopct='%1.1f%%',ax=ax[0],shadow=True)\n",
    "\n",
    "\n",
    "ax[0].set_title('Label')\n",
    "ax[0].set_ylabel('')\n",
    "sns.countplot(x=df[\"Label\"],ax=ax[1])\n",
    "ax[1].set_title('Label')\n",
    "plt.show()"
   ]
  },
  {
   "cell_type": "markdown",
   "id": "1cae4070",
   "metadata": {},
   "source": [
    "# Approach 1. Count Vectorizer"
   ]
  },
  {
   "cell_type": "markdown",
   "id": "7d414be0",
   "metadata": {},
   "source": [
    "##  CountVectorizer - Convert a collection of text documents to a matrix of token counts"
   ]
  },
  {
   "cell_type": "code",
   "execution_count": 19,
   "id": "aea0b561",
   "metadata": {},
   "outputs": [
    {
     "data": {
      "text/plain": [
       "array([[0, 0, 0, ..., 0, 0, 0],\n",
       "       [0, 0, 0, ..., 0, 0, 0],\n",
       "       [0, 0, 0, ..., 0, 0, 0],\n",
       "       ...,\n",
       "       [0, 0, 0, ..., 0, 0, 0],\n",
       "       [0, 0, 0, ..., 0, 0, 0],\n",
       "       [0, 0, 0, ..., 0, 0, 0]], dtype=int64)"
      ]
     },
     "execution_count": 19,
     "metadata": {},
     "output_type": "execute_result"
    }
   ],
   "source": [
    "X = df['Sentence']\n",
    "y = df['Label']\n",
    "# CountVectorizer - Convert a collection of text documents to a matrix of token counts\n",
    "count_vectorizer = CountVectorizer(min_df = 2, max_df = 0.8, stop_words = stopwords.words('english'))\n",
    "X = count_vectorizer.fit_transform(X.values.astype('U')).toarray()\n",
    "X"
   ]
  },
  {
   "cell_type": "code",
   "execution_count": 20,
   "id": "91a1a361",
   "metadata": {},
   "outputs": [
    {
     "name": "stderr",
     "output_type": "stream",
     "text": [
      "C:\\Users\\Public\\DataScience\\envs\\sqlinjection\\lib\\site-packages\\sklearn\\utils\\deprecation.py:87: FutureWarning: Function get_feature_names is deprecated; get_feature_names is deprecated in 1.0 and will be removed in 1.2. Please use get_feature_names_out instead.\n",
      "  warnings.warn(msg, category=FutureWarning)\n"
     ]
    },
    {
     "data": {
      "text/plain": [
       "['00',\n",
       " '000001',\n",
       " '000003',\n",
       " '000004',\n",
       " '000023',\n",
       " '01',\n",
       " '015',\n",
       " '03',\n",
       " '06',\n",
       " '07',\n",
       " '08',\n",
       " '09',\n",
       " '0x28',\n",
       " '0x2e',\n",
       " '0x4b774c75',\n",
       " '0x4c4d6142',\n",
       " '0x52515a50',\n",
       " '0x544d5a4c',\n",
       " '0x5c',\n",
       " '0x694a4745',\n",
       " '0x6d457153',\n",
       " '0x7171706a71',\n",
       " '0x717a767a71',\n",
       " '0x72747341',\n",
       " '0x730065006c00650063007400200040004000760065007200730069006f006e00',\n",
       " '0x73656c65637420404076657273696f6e',\n",
       " '0x76555642',\n",
       " '0x77616974666f722064656c61792027303a303a31302700',\n",
       " '0x78',\n",
       " '10',\n",
       " '100',\n",
       " '1000',\n",
       " '10000000',\n",
       " '1001',\n",
       " '1002',\n",
       " '1004',\n",
       " '1005',\n",
       " '1007',\n",
       " '101',\n",
       " '1013',\n",
       " '1015',\n",
       " '102',\n",
       " '1020',\n",
       " '1022',\n",
       " '103',\n",
       " '1030',\n",
       " '1031',\n",
       " '1032',\n",
       " '1036',\n",
       " '104',\n",
       " '1040',\n",
       " '1043',\n",
       " '1044',\n",
       " '1045',\n",
       " '1047',\n",
       " '1048',\n",
       " '105',\n",
       " '1050',\n",
       " '1051',\n",
       " '1052',\n",
       " '1055',\n",
       " '1056',\n",
       " '106',\n",
       " '1064',\n",
       " '107',\n",
       " '1071',\n",
       " '1074',\n",
       " '1076',\n",
       " '1079',\n",
       " '108',\n",
       " '1082',\n",
       " '1083',\n",
       " '1084',\n",
       " '1085',\n",
       " '1087',\n",
       " '109',\n",
       " '1090',\n",
       " '1091',\n",
       " '1093',\n",
       " '1096',\n",
       " '10a',\n",
       " '10d',\n",
       " '10f',\n",
       " '10h',\n",
       " '11',\n",
       " '110',\n",
       " '1100',\n",
       " '1102',\n",
       " '1105',\n",
       " '1107',\n",
       " '111',\n",
       " '1115',\n",
       " '1117',\n",
       " '112',\n",
       " '1120',\n",
       " '1123',\n",
       " '1127',\n",
       " '113',\n",
       " '1132',\n",
       " '1133',\n",
       " '1134',\n",
       " '1139',\n",
       " '114',\n",
       " '1144',\n",
       " '11451',\n",
       " '1148',\n",
       " '115',\n",
       " '11514',\n",
       " '1153',\n",
       " '1157',\n",
       " '116',\n",
       " '1161',\n",
       " '1162',\n",
       " '1164',\n",
       " '1166',\n",
       " '1167',\n",
       " '117',\n",
       " '1171',\n",
       " '1172',\n",
       " '118',\n",
       " '1181',\n",
       " '1182',\n",
       " '1183',\n",
       " '1185',\n",
       " '1186',\n",
       " '119',\n",
       " '1193',\n",
       " '1196',\n",
       " '1199',\n",
       " '11d',\n",
       " '11g',\n",
       " '11h',\n",
       " '11horas',\n",
       " '12',\n",
       " '120',\n",
       " '1202',\n",
       " '1203',\n",
       " '121',\n",
       " '1210',\n",
       " '1212',\n",
       " '1217',\n",
       " '1219',\n",
       " '122',\n",
       " '1222',\n",
       " '1224',\n",
       " '1226',\n",
       " '1227',\n",
       " '1229',\n",
       " '123',\n",
       " '1230',\n",
       " '1233',\n",
       " '1234',\n",
       " '1236',\n",
       " '1237',\n",
       " '1238',\n",
       " '124',\n",
       " '1244',\n",
       " '1246',\n",
       " '1248',\n",
       " '1249',\n",
       " '125',\n",
       " '1252',\n",
       " '1254',\n",
       " '1255',\n",
       " '1256',\n",
       " '126',\n",
       " '1263',\n",
       " '1266',\n",
       " '1267',\n",
       " '1269',\n",
       " '127',\n",
       " '1270',\n",
       " '1272',\n",
       " '1275',\n",
       " '1276',\n",
       " '1277',\n",
       " '128',\n",
       " '1280',\n",
       " '1287',\n",
       " '1293',\n",
       " '1297',\n",
       " '13',\n",
       " '130',\n",
       " '1300',\n",
       " '1302',\n",
       " '1303',\n",
       " '1305',\n",
       " '131',\n",
       " '1317',\n",
       " '132',\n",
       " '1321',\n",
       " '1323',\n",
       " '1327',\n",
       " '1333',\n",
       " '1335',\n",
       " '1339',\n",
       " '134',\n",
       " '1343',\n",
       " '1345',\n",
       " '135',\n",
       " '1354',\n",
       " '136',\n",
       " '1363',\n",
       " '1366',\n",
       " '1367',\n",
       " '1368',\n",
       " '137',\n",
       " '1378',\n",
       " '138',\n",
       " '1386',\n",
       " '1389',\n",
       " '139',\n",
       " '1390',\n",
       " '1392',\n",
       " '1393',\n",
       " '1396',\n",
       " '13e',\n",
       " '14',\n",
       " '140',\n",
       " '1402',\n",
       " '1407',\n",
       " '1408',\n",
       " '141',\n",
       " '1412',\n",
       " '1414',\n",
       " '1418',\n",
       " '142',\n",
       " '1424',\n",
       " '1426',\n",
       " '143',\n",
       " '1432',\n",
       " '1434',\n",
       " '1436',\n",
       " '1437',\n",
       " '1438',\n",
       " '1439',\n",
       " '144',\n",
       " '1440',\n",
       " '1441',\n",
       " '1452',\n",
       " '146',\n",
       " '1468',\n",
       " '147',\n",
       " '1470',\n",
       " '1471',\n",
       " '1475',\n",
       " '1476',\n",
       " '1479',\n",
       " '148',\n",
       " '1481',\n",
       " '1482',\n",
       " '1483',\n",
       " '1485',\n",
       " '1487',\n",
       " '149',\n",
       " '1490',\n",
       " '1492',\n",
       " '1494',\n",
       " '1499',\n",
       " '14horas',\n",
       " '15',\n",
       " '150',\n",
       " '1501',\n",
       " '1503',\n",
       " '151',\n",
       " '1510',\n",
       " '1512',\n",
       " '1513',\n",
       " '1519',\n",
       " '152',\n",
       " '1525',\n",
       " '1526',\n",
       " '153',\n",
       " '1536',\n",
       " '154',\n",
       " '1541',\n",
       " '1543',\n",
       " '1545',\n",
       " '1547',\n",
       " '1549',\n",
       " '155',\n",
       " '1550',\n",
       " '1557',\n",
       " '1558',\n",
       " '1559',\n",
       " '156',\n",
       " '1568',\n",
       " '157',\n",
       " '1570',\n",
       " '1573',\n",
       " '1577',\n",
       " '158',\n",
       " '1589',\n",
       " '1591',\n",
       " '1593',\n",
       " '1594',\n",
       " '1596',\n",
       " '1597',\n",
       " '1598',\n",
       " '16',\n",
       " '160',\n",
       " '1600',\n",
       " '1601',\n",
       " '1602',\n",
       " '1603',\n",
       " '1606',\n",
       " '1609',\n",
       " '161',\n",
       " '1616',\n",
       " '1618',\n",
       " '162',\n",
       " '1623',\n",
       " '1624',\n",
       " '1628',\n",
       " '1631',\n",
       " '1632',\n",
       " '1634',\n",
       " '1636',\n",
       " '1637',\n",
       " '1639',\n",
       " '164',\n",
       " '1640',\n",
       " '1641',\n",
       " '1642',\n",
       " '1643',\n",
       " '1644',\n",
       " '1646',\n",
       " '1647',\n",
       " '1648',\n",
       " '165',\n",
       " '1650',\n",
       " '1651',\n",
       " '1656',\n",
       " '166',\n",
       " '1661',\n",
       " '1668',\n",
       " '167',\n",
       " '1670',\n",
       " '1673',\n",
       " '1675',\n",
       " '1679',\n",
       " '168',\n",
       " '1685',\n",
       " '1687',\n",
       " '1689',\n",
       " '169',\n",
       " '1690',\n",
       " '1692',\n",
       " '17',\n",
       " '170',\n",
       " '1700',\n",
       " '1705',\n",
       " '1707',\n",
       " '171',\n",
       " '1710',\n",
       " '1711',\n",
       " '1712',\n",
       " '1714',\n",
       " '1718',\n",
       " '172',\n",
       " '1720',\n",
       " '1729',\n",
       " '173',\n",
       " '1730',\n",
       " '1738',\n",
       " '174',\n",
       " '1743',\n",
       " '1746',\n",
       " '1748',\n",
       " '175',\n",
       " '1750',\n",
       " '1752',\n",
       " '1755',\n",
       " '1759',\n",
       " '1763',\n",
       " '1764',\n",
       " '1765',\n",
       " '1766',\n",
       " '177',\n",
       " '1770',\n",
       " '1772',\n",
       " '1776',\n",
       " '178',\n",
       " '1781',\n",
       " '1789',\n",
       " '179',\n",
       " '1794',\n",
       " '1796',\n",
       " '18',\n",
       " '180',\n",
       " '1802',\n",
       " '1806',\n",
       " '1807',\n",
       " '1808',\n",
       " '1809',\n",
       " '181',\n",
       " '1816',\n",
       " '182',\n",
       " '1821',\n",
       " '1823',\n",
       " '1826',\n",
       " '183',\n",
       " '1836',\n",
       " '1839',\n",
       " '184',\n",
       " '1844',\n",
       " '185',\n",
       " '1859',\n",
       " '186',\n",
       " '1860000000000000',\n",
       " '1863',\n",
       " '1864',\n",
       " '1866',\n",
       " '1867',\n",
       " '1868',\n",
       " '187',\n",
       " '1874',\n",
       " '1876',\n",
       " '188',\n",
       " '1886',\n",
       " '1887',\n",
       " '1889',\n",
       " '189',\n",
       " '1891',\n",
       " '1893',\n",
       " '1894',\n",
       " '1895',\n",
       " '1898',\n",
       " '18e',\n",
       " '19',\n",
       " '190',\n",
       " '1908',\n",
       " '191',\n",
       " '1910',\n",
       " '1915',\n",
       " '1917',\n",
       " '192',\n",
       " '1920',\n",
       " '1924',\n",
       " '1928',\n",
       " '1929',\n",
       " '193',\n",
       " '1931',\n",
       " '1932',\n",
       " '1936',\n",
       " '1939',\n",
       " '194',\n",
       " '1940',\n",
       " '1940000000000000',\n",
       " '1942',\n",
       " '1943',\n",
       " '1947',\n",
       " '1949',\n",
       " '195',\n",
       " '196',\n",
       " '1961',\n",
       " '1962',\n",
       " '1968',\n",
       " '197',\n",
       " '1971',\n",
       " '1975',\n",
       " '1976',\n",
       " '1977',\n",
       " '198',\n",
       " '1980',\n",
       " '1983',\n",
       " '1985',\n",
       " '1988',\n",
       " '1989',\n",
       " '199',\n",
       " '1990',\n",
       " '1992',\n",
       " '1993',\n",
       " '1996',\n",
       " '1996boat',\n",
       " '1996came',\n",
       " '1996damage',\n",
       " '1996flies',\n",
       " '1996kind',\n",
       " '1996love',\n",
       " '1996manner',\n",
       " '1996meat',\n",
       " '1996party',\n",
       " '1996window',\n",
       " '1998',\n",
       " '1999',\n",
       " '19horas',\n",
       " '1_',\n",
       " '1a',\n",
       " '1e',\n",
       " '1f',\n",
       " '20',\n",
       " '200',\n",
       " '2006',\n",
       " '2007',\n",
       " '2008',\n",
       " '2012',\n",
       " '2013',\n",
       " '2016',\n",
       " '2017',\n",
       " '201703',\n",
       " '2021',\n",
       " '2025',\n",
       " '2027',\n",
       " '2028',\n",
       " '2031',\n",
       " '2039',\n",
       " '2044',\n",
       " '2046',\n",
       " '2048',\n",
       " '2049',\n",
       " '2050',\n",
       " '2051',\n",
       " '2055',\n",
       " '2056',\n",
       " '2067',\n",
       " '2068',\n",
       " '2071',\n",
       " '2072',\n",
       " '2077',\n",
       " '2081',\n",
       " '2086',\n",
       " '2090',\n",
       " '2095',\n",
       " '21',\n",
       " '2100',\n",
       " '2106',\n",
       " '2110',\n",
       " '2111',\n",
       " '2112',\n",
       " '2113',\n",
       " '2114',\n",
       " '2118',\n",
       " '2120',\n",
       " '2129',\n",
       " '2130',\n",
       " '2131',\n",
       " '2132',\n",
       " '2136',\n",
       " '2140',\n",
       " '2141',\n",
       " '2144',\n",
       " '2145',\n",
       " '2149',\n",
       " '2158',\n",
       " '2160',\n",
       " '2161',\n",
       " '2163',\n",
       " '2165',\n",
       " '2168',\n",
       " '2169',\n",
       " '2171',\n",
       " '2174',\n",
       " '2175',\n",
       " '2178',\n",
       " '2179',\n",
       " '2190',\n",
       " '2193',\n",
       " '2197',\n",
       " '22',\n",
       " '2204',\n",
       " '2207',\n",
       " '2211',\n",
       " '2214',\n",
       " '2216',\n",
       " '2223',\n",
       " '2225',\n",
       " '2230',\n",
       " '2236',\n",
       " '2238',\n",
       " '2241',\n",
       " '2246',\n",
       " '2255',\n",
       " '2256',\n",
       " '2260',\n",
       " '2263',\n",
       " '2266',\n",
       " '2271',\n",
       " '2278',\n",
       " '228217',\n",
       " '2284',\n",
       " '2285',\n",
       " '2287',\n",
       " '2291',\n",
       " '2298',\n",
       " '23',\n",
       " '2300',\n",
       " '2301',\n",
       " '2303',\n",
       " '2305',\n",
       " '2306',\n",
       " '2307',\n",
       " '2308',\n",
       " '2309',\n",
       " '2312',\n",
       " '2314',\n",
       " '2316',\n",
       " '2317',\n",
       " '2321',\n",
       " '2323',\n",
       " '2325',\n",
       " '2329',\n",
       " '2331',\n",
       " '2332',\n",
       " '2335',\n",
       " '2340',\n",
       " '2341',\n",
       " '2346',\n",
       " '2352',\n",
       " '2364',\n",
       " '2365',\n",
       " '2366',\n",
       " '2367',\n",
       " '2373',\n",
       " '2377',\n",
       " '2382',\n",
       " '2384',\n",
       " '2388',\n",
       " '2391',\n",
       " '239189',\n",
       " '239190',\n",
       " '2394',\n",
       " '24',\n",
       " '2401',\n",
       " '2402',\n",
       " '2405',\n",
       " '2411',\n",
       " '2417',\n",
       " '2421',\n",
       " '2425',\n",
       " '2427',\n",
       " '2430',\n",
       " '2432',\n",
       " '2434',\n",
       " '2443',\n",
       " '2445',\n",
       " '2446',\n",
       " '2448',\n",
       " '2452',\n",
       " '2455',\n",
       " '2457',\n",
       " '2459',\n",
       " '2468',\n",
       " '2473',\n",
       " '2477',\n",
       " '2483',\n",
       " '2489',\n",
       " '2495',\n",
       " '2498',\n",
       " '25',\n",
       " '250500',\n",
       " '2511',\n",
       " '2512',\n",
       " '2513',\n",
       " '2517',\n",
       " '2518',\n",
       " '2519',\n",
       " '2527',\n",
       " '2528',\n",
       " '2539',\n",
       " '2542',\n",
       " '2543',\n",
       " '2545',\n",
       " '2547',\n",
       " '255',\n",
       " '2555',\n",
       " '2564',\n",
       " '2567',\n",
       " '2568',\n",
       " '2569',\n",
       " '2570',\n",
       " '2571',\n",
       " '2572',\n",
       " '2573',\n",
       " '2576',\n",
       " '2583',\n",
       " '2590',\n",
       " '2593',\n",
       " '2597',\n",
       " '26',\n",
       " '2602',\n",
       " '2603',\n",
       " '2605',\n",
       " '2607',\n",
       " '2609',\n",
       " '2610',\n",
       " '2615',\n",
       " '2618',\n",
       " '2619',\n",
       " '2620',\n",
       " '2621',\n",
       " '262310',\n",
       " '262311',\n",
       " '262312',\n",
       " '262315',\n",
       " '262317',\n",
       " '262326',\n",
       " '262327',\n",
       " '262328',\n",
       " '262329',\n",
       " '262330',\n",
       " '262331',\n",
       " '262334',\n",
       " '262335',\n",
       " '2625',\n",
       " '2633',\n",
       " '2634',\n",
       " '2636',\n",
       " '2637',\n",
       " '2639',\n",
       " '2643',\n",
       " '2648',\n",
       " '2649',\n",
       " '2651',\n",
       " '2656',\n",
       " '2657',\n",
       " '2658',\n",
       " '2671',\n",
       " '2672',\n",
       " '2673',\n",
       " '2676',\n",
       " '2678',\n",
       " '2679',\n",
       " '2680',\n",
       " '2681',\n",
       " '2687',\n",
       " '2689',\n",
       " '27',\n",
       " '2704',\n",
       " '2710',\n",
       " '2712',\n",
       " '2715',\n",
       " '2716',\n",
       " '2717',\n",
       " '2718',\n",
       " '2719',\n",
       " '2720',\n",
       " '2721',\n",
       " '2724',\n",
       " '2725',\n",
       " '2726',\n",
       " '2728',\n",
       " '2730',\n",
       " '2733',\n",
       " '2734',\n",
       " '2741',\n",
       " '2745',\n",
       " '2748',\n",
       " '2749',\n",
       " '2751',\n",
       " '2759',\n",
       " '2760',\n",
       " '2763',\n",
       " '2766',\n",
       " '2767',\n",
       " '2768',\n",
       " '2774',\n",
       " '2781',\n",
       " '2782',\n",
       " '2783',\n",
       " '2784',\n",
       " '2787',\n",
       " '2788',\n",
       " '2790',\n",
       " '2793',\n",
       " '27990',\n",
       " '28',\n",
       " '2803',\n",
       " '28072',\n",
       " '28074',\n",
       " '2808',\n",
       " '28080',\n",
       " '2813',\n",
       " '2815',\n",
       " '2817',\n",
       " '2820',\n",
       " '2821',\n",
       " '2823',\n",
       " '2827',\n",
       " '2829',\n",
       " '28313',\n",
       " '2834',\n",
       " '28341',\n",
       " '2838',\n",
       " '2840',\n",
       " '28446',\n",
       " '28450',\n",
       " '2849',\n",
       " '2850',\n",
       " '2852',\n",
       " '2853',\n",
       " '2855',\n",
       " '28557',\n",
       " '28561',\n",
       " '28565',\n",
       " '2857',\n",
       " '28587',\n",
       " '28591',\n",
       " '28614',\n",
       " '28618',\n",
       " '28620',\n",
       " '28621',\n",
       " '28633',\n",
       " '28635',\n",
       " '28636',\n",
       " '28638',\n",
       " '2865',\n",
       " '2866',\n",
       " '2869',\n",
       " '28691',\n",
       " '28694',\n",
       " '28696',\n",
       " '28699',\n",
       " '287',\n",
       " '28705',\n",
       " '28707',\n",
       " '28710',\n",
       " '2872',\n",
       " '28728',\n",
       " '2873',\n",
       " '28731',\n",
       " '28733',\n",
       " '2874',\n",
       " '2886',\n",
       " '2887',\n",
       " '2891',\n",
       " '2898',\n",
       " '2899',\n",
       " '289969',\n",
       " '29',\n",
       " '290065',\n",
       " '2901',\n",
       " '2903',\n",
       " '2905',\n",
       " '2908',\n",
       " '290914',\n",
       " '291072',\n",
       " '2912',\n",
       " '2914',\n",
       " '2917',\n",
       " '2918',\n",
       " '2919',\n",
       " '2920',\n",
       " '2922',\n",
       " '292419',\n",
       " '292420',\n",
       " '2925',\n",
       " '2928',\n",
       " '2929',\n",
       " '2930',\n",
       " '2937',\n",
       " '2938',\n",
       " '2948',\n",
       " '2951',\n",
       " '2952',\n",
       " '2953',\n",
       " '2958',\n",
       " '2964',\n",
       " '2967',\n",
       " '2971',\n",
       " '2972',\n",
       " '2976',\n",
       " '2977',\n",
       " '2982',\n",
       " '2985',\n",
       " '2987',\n",
       " '2989',\n",
       " '2992',\n",
       " '2993',\n",
       " '299801',\n",
       " '299804',\n",
       " '299806',\n",
       " '299807',\n",
       " '299808',\n",
       " '2a',\n",
       " '2b',\n",
       " '30',\n",
       " '300',\n",
       " '3003',\n",
       " '3007',\n",
       " '3009',\n",
       " '3013',\n",
       " '3020',\n",
       " '3021',\n",
       " '30220',\n",
       " '3023',\n",
       " '3025',\n",
       " '3026',\n",
       " '3028',\n",
       " '3030',\n",
       " '3031',\n",
       " '30322',\n",
       " '3036',\n",
       " '3037',\n",
       " '3038',\n",
       " '30380',\n",
       " '30384',\n",
       " '30387',\n",
       " '30390',\n",
       " '3044',\n",
       " '3051',\n",
       " '3058',\n",
       " '3059',\n",
       " '3062',\n",
       " '3069',\n",
       " '3072',\n",
       " '3074',\n",
       " '3076',\n",
       " '3078',\n",
       " '3081',\n",
       " '3082',\n",
       " '3083',\n",
       " '3084',\n",
       " '3086',\n",
       " '3088',\n",
       " '3090',\n",
       " '3092',\n",
       " '31',\n",
       " '3102',\n",
       " '3105',\n",
       " '3107',\n",
       " '3112',\n",
       " '3114',\n",
       " '3116',\n",
       " '3118',\n",
       " '3125',\n",
       " '3126',\n",
       " '3130',\n",
       " '3138',\n",
       " '3140',\n",
       " '3141',\n",
       " '3143',\n",
       " '3145',\n",
       " '3146',\n",
       " '3151',\n",
       " '3168',\n",
       " '3169',\n",
       " '3171',\n",
       " '3172',\n",
       " '3175',\n",
       " '3176',\n",
       " '3177',\n",
       " '3180',\n",
       " '3181',\n",
       " '3185',\n",
       " '3187',\n",
       " '3194',\n",
       " '32',\n",
       " '3201',\n",
       " '3202',\n",
       " '320706',\n",
       " '3209',\n",
       " '3211',\n",
       " '3215',\n",
       " '3217',\n",
       " '3226',\n",
       " '3227',\n",
       " '3228',\n",
       " '3230',\n",
       " '3234',\n",
       " '3245',\n",
       " '3247',\n",
       " '3249',\n",
       " '3250',\n",
       " '3262',\n",
       " '3266',\n",
       " '3270',\n",
       " '3271',\n",
       " '3274',\n",
       " '3277',\n",
       " '3278',\n",
       " '3286',\n",
       " '3288',\n",
       " '3291',\n",
       " '3297',\n",
       " '33',\n",
       " '3300',\n",
       " '3301',\n",
       " '3313',\n",
       " '3315',\n",
       " '3316',\n",
       " '3318',\n",
       " '3321',\n",
       " '3323',\n",
       " '3326',\n",
       " '3330',\n",
       " '3332',\n",
       " '3334',\n",
       " '3337',\n",
       " '3339',\n",
       " '3343',\n",
       " '3347',\n",
       " '3348',\n",
       " '3349',\n",
       " '3354',\n",
       " '3359',\n",
       " '3360',\n",
       " '3361',\n",
       " '3362',\n",
       " '3364',\n",
       " ...]"
      ]
     },
     "execution_count": 20,
     "metadata": {},
     "output_type": "execute_result"
    }
   ],
   "source": [
    "count_vectorizer.get_feature_names()"
   ]
  },
  {
   "cell_type": "markdown",
   "id": "7341020f",
   "metadata": {},
   "source": [
    "### Train-test split "
   ]
  },
  {
   "cell_type": "code",
   "execution_count": 21,
   "id": "458d5e2f",
   "metadata": {},
   "outputs": [
    {
     "name": "stdout",
     "output_type": "stream",
     "text": [
      "X_train.shape -  (24717, 6578)\n",
      "y_train.shape - (24717,)\n",
      "X_test.shape - (6180, 6578)\n",
      "y_test.shape - (6180,)\n"
     ]
    }
   ],
   "source": [
    "X_train, X_test, y_train, y_test = train_test_split(X, y, test_size = 0.2)\n",
    "print(\"X_train.shape - \",X_train.shape)\n",
    "print(\"y_train.shape -\", y_train.shape)\n",
    "print(\"X_test.shape -\", X_test.shape)\n",
    "print(\"y_test.shape -\", y_test.shape)"
   ]
  },
  {
   "cell_type": "code",
   "execution_count": 22,
   "id": "36394134",
   "metadata": {},
   "outputs": [
    {
     "data": {
      "text/plain": [
       "array([0, 0, 0, ..., 0, 0, 0], dtype=int64)"
      ]
     },
     "execution_count": 22,
     "metadata": {},
     "output_type": "execute_result"
    }
   ],
   "source": [
    "X_test[0]"
   ]
  },
  {
   "cell_type": "markdown",
   "id": "a5b2c55b",
   "metadata": {},
   "source": [
    "## LogisticRegression Classifier "
   ]
  },
  {
   "cell_type": "code",
   "execution_count": 23,
   "id": "a6a2b52b",
   "metadata": {},
   "outputs": [
    {
     "name": "stdout",
     "output_type": "stream",
     "text": [
      "Accuracy of Logistic Regression on test set : 0.941747572815534\n",
      "F1 Score of Logistic Regression on test set : 0.915014164305949\n"
     ]
    }
   ],
   "source": [
    "lr_clf = LogisticRegression() \n",
    "lr_clf.fit(X_train, y_train) # training\n",
    "y_pred = lr_clf.predict(X_test)\n",
    "print(f\"Accuracy of Logistic Regression on test set : {accuracy_score(y_pred, y_test)}\")\n",
    "print(f\"F1 Score of Logistic Regression on test set : {f1_score(y_pred, y_test)}\")"
   ]
  },
  {
   "cell_type": "markdown",
   "id": "5903b1c2",
   "metadata": {},
   "source": [
    "### Classification Report of Logistic Regression "
   ]
  },
  {
   "cell_type": "code",
   "execution_count": 24,
   "id": "ea80e0c0",
   "metadata": {},
   "outputs": [
    {
     "name": "stdout",
     "output_type": "stream",
     "text": [
      "              precision    recall  f1-score   support\n",
      "\n",
      "           0       0.92      0.99      0.96      3922\n",
      "           1       0.98      0.86      0.92      2258\n",
      "\n",
      "    accuracy                           0.94      6180\n",
      "   macro avg       0.95      0.92      0.94      6180\n",
      "weighted avg       0.94      0.94      0.94      6180\n",
      "\n"
     ]
    }
   ],
   "source": [
    "print(classification_report(y_test, y_pred))"
   ]
  },
  {
   "cell_type": "code",
   "execution_count": 25,
   "id": "c110d9d4",
   "metadata": {},
   "outputs": [
    {
     "data": {
      "image/png": "[encoded data removed]",
      "text/plain": [
       "<Figure size 640x480 with 2 Axes>"
      ]
     },
     "metadata": {},
     "output_type": "display_data"
    }
   ],
   "source": [
    "confmatrix = confusion_matrix(y_test, y_pred)\n",
    "cm = ConfusionMatrixDisplay(confmatrix, display_labels=[\"0\", \"1\"])\n",
    "cm.plot(cmap=\"YlGnBu_r\")\n",
    "plt.show()"
   ]
  },
  {
   "cell_type": "markdown",
   "id": "6c816b1b",
   "metadata": {},
   "source": [
    "### Saving the Logistic Regression model "
   ]
  },
  {
   "cell_type": "code",
   "execution_count": 26,
   "id": "977df86f",
   "metadata": {},
   "outputs": [
    {
     "data": {
      "text/plain": [
       "['C:\\\\Users\\\\Snehal Thakur\\\\PycharmProjects\\\\SQLInjectionML\\\\models\\\\lr_clf.pkl']"
      ]
     },
     "execution_count": 26,
     "metadata": {},
     "output_type": "execute_result"
    }
   ],
   "source": [
    "import joblib\n",
    "  \n",
    "  \n",
    "# Save the model as a pickle in a file\n",
    "joblib.dump(lr_clf, r'C:\\Users\\Snehal Thakur\\PycharmProjects\\SQLInjectionML\\models\\lr_clf.pkl')\n",
    "  \n",
    "# # Load the model from the file\n",
    "# lr_clf_from_joblib = joblib.load('/models/lr_clf.pkl')\n",
    "  \n",
    "# # Use the loaded model to make predictions\n",
    "# lr_clf_from_joblib.predict(X_test)"
   ]
  },
  {
   "cell_type": "markdown",
   "id": "9ec7b935",
   "metadata": {},
   "source": [
    "## RandomForestClassifier "
   ]
  },
  {
   "cell_type": "code",
   "execution_count": 27,
   "id": "d850a810",
   "metadata": {},
   "outputs": [
    {
     "name": "stdout",
     "output_type": "stream",
     "text": [
      "Accuracy of Random Forest on test set : 0.9320388349514563\n",
      "F1 Score of Random Forest on test set : 0.9057027391109116\n"
     ]
    }
   ],
   "source": [
    "# create RandomForestClassifier model instance\n",
    "rf_clf = RandomForestClassifier()\n",
    "# fit RandomForestClassifier model\n",
    "rf_clf.fit(X_train, y_train)\n",
    "# make predictions\n",
    "y_pred = rf_clf.predict(X_test)\n",
    "print(f\"Accuracy of Random Forest on test set : {accuracy_score(y_pred, y_test)}\")\n",
    "print(f\"F1 Score of Random Forest on test set : {f1_score(y_pred, y_test)}\")"
   ]
  },
  {
   "cell_type": "markdown",
   "id": "ee21a016",
   "metadata": {},
   "source": [
    "### Classification Report of RandomForestClassifier"
   ]
  },
  {
   "cell_type": "code",
   "execution_count": 28,
   "id": "988b15f5",
   "metadata": {},
   "outputs": [
    {
     "name": "stdout",
     "output_type": "stream",
     "text": [
      "              precision    recall  f1-score   support\n",
      "\n",
      "           0       0.94      0.95      0.95      3922\n",
      "           1       0.92      0.89      0.91      2258\n",
      "\n",
      "    accuracy                           0.93      6180\n",
      "   macro avg       0.93      0.92      0.93      6180\n",
      "weighted avg       0.93      0.93      0.93      6180\n",
      "\n"
     ]
    }
   ],
   "source": [
    "print(classification_report(y_test, y_pred))"
   ]
  },
  {
   "cell_type": "markdown",
   "id": "fbc30a4b",
   "metadata": {},
   "source": [
    "### Confusion  matrix of RandomForest Classifier"
   ]
  },
  {
   "cell_type": "code",
   "execution_count": 29,
   "id": "95cbad1e",
   "metadata": {},
   "outputs": [
    {
     "data": {
      "image/png": "[encoded data removed]",
      "text/plain": [
       "<Figure size 640x480 with 2 Axes>"
      ]
     },
     "metadata": {},
     "output_type": "display_data"
    }
   ],
   "source": [
    "confmatrix = confusion_matrix(y_test, y_pred)\n",
    "cm = ConfusionMatrixDisplay(confmatrix, display_labels=[\"0\", \"1\"])\n",
    "cm.plot(cmap=\"YlGnBu_r\")\n",
    "plt.show()"
   ]
  },
  {
   "cell_type": "markdown",
   "id": "ec7b2d65",
   "metadata": {},
   "source": [
    "### Saving the Random Forest Model "
   ]
  },
  {
   "cell_type": "code",
   "execution_count": 30,
   "id": "78a3c046",
   "metadata": {},
   "outputs": [
    {
     "data": {
      "text/plain": [
       "['C:\\\\Users\\\\Snehal Thakur\\\\PycharmProjects\\\\SQLInjectionML\\\\models\\\\rf_clf.pkl']"
      ]
     },
     "execution_count": 30,
     "metadata": {},
     "output_type": "execute_result"
    }
   ],
   "source": [
    "import joblib\n",
    "  \n",
    "  \n",
    "# Save the model as a pickle in a file\n",
    "joblib.dump(rf_clf, r'C:\\Users\\Snehal Thakur\\PycharmProjects\\SQLInjectionML\\models\\rf_clf.pkl')\n",
    "  \n",
    "# # Load the model from the file\n",
    "# rf_clf_from_joblib = joblib.load('/models/rf_clf.pkl')\n",
    "  \n",
    "# # Use the loaded model to make predictions\n",
    "# rf_clf_from_joblib.predict(X_test)"
   ]
  },
  {
   "cell_type": "markdown",
   "id": "a20210d7",
   "metadata": {},
   "source": [
    "## XGBoost Classifier "
   ]
  },
  {
   "cell_type": "code",
   "execution_count": 31,
   "id": "2c6e98cf",
   "metadata": {},
   "outputs": [
    {
     "name": "stdout",
     "output_type": "stream",
     "text": [
      "Accuracy of XGBClassifier on test set : 0.8493527508090615\n",
      "F1 Score of XGBClassifier on test set : 0.7507362784471219\n"
     ]
    }
   ],
   "source": [
    "# create XGBoost model instance\n",
    "xgb_clf = XGBClassifier(n_estimators=50, max_depth=5, learning_rate=0.01, alpha = 10,objective='binary:logistic')\n",
    "# fit XGBoost model\n",
    "xgb_clf.fit(X, y)\n",
    "# make predictions\n",
    "y_pred = xgb_clf.predict(X_test)\n",
    "print(f\"Accuracy of XGBClassifier on test set : {accuracy_score(y_pred, y_test)}\")\n",
    "print(f\"F1 Score of XGBClassifier on test set : {f1_score(y_pred, y_test)}\")"
   ]
  },
  {
   "cell_type": "markdown",
   "id": "c1f5d886",
   "metadata": {},
   "source": [
    "### Classification Report of XGBoost Classifier"
   ]
  },
  {
   "cell_type": "code",
   "execution_count": 32,
   "id": "a1a090ed",
   "metadata": {},
   "outputs": [
    {
     "name": "stdout",
     "output_type": "stream",
     "text": [
      "              precision    recall  f1-score   support\n",
      "\n",
      "           0       0.82      0.98      0.89      3922\n",
      "           1       0.95      0.62      0.75      2258\n",
      "\n",
      "    accuracy                           0.85      6180\n",
      "   macro avg       0.88      0.80      0.82      6180\n",
      "weighted avg       0.87      0.85      0.84      6180\n",
      "\n"
     ]
    }
   ],
   "source": [
    "print(classification_report(y_test, y_pred))"
   ]
  },
  {
   "cell_type": "markdown",
   "id": "4b3d07ba",
   "metadata": {},
   "source": [
    "### Confusion Matrix of XGBoost Classifier"
   ]
  },
  {
   "cell_type": "code",
   "execution_count": 33,
   "id": "df415df1",
   "metadata": {},
   "outputs": [
    {
     "data": {
      "image/png": "[encoded data removed]",
      "text/plain": [
       "<Figure size 640x480 with 2 Axes>"
      ]
     },
     "metadata": {},
     "output_type": "display_data"
    }
   ],
   "source": [
    "confmatrix = confusion_matrix(y_test, y_pred)\n",
    "cm = ConfusionMatrixDisplay(confmatrix, display_labels=[\"0\", \"1\"])\n",
    "cm.plot(cmap=\"YlGnBu_r\")\n",
    "plt.show()"
   ]
  },
  {
   "cell_type": "markdown",
   "id": "f84ecfe3",
   "metadata": {},
   "source": [
    "### Saving the XGBoost Model "
   ]
  },
  {
   "cell_type": "code",
   "execution_count": 34,
   "id": "519b3b0f",
   "metadata": {},
   "outputs": [
    {
     "data": {
      "text/plain": [
       "['C:\\\\Users\\\\Snehal Thakur\\\\PycharmProjects\\\\SQLInjectionML\\\\models\\\\xgb_clf.pkl']"
      ]
     },
     "execution_count": 34,
     "metadata": {},
     "output_type": "execute_result"
    }
   ],
   "source": [
    "import joblib\n",
    "  \n",
    "  \n",
    "# Save the model as a pickle in a file\n",
    "joblib.dump(xgb_clf, r'C:\\Users\\Snehal Thakur\\PycharmProjects\\SQLInjectionML\\models\\xgb_clf.pkl')\n",
    "  \n",
    "# # Load the model from the file\n",
    "# xgb_clf_from_joblib = joblib.load('/models/xgb_clf.pkl')\n",
    "  \n",
    "# # Use the loaded model to make predictions\n",
    "# xgb_clf_from_joblib.predict(X_test)"
   ]
  },
  {
   "cell_type": "markdown",
   "id": "b2ab9104",
   "metadata": {},
   "source": [
    "## ExtraTreesClassifier "
   ]
  },
  {
   "cell_type": "code",
   "execution_count": 35,
   "id": "ba0166b9",
   "metadata": {},
   "outputs": [
    {
     "name": "stdout",
     "output_type": "stream",
     "text": [
      "Accuracy of ExtraTreesClassifier on test set : 0.9867313915857605\n",
      "F1 Score of ExtraTreesClassifier on test set : 0.9816061013907582\n"
     ]
    }
   ],
   "source": [
    "# create ExtraTreesClassifier model instance\n",
    "xtree_clf = ExtraTreesClassifier(n_estimators=100, random_state=0)\n",
    "# fit ExtraTreesClassifier model\n",
    "xtree_clf.fit(X, y)\n",
    "# make predictions\n",
    "y_pred = xtree_clf.predict(X_test)\n",
    "print(f\"Accuracy of ExtraTreesClassifier on test set : {accuracy_score(y_pred, y_test)}\")\n",
    "print(f\"F1 Score of ExtraTreesClassifier on test set : {f1_score(y_pred, y_test)}\")"
   ]
  },
  {
   "cell_type": "markdown",
   "id": "cfa60e98",
   "metadata": {},
   "source": [
    "### Classification Report of ExtraTreesClassifier"
   ]
  },
  {
   "cell_type": "code",
   "execution_count": 36,
   "id": "6376df5c",
   "metadata": {},
   "outputs": [
    {
     "name": "stdout",
     "output_type": "stream",
     "text": [
      "              precision    recall  f1-score   support\n",
      "\n",
      "           0       0.98      1.00      0.99      3922\n",
      "           1       0.99      0.97      0.98      2258\n",
      "\n",
      "    accuracy                           0.99      6180\n",
      "   macro avg       0.99      0.98      0.99      6180\n",
      "weighted avg       0.99      0.99      0.99      6180\n",
      "\n"
     ]
    }
   ],
   "source": [
    "print(classification_report(y_test, y_pred))"
   ]
  },
  {
   "cell_type": "markdown",
   "id": "8e450dd4",
   "metadata": {},
   "source": [
    "### Confusion Matrix of ExtraTreesClassifier"
   ]
  },
  {
   "cell_type": "code",
   "execution_count": 37,
   "id": "190e7859",
   "metadata": {},
   "outputs": [
    {
     "data": {
      "image/png": "[encoded data removed]",
      "text/plain": [
       "<Figure size 640x480 with 2 Axes>"
      ]
     },
     "metadata": {},
     "output_type": "display_data"
    }
   ],
   "source": [
    "confmatrix = confusion_matrix(y_test, y_pred)\n",
    "cm = ConfusionMatrixDisplay(confmatrix, display_labels=[\"0\", \"1\"])\n",
    "cm.plot(cmap=\"YlGnBu_r\")\n",
    "plt.show()"
   ]
  },
  {
   "cell_type": "markdown",
   "id": "c6ff10ab",
   "metadata": {},
   "source": [
    "### Saving the Extratree classifier model "
   ]
  },
  {
   "cell_type": "code",
   "execution_count": 38,
   "id": "4c3220d2",
   "metadata": {},
   "outputs": [
    {
     "data": {
      "text/plain": [
       "['C:\\\\Users\\\\Snehal Thakur\\\\PycharmProjects\\\\SQLInjectionML\\\\models\\\\xtree_clf.pkl']"
      ]
     },
     "execution_count": 38,
     "metadata": {},
     "output_type": "execute_result"
    }
   ],
   "source": [
    "import joblib\n",
    "  \n",
    "  \n",
    "# Save the model as a pickle in a file (Use your model dir path)\n",
    "joblib.dump(xtree_clf, r'C:\\Users\\Snehal Thakur\\PycharmProjects\\SQLInjectionML\\models\\xtree_clf.pkl')\n",
    "  \n",
    "# # Load the model from the file\n",
    "# xtree_clf_from_joblib = joblib.load('/models/xtree_clf.pkl')\n",
    "  \n",
    "# # Use the loaded model to make predictions\n",
    "# xtree_clf_from_joblib.predict(X_test)"
   ]
  },
  {
   "cell_type": "markdown",
   "id": "da644b49",
   "metadata": {},
   "source": [
    "# Approach 2. TF-IDF Vectorizer"
   ]
  },
  {
   "cell_type": "markdown",
   "id": "0fea958c",
   "metadata": {},
   "source": [
    "## TfidfVectorizer - Convert a collection of raw documents to a matrix of TF-IDF features. "
   ]
  },
  {
   "cell_type": "code",
   "execution_count": 39,
   "id": "3c32b833",
   "metadata": {},
   "outputs": [
    {
     "data": {
      "text/plain": [
       "array([[0., 0., 0., ..., 0., 0., 0.],\n",
       "       [0., 0., 0., ..., 0., 0., 0.],\n",
       "       [0., 0., 0., ..., 0., 0., 0.],\n",
       "       ...,\n",
       "       [0., 0., 0., ..., 0., 0., 0.],\n",
       "       [0., 0., 0., ..., 0., 0., 0.],\n",
       "       [0., 0., 0., ..., 0., 0., 0.]])"
      ]
     },
     "execution_count": 39,
     "metadata": {},
     "output_type": "execute_result"
    }
   ],
   "source": [
    "# TfidfVectorizer - Convert a collection of raw documents to a matrix of TF-IDF features.# \n",
    "\n",
    "X = df['Sentence']\n",
    "y = df['Label']\n",
    "\n",
    "tfidf_vectorizer = TfidfVectorizer()\n",
    "X_tfidf = tfidf_vectorizer.fit_transform(X.values.astype('U')).toarray()\n",
    "X_tfidf"
   ]
  },
  {
   "cell_type": "code",
   "execution_count": 40,
   "id": "6a76a834",
   "metadata": {},
   "outputs": [
    {
     "name": "stderr",
     "output_type": "stream",
     "text": [
      "C:\\Users\\Public\\DataScience\\envs\\sqlinjection\\lib\\site-packages\\sklearn\\utils\\deprecation.py:87: FutureWarning: Function get_feature_names is deprecated; get_feature_names is deprecated in 1.0 and will be removed in 1.2. Please use get_feature_names_out instead.\n",
      "  warnings.warn(msg, category=FutureWarning)\n"
     ]
    },
    {
     "data": {
      "text/plain": [
       "['00',\n",
       " '000001',\n",
       " '000003',\n",
       " '000004',\n",
       " '000023',\n",
       " '000045',\n",
       " '00033926r',\n",
       " '00041731d',\n",
       " '00207473j',\n",
       " '00505336a',\n",
       " '00699529f',\n",
       " '00783778f',\n",
       " '007tv',\n",
       " '00903443a',\n",
       " '00916150z',\n",
       " '01',\n",
       " '01062744y',\n",
       " '01449063v',\n",
       " '015',\n",
       " '01632755p',\n",
       " '01633578a',\n",
       " '017',\n",
       " '0199e',\n",
       " '02',\n",
       " '02048n3ad1',\n",
       " '02054707w',\n",
       " '02056001p',\n",
       " '02124892z',\n",
       " '02314635f',\n",
       " '02612e',\n",
       " '02624260y',\n",
       " '02650843r',\n",
       " '02877417w',\n",
       " '02879028a',\n",
       " '02906029w',\n",
       " '02_01',\n",
       " '02ap36o5473',\n",
       " '03',\n",
       " '03046730n',\n",
       " '03206041w',\n",
       " '03287e',\n",
       " '03291016s',\n",
       " '03307827j',\n",
       " '03331390r',\n",
       " '03344221k',\n",
       " '03482859s',\n",
       " '03621656f',\n",
       " '03770036z',\n",
       " '037r20n0do',\n",
       " '03996e',\n",
       " '03nte99era',\n",
       " '03t86i3',\n",
       " '041',\n",
       " '04146926a',\n",
       " '04422e',\n",
       " '04492457m',\n",
       " '04607227m',\n",
       " '04or2ativ1',\n",
       " '05',\n",
       " '05072293b',\n",
       " '0515e',\n",
       " '05636576n',\n",
       " '056cun95v08ac497',\n",
       " '05923e',\n",
       " '06',\n",
       " '06153e',\n",
       " '06226784v',\n",
       " '06314426y',\n",
       " '06327548h',\n",
       " '06363808f',\n",
       " '06434691g',\n",
       " '06673981w',\n",
       " '06918701w',\n",
       " '07',\n",
       " '07077546d',\n",
       " '07194416q',\n",
       " '07375030b',\n",
       " '07383536f',\n",
       " '07441681p',\n",
       " '07485924e',\n",
       " '07559284n',\n",
       " '07608453f',\n",
       " '07819871d',\n",
       " '07947301l',\n",
       " '07951538r',\n",
       " '07u8e37ia',\n",
       " '08',\n",
       " '08109487d',\n",
       " '0841e',\n",
       " '08466616v',\n",
       " '08490721h',\n",
       " '08686877f',\n",
       " '08enmand15a',\n",
       " '08zaril0o',\n",
       " '09',\n",
       " '09069193v',\n",
       " '09301966f',\n",
       " '09352334m',\n",
       " '09718670c',\n",
       " '09831514a',\n",
       " '09899393d',\n",
       " '0a0t4d2r',\n",
       " '0a1q45tu9rt8',\n",
       " '0a3ramplar',\n",
       " '0aia2oyla5nt1ckw3',\n",
       " '0al5a4',\n",
       " '0e06u8s17',\n",
       " '0ehusa2',\n",
       " '0esino1o',\n",
       " '0g83ma7ora',\n",
       " '0i26or7os9',\n",
       " '0m24gu1l39',\n",
       " '0n9ped7',\n",
       " '0nsu2iso',\n",
       " '0ntrecerrar',\n",
       " '0o380ado6',\n",
       " '0om7rera',\n",
       " '0orru6t5',\n",
       " '0px',\n",
       " '0qi5exwmdn30ulwjftbmc',\n",
       " '0r90di89r',\n",
       " '0utaperc09',\n",
       " '0x28',\n",
       " '0x2e',\n",
       " '0x4b774c75',\n",
       " '0x4c4d6142',\n",
       " '0x52515a50',\n",
       " '0x544d5a4c',\n",
       " '0x5c',\n",
       " '0x64',\n",
       " '0x65',\n",
       " '0x694a4745',\n",
       " '0x6b637544',\n",
       " '0x6d457153',\n",
       " '0x70',\n",
       " '0x714e4153',\n",
       " '0x7171706a71',\n",
       " '0x717a767a71',\n",
       " '0x72',\n",
       " '0x72747341',\n",
       " '0x730065006c00650063',\n",
       " '0x730065006c0065006300740020004000400076006500',\n",
       " '0x730065006c00650063007400200040004000760065007200730069006f006e00',\n",
       " '0x73656c',\n",
       " '0x73656c6',\n",
       " '0x73656c65637420404076657273696f6e',\n",
       " '0x74',\n",
       " '0x76555642',\n",
       " '0x770061',\n",
       " '0x770061006900740066006f0072002000640065006c00',\n",
       " '0x770061006900740066006f0072002000640065006c00610079002000270030003a0030003a',\n",
       " '0x770061006900740066006f0072002000640065006c00610079002000270030003a0030003a0031003000270000',\n",
       " '0x77616974',\n",
       " '0x77616974666f722064656c61792027303a303a313027',\n",
       " '0x77616974666f722064656c61792027303a303a31302700',\n",
       " '0x78',\n",
       " '10',\n",
       " '100',\n",
       " '1000',\n",
       " '10000000',\n",
       " '1001',\n",
       " '1002',\n",
       " '1002170000000000',\n",
       " '1004',\n",
       " '1005',\n",
       " '1006',\n",
       " '1007',\n",
       " '1008',\n",
       " '100mbps',\n",
       " '101',\n",
       " '1011',\n",
       " '10110',\n",
       " '1013',\n",
       " '1014',\n",
       " '1015',\n",
       " '10155328t',\n",
       " '10161',\n",
       " '1017',\n",
       " '1018',\n",
       " '10182',\n",
       " '102',\n",
       " '1020',\n",
       " '10200',\n",
       " '1021',\n",
       " '1022',\n",
       " '1024',\n",
       " '1025490000000000',\n",
       " '1026',\n",
       " '1026060000000000',\n",
       " '10262643c',\n",
       " '10263',\n",
       " '1027',\n",
       " '103',\n",
       " '1030',\n",
       " '10300',\n",
       " '10302390t',\n",
       " '1031',\n",
       " '1032',\n",
       " '10328',\n",
       " '1033',\n",
       " '10332',\n",
       " '1034',\n",
       " '1036',\n",
       " '1037',\n",
       " '1038',\n",
       " '10380',\n",
       " '1039',\n",
       " '104',\n",
       " '1040',\n",
       " '1041',\n",
       " '10410049l',\n",
       " '1042',\n",
       " '1043',\n",
       " '1044',\n",
       " '1045',\n",
       " '10459',\n",
       " '1047',\n",
       " '1048',\n",
       " '1049',\n",
       " '105',\n",
       " '1050',\n",
       " '1051',\n",
       " '1052',\n",
       " '1053',\n",
       " '1055',\n",
       " '10550',\n",
       " '1056',\n",
       " '10560589r',\n",
       " '1059',\n",
       " '106',\n",
       " '1060',\n",
       " '106099000000000',\n",
       " '1061',\n",
       " '1062',\n",
       " '1063',\n",
       " '1064',\n",
       " '1065',\n",
       " '10650',\n",
       " '10665',\n",
       " '106705000000000',\n",
       " '1069',\n",
       " '107',\n",
       " '10700',\n",
       " '10702',\n",
       " '1071',\n",
       " '1072',\n",
       " '1073',\n",
       " '1074',\n",
       " '1075440000000000',\n",
       " '1076',\n",
       " '1078',\n",
       " '1079',\n",
       " '108',\n",
       " '10817',\n",
       " '1082',\n",
       " '1083',\n",
       " '10836981w',\n",
       " '1084',\n",
       " '10842e',\n",
       " '1085',\n",
       " '10858',\n",
       " '1086',\n",
       " '1087',\n",
       " '1088',\n",
       " '109',\n",
       " '1090',\n",
       " '1091',\n",
       " '1092',\n",
       " '1093',\n",
       " '1095',\n",
       " '1096',\n",
       " '10960',\n",
       " '1097',\n",
       " '10970',\n",
       " '1098',\n",
       " '10a',\n",
       " '10b',\n",
       " '10d',\n",
       " '10e',\n",
       " '10f',\n",
       " '10h',\n",
       " '10px',\n",
       " '11',\n",
       " '110',\n",
       " '1100',\n",
       " '1102',\n",
       " '1103',\n",
       " '1104',\n",
       " '1105',\n",
       " '1106',\n",
       " '1107',\n",
       " '1108',\n",
       " '111',\n",
       " '11106027v',\n",
       " '1111',\n",
       " '1113',\n",
       " '11140',\n",
       " '1115',\n",
       " '1117',\n",
       " '11181e',\n",
       " '1119',\n",
       " '112',\n",
       " '1120',\n",
       " '11203636z',\n",
       " '1121',\n",
       " '1123',\n",
       " '1124',\n",
       " '1127',\n",
       " '1129',\n",
       " '113',\n",
       " '1130',\n",
       " '1131',\n",
       " '1132',\n",
       " '1133',\n",
       " '1133130000000000',\n",
       " '1134',\n",
       " '1136300000000000',\n",
       " '1137',\n",
       " '1138',\n",
       " '1139',\n",
       " '114',\n",
       " '1140',\n",
       " '11406',\n",
       " '1144',\n",
       " '11451',\n",
       " '1146',\n",
       " '1147',\n",
       " '1148',\n",
       " '1149',\n",
       " '115',\n",
       " '1150',\n",
       " '11507',\n",
       " '1151',\n",
       " '11510',\n",
       " '11514',\n",
       " '1152',\n",
       " '11524',\n",
       " '1153',\n",
       " '11539856c',\n",
       " '1155',\n",
       " '1157',\n",
       " '116',\n",
       " '1160000000000000',\n",
       " '1161',\n",
       " '11615910j',\n",
       " '1162',\n",
       " '1163',\n",
       " '11635',\n",
       " '1164',\n",
       " '11640',\n",
       " '1165',\n",
       " '1166',\n",
       " '1167',\n",
       " '1168',\n",
       " '11690',\n",
       " '117',\n",
       " '1170',\n",
       " '1171',\n",
       " '11710',\n",
       " '1172',\n",
       " '1173',\n",
       " '11738063j',\n",
       " '1174',\n",
       " '118',\n",
       " '11800455y',\n",
       " '1181',\n",
       " '1182',\n",
       " '1183',\n",
       " '1184',\n",
       " '1185',\n",
       " '1186',\n",
       " '1187',\n",
       " '1188',\n",
       " '1189',\n",
       " '119',\n",
       " '1190',\n",
       " '1190070000000000',\n",
       " '11901410z',\n",
       " '1192',\n",
       " '1193',\n",
       " '1194',\n",
       " '1196',\n",
       " '1197',\n",
       " '1199',\n",
       " '11ance3er',\n",
       " '11b',\n",
       " '11c',\n",
       " '11d',\n",
       " '11f',\n",
       " '11g',\n",
       " '11h',\n",
       " '11horas',\n",
       " '11ne5o',\n",
       " '12',\n",
       " '120',\n",
       " '1200',\n",
       " '12018831c',\n",
       " '1202',\n",
       " '1203',\n",
       " '1204',\n",
       " '1204530000000000',\n",
       " '1205',\n",
       " '1206130000000000',\n",
       " '12064316b',\n",
       " '120958000000000',\n",
       " '121',\n",
       " '1210',\n",
       " '1211',\n",
       " '1212',\n",
       " '1213',\n",
       " '1214',\n",
       " '1215880000000000',\n",
       " '1217',\n",
       " '1218',\n",
       " '12186635q',\n",
       " '1219',\n",
       " '12190',\n",
       " '122',\n",
       " '1220',\n",
       " '1222',\n",
       " '1223',\n",
       " '12230',\n",
       " '1224',\n",
       " '12244e',\n",
       " '1225',\n",
       " '1226',\n",
       " '1227',\n",
       " '1228',\n",
       " '1228690000000000',\n",
       " '1229',\n",
       " '123',\n",
       " '1230',\n",
       " '12306474w',\n",
       " '12311',\n",
       " '1232',\n",
       " '1233',\n",
       " '1234',\n",
       " '1235',\n",
       " '1236',\n",
       " '1237',\n",
       " '12370442f',\n",
       " '1238',\n",
       " '12389',\n",
       " '124',\n",
       " '1241',\n",
       " '12413',\n",
       " '1244',\n",
       " '1246',\n",
       " '12466',\n",
       " '1248',\n",
       " '12480',\n",
       " '12489',\n",
       " '1249',\n",
       " '125',\n",
       " '1252',\n",
       " '12527',\n",
       " '1254',\n",
       " '1255',\n",
       " '1256',\n",
       " '1257',\n",
       " '1258',\n",
       " '126',\n",
       " '1260',\n",
       " '1262',\n",
       " '1263',\n",
       " '1264',\n",
       " '1266',\n",
       " '1267',\n",
       " '1269',\n",
       " '1269520000000000',\n",
       " '127',\n",
       " '1270',\n",
       " '1272',\n",
       " '1274',\n",
       " '1275',\n",
       " '1276',\n",
       " '1277',\n",
       " '12785855v',\n",
       " '1279840000000000',\n",
       " '128',\n",
       " '1280',\n",
       " '1281',\n",
       " '1281450000000000',\n",
       " '1284',\n",
       " '1287',\n",
       " '1290000000000000',\n",
       " '1291',\n",
       " '1292',\n",
       " '1293',\n",
       " '1296',\n",
       " '1297',\n",
       " '1299',\n",
       " '12a',\n",
       " '12e',\n",
       " '12h',\n",
       " '13',\n",
       " '130',\n",
       " '1300',\n",
       " '1302',\n",
       " '13021468h',\n",
       " '1303',\n",
       " '1304',\n",
       " '1305',\n",
       " '1305900000000000',\n",
       " '1306',\n",
       " '13061311w',\n",
       " '13082383y',\n",
       " '131',\n",
       " '1310',\n",
       " '1313',\n",
       " '1314',\n",
       " '1316',\n",
       " '1317',\n",
       " '132',\n",
       " '1320',\n",
       " '1321',\n",
       " '1322',\n",
       " '1323',\n",
       " '1324',\n",
       " '1326',\n",
       " '1327',\n",
       " '13278',\n",
       " '1328',\n",
       " '1329',\n",
       " '133',\n",
       " '1330',\n",
       " '1332',\n",
       " '1333',\n",
       " '1335',\n",
       " '1336',\n",
       " '1337',\n",
       " '1338',\n",
       " '1339',\n",
       " '134',\n",
       " '1340',\n",
       " '1342',\n",
       " '13420',\n",
       " '13421536r',\n",
       " '1343',\n",
       " '1343800000000000',\n",
       " '1344',\n",
       " '13440',\n",
       " '1345',\n",
       " '1346880000000000',\n",
       " '1347',\n",
       " '1349',\n",
       " '135',\n",
       " '1350450000000000',\n",
       " '13506',\n",
       " '1351',\n",
       " '1353',\n",
       " '1354',\n",
       " '1356890000000000',\n",
       " '1357',\n",
       " '1359',\n",
       " '136',\n",
       " '1361',\n",
       " '13610',\n",
       " '1363',\n",
       " '13630',\n",
       " '1364',\n",
       " '13641',\n",
       " '1366',\n",
       " '1367',\n",
       " '1368',\n",
       " '1369',\n",
       " '137',\n",
       " '1370',\n",
       " '1371',\n",
       " '1372',\n",
       " '1375',\n",
       " '13750',\n",
       " '1376',\n",
       " '1378',\n",
       " '13791863m',\n",
       " '138',\n",
       " '1380',\n",
       " '1380670000000000',\n",
       " '1384',\n",
       " '13841e',\n",
       " '1385',\n",
       " '1386',\n",
       " '1389',\n",
       " '139',\n",
       " '1390',\n",
       " '1392',\n",
       " '1393',\n",
       " '1396',\n",
       " '13e',\n",
       " '13f',\n",
       " '13g0e7at42a',\n",
       " '13horas',\n",
       " '14',\n",
       " '140',\n",
       " '1400',\n",
       " '1401',\n",
       " '1402',\n",
       " '1407',\n",
       " '1408',\n",
       " '141',\n",
       " '1410',\n",
       " '14100',\n",
       " '14113',\n",
       " '1412',\n",
       " '1413',\n",
       " '1414',\n",
       " '14140',\n",
       " '1415',\n",
       " '1416',\n",
       " '1418',\n",
       " '14188360m',\n",
       " '142',\n",
       " '1420',\n",
       " '1421',\n",
       " '1422',\n",
       " '14230',\n",
       " '1423190000000000',\n",
       " '1424',\n",
       " '1425',\n",
       " '1426',\n",
       " '1427',\n",
       " '1428',\n",
       " '143',\n",
       " '1430',\n",
       " '1431',\n",
       " '1432',\n",
       " '1433',\n",
       " '1434',\n",
       " '1435',\n",
       " '1436',\n",
       " '1437',\n",
       " '1438',\n",
       " '1439',\n",
       " '14399392n',\n",
       " '144',\n",
       " '1440',\n",
       " '1440000000000000',\n",
       " '1441',\n",
       " '1442',\n",
       " '1443',\n",
       " '1445',\n",
       " '1447',\n",
       " '1448',\n",
       " '14480',\n",
       " '145',\n",
       " '1450',\n",
       " '1451',\n",
       " '1452',\n",
       " '1454',\n",
       " '1458',\n",
       " '1459',\n",
       " '14594',\n",
       " '146',\n",
       " '14602519a',\n",
       " '1461',\n",
       " '1462',\n",
       " '14638777j',\n",
       " '1464',\n",
       " '1467',\n",
       " '1468',\n",
       " '147',\n",
       " '1470',\n",
       " '1471',\n",
       " '14724400f',\n",
       " '1473',\n",
       " '1475',\n",
       " '1476',\n",
       " '1477',\n",
       " '1478',\n",
       " '1479',\n",
       " '148',\n",
       " '1481',\n",
       " '1482',\n",
       " '1483',\n",
       " '1485',\n",
       " '14860',\n",
       " '1487',\n",
       " '1488',\n",
       " '1489',\n",
       " '149',\n",
       " '1490',\n",
       " '1491',\n",
       " '1492',\n",
       " '1494',\n",
       " '1496',\n",
       " '14970',\n",
       " '14973109v',\n",
       " '14977979b',\n",
       " '1499',\n",
       " '1499600000000000',\n",
       " '14horas',\n",
       " '14li6l4',\n",
       " '15',\n",
       " '150',\n",
       " '15008',\n",
       " '1501',\n",
       " '1502',\n",
       " '1503',\n",
       " '1503380000000000',\n",
       " '1504',\n",
       " '151',\n",
       " '1510',\n",
       " '15107',\n",
       " '1512',\n",
       " '15124',\n",
       " '1513',\n",
       " '1514',\n",
       " '15142',\n",
       " '1515',\n",
       " '1519',\n",
       " '15198367j',\n",
       " '152',\n",
       " '15202e',\n",
       " '1521',\n",
       " '1523490000000000',\n",
       " '1524940000000000',\n",
       " '1525',\n",
       " '1526',\n",
       " '1527',\n",
       " '153',\n",
       " '1530',\n",
       " '15317',\n",
       " '15318',\n",
       " '1532',\n",
       " '1533',\n",
       " '1534',\n",
       " '1534180000000000',\n",
       " '1535',\n",
       " '1536',\n",
       " '15365381r',\n",
       " '1537',\n",
       " '1539',\n",
       " '154',\n",
       " '1541',\n",
       " '15423399j',\n",
       " '1543',\n",
       " '1545',\n",
       " '1546',\n",
       " '1547',\n",
       " '1549',\n",
       " '15495714q',\n",
       " '155',\n",
       " '1550',\n",
       " '1553',\n",
       " '1554',\n",
       " '15553',\n",
       " '1557',\n",
       " '1558',\n",
       " '1559',\n",
       " '156',\n",
       " '1563',\n",
       " '1564',\n",
       " '1565',\n",
       " '156766000000000',\n",
       " '1568',\n",
       " '157',\n",
       " '1570',\n",
       " '1571430000000000',\n",
       " '1572',\n",
       " '1573',\n",
       " '1574',\n",
       " '1576',\n",
       " '1577',\n",
       " '1578',\n",
       " '1579',\n",
       " '158',\n",
       " '1580',\n",
       " '15807509t',\n",
       " '1581',\n",
       " '1581120000000000',\n",
       " '15819331t',\n",
       " '15821726a',\n",
       " '1583',\n",
       " '1585',\n",
       " '1587',\n",
       " '15873',\n",
       " '1588',\n",
       " '1589',\n",
       " '1591',\n",
       " '15911',\n",
       " '1592',\n",
       " '1593',\n",
       " '1594',\n",
       " '1595',\n",
       " '15953',\n",
       " '1596',\n",
       " '1597',\n",
       " '1598',\n",
       " '15990',\n",
       " '15994230f',\n",
       " '15lo956i1o',\n",
       " '16',\n",
       " '160',\n",
       " '1600',\n",
       " '1601',\n",
       " '1602',\n",
       " '1603',\n",
       " '1604',\n",
       " '1605',\n",
       " '1606',\n",
       " '1607',\n",
       " '1608',\n",
       " '1609',\n",
       " '161',\n",
       " '1610',\n",
       " '16118',\n",
       " '1612',\n",
       " '16124624z',\n",
       " '1613',\n",
       " '1614',\n",
       " '16154',\n",
       " '1616',\n",
       " '1616370000000000',\n",
       " '16169e',\n",
       " '1617',\n",
       " '1618',\n",
       " '1619',\n",
       " '162',\n",
       " '1620',\n",
       " '1621',\n",
       " '1622',\n",
       " '1623',\n",
       " '16233e',\n",
       " '1624',\n",
       " '1625',\n",
       " '1626',\n",
       " '1627',\n",
       " '1628',\n",
       " '1629',\n",
       " '163',\n",
       " '1630',\n",
       " '16300',\n",
       " '1630907689',\n",
       " '1631',\n",
       " '1632',\n",
       " '1634',\n",
       " '16340',\n",
       " '1635',\n",
       " '1636',\n",
       " '1637',\n",
       " '16370',\n",
       " '1638',\n",
       " '1639',\n",
       " '164',\n",
       " '1640',\n",
       " '1641',\n",
       " '16417',\n",
       " '1642',\n",
       " '1643',\n",
       " '16435',\n",
       " '1644',\n",
       " '1645',\n",
       " '16452',\n",
       " '1646',\n",
       " '1647',\n",
       " '1648',\n",
       " '165',\n",
       " '1650',\n",
       " '1650000000000000',\n",
       " '1651',\n",
       " '1652',\n",
       " '1653',\n",
       " '1656',\n",
       " '16574331w',\n",
       " '1658',\n",
       " '16582',\n",
       " '166',\n",
       " '16601924h',\n",
       " '1661',\n",
       " '16610',\n",
       " '1662',\n",
       " '1663',\n",
       " '16630',\n",
       " '1664',\n",
       " '16646',\n",
       " '1665',\n",
       " '16650765f',\n",
       " '1666',\n",
       " '1668',\n",
       " '167',\n",
       " '1670',\n",
       " '1670000000000000',\n",
       " '16707',\n",
       " '16727733v',\n",
       " '1673',\n",
       " '16741',\n",
       " '1675',\n",
       " '1676',\n",
       " '1677',\n",
       " '1678',\n",
       " '1679',\n",
       " '168',\n",
       " '1680',\n",
       " '16802646l',\n",
       " '16806738v',\n",
       " '1681',\n",
       " '16813',\n",
       " '16824275m',\n",
       " '1683',\n",
       " '1684',\n",
       " '1685',\n",
       " '16856',\n",
       " '1686',\n",
       " '1687',\n",
       " '1688',\n",
       " '1689',\n",
       " '169',\n",
       " '1690',\n",
       " '1691',\n",
       " '1692',\n",
       " '16926',\n",
       " '1693',\n",
       " '1693720000000000',\n",
       " '1696',\n",
       " '16966742x',\n",
       " '1697',\n",
       " '1698',\n",
       " '1699',\n",
       " '16c64si30',\n",
       " '17',\n",
       " '170',\n",
       " '1700',\n",
       " '17005940q',\n",
       " '1702',\n",
       " '1703',\n",
       " '1704',\n",
       " '1705',\n",
       " '1707',\n",
       " '1709',\n",
       " '171',\n",
       " '1710',\n",
       " '1711',\n",
       " '1712',\n",
       " '17120',\n",
       " '1713',\n",
       " '17130',\n",
       " '1714',\n",
       " '1714560000000000',\n",
       " '17151',\n",
       " '17154',\n",
       " '1717',\n",
       " '17179',\n",
       " '1718',\n",
       " '1719',\n",
       " '172',\n",
       " '1720',\n",
       " '1720000000000000',\n",
       " '1721',\n",
       " '1722',\n",
       " '1723',\n",
       " '1724',\n",
       " '17240',\n",
       " '1725',\n",
       " '1726',\n",
       " '1728',\n",
       " '1729',\n",
       " '173',\n",
       " '1730',\n",
       " '1734',\n",
       " '17344e',\n",
       " '1736',\n",
       " '1737',\n",
       " '1738',\n",
       " '174',\n",
       " '1740',\n",
       " '17403',\n",
       " '1741',\n",
       " '1743',\n",
       " '1744',\n",
       " '1745',\n",
       " '1746',\n",
       " '17463',\n",
       " '1748',\n",
       " '17488',\n",
       " '17489',\n",
       " '17493',\n",
       " '175',\n",
       " '1750',\n",
       " '1752',\n",
       " '1753',\n",
       " '17536',\n",
       " '1754',\n",
       " '1755',\n",
       " '1756',\n",
       " '1757',\n",
       " '1758',\n",
       " '1759',\n",
       " '17590r',\n",
       " '176',\n",
       " '1760',\n",
       " '17621392b',\n",
       " '1763',\n",
       " '1764',\n",
       " '1764760000000000',\n",
       " '1765',\n",
       " '1766',\n",
       " '1767',\n",
       " '1769',\n",
       " '1769640000000000',\n",
       " '177',\n",
       " ...]"
      ]
     },
     "execution_count": 40,
     "metadata": {},
     "output_type": "execute_result"
    }
   ],
   "source": [
    "# feature names\n",
    "tfidf_vectorizer.get_feature_names()"
   ]
  },
  {
   "cell_type": "markdown",
   "id": "a58aec95",
   "metadata": {},
   "source": [
    "### Train Test Split "
   ]
  },
  {
   "cell_type": "code",
   "execution_count": 41,
   "id": "940c63f6",
   "metadata": {},
   "outputs": [
    {
     "name": "stdout",
     "output_type": "stream",
     "text": [
      "X_train_tfidf.shape= (24717, 24736)\n",
      "y_train_tfidf.shape= (24717,)\n",
      "X_test_tfidf.shape= (6180, 24736)\n",
      "y_test_tfidf.shape= (6180,)\n"
     ]
    }
   ],
   "source": [
    "X_train_tfidf, X_test_tfidf, y_train_tfidf, y_test_tfidf = train_test_split(X_tfidf, y, test_size = 0.2)\n",
    "print(\"X_train_tfidf.shape=\", X_train_tfidf.shape)\n",
    "print(\"y_train_tfidf.shape=\", y_train_tfidf.shape)\n",
    "print(\"X_test_tfidf.shape=\", X_test_tfidf.shape)\n",
    "print(\"y_test_tfidf.shape=\", y_test_tfidf.shape)"
   ]
  },
  {
   "cell_type": "markdown",
   "id": "ab3f34e0",
   "metadata": {},
   "source": [
    "## Logistic Regression "
   ]
  },
  {
   "cell_type": "code",
   "execution_count": 42,
   "id": "fd623851",
   "metadata": {},
   "outputs": [
    {
     "name": "stdout",
     "output_type": "stream",
     "text": [
      "Accuracy of Logistic Regression on test set : 0.9454692556634304\n",
      "F1 Score of Logistic Regression on test set : 0.9215001164686699\n"
     ]
    }
   ],
   "source": [
    "lr_clf_tfidf = LogisticRegression()\n",
    "lr_clf_tfidf.fit(X_train_tfidf, y_train_tfidf)\n",
    "y_pred_tfidf = lr_clf_tfidf.predict(X_test_tfidf)\n",
    "print(f\"Accuracy of Logistic Regression on test set : {accuracy_score(y_pred_tfidf, y_test_tfidf)}\")\n",
    "print(f\"F1 Score of Logistic Regression on test set : {f1_score(y_pred_tfidf, y_test_tfidf)}\")"
   ]
  },
  {
   "cell_type": "markdown",
   "id": "fa11db96",
   "metadata": {},
   "source": [
    "###  Classification Report"
   ]
  },
  {
   "cell_type": "code",
   "execution_count": 43,
   "id": "2baadbd4",
   "metadata": {},
   "outputs": [
    {
     "name": "stdout",
     "output_type": "stream",
     "text": [
      "              precision    recall  f1-score   support\n",
      "\n",
      "           0       0.93      0.99      0.96      3911\n",
      "           1       0.98      0.87      0.92      2269\n",
      "\n",
      "    accuracy                           0.95      6180\n",
      "   macro avg       0.95      0.93      0.94      6180\n",
      "weighted avg       0.95      0.95      0.94      6180\n",
      "\n"
     ]
    }
   ],
   "source": [
    "print(classification_report(y_test_tfidf, y_pred_tfidf))"
   ]
  },
  {
   "cell_type": "markdown",
   "id": "222a536c",
   "metadata": {},
   "source": [
    "### Confusion Matrix "
   ]
  },
  {
   "cell_type": "code",
   "execution_count": 44,
   "id": "d32b2810",
   "metadata": {},
   "outputs": [
    {
     "data": {
      "image/png": "[encoded data removed]",
      "text/plain": [
       "<Figure size 640x480 with 2 Axes>"
      ]
     },
     "metadata": {},
     "output_type": "display_data"
    }
   ],
   "source": [
    "confmatrix = confusion_matrix(y_test_tfidf, y_pred_tfidf)\n",
    "cm = ConfusionMatrixDisplay(confmatrix, display_labels=[\"0\", \"1\"])\n",
    "cm.plot(cmap=\"YlGnBu_r\")\n",
    "plt.show()"
   ]
  },
  {
   "cell_type": "markdown",
   "id": "9fa0177a",
   "metadata": {},
   "source": [
    "##  Random Forest Classifier"
   ]
  },
  {
   "cell_type": "code",
   "execution_count": 45,
   "id": "ee220bc8",
   "metadata": {},
   "outputs": [
    {
     "name": "stdout",
     "output_type": "stream",
     "text": [
      "Accuracy of Random Forest on test set : 0.7938511326860841\n",
      "F1 Score of Random Forest on test set : 0.7804205446397793\n"
     ]
    }
   ],
   "source": [
    "# create RandomForestClassifier model instance\n",
    "rf_clf_tfidf = RandomForestClassifier()\n",
    "# fit RandomForestClassifier model\n",
    "rf_clf_tfidf.fit(X_train_tfidf, y_train_tfidf)\n",
    "# make predictions\n",
    "y_pred_tfidf = rf_clf_tfidf.predict(X_test_tfidf)\n",
    "print(f\"Accuracy of Random Forest on test set : {accuracy_score(y_pred_tfidf, y_test_tfidf)}\")\n",
    "print(f\"F1 Score of Random Forest on test set : {f1_score(y_pred_tfidf, y_test_tfidf)}\")"
   ]
  },
  {
   "cell_type": "markdown",
   "id": "b0ffd112",
   "metadata": {},
   "source": [
    "### Classification Report "
   ]
  },
  {
   "cell_type": "code",
   "execution_count": 46,
   "id": "53079640",
   "metadata": {},
   "outputs": [
    {
     "name": "stdout",
     "output_type": "stream",
     "text": [
      "              precision    recall  f1-score   support\n",
      "\n",
      "           0       1.00      0.68      0.81      3911\n",
      "           1       0.64      1.00      0.78      2269\n",
      "\n",
      "    accuracy                           0.79      6180\n",
      "   macro avg       0.82      0.84      0.79      6180\n",
      "weighted avg       0.87      0.79      0.80      6180\n",
      "\n"
     ]
    }
   ],
   "source": [
    "print(classification_report(y_test_tfidf, y_pred_tfidf))"
   ]
  },
  {
   "cell_type": "markdown",
   "id": "bf949b77",
   "metadata": {},
   "source": [
    "### Confusion Matrix "
   ]
  },
  {
   "cell_type": "code",
   "execution_count": 47,
   "id": "659b544c",
   "metadata": {},
   "outputs": [
    {
     "data": {
      "image/png": "[encoded data removed]",
      "text/plain": [
       "<Figure size 640x480 with 2 Axes>"
      ]
     },
     "metadata": {},
     "output_type": "display_data"
    }
   ],
   "source": [
    "confmatrix = confusion_matrix(y_test_tfidf, y_pred_tfidf)\n",
    "cm = ConfusionMatrixDisplay(confmatrix, display_labels=[\"0\", \"1\"])\n",
    "cm.plot(cmap=\"YlGnBu_r\")\n",
    "plt.show()"
   ]
  },
  {
   "cell_type": "markdown",
   "id": "b2afa5b2",
   "metadata": {},
   "source": [
    "## XGBoost Classifier "
   ]
  },
  {
   "cell_type": "code",
   "execution_count": 48,
   "id": "32875c86",
   "metadata": {},
   "outputs": [
    {
     "name": "stdout",
     "output_type": "stream",
     "text": [
      "Accuracy of XGBClassifier on test set : 0.976051779935275\n",
      "F1 Score of XGBClassifier on test set : 0.9664246823956443\n"
     ]
    }
   ],
   "source": [
    "# create XGBoost model instance\n",
    "xgb_clf_tfidf = XGBClassifier(n_estimators=50, max_depth=5, learning_rate=0.01, alpha = 10,objective='binary:logistic')\n",
    "# fit XGBoost model\n",
    "xgb_clf_tfidf.fit(X_train_tfidf, y_train_tfidf)\n",
    "# make predictions\n",
    "y_pred_tfidf = xgb_clf_tfidf.predict(X_test_tfidf)\n",
    "print(f\"Accuracy of XGBClassifier on test set : {accuracy_score(y_pred_tfidf, y_test_tfidf)}\")\n",
    "print(f\"F1 Score of XGBClassifier on test set : {f1_score(y_pred_tfidf, y_test_tfidf)}\")"
   ]
  },
  {
   "cell_type": "markdown",
   "id": "cf9f041f",
   "metadata": {},
   "source": [
    "### Classification Report "
   ]
  },
  {
   "cell_type": "code",
   "execution_count": 49,
   "id": "2da9e410",
   "metadata": {},
   "outputs": [
    {
     "name": "stdout",
     "output_type": "stream",
     "text": [
      "              precision    recall  f1-score   support\n",
      "\n",
      "           0       0.97      1.00      0.98      3911\n",
      "           1       1.00      0.94      0.97      2269\n",
      "\n",
      "    accuracy                           0.98      6180\n",
      "   macro avg       0.98      0.97      0.97      6180\n",
      "weighted avg       0.98      0.98      0.98      6180\n",
      "\n"
     ]
    }
   ],
   "source": [
    "print(classification_report(y_test_tfidf, y_pred_tfidf))"
   ]
  },
  {
   "cell_type": "markdown",
   "id": "753439bf",
   "metadata": {},
   "source": [
    "### Confusion Matrix "
   ]
  },
  {
   "cell_type": "code",
   "execution_count": 50,
   "id": "2e0cd1ce",
   "metadata": {},
   "outputs": [
    {
     "data": {
      "image/png": "[encoded data removed]",
      "text/plain": [
       "<Figure size 640x480 with 2 Axes>"
      ]
     },
     "metadata": {},
     "output_type": "display_data"
    }
   ],
   "source": [
    "confmatrix = confusion_matrix(y_test_tfidf, y_pred_tfidf)\n",
    "cm = ConfusionMatrixDisplay(confmatrix, display_labels=[\"0\", \"1\"])\n",
    "cm.plot(cmap=\"YlGnBu_r\")\n",
    "plt.show()"
   ]
  },
  {
   "cell_type": "markdown",
   "id": "5bf36394",
   "metadata": {},
   "source": [
    "## Extratree Classifier "
   ]
  },
  {
   "cell_type": "code",
   "execution_count": 51,
   "id": "15925a7c",
   "metadata": {},
   "outputs": [
    {
     "name": "stdout",
     "output_type": "stream",
     "text": [
      "Accuracy of ExtraTreesClassifier on test set : 0.801294498381877\n",
      "F1 Score of ExtraTreesClassifier on test set : 0.7865090403337969\n"
     ]
    }
   ],
   "source": [
    "# create ExtraTreesClassifier model instance\n",
    "xtree_clf_tfidf = ExtraTreesClassifier(n_estimators=100, random_state=0)\n",
    "# fit ExtraTreesClassifier model\n",
    "xtree_clf_tfidf.fit(X_train_tfidf, y_train_tfidf)\n",
    "# make predictions\n",
    "y_pred_tfidf = xtree_clf_tfidf.predict(X_test_tfidf)\n",
    "print(f\"Accuracy of ExtraTreesClassifier on test set : {accuracy_score(y_pred_tfidf, y_test_tfidf)}\")\n",
    "print(f\"F1 Score of ExtraTreesClassifier on test set : {f1_score(y_pred_tfidf, y_test_tfidf)}\")"
   ]
  },
  {
   "cell_type": "markdown",
   "id": "56821209",
   "metadata": {},
   "source": [
    "### Classification Report "
   ]
  },
  {
   "cell_type": "code",
   "execution_count": 52,
   "id": "b33603ef",
   "metadata": {},
   "outputs": [
    {
     "name": "stdout",
     "output_type": "stream",
     "text": [
      "              precision    recall  f1-score   support\n",
      "\n",
      "           0       1.00      0.69      0.81      3911\n",
      "           1       0.65      1.00      0.79      2269\n",
      "\n",
      "    accuracy                           0.80      6180\n",
      "   macro avg       0.82      0.84      0.80      6180\n",
      "weighted avg       0.87      0.80      0.80      6180\n",
      "\n"
     ]
    }
   ],
   "source": [
    "print(classification_report(y_test_tfidf, y_pred_tfidf))"
   ]
  },
  {
   "cell_type": "markdown",
   "id": "d49b6052",
   "metadata": {},
   "source": [
    "### Confusion Matrix "
   ]
  },
  {
   "cell_type": "code",
   "execution_count": 53,
   "id": "97a6e843",
   "metadata": {},
   "outputs": [
    {
     "data": {
      "image/png": "[encoded data removed]",
      "text/plain": [
       "<Figure size 640x480 with 2 Axes>"
      ]
     },
     "metadata": {},
     "output_type": "display_data"
    }
   ],
   "source": [
    "confmatrix = confusion_matrix(y_test_tfidf, y_pred_tfidf)\n",
    "cm = ConfusionMatrixDisplay(confmatrix, display_labels=[\"0\", \"1\"])\n",
    "cm.plot(cmap=\"YlGnBu_r\")\n",
    "plt.show()"
   ]
  },
  {
   "cell_type": "markdown",
   "id": "0b8d5127",
   "metadata": {},
   "source": [
    "### Saving the Extratree model "
   ]
  },
  {
   "cell_type": "code",
   "execution_count": 58,
   "id": "acaf95bf",
   "metadata": {},
   "outputs": [
    {
     "data": {
      "text/plain": [
       "['C:\\\\Users\\\\Snehal Thakur\\\\PycharmProjects\\\\SQLInjectionML\\\\models\\\\xtree_clf_tfidf.pkl']"
      ]
     },
     "execution_count": 58,
     "metadata": {},
     "output_type": "execute_result"
    }
   ],
   "source": [
    "import joblib\n",
    "  \n",
    "  \n",
    "# Save the model as a pickle in a file\n",
    "joblib.dump(xtree_clf_tfidf, r'C:\\Users\\Snehal Thakur\\PycharmProjects\\SQLInjectionML\\models\\xtree_clf_tfidf.pkl')\n",
    "  \n",
    "# # Load the model from the file\n",
    "# xtree_clf_from_joblib = joblib.load('/models/xtree_clf.pkl')\n",
    "  \n",
    "# # Use the loaded model to make predictions\n",
    "# xtree_clf_from_joblib.predict(X_test)"
   ]
  },
  {
   "cell_type": "markdown",
   "id": "d912fd81",
   "metadata": {},
   "source": [
    "### Testing of Extratree Classifier model on unknown data"
   ]
  },
  {
   "cell_type": "code",
   "execution_count": 55,
   "id": "271a9ed5",
   "metadata": {},
   "outputs": [
    {
     "name": "stdout",
     "output_type": "stream",
     "text": [
      " Enter your text for prediction SELECT TOP 3 * FROM race\n"
     ]
    }
   ],
   "source": [
    "text=input(\" Enter your text for prediction \")"
   ]
  },
  {
   "cell_type": "code",
   "execution_count": 59,
   "id": "8081a387",
   "metadata": {},
   "outputs": [
    {
     "name": "stdout",
     "output_type": "stream",
     "text": [
      "It seems to be safe input\n"
     ]
    }
   ],
   "source": [
    "# print('Vectorized Input:')\n",
    "v0 = tfidf_vectorizer.transform([text]).toarray()\n",
    "# print(v0)\n",
    "pred = xtree_clf_tfidf.predict(v0)\n",
    "#print(\"Predicted Output = \",pred)\n",
    "if pred[0]==0:\n",
    "    print(\"It seems to be safe input\")\n",
    "else:\n",
    "    print(\"ALERT :::: This can be SQL injection\")"
   ]
  },
  {
   "cell_type": "markdown",
   "id": "bc7fcf10",
   "metadata": {},
   "source": [
    "### Inverse transform "
   ]
  },
  {
   "cell_type": "code",
   "execution_count": 60,
   "id": "28a65640",
   "metadata": {},
   "outputs": [
    {
     "name": "stdout",
     "output_type": "stream",
     "text": [
      "To the source:\n",
      "[array(['from', 'race', 'select', 'top'], dtype='<U170')]\n"
     ]
    }
   ],
   "source": [
    "print('To the source:')\n",
    "print(tfidf_vectorizer.inverse_transform(v0))"
   ]
  },
  {
   "cell_type": "code",
   "execution_count": null,
   "id": "7acab34a",
   "metadata": {},
   "outputs": [],
   "source": []
  },
  {
   "cell_type": "code",
   "execution_count": null,
   "id": "189c0f09",
   "metadata": {},
   "outputs": [],
   "source": []
  }
 ],
 "metadata": {
  "kernelspec": {
   "display_name": "Python 3 (ipykernel)",
   "language": "python",
   "name": "python3"
  },
  "language_info": {
   "codemirror_mode": {
    "name": "ipython",
    "version": 3
   },
   "file_extension": ".py",
   "mimetype": "text/x-python",
   "name": "python",
   "nbconvert_exporter": "python",
   "pygments_lexer": "ipython3",
   "version": "3.8.0"
  }
 },
 "nbformat": 4,
 "nbformat_minor": 5
}
