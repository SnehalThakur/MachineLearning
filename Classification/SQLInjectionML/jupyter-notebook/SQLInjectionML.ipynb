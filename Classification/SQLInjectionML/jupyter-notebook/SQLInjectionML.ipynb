{
 "cells": [
  {
   "cell_type": "markdown",
   "id": "ed697856",
   "metadata": {},
   "source": [
    "# SQL Injection Detection using Machine Learning"
   ]
  },
  {
   "cell_type": "code",
   "execution_count": 1,
   "id": "4d3ee147",
   "metadata": {},
   "outputs": [
    {
     "name": "stdout",
     "output_type": "stream",
     "text": [
      "Requirement already satisfied: seaborn in c:\\users\\snehal thakur\\appdata\\local\\programs\\python\\python38\\lib\\site-packages (0.12.1)\n",
      "Requirement already satisfied: numpy>=1.17 in c:\\users\\snehal thakur\\appdata\\local\\programs\\python\\python38\\lib\\site-packages (from seaborn) (1.19.2)\n",
      "Requirement already satisfied: pandas>=0.25 in c:\\users\\snehal thakur\\appdata\\local\\programs\\python\\python38\\lib\\site-packages (from seaborn) (1.4.3)\n",
      "Requirement already satisfied: matplotlib!=3.6.1,>=3.1 in c:\\users\\snehal thakur\\appdata\\local\\programs\\python\\python38\\lib\\site-packages (from seaborn) (3.2.2)\n",
      "Requirement already satisfied: pyparsing!=2.0.4,!=2.1.2,!=2.1.6,>=2.0.1 in c:\\users\\snehal thakur\\appdata\\local\\programs\\python\\python38\\lib\\site-packages (from matplotlib!=3.6.1,>=3.1->seaborn) (3.0.9)\n",
      "Requirement already satisfied: python-dateutil>=2.1 in c:\\users\\snehal thakur\\appdata\\local\\programs\\python\\python38\\lib\\site-packages (from matplotlib!=3.6.1,>=3.1->seaborn) (2.8.2)\n",
      "Requirement already satisfied: cycler>=0.10 in c:\\users\\snehal thakur\\appdata\\local\\programs\\python\\python38\\lib\\site-packages (from matplotlib!=3.6.1,>=3.1->seaborn) (0.11.0)\n",
      "Requirement already satisfied: kiwisolver>=1.0.1 in c:\\users\\snehal thakur\\appdata\\local\\programs\\python\\python38\\lib\\site-packages (from matplotlib!=3.6.1,>=3.1->seaborn) (1.4.3)\n",
      "Requirement already satisfied: pytz>=2020.1 in c:\\users\\snehal thakur\\appdata\\local\\programs\\python\\python38\\lib\\site-packages (from pandas>=0.25->seaborn) (2021.3)\n",
      "Requirement already satisfied: six>=1.5 in c:\\users\\snehal thakur\\appdata\\local\\programs\\python\\python38\\lib\\site-packages (from python-dateutil>=2.1->matplotlib!=3.6.1,>=3.1->seaborn) (1.15.0)\n",
      "Note: you may need to restart the kernel to use updated packages.\n"
     ]
    },
    {
     "name": "stderr",
     "output_type": "stream",
     "text": [
      "\n",
      "[notice] A new release of pip available: 22.3 -> 22.3.1\n",
      "[notice] To update, run: C:\\Users\\Snehal Thakur\\AppData\\Local\\Programs\\Python\\Python38\\python.exe -m pip install --upgrade pip\n"
     ]
    },
    {
     "name": "stdout",
     "output_type": "stream",
     "text": [
      "Requirement already satisfied: nltk in c:\\users\\snehal thakur\\appdata\\local\\programs\\python\\python38\\lib\\site-packages (3.5)\n",
      "Requirement already satisfied: click in c:\\users\\snehal thakur\\appdata\\local\\programs\\python\\python38\\lib\\site-packages (from nltk) (7.1.2)\n",
      "Requirement already satisfied: regex in c:\\users\\snehal thakur\\appdata\\local\\programs\\python\\python38\\lib\\site-packages (from nltk) (2020.9.27)\n",
      "Requirement already satisfied: joblib in c:\\users\\snehal thakur\\appdata\\local\\programs\\python\\python38\\lib\\site-packages (from nltk) (0.17.0)\n",
      "Requirement already satisfied: tqdm in c:\\users\\snehal thakur\\appdata\\local\\programs\\python\\python38\\lib\\site-packages (from nltk) (4.50.2)\n",
      "Note: you may need to restart the kernel to use updated packages.\n"
     ]
    },
    {
     "name": "stderr",
     "output_type": "stream",
     "text": [
      "\n",
      "[notice] A new release of pip available: 22.3 -> 22.3.1\n",
      "[notice] To update, run: C:\\Users\\Snehal Thakur\\AppData\\Local\\Programs\\Python\\Python38\\python.exe -m pip install --upgrade pip\n"
     ]
    },
    {
     "name": "stdout",
     "output_type": "stream",
     "text": [
      "Requirement already satisfied: xgboost in c:\\users\\snehal thakur\\appdata\\local\\programs\\python\\python38\\lib\\site-packages (1.7.1)\n",
      "Requirement already satisfied: scipy in c:\\users\\snehal thakur\\appdata\\local\\programs\\python\\python38\\lib\\site-packages (from xgboost) (1.5.2)\n",
      "Requirement already satisfied: numpy in c:\\users\\snehal thakur\\appdata\\local\\programs\\python\\python38\\lib\\site-packages (from xgboost) (1.19.2)\n",
      "Note: you may need to restart the kernel to use updated packages.\n"
     ]
    },
    {
     "name": "stderr",
     "output_type": "stream",
     "text": [
      "\n",
      "[notice] A new release of pip available: 22.3 -> 22.3.1\n",
      "[notice] To update, run: C:\\Users\\Snehal Thakur\\AppData\\Local\\Programs\\Python\\Python38\\python.exe -m pip install --upgrade pip\n"
     ]
    }
   ],
   "source": [
    "%pip install seaborn\n",
    "%pip install nltk\n",
    "%pip install xgboost"
   ]
  },
  {
   "cell_type": "code",
   "execution_count": 2,
   "id": "5efe320b",
   "metadata": {},
   "outputs": [],
   "source": [
    "# importing required libraries\n",
    "import numpy as np \n",
    "import pandas as pd \n",
    "import seaborn as sns\n",
    "import matplotlib.pyplot as plt\n",
    "from sklearn.feature_extraction.text import CountVectorizer, TfidfVectorizer\n",
    "from sklearn.model_selection import train_test_split\n",
    "from nltk.corpus import stopwords\n",
    "from sklearn.metrics import accuracy_score, f1_score\n",
    "from sklearn.linear_model import LogisticRegression\n",
    "from sklearn.ensemble import RandomForestClassifier\n",
    "from sklearn.ensemble import ExtraTreesClassifier\n",
    "from xgboost import XGBClassifier\n",
    "from sklearn.svm import SVC\n",
    "from sklearn.naive_bayes import GaussianNB\n",
    "from sklearn.metrics import classification_report\n",
    "from sklearn.metrics import ConfusionMatrixDisplay, confusion_matrix"
   ]
  },
  {
   "cell_type": "markdown",
   "id": "dbd0a612",
   "metadata": {},
   "source": [
    "## Reading sql data file "
   ]
  },
  {
   "cell_type": "code",
   "execution_count": 3,
   "id": "ca9bc54e",
   "metadata": {},
   "outputs": [
    {
     "data": {
      "text/html": [
       "<div>\n",
       "<style scoped>\n",
       "    .dataframe tbody tr th:only-of-type {\n",
       "        vertical-align: middle;\n",
       "    }\n",
       "\n",
       "    .dataframe tbody tr th {\n",
       "        vertical-align: top;\n",
       "    }\n",
       "\n",
       "    .dataframe thead th {\n",
       "        text-align: right;\n",
       "    }\n",
       "</style>\n",
       "<table border=\"1\" class=\"dataframe\">\n",
       "  <thead>\n",
       "    <tr style=\"text-align: right;\">\n",
       "      <th></th>\n",
       "      <th>Sentence</th>\n",
       "      <th>Label</th>\n",
       "    </tr>\n",
       "  </thead>\n",
       "  <tbody>\n",
       "    <tr>\n",
       "      <th>0</th>\n",
       "      <td>a</td>\n",
       "      <td>1</td>\n",
       "    </tr>\n",
       "    <tr>\n",
       "      <th>1</th>\n",
       "      <td>a'</td>\n",
       "      <td>1</td>\n",
       "    </tr>\n",
       "    <tr>\n",
       "      <th>2</th>\n",
       "      <td>a' --</td>\n",
       "      <td>1</td>\n",
       "    </tr>\n",
       "    <tr>\n",
       "      <th>3</th>\n",
       "      <td>a' or 1 = 1; --</td>\n",
       "      <td>1</td>\n",
       "    </tr>\n",
       "    <tr>\n",
       "      <th>4</th>\n",
       "      <td>@</td>\n",
       "      <td>1</td>\n",
       "    </tr>\n",
       "    <tr>\n",
       "      <th>5</th>\n",
       "      <td>?</td>\n",
       "      <td>1</td>\n",
       "    </tr>\n",
       "    <tr>\n",
       "      <th>6</th>\n",
       "      <td>' and 1 = 0 )  union all</td>\n",
       "      <td>1</td>\n",
       "    </tr>\n",
       "    <tr>\n",
       "      <th>7</th>\n",
       "      <td>? or 1 = 1 --</td>\n",
       "      <td>1</td>\n",
       "    </tr>\n",
       "    <tr>\n",
       "      <th>8</th>\n",
       "      <td>x' and userid is NULL; --</td>\n",
       "      <td>1</td>\n",
       "    </tr>\n",
       "    <tr>\n",
       "      <th>9</th>\n",
       "      <td>x' and email is NULL; --</td>\n",
       "      <td>1</td>\n",
       "    </tr>\n",
       "  </tbody>\n",
       "</table>\n",
       "</div>"
      ],
      "text/plain": [
       "                    Sentence  Label\n",
       "0                          a      1\n",
       "1                        a'       1\n",
       "2                      a' --      1\n",
       "3            a' or 1 = 1; --      1\n",
       "4                          @      1\n",
       "5                          ?      1\n",
       "6   ' and 1 = 0 )  union all      1\n",
       "7              ? or 1 = 1 --      1\n",
       "8  x' and userid is NULL; --      1\n",
       "9   x' and email is NULL; --      1"
      ]
     },
     "execution_count": 3,
     "metadata": {},
     "output_type": "execute_result"
    }
   ],
   "source": [
    "df = pd.read_csv(r'C:\\Users\\Snehal Thakur\\PycharmProjects\\SQLInjectionML\\dataset\\sqlCleaned.csv', encoding = 'utf-16') # Read the dataset.\n",
    "df.head(10)"
   ]
  },
  {
   "cell_type": "markdown",
   "id": "69e6a30d",
   "metadata": {},
   "source": [
    "## Shape of Dataframe"
   ]
  },
  {
   "cell_type": "code",
   "execution_count": 4,
   "id": "7a8cd4c0",
   "metadata": {},
   "outputs": [
    {
     "data": {
      "text/plain": [
       "(4200, 2)"
      ]
     },
     "execution_count": 4,
     "metadata": {},
     "output_type": "execute_result"
    }
   ],
   "source": [
    "df.shape"
   ]
  },
  {
   "cell_type": "markdown",
   "id": "f564688b",
   "metadata": {},
   "source": [
    "## Dataframe column information "
   ]
  },
  {
   "cell_type": "code",
   "execution_count": 5,
   "id": "3cb7639f",
   "metadata": {},
   "outputs": [
    {
     "name": "stdout",
     "output_type": "stream",
     "text": [
      "<class 'pandas.core.frame.DataFrame'>\n",
      "RangeIndex: 4200 entries, 0 to 4199\n",
      "Data columns (total 2 columns):\n",
      " #   Column    Non-Null Count  Dtype \n",
      "---  ------    --------------  ----- \n",
      " 0   Sentence  4187 non-null   object\n",
      " 1   Label     4200 non-null   int64 \n",
      "dtypes: int64(1), object(1)\n",
      "memory usage: 65.8+ KB\n"
     ]
    }
   ],
   "source": [
    "df.info()"
   ]
  },
  {
   "cell_type": "markdown",
   "id": "dad3b006",
   "metadata": {},
   "source": [
    "## Describe Dataframe "
   ]
  },
  {
   "cell_type": "code",
   "execution_count": 6,
   "id": "ca048a40",
   "metadata": {},
   "outputs": [
    {
     "data": {
      "text/html": [
       "<div>\n",
       "<style scoped>\n",
       "    .dataframe tbody tr th:only-of-type {\n",
       "        vertical-align: middle;\n",
       "    }\n",
       "\n",
       "    .dataframe tbody tr th {\n",
       "        vertical-align: top;\n",
       "    }\n",
       "\n",
       "    .dataframe thead th {\n",
       "        text-align: right;\n",
       "    }\n",
       "</style>\n",
       "<table border=\"1\" class=\"dataframe\">\n",
       "  <thead>\n",
       "    <tr style=\"text-align: right;\">\n",
       "      <th></th>\n",
       "      <th>Sentence</th>\n",
       "      <th>Label</th>\n",
       "    </tr>\n",
       "  </thead>\n",
       "  <tbody>\n",
       "    <tr>\n",
       "      <th>count</th>\n",
       "      <td>4187</td>\n",
       "      <td>4200.000000</td>\n",
       "    </tr>\n",
       "    <tr>\n",
       "      <th>unique</th>\n",
       "      <td>3950</td>\n",
       "      <td>NaN</td>\n",
       "    </tr>\n",
       "    <tr>\n",
       "      <th>top</th>\n",
       "      <td>S</td>\n",
       "      <td>NaN</td>\n",
       "    </tr>\n",
       "    <tr>\n",
       "      <th>freq</th>\n",
       "      <td>29</td>\n",
       "      <td>NaN</td>\n",
       "    </tr>\n",
       "    <tr>\n",
       "      <th>mean</th>\n",
       "      <td>NaN</td>\n",
       "      <td>0.268571</td>\n",
       "    </tr>\n",
       "    <tr>\n",
       "      <th>std</th>\n",
       "      <td>NaN</td>\n",
       "      <td>0.443269</td>\n",
       "    </tr>\n",
       "    <tr>\n",
       "      <th>min</th>\n",
       "      <td>NaN</td>\n",
       "      <td>0.000000</td>\n",
       "    </tr>\n",
       "    <tr>\n",
       "      <th>25%</th>\n",
       "      <td>NaN</td>\n",
       "      <td>0.000000</td>\n",
       "    </tr>\n",
       "    <tr>\n",
       "      <th>50%</th>\n",
       "      <td>NaN</td>\n",
       "      <td>0.000000</td>\n",
       "    </tr>\n",
       "    <tr>\n",
       "      <th>75%</th>\n",
       "      <td>NaN</td>\n",
       "      <td>1.000000</td>\n",
       "    </tr>\n",
       "    <tr>\n",
       "      <th>max</th>\n",
       "      <td>NaN</td>\n",
       "      <td>1.000000</td>\n",
       "    </tr>\n",
       "  </tbody>\n",
       "</table>\n",
       "</div>"
      ],
      "text/plain": [
       "       Sentence        Label\n",
       "count      4187  4200.000000\n",
       "unique     3950          NaN\n",
       "top           S          NaN\n",
       "freq         29          NaN\n",
       "mean        NaN     0.268571\n",
       "std         NaN     0.443269\n",
       "min         NaN     0.000000\n",
       "25%         NaN     0.000000\n",
       "50%         NaN     0.000000\n",
       "75%         NaN     1.000000\n",
       "max         NaN     1.000000"
      ]
     },
     "execution_count": 6,
     "metadata": {},
     "output_type": "execute_result"
    }
   ],
   "source": [
    "df.describe(include=\"all\")"
   ]
  },
  {
   "cell_type": "markdown",
   "id": "7a3b0f93",
   "metadata": {},
   "source": [
    "## Describe Label column "
   ]
  },
  {
   "cell_type": "code",
   "execution_count": 7,
   "id": "756d1923",
   "metadata": {},
   "outputs": [
    {
     "data": {
      "text/plain": [
       "count    4200.000000\n",
       "mean        0.268571\n",
       "std         0.443269\n",
       "min         0.000000\n",
       "25%         0.000000\n",
       "50%         0.000000\n",
       "75%         1.000000\n",
       "max         1.000000\n",
       "Name: Label, dtype: float64"
      ]
     },
     "execution_count": 7,
     "metadata": {},
     "output_type": "execute_result"
    }
   ],
   "source": [
    "df['Label'].describe()"
   ]
  },
  {
   "cell_type": "markdown",
   "id": "bdf1a30f",
   "metadata": {},
   "source": [
    "## Check null values "
   ]
  },
  {
   "cell_type": "code",
   "execution_count": 8,
   "id": "dd8799ee",
   "metadata": {},
   "outputs": [
    {
     "data": {
      "text/plain": [
       "Sentence    13\n",
       "Label        0\n",
       "dtype: int64"
      ]
     },
     "execution_count": 8,
     "metadata": {},
     "output_type": "execute_result"
    }
   ],
   "source": [
    "df.isna().sum()"
   ]
  },
  {
   "cell_type": "markdown",
   "id": "1084a054",
   "metadata": {},
   "source": [
    "## Drop null values "
   ]
  },
  {
   "cell_type": "code",
   "execution_count": 9,
   "id": "0438f46f",
   "metadata": {},
   "outputs": [],
   "source": [
    "df.dropna(inplace=True)"
   ]
  },
  {
   "cell_type": "markdown",
   "id": "423cbc68",
   "metadata": {},
   "source": [
    "## Check null values after dropping null values "
   ]
  },
  {
   "cell_type": "code",
   "execution_count": 10,
   "id": "331b992b",
   "metadata": {},
   "outputs": [
    {
     "data": {
      "text/plain": [
       "Sentence    0\n",
       "Label       0\n",
       "dtype: int64"
      ]
     },
     "execution_count": 10,
     "metadata": {},
     "output_type": "execute_result"
    }
   ],
   "source": [
    "df.isna().sum()"
   ]
  },
  {
   "cell_type": "markdown",
   "id": "3b79de5d",
   "metadata": {},
   "source": [
    "##  Count values where Label is 1 "
   ]
  },
  {
   "cell_type": "code",
   "execution_count": 11,
   "id": "adcd876e",
   "metadata": {},
   "outputs": [
    {
     "data": {
      "text/plain": [
       "Sentence    1127\n",
       "Label       1127\n",
       "dtype: int64"
      ]
     },
     "execution_count": 11,
     "metadata": {},
     "output_type": "execute_result"
    }
   ],
   "source": [
    "df[df['Label'] == 1].count() # Count how much label are 1."
   ]
  },
  {
   "cell_type": "markdown",
   "id": "430c4c28",
   "metadata": {},
   "source": [
    "##  Count values where Label is 0"
   ]
  },
  {
   "cell_type": "code",
   "execution_count": 12,
   "id": "cb1f6a29",
   "metadata": {},
   "outputs": [
    {
     "data": {
      "text/plain": [
       "Sentence    3060\n",
       "Label       3060\n",
       "dtype: int64"
      ]
     },
     "execution_count": 12,
     "metadata": {},
     "output_type": "execute_result"
    }
   ],
   "source": [
    "df[df['Label'] == 0].count() # Count how much label are 0."
   ]
  },
  {
   "cell_type": "markdown",
   "id": "a38e1f2e",
   "metadata": {},
   "source": [
    "## Label value counts"
   ]
  },
  {
   "cell_type": "code",
   "execution_count": 13,
   "id": "44f9418d",
   "metadata": {},
   "outputs": [
    {
     "data": {
      "text/plain": [
       "0    3060\n",
       "1    1127\n",
       "Name: Label, dtype: int64"
      ]
     },
     "execution_count": 13,
     "metadata": {},
     "output_type": "execute_result"
    }
   ],
   "source": [
    "df['Label'].value_counts()"
   ]
  },
  {
   "cell_type": "markdown",
   "id": "bf2f682d",
   "metadata": {},
   "source": [
    "## Plot label counts "
   ]
  },
  {
   "cell_type": "code",
   "execution_count": 14,
   "id": "109365ce",
   "metadata": {},
   "outputs": [
    {
     "data": {
      "image/png": "[encoded data removed]",
      "text/plain": [
       "<Figure size 1200x400 with 2 Axes>"
      ]
     },
     "metadata": {},
     "output_type": "display_data"
    }
   ],
   "source": [
    "f,ax=plt.subplots(1,2,figsize=(12,4))\n",
    "df['Label'].value_counts().plot.pie(explode=[0,0.1],autopct='%1.1f%%',ax=ax[0],shadow=True)\n",
    "\n",
    "\n",
    "ax[0].set_title('Label')\n",
    "ax[0].set_ylabel('')\n",
    "sns.countplot(x=df[\"Label\"],ax=ax[1])\n",
    "ax[1].set_title('Label')\n",
    "plt.show()"
   ]
  },
  {
   "cell_type": "markdown",
   "id": "1cae4070",
   "metadata": {},
   "source": [
    "# Approach 1. Count Vectorizer"
   ]
  },
  {
   "cell_type": "markdown",
   "id": "7d414be0",
   "metadata": {},
   "source": [
    "##  CountVectorizer - Convert a collection of text documents to a matrix of token counts"
   ]
  },
  {
   "cell_type": "code",
   "execution_count": 15,
   "id": "aea0b561",
   "metadata": {},
   "outputs": [
    {
     "data": {
      "text/plain": [
       "array([[0, 0, 0, ..., 0, 0, 0],\n",
       "       [0, 0, 0, ..., 0, 0, 0],\n",
       "       [0, 0, 0, ..., 0, 0, 0],\n",
       "       ...,\n",
       "       [0, 0, 0, ..., 0, 0, 0],\n",
       "       [0, 0, 0, ..., 0, 0, 0],\n",
       "       [0, 0, 1, ..., 0, 0, 0]], dtype=int64)"
      ]
     },
     "execution_count": 15,
     "metadata": {},
     "output_type": "execute_result"
    }
   ],
   "source": [
    "X = df['Sentence']\n",
    "y = df['Label']\n",
    "# CountVectorizer - Convert a collection of text documents to a matrix of token counts\n",
    "count_vectorizer = CountVectorizer(min_df = 2, max_df = 0.8, stop_words = stopwords.words('english'))\n",
    "X = count_vectorizer.fit_transform(X.values.astype('U')).toarray()\n",
    "X"
   ]
  },
  {
   "cell_type": "code",
   "execution_count": 16,
   "id": "91a1a361",
   "metadata": {},
   "outputs": [
    {
     "data": {
      "text/plain": [
       "['00',\n",
       " '000',\n",
       " '01',\n",
       " '04',\n",
       " '0x730065006c00650063007400200040004000760065007200730069006f006e00',\n",
       " '0x73656c65637420404076657273696f6e',\n",
       " '0x77616974666f722064656c61792027303a303a31302700',\n",
       " '10',\n",
       " '100',\n",
       " '10000000',\n",
       " '100aklima',\n",
       " '101',\n",
       " '106',\n",
       " '108',\n",
       " '11',\n",
       " '110',\n",
       " '112',\n",
       " '115',\n",
       " '116',\n",
       " '12',\n",
       " '120',\n",
       " '1234',\n",
       " '125',\n",
       " '129',\n",
       " '13',\n",
       " '14',\n",
       " '15',\n",
       " '150',\n",
       " '16',\n",
       " '17',\n",
       " '172',\n",
       " '18',\n",
       " '19',\n",
       " '1966',\n",
       " '1970s',\n",
       " '1992',\n",
       " '1997',\n",
       " '1_',\n",
       " '1a',\n",
       " '20',\n",
       " '200',\n",
       " '2000',\n",
       " '2001',\n",
       " '2002',\n",
       " '2003',\n",
       " '2004',\n",
       " '2005',\n",
       " '2006',\n",
       " '2007',\n",
       " '2008',\n",
       " '2009',\n",
       " '2010',\n",
       " '2011',\n",
       " '2012',\n",
       " '2013',\n",
       " '2014',\n",
       " '2015',\n",
       " '2017',\n",
       " '201704',\n",
       " '202',\n",
       " '2020',\n",
       " '203',\n",
       " '21',\n",
       " '214',\n",
       " '22',\n",
       " '220',\n",
       " '23',\n",
       " '24',\n",
       " '25',\n",
       " '250',\n",
       " '250th',\n",
       " '255',\n",
       " '26',\n",
       " '27',\n",
       " '28',\n",
       " '28mail',\n",
       " '28objectclass',\n",
       " '29',\n",
       " '2a',\n",
       " '2b',\n",
       " '30',\n",
       " '300',\n",
       " '31',\n",
       " '32',\n",
       " '325',\n",
       " '33',\n",
       " '330',\n",
       " '35',\n",
       " '36',\n",
       " '365',\n",
       " '37',\n",
       " '38',\n",
       " '39',\n",
       " '3d',\n",
       " '40',\n",
       " '4000',\n",
       " '4039',\n",
       " '40select',\n",
       " '41',\n",
       " '42',\n",
       " '44',\n",
       " '45',\n",
       " '457',\n",
       " '46',\n",
       " '47',\n",
       " '49',\n",
       " '50',\n",
       " '500',\n",
       " '50ft',\n",
       " '51',\n",
       " '52',\n",
       " '53',\n",
       " '59',\n",
       " '60',\n",
       " '600',\n",
       " '63',\n",
       " '67',\n",
       " '70',\n",
       " '700',\n",
       " '75',\n",
       " '7659',\n",
       " '777',\n",
       " '777x',\n",
       " '7c',\n",
       " '80',\n",
       " '800',\n",
       " '8000',\n",
       " '81dc9bdb52d04dc20036dbd8313ed055',\n",
       " '82',\n",
       " '83',\n",
       " '84',\n",
       " '88',\n",
       " '90',\n",
       " '900',\n",
       " '91',\n",
       " '93',\n",
       " '94',\n",
       " '945',\n",
       " '95',\n",
       " '96',\n",
       " '97',\n",
       " '99',\n",
       " '9th',\n",
       " '__time__',\n",
       " 'a350',\n",
       " 'aachen',\n",
       " 'aap',\n",
       " 'abbott',\n",
       " 'abc',\n",
       " 'abendmahlskirche',\n",
       " 'ability',\n",
       " 'able',\n",
       " 'abolition',\n",
       " 'abreast',\n",
       " 'abroad',\n",
       " 'absolute',\n",
       " 'absolutely',\n",
       " 'abuse',\n",
       " 'abused',\n",
       " 'accept',\n",
       " 'access',\n",
       " 'accessible',\n",
       " 'accident',\n",
       " 'accommodations',\n",
       " 'accompanied',\n",
       " 'accompany',\n",
       " 'according',\n",
       " 'account',\n",
       " 'accounts',\n",
       " 'accurate',\n",
       " 'accused',\n",
       " 'achieve',\n",
       " 'achieved',\n",
       " 'achim',\n",
       " 'acknowledged',\n",
       " 'acknowledges',\n",
       " 'acquire',\n",
       " 'across',\n",
       " 'act',\n",
       " 'acted',\n",
       " 'acting',\n",
       " 'action',\n",
       " 'actions',\n",
       " 'active',\n",
       " 'activist',\n",
       " 'activists',\n",
       " 'activities',\n",
       " 'activity',\n",
       " 'actor',\n",
       " 'acts',\n",
       " 'actual',\n",
       " 'actually',\n",
       " 'add',\n",
       " 'added',\n",
       " 'addiction',\n",
       " 'adding',\n",
       " 'addition',\n",
       " 'additional',\n",
       " 'address',\n",
       " 'addressed',\n",
       " 'addressing',\n",
       " 'adds',\n",
       " 'admin',\n",
       " 'administration',\n",
       " 'administrative',\n",
       " 'administrator',\n",
       " 'admission',\n",
       " 'admit',\n",
       " 'admitted',\n",
       " 'adopted',\n",
       " 'adult',\n",
       " 'adults',\n",
       " 'advance',\n",
       " 'advancing',\n",
       " 'advantage',\n",
       " 'adverbial',\n",
       " 'advertising',\n",
       " 'advice',\n",
       " 'advised',\n",
       " 'adviser',\n",
       " 'advisers',\n",
       " 'advises',\n",
       " 'advisory',\n",
       " 'advocates',\n",
       " 'aerospace',\n",
       " 'affair',\n",
       " 'affairs',\n",
       " 'affect',\n",
       " 'affectation',\n",
       " 'affected',\n",
       " 'afford',\n",
       " 'affordable',\n",
       " 'afghanistan',\n",
       " 'afraid',\n",
       " 'africa',\n",
       " 'african',\n",
       " 'afternoon',\n",
       " 'afterwards',\n",
       " 'age',\n",
       " 'agencies',\n",
       " 'agency',\n",
       " 'agent',\n",
       " 'agents',\n",
       " 'ages',\n",
       " 'aggressive',\n",
       " 'aging',\n",
       " 'ago',\n",
       " 'agree',\n",
       " 'agreed',\n",
       " 'agreement',\n",
       " 'agreements',\n",
       " 'ah',\n",
       " 'ahead',\n",
       " 'ailing',\n",
       " 'aims',\n",
       " 'air',\n",
       " 'airbus',\n",
       " 'aircraft',\n",
       " 'airline',\n",
       " 'airliners',\n",
       " 'airlines',\n",
       " 'airplane',\n",
       " 'airplanes',\n",
       " 'airport',\n",
       " 'airports',\n",
       " 'airshow',\n",
       " 'airways',\n",
       " 'al',\n",
       " 'alb',\n",
       " 'albert',\n",
       " 'alderson',\n",
       " 'alex',\n",
       " 'alexander',\n",
       " 'alexei',\n",
       " 'algorithms',\n",
       " 'alistair',\n",
       " 'all_tab_columns',\n",
       " 'all_tables',\n",
       " 'all_users',\n",
       " 'allegations',\n",
       " 'allergic',\n",
       " 'allergies',\n",
       " 'allies',\n",
       " 'allow',\n",
       " 'allowance',\n",
       " 'allowed',\n",
       " 'allowing',\n",
       " 'allows',\n",
       " 'almost',\n",
       " 'alone',\n",
       " 'along',\n",
       " 'alongside',\n",
       " 'already',\n",
       " 'also',\n",
       " 'alternative',\n",
       " 'alternatives',\n",
       " 'although',\n",
       " 'altitudes',\n",
       " 'always',\n",
       " 'amateur',\n",
       " 'amazing',\n",
       " 'ambiguous',\n",
       " 'ambitious',\n",
       " 'america',\n",
       " 'american',\n",
       " 'americans',\n",
       " 'amid',\n",
       " 'amirthalinga',\n",
       " 'among',\n",
       " 'amount',\n",
       " 'amp',\n",
       " 'analysts',\n",
       " 'ancient',\n",
       " 'anderson',\n",
       " 'andre',\n",
       " 'andrew',\n",
       " 'androgen',\n",
       " 'andy',\n",
       " 'angela',\n",
       " 'angeles',\n",
       " 'angels',\n",
       " 'anger',\n",
       " 'angle',\n",
       " 'angry',\n",
       " 'animal',\n",
       " 'animals',\n",
       " 'anna',\n",
       " 'anne',\n",
       " 'anniversary',\n",
       " 'announced',\n",
       " 'announcement',\n",
       " 'announcements',\n",
       " 'announcing',\n",
       " 'annual',\n",
       " 'anonymous',\n",
       " 'another',\n",
       " 'answer',\n",
       " 'answers',\n",
       " 'anthony',\n",
       " 'anti',\n",
       " 'antibodies',\n",
       " 'antibody',\n",
       " 'anticipated',\n",
       " 'anxious',\n",
       " 'anyone',\n",
       " 'anything',\n",
       " 'apartment',\n",
       " 'apology',\n",
       " 'apos',\n",
       " 'appeal',\n",
       " 'appealed',\n",
       " 'appealing',\n",
       " 'appeals',\n",
       " 'appear',\n",
       " 'appearance',\n",
       " 'appearances',\n",
       " 'appeared',\n",
       " 'appearing',\n",
       " 'apple',\n",
       " 'applicant',\n",
       " 'application',\n",
       " 'applications',\n",
       " 'applied',\n",
       " 'applies',\n",
       " 'apply2',\n",
       " 'approach',\n",
       " 'approaches',\n",
       " 'appropriate',\n",
       " 'approval',\n",
       " 'approved',\n",
       " 'arbitration',\n",
       " 'arch',\n",
       " 'archaeological',\n",
       " 'arctic',\n",
       " 'arduous',\n",
       " 'area',\n",
       " 'areas',\n",
       " 'arena',\n",
       " 'argue',\n",
       " 'argued',\n",
       " 'argument',\n",
       " 'armed',\n",
       " 'arms',\n",
       " 'army',\n",
       " 'arne',\n",
       " 'arnold',\n",
       " 'around',\n",
       " 'arrest',\n",
       " 'arrested',\n",
       " 'arrests',\n",
       " 'arrival',\n",
       " 'arrive',\n",
       " 'arrived',\n",
       " 'arrives',\n",
       " 'arriving',\n",
       " 'arsenal',\n",
       " 'art',\n",
       " 'artisans',\n",
       " 'asc',\n",
       " 'ascovime',\n",
       " 'ashamed',\n",
       " 'asia',\n",
       " 'asian',\n",
       " 'ask',\n",
       " 'asked',\n",
       " 'asking',\n",
       " 'aspect',\n",
       " 'aspects',\n",
       " 'assad',\n",
       " 'assailants',\n",
       " 'assange',\n",
       " 'assault',\n",
       " 'assessed',\n",
       " 'assets',\n",
       " 'assign',\n",
       " 'assigned',\n",
       " 'assigning',\n",
       " 'assignment',\n",
       " 'assist',\n",
       " 'assistance',\n",
       " 'associate',\n",
       " 'associated',\n",
       " 'association',\n",
       " 'assume',\n",
       " 'assumed',\n",
       " 'assumption',\n",
       " 'assured',\n",
       " 'astronomers',\n",
       " 'asylum',\n",
       " 'athletes',\n",
       " 'atmosphere',\n",
       " 'attached',\n",
       " 'attack',\n",
       " 'attacked',\n",
       " 'attackers',\n",
       " 'attacking',\n",
       " 'attacks',\n",
       " 'attempt',\n",
       " 'attempted',\n",
       " 'attendance',\n",
       " 'attended',\n",
       " 'attention',\n",
       " 'attorney',\n",
       " 'attracted',\n",
       " 'attractive',\n",
       " 'auction',\n",
       " 'audience',\n",
       " 'audiences',\n",
       " 'auf',\n",
       " 'august',\n",
       " 'austerity',\n",
       " 'australia',\n",
       " 'australian',\n",
       " 'author',\n",
       " 'authorisation',\n",
       " 'authoritarian',\n",
       " 'authorities',\n",
       " 'authority',\n",
       " 'authors',\n",
       " 'auto',\n",
       " 'automatic',\n",
       " 'autopsy',\n",
       " 'autumn',\n",
       " 'available',\n",
       " 'average',\n",
       " 'aviation',\n",
       " 'avoid',\n",
       " 'avoided',\n",
       " 'award',\n",
       " 'awards',\n",
       " 'aware',\n",
       " 'away',\n",
       " 'babe',\n",
       " 'babies',\n",
       " 'baby',\n",
       " 'back',\n",
       " 'backed',\n",
       " 'background',\n",
       " 'backlog',\n",
       " 'bad',\n",
       " 'baden',\n",
       " 'bader',\n",
       " 'bag',\n",
       " 'baggage',\n",
       " 'bags',\n",
       " 'bahn',\n",
       " 'baiersbronn',\n",
       " 'bail',\n",
       " 'balance',\n",
       " 'bali',\n",
       " 'ballerstedt',\n",
       " 'bamford',\n",
       " 'ban',\n",
       " 'band',\n",
       " 'bang',\n",
       " 'bank',\n",
       " 'bankers',\n",
       " 'bankrupt',\n",
       " 'bankruptcy',\n",
       " 'banks',\n",
       " 'banner',\n",
       " 'bar',\n",
       " 'barack',\n",
       " 'baratz',\n",
       " 'barclays',\n",
       " 'barely',\n",
       " 'baroness',\n",
       " 'barrel',\n",
       " 'barrels',\n",
       " 'barrier',\n",
       " 'barriers',\n",
       " 'bars',\n",
       " 'base',\n",
       " 'based',\n",
       " 'basharat',\n",
       " 'basic',\n",
       " 'basin',\n",
       " 'basis',\n",
       " 'basketball',\n",
       " 'bath',\n",
       " 'battered',\n",
       " 'battle',\n",
       " 'battled',\n",
       " 'bauer',\n",
       " 'bay',\n",
       " 'baywatch',\n",
       " 'bbs314',\n",
       " 'bbs338',\n",
       " 'bear',\n",
       " 'beating',\n",
       " 'beats',\n",
       " 'beaudoin',\n",
       " 'beautiful',\n",
       " 'became',\n",
       " 'becker',\n",
       " 'become',\n",
       " 'becomes',\n",
       " 'becoming',\n",
       " 'bed',\n",
       " 'bedroom',\n",
       " 'beer',\n",
       " 'beforehand',\n",
       " 'began',\n",
       " 'begin',\n",
       " 'beginning',\n",
       " 'begins',\n",
       " 'begun',\n",
       " 'behalf',\n",
       " 'behaviour',\n",
       " 'behind',\n",
       " 'believe',\n",
       " 'believed',\n",
       " 'believes',\n",
       " 'belonged',\n",
       " 'belongs',\n",
       " 'belt',\n",
       " 'ben',\n",
       " 'benchmark',\n",
       " 'bendemeer',\n",
       " 'beneath',\n",
       " 'benefit',\n",
       " 'benefits',\n",
       " 'benni',\n",
       " 'berlin',\n",
       " 'best',\n",
       " 'better',\n",
       " 'beyond',\n",
       " 'bfilename',\n",
       " 'bfv',\n",
       " 'bias',\n",
       " 'bible',\n",
       " 'bid',\n",
       " 'biden',\n",
       " 'big',\n",
       " 'bigger',\n",
       " 'biggest',\n",
       " 'bill',\n",
       " 'billion',\n",
       " 'bin',\n",
       " 'bins',\n",
       " 'biological',\n",
       " 'biosphere',\n",
       " 'bird',\n",
       " 'birmingham',\n",
       " 'birth',\n",
       " 'birthday',\n",
       " 'birthplace',\n",
       " 'bittner',\n",
       " 'black',\n",
       " 'blackburn',\n",
       " 'blair',\n",
       " 'blame',\n",
       " 'blames',\n",
       " 'blatant',\n",
       " 'bloc',\n",
       " 'block',\n",
       " 'blocked',\n",
       " 'blocks',\n",
       " 'blonde',\n",
       " 'bloody',\n",
       " 'bloom',\n",
       " 'blow',\n",
       " 'blown',\n",
       " 'blows',\n",
       " 'blue',\n",
       " 'blunkett',\n",
       " 'bmw',\n",
       " 'board',\n",
       " 'boat',\n",
       " 'bob',\n",
       " 'bodily',\n",
       " 'body',\n",
       " 'boeing',\n",
       " 'bomb',\n",
       " 'bombardier',\n",
       " 'bombing',\n",
       " 'bonndorf',\n",
       " 'book',\n",
       " 'books',\n",
       " 'booysen',\n",
       " 'border',\n",
       " 'born',\n",
       " 'borussia',\n",
       " 'boss',\n",
       " 'boston',\n",
       " 'bottles',\n",
       " 'bottom',\n",
       " 'bought',\n",
       " 'boundary',\n",
       " 'bowler',\n",
       " 'box',\n",
       " 'boxes',\n",
       " 'boy',\n",
       " 'boys',\n",
       " 'brain',\n",
       " 'brake',\n",
       " 'branch',\n",
       " 'brand',\n",
       " 'brazil',\n",
       " 'breaches',\n",
       " 'break',\n",
       " 'breakdowns',\n",
       " 'breakfast',\n",
       " 'breast',\n",
       " 'breasts',\n",
       " 'breath',\n",
       " 'bridge',\n",
       " 'briefly',\n",
       " 'bring',\n",
       " 'bringing',\n",
       " 'brings',\n",
       " 'bristol',\n",
       " 'britain',\n",
       " 'british',\n",
       " 'broadcaster',\n",
       " 'broke',\n",
       " 'broken',\n",
       " 'bronner',\n",
       " 'brooks',\n",
       " 'brother',\n",
       " 'brotherhood',\n",
       " 'brought',\n",
       " 'brown',\n",
       " 'bruce',\n",
       " 'brussels',\n",
       " 'brute',\n",
       " 'bräunlingen',\n",
       " 'bucket',\n",
       " 'budget',\n",
       " 'budgetary',\n",
       " 'bugged',\n",
       " 'build',\n",
       " 'building',\n",
       " 'buildings',\n",
       " 'built',\n",
       " 'bulgaria',\n",
       " 'bulgarian',\n",
       " 'bulk',\n",
       " 'bundesliga',\n",
       " 'bunker',\n",
       " 'burfien',\n",
       " 'buried',\n",
       " 'burt',\n",
       " 'bus',\n",
       " 'business',\n",
       " 'businesses',\n",
       " 'buy',\n",
       " 'buyer',\n",
       " 'buyers',\n",
       " 'bvb',\n",
       " 'bwelle',\n",
       " 'bypass',\n",
       " 'börsen',\n",
       " 'caber',\n",
       " 'cabin',\n",
       " 'cabins',\n",
       " 'cable',\n",
       " 'cairo',\n",
       " 'cake',\n",
       " 'calculated',\n",
       " 'california',\n",
       " 'call',\n",
       " 'called',\n",
       " 'calls',\n",
       " 'calm',\n",
       " 'came',\n",
       " 'cameroon',\n",
       " 'camp',\n",
       " 'campaign',\n",
       " 'campaigns',\n",
       " 'canal',\n",
       " 'cancelled',\n",
       " 'candidate',\n",
       " 'candy',\n",
       " 'canines',\n",
       " 'cannot',\n",
       " 'capabilities',\n",
       " 'capacity',\n",
       " 'capital',\n",
       " 'capo',\n",
       " 'car',\n",
       " 'carbon',\n",
       " 'card',\n",
       " 'cardiff',\n",
       " 'cardinal',\n",
       " 'cardinals',\n",
       " 'cards',\n",
       " 'care',\n",
       " 'career',\n",
       " 'careful',\n",
       " 'caringbah',\n",
       " 'carmen',\n",
       " 'carmichael',\n",
       " 'carolines',\n",
       " 'carried',\n",
       " 'carriers',\n",
       " 'carry',\n",
       " 'carrying',\n",
       " 'cars',\n",
       " 'cartels',\n",
       " 'carving',\n",
       " 'casa',\n",
       " 'case',\n",
       " 'cases',\n",
       " 'cash',\n",
       " 'cast',\n",
       " 'castle',\n",
       " 'cathedral',\n",
       " 'catholic',\n",
       " 'catholics',\n",
       " 'caught',\n",
       " 'cause',\n",
       " 'caused',\n",
       " 'ccaa',\n",
       " 'cctv',\n",
       " 'cdata',\n",
       " 'cdc',\n",
       " 'celebrate',\n",
       " 'celebrating',\n",
       " 'celebration',\n",
       " 'celebrations',\n",
       " 'celebratory',\n",
       " 'cell',\n",
       " 'cellphone',\n",
       " 'cellphones',\n",
       " 'cells',\n",
       " 'cent',\n",
       " 'center',\n",
       " 'centimetres',\n",
       " 'central',\n",
       " 'centre',\n",
       " 'cents',\n",
       " 'centuries',\n",
       " 'century',\n",
       " 'ceo',\n",
       " 'ceremonies',\n",
       " 'ceremony',\n",
       " 'certain',\n",
       " 'certainly',\n",
       " 'certificates',\n",
       " 'cgi',\n",
       " 'chain',\n",
       " 'chair',\n",
       " 'chairman',\n",
       " 'chairperson',\n",
       " 'challenge',\n",
       " 'challenging',\n",
       " 'chamber',\n",
       " 'champion',\n",
       " 'championships',\n",
       " 'chance',\n",
       " 'chancellor',\n",
       " 'change',\n",
       " 'changed',\n",
       " 'changes',\n",
       " 'channel',\n",
       " 'channels',\n",
       " 'chants',\n",
       " 'char',\n",
       " 'character',\n",
       " 'characterised',\n",
       " 'characteristics',\n",
       " 'charge',\n",
       " 'charged',\n",
       " 'charges',\n",
       " 'charging',\n",
       " 'charles',\n",
       " 'charlie',\n",
       " 'charred',\n",
       " 'chatting',\n",
       " 'cheap',\n",
       " 'cheaper',\n",
       " 'check',\n",
       " 'checks',\n",
       " 'cheese',\n",
       " 'chemical',\n",
       " 'chemicals',\n",
       " 'chen',\n",
       " 'cheops',\n",
       " 'chickens',\n",
       " 'chief',\n",
       " 'child',\n",
       " 'children',\n",
       " 'china',\n",
       " 'chinese',\n",
       " 'choice',\n",
       " 'choir',\n",
       " 'choose',\n",
       " 'choosing',\n",
       " 'chosen',\n",
       " 'chris',\n",
       " 'christ',\n",
       " 'christensen',\n",
       " 'christian',\n",
       " 'christmas',\n",
       " 'chromosomes',\n",
       " 'chronicle',\n",
       " 'church',\n",
       " 'churches',\n",
       " 'cigarette',\n",
       " 'circles',\n",
       " 'circuit',\n",
       " 'circular',\n",
       " 'circumstances',\n",
       " 'cited',\n",
       " 'cities',\n",
       " 'citigroup',\n",
       " 'citizen',\n",
       " 'citizens',\n",
       " 'city',\n",
       " 'civil',\n",
       " 'claim',\n",
       " 'claimed',\n",
       " 'claiming',\n",
       " 'claims',\n",
       " 'clapper',\n",
       " 'clarified',\n",
       " 'clarify',\n",
       " 'clark',\n",
       " 'clarke',\n",
       " 'clashes',\n",
       " 'class',\n",
       " 'classic',\n",
       " 'claudia',\n",
       " 'cleaned',\n",
       " 'clear',\n",
       " 'clearing',\n",
       " 'clearly',\n",
       " 'client',\n",
       " 'clients',\n",
       " 'cliff',\n",
       " 'climate',\n",
       " 'climb',\n",
       " 'clinic',\n",
       " 'clinics',\n",
       " 'clinton',\n",
       " 'close',\n",
       " 'closely',\n",
       " 'closer',\n",
       " 'closest',\n",
       " 'clothes',\n",
       " 'clothing',\n",
       " 'cloud',\n",
       " 'club',\n",
       " 'clubhouse',\n",
       " 'clubs',\n",
       " 'cnn',\n",
       " 'co',\n",
       " 'coach',\n",
       " 'coal',\n",
       " 'coalition',\n",
       " 'coals',\n",
       " 'coast',\n",
       " 'coat',\n",
       " 'cocaine',\n",
       " 'cocker',\n",
       " 'code',\n",
       " 'coffee',\n",
       " 'cold',\n",
       " 'collaboration',\n",
       " 'colleagues',\n",
       " 'collect',\n",
       " 'collected',\n",
       " 'collection',\n",
       " 'college',\n",
       " 'collided',\n",
       " 'collision',\n",
       " 'cologne',\n",
       " 'colour',\n",
       " 'column_name',\n",
       " 'com',\n",
       " 'com_k2',\n",
       " 'combined',\n",
       " 'come',\n",
       " 'comedians',\n",
       " 'comedy',\n",
       " 'comes',\n",
       " 'comfort',\n",
       " 'comfortable',\n",
       " 'coming',\n",
       " 'commander',\n",
       " 'comment',\n",
       " 'commented',\n",
       " 'comments',\n",
       " 'commerce',\n",
       " 'commercial',\n",
       " 'commission',\n",
       " 'commissioned',\n",
       " 'commitment',\n",
       " 'committed',\n",
       " 'committee',\n",
       " 'committees',\n",
       " 'common',\n",
       " 'commonly',\n",
       " 'commonwealth',\n",
       " 'communicate',\n",
       " 'communicated',\n",
       " 'communicating',\n",
       " 'communication',\n",
       " 'communications',\n",
       " 'communities',\n",
       " 'community',\n",
       " 'companies',\n",
       " 'company',\n",
       " 'compared',\n",
       " 'comparison',\n",
       " 'compensation',\n",
       " 'compete',\n",
       " 'competing',\n",
       " 'competition',\n",
       " 'competitive',\n",
       " 'competitors',\n",
       " 'complaints',\n",
       " 'complete',\n",
       " 'completed',\n",
       " 'completely',\n",
       " 'completion',\n",
       " 'complex',\n",
       " 'complexity',\n",
       " 'comply',\n",
       " 'composed',\n",
       " 'composition',\n",
       " 'comprehensive',\n",
       " 'compromised',\n",
       " 'computer',\n",
       " 'computers',\n",
       " 'computing',\n",
       " 'conceal',\n",
       " 'conceded',\n",
       " 'concept',\n",
       " 'concern',\n",
       " 'concerned',\n",
       " 'concerns',\n",
       " 'concert',\n",
       " 'concessions',\n",
       " 'concluded',\n",
       " 'conclusion',\n",
       " 'conclusions',\n",
       " 'concrete',\n",
       " 'condemned',\n",
       " 'condition',\n",
       " 'conditional',\n",
       " 'conditions',\n",
       " 'conduct',\n",
       " 'conducted',\n",
       " 'conducting',\n",
       " 'conference',\n",
       " 'confession',\n",
       " 'confessions',\n",
       " 'confidence',\n",
       " 'confident',\n",
       " 'confirm',\n",
       " 'confirmation',\n",
       " 'confirmed',\n",
       " 'conflict',\n",
       " 'conformity',\n",
       " 'confrontation',\n",
       " 'confusing',\n",
       " 'congregation',\n",
       " 'congress',\n",
       " ...]"
      ]
     },
     "execution_count": 16,
     "metadata": {},
     "output_type": "execute_result"
    }
   ],
   "source": [
    "count_vectorizer.get_feature_names()"
   ]
  },
  {
   "cell_type": "markdown",
   "id": "7341020f",
   "metadata": {},
   "source": [
    "### Train-test split "
   ]
  },
  {
   "cell_type": "code",
   "execution_count": 17,
   "id": "458d5e2f",
   "metadata": {},
   "outputs": [
    {
     "name": "stdout",
     "output_type": "stream",
     "text": [
      "(3349, 4716)\n",
      "(3349,)\n",
      "(838, 4716)\n",
      "(838,)\n"
     ]
    }
   ],
   "source": [
    "X_train, X_test, y_train, y_test = train_test_split(X, y, test_size = 0.2)\n",
    "print(X_train.shape)\n",
    "print(y_train.shape)\n",
    "print(X_test.shape)\n",
    "print(y_test.shape)"
   ]
  },
  {
   "cell_type": "code",
   "execution_count": 18,
   "id": "36394134",
   "metadata": {},
   "outputs": [
    {
     "data": {
      "text/plain": [
       "array([0, 0, 0, ..., 0, 0, 0], dtype=int64)"
      ]
     },
     "execution_count": 18,
     "metadata": {},
     "output_type": "execute_result"
    }
   ],
   "source": [
    "X_test[0]"
   ]
  },
  {
   "cell_type": "markdown",
   "id": "a5b2c55b",
   "metadata": {},
   "source": [
    "## LogisticRegression Classifier "
   ]
  },
  {
   "cell_type": "code",
   "execution_count": 19,
   "id": "a6a2b52b",
   "metadata": {},
   "outputs": [
    {
     "name": "stdout",
     "output_type": "stream",
     "text": [
      "Accuracy of Logistic Regression on test set : 0.9379474940334129\n",
      "F1 Score of Logistic Regression on test set : 0.8737864077669903\n"
     ]
    }
   ],
   "source": [
    "lr_clf = LogisticRegression()\n",
    "lr_clf.fit(X_train, y_train)\n",
    "y_pred = lr_clf.predict(X_test)\n",
    "print(f\"Accuracy of Logistic Regression on test set : {accuracy_score(y_pred, y_test)}\")\n",
    "print(f\"F1 Score of Logistic Regression on test set : {f1_score(y_pred, y_test)}\")"
   ]
  },
  {
   "cell_type": "code",
   "execution_count": 20,
   "id": "ea80e0c0",
   "metadata": {},
   "outputs": [
    {
     "name": "stdout",
     "output_type": "stream",
     "text": [
      "              precision    recall  f1-score   support\n",
      "\n",
      "           0       0.92      1.00      0.96       607\n",
      "           1       0.99      0.78      0.87       231\n",
      "\n",
      "    accuracy                           0.94       838\n",
      "   macro avg       0.96      0.89      0.92       838\n",
      "weighted avg       0.94      0.94      0.94       838\n",
      "\n"
     ]
    }
   ],
   "source": [
    "print(classification_report(y_test, y_pred))"
   ]
  },
  {
   "cell_type": "code",
   "execution_count": 21,
   "id": "c110d9d4",
   "metadata": {},
   "outputs": [
    {
     "data": {
      "image/png": "[encoded data removed]",
      "text/plain": [
       "<Figure size 640x480 with 2 Axes>"
      ]
     },
     "metadata": {},
     "output_type": "display_data"
    }
   ],
   "source": [
    "confmatrix = confusion_matrix(y_test, y_pred)\n",
    "cm = ConfusionMatrixDisplay(confmatrix, display_labels=[\"0\", \"1\"])\n",
    "cm.plot(cmap=\"YlGnBu_r\")\n",
    "plt.show()"
   ]
  },
  {
   "cell_type": "markdown",
   "id": "6c816b1b",
   "metadata": {},
   "source": [
    "### Saving the Logistic Regression model "
   ]
  },
  {
   "cell_type": "code",
   "execution_count": 22,
   "id": "977df86f",
   "metadata": {},
   "outputs": [
    {
     "ename": "FileNotFoundError",
     "evalue": "[Errno 2] No such file or directory: '/models/lr_clf.pkl'",
     "output_type": "error",
     "traceback": [
      "\u001b[1;31m---------------------------------------------------------------------------\u001b[0m",
      "\u001b[1;31mFileNotFoundError\u001b[0m                         Traceback (most recent call last)",
      "Cell \u001b[1;32mIn [22], line 5\u001b[0m\n\u001b[0;32m      1\u001b[0m \u001b[38;5;28;01mimport\u001b[39;00m \u001b[38;5;21;01mjoblib\u001b[39;00m\n\u001b[0;32m      4\u001b[0m \u001b[38;5;66;03m# Save the model as a pickle in a file\u001b[39;00m\n\u001b[1;32m----> 5\u001b[0m \u001b[43mjoblib\u001b[49m\u001b[38;5;241;43m.\u001b[39;49m\u001b[43mdump\u001b[49m\u001b[43m(\u001b[49m\u001b[43mlr_clf\u001b[49m\u001b[43m,\u001b[49m\u001b[43m \u001b[49m\u001b[38;5;124;43m'\u001b[39;49m\u001b[38;5;124;43m/models/lr_clf.pkl\u001b[39;49m\u001b[38;5;124;43m'\u001b[39;49m\u001b[43m)\u001b[49m\n",
      "File \u001b[1;32m~\\AppData\\Local\\Programs\\Python\\Python38\\lib\\site-packages\\joblib\\numpy_pickle.py:479\u001b[0m, in \u001b[0;36mdump\u001b[1;34m(value, filename, compress, protocol, cache_size)\u001b[0m\n\u001b[0;32m    477\u001b[0m         NumpyPickler(f, protocol\u001b[38;5;241m=\u001b[39mprotocol)\u001b[38;5;241m.\u001b[39mdump(value)\n\u001b[0;32m    478\u001b[0m \u001b[38;5;28;01melif\u001b[39;00m is_filename:\n\u001b[1;32m--> 479\u001b[0m     \u001b[38;5;28;01mwith\u001b[39;00m \u001b[38;5;28;43mopen\u001b[39;49m\u001b[43m(\u001b[49m\u001b[43mfilename\u001b[49m\u001b[43m,\u001b[49m\u001b[43m \u001b[49m\u001b[38;5;124;43m'\u001b[39;49m\u001b[38;5;124;43mwb\u001b[39;49m\u001b[38;5;124;43m'\u001b[39;49m\u001b[43m)\u001b[49m \u001b[38;5;28;01mas\u001b[39;00m f:\n\u001b[0;32m    480\u001b[0m         NumpyPickler(f, protocol\u001b[38;5;241m=\u001b[39mprotocol)\u001b[38;5;241m.\u001b[39mdump(value)\n\u001b[0;32m    481\u001b[0m \u001b[38;5;28;01melse\u001b[39;00m:\n",
      "\u001b[1;31mFileNotFoundError\u001b[0m: [Errno 2] No such file or directory: '/models/lr_clf.pkl'"
     ]
    }
   ],
   "source": [
    "import joblib\n",
    "  \n",
    "  \n",
    "# Save the model as a pickle in a file\n",
    "joblib.dump(lr_clf, '/models/lr_clf.pkl')\n",
    "  \n",
    "# # Load the model from the file\n",
    "# lr_clf_from_joblib = joblib.load('/models/lr_clf.pkl')\n",
    "  \n",
    "# # Use the loaded model to make predictions\n",
    "# lr_clf_from_joblib.predict(X_test)"
   ]
  },
  {
   "cell_type": "markdown",
   "id": "9ec7b935",
   "metadata": {},
   "source": [
    "## RandomForestClassifier "
   ]
  },
  {
   "cell_type": "code",
   "execution_count": null,
   "id": "d850a810",
   "metadata": {},
   "outputs": [],
   "source": [
    "# create RandomForestClassifier model instance\n",
    "rf_clf = RandomForestClassifier()\n",
    "# fit RandomForestClassifier model\n",
    "rf_clf.fit(X_train, y_train)\n",
    "# make predictions\n",
    "y_pred = rf_clf.predict(X_test)\n",
    "print(f\"Accuracy of Random Forest on test set : {accuracy_score(y_pred, y_test)}\")\n",
    "print(f\"F1 Score of Random Forest on test set : {f1_score(y_pred, y_test)}\")"
   ]
  },
  {
   "cell_type": "markdown",
   "id": "ee21a016",
   "metadata": {},
   "source": [
    "### Classification Report of RandomForestClassifier"
   ]
  },
  {
   "cell_type": "code",
   "execution_count": null,
   "id": "988b15f5",
   "metadata": {},
   "outputs": [],
   "source": [
    "print(classification_report(y_test, y_pred))"
   ]
  },
  {
   "cell_type": "markdown",
   "id": "fbc30a4b",
   "metadata": {},
   "source": [
    "### Confusion  matrix of RandomForest Classifier"
   ]
  },
  {
   "cell_type": "code",
   "execution_count": null,
   "id": "95cbad1e",
   "metadata": {},
   "outputs": [],
   "source": [
    "confmatrix = confusion_matrix(y_test, y_pred)\n",
    "cm = ConfusionMatrixDisplay(confmatrix, display_labels=[\"0\", \"1\"])\n",
    "cm.plot(cmap=\"YlGnBu_r\")\n",
    "plt.show()"
   ]
  },
  {
   "cell_type": "markdown",
   "id": "ec7b2d65",
   "metadata": {},
   "source": [
    "### Saving the Random Forest Model "
   ]
  },
  {
   "cell_type": "code",
   "execution_count": null,
   "id": "78a3c046",
   "metadata": {},
   "outputs": [],
   "source": [
    "import joblib\n",
    "  \n",
    "  \n",
    "# Save the model as a pickle in a file\n",
    "joblib.dump(rf_clf, '/models/rf_clf.pkl')\n",
    "  \n",
    "# # Load the model from the file\n",
    "# rf_clf_from_joblib = joblib.load('/models/rf_clf.pkl')\n",
    "  \n",
    "# # Use the loaded model to make predictions\n",
    "# rf_clf_from_joblib.predict(X_test)"
   ]
  },
  {
   "cell_type": "markdown",
   "id": "a20210d7",
   "metadata": {},
   "source": [
    "## XGBoost Classifier "
   ]
  },
  {
   "cell_type": "code",
   "execution_count": null,
   "id": "2c6e98cf",
   "metadata": {},
   "outputs": [],
   "source": [
    "# create XGBoost model instance\n",
    "xgb_clf = XGBClassifier(n_estimators=50, max_depth=5, learning_rate=0.01, alpha = 10,objective='binary:logistic')\n",
    "# fit XGBoost model\n",
    "xgb_clf.fit(X, y)\n",
    "# make predictions\n",
    "y_pred = xgb_clf.predict(X_test)\n",
    "print(f\"Accuracy of XGBClassifier on test set : {accuracy_score(y_pred, y_test)}\")\n",
    "print(f\"F1 Score of XGBClassifier on test set : {f1_score(y_pred, y_test)}\")"
   ]
  },
  {
   "cell_type": "markdown",
   "id": "c1f5d886",
   "metadata": {},
   "source": [
    "### Classification Report of XGBoost Classifier"
   ]
  },
  {
   "cell_type": "code",
   "execution_count": null,
   "id": "a1a090ed",
   "metadata": {},
   "outputs": [],
   "source": [
    "print(classification_report(y_test, y_pred))"
   ]
  },
  {
   "cell_type": "markdown",
   "id": "4b3d07ba",
   "metadata": {},
   "source": [
    "### Confusion Matrix of XGBoost Classifier"
   ]
  },
  {
   "cell_type": "code",
   "execution_count": null,
   "id": "df415df1",
   "metadata": {},
   "outputs": [],
   "source": [
    "confmatrix = confusion_matrix(y_test, y_pred)\n",
    "cm = ConfusionMatrixDisplay(confmatrix, display_labels=[\"0\", \"1\"])\n",
    "cm.plot(cmap=\"YlGnBu_r\")\n",
    "plt.show()"
   ]
  },
  {
   "cell_type": "markdown",
   "id": "f84ecfe3",
   "metadata": {},
   "source": [
    "### Saving the XGBoost Model "
   ]
  },
  {
   "cell_type": "code",
   "execution_count": null,
   "id": "519b3b0f",
   "metadata": {},
   "outputs": [],
   "source": [
    "import joblib\n",
    "  \n",
    "  \n",
    "# Save the model as a pickle in a file\n",
    "joblib.dump(xgb_clf, '/models/xgb_clf.pkl')\n",
    "  \n",
    "# # Load the model from the file\n",
    "# xgb_clf_from_joblib = joblib.load('/models/xgb_clf.pkl')\n",
    "  \n",
    "# # Use the loaded model to make predictions\n",
    "# xgb_clf_from_joblib.predict(X_test)"
   ]
  },
  {
   "cell_type": "markdown",
   "id": "b2ab9104",
   "metadata": {},
   "source": [
    "## ExtraTreesClassifier "
   ]
  },
  {
   "cell_type": "code",
   "execution_count": null,
   "id": "ba0166b9",
   "metadata": {},
   "outputs": [],
   "source": [
    "# create ExtraTreesClassifier model instance\n",
    "xtree_clf = ExtraTreesClassifier(n_estimators=100, random_state=0)\n",
    "# fit ExtraTreesClassifier model\n",
    "xtree_clf.fit(X, y)\n",
    "# make predictions\n",
    "y_pred = xtree_clf.predict(X_test)\n",
    "print(f\"Accuracy of ExtraTreesClassifier on test set : {accuracy_score(y_pred, y_test)}\")\n",
    "print(f\"F1 Score of ExtraTreesClassifier on test set : {f1_score(y_pred, y_test)}\")"
   ]
  },
  {
   "cell_type": "markdown",
   "id": "cfa60e98",
   "metadata": {},
   "source": [
    "### Classification Report of ExtraTreesClassifier"
   ]
  },
  {
   "cell_type": "code",
   "execution_count": null,
   "id": "6376df5c",
   "metadata": {},
   "outputs": [],
   "source": [
    "print(classification_report(y_test, y_pred))"
   ]
  },
  {
   "cell_type": "markdown",
   "id": "8e450dd4",
   "metadata": {},
   "source": [
    "### Confusion Matrix of ExtraTreesClassifier"
   ]
  },
  {
   "cell_type": "code",
   "execution_count": null,
   "id": "190e7859",
   "metadata": {},
   "outputs": [],
   "source": [
    "confmatrix = confusion_matrix(y_test, y_pred)\n",
    "cm = ConfusionMatrixDisplay(confmatrix, display_labels=[\"0\", \"1\"])\n",
    "cm.plot(cmap=\"YlGnBu_r\")\n",
    "plt.show()"
   ]
  },
  {
   "cell_type": "markdown",
   "id": "c6ff10ab",
   "metadata": {},
   "source": [
    "### Saving the Extratree classifier model "
   ]
  },
  {
   "cell_type": "code",
   "execution_count": null,
   "id": "4c3220d2",
   "metadata": {},
   "outputs": [],
   "source": [
    "import joblib\n",
    "  \n",
    "  \n",
    "# Save the model as a pickle in a file (Use your model dir path)\n",
    "joblib.dump(xtree_clf, r'C:\\Users\\Snehal Thakur\\PycharmProjects\\SQLInjectionML\\models\\xtree_clf.pkl')\n",
    "  \n",
    "# # Load the model from the file\n",
    "# xtree_clf_from_joblib = joblib.load('/models/xtree_clf.pkl')\n",
    "  \n",
    "# # Use the loaded model to make predictions\n",
    "# xtree_clf_from_joblib.predict(X_test)"
   ]
  },
  {
   "cell_type": "markdown",
   "id": "da644b49",
   "metadata": {},
   "source": [
    "# Approach 2. TF-IDF Vectorizer"
   ]
  },
  {
   "cell_type": "markdown",
   "id": "0fea958c",
   "metadata": {},
   "source": [
    "## TfidfVectorizer - Convert a collection of raw documents to a matrix of TF-IDF features. "
   ]
  },
  {
   "cell_type": "code",
   "execution_count": null,
   "id": "3c32b833",
   "metadata": {},
   "outputs": [],
   "source": [
    "# TfidfVectorizer - Convert a collection of raw documents to a matrix of TF-IDF features.# \n",
    "\n",
    "X = df['Sentence']\n",
    "y = df['Label']\n",
    "\n",
    "tfidf_vectorizer = TfidfVectorizer()\n",
    "X_tfidf = tfidf_vectorizer.fit_transform(X.values.astype('U')).toarray()\n",
    "X_tfidf"
   ]
  },
  {
   "cell_type": "code",
   "execution_count": null,
   "id": "6a76a834",
   "metadata": {},
   "outputs": [],
   "source": [
    "# feature names\n",
    "tfidf_vectorizer.get_feature_names()"
   ]
  },
  {
   "cell_type": "markdown",
   "id": "a58aec95",
   "metadata": {},
   "source": [
    "### Train Test Split "
   ]
  },
  {
   "cell_type": "code",
   "execution_count": null,
   "id": "940c63f6",
   "metadata": {},
   "outputs": [],
   "source": [
    "X_train_tfidf, X_test_tfidf, y_train_tfidf, y_test_tfidf = train_test_split(X_tfidf, y, test_size = 0.2)\n",
    "print(\"X_train_tfidf.shape=\", X_train_tfidf.shape)\n",
    "print(\"y_train_tfidf.shape=\", y_train_tfidf.shape)\n",
    "print(\"X_test_tfidf.shape=\", X_test_tfidf.shape)\n",
    "print(\"y_test_tfidf.shape=\", y_test_tfidf.shape)"
   ]
  },
  {
   "cell_type": "markdown",
   "id": "ab3f34e0",
   "metadata": {},
   "source": [
    "## Linear Regression "
   ]
  },
  {
   "cell_type": "code",
   "execution_count": null,
   "id": "fd623851",
   "metadata": {},
   "outputs": [],
   "source": [
    "lr_clf_tfidf = LogisticRegression()\n",
    "lr_clf_tfidf.fit(X_train_tfidf, y_train_tfidf)\n",
    "y_pred_tfidf = lr_clf_tfidf.predict(X_test_tfidf)\n",
    "print(f\"Accuracy of Logistic Regression on test set : {accuracy_score(y_pred_tfidf, y_test_tfidf)}\")\n",
    "print(f\"F1 Score of Logistic Regression on test set : {f1_score(y_pred_tfidf, y_test_tfidf)}\")"
   ]
  },
  {
   "cell_type": "markdown",
   "id": "fa11db96",
   "metadata": {},
   "source": [
    "###  Classification Report"
   ]
  },
  {
   "cell_type": "code",
   "execution_count": null,
   "id": "2baadbd4",
   "metadata": {},
   "outputs": [],
   "source": [
    "print(classification_report(y_test_tfidf, y_pred_tfidf))"
   ]
  },
  {
   "cell_type": "markdown",
   "id": "222a536c",
   "metadata": {},
   "source": [
    "### Confusion Matrix "
   ]
  },
  {
   "cell_type": "code",
   "execution_count": null,
   "id": "d32b2810",
   "metadata": {},
   "outputs": [],
   "source": [
    "confmatrix = confusion_matrix(y_test_tfidf, y_pred_tfidf)\n",
    "cm = ConfusionMatrixDisplay(confmatrix, display_labels=[\"0\", \"1\"])\n",
    "cm.plot(cmap=\"YlGnBu_r\")\n",
    "plt.show()"
   ]
  },
  {
   "cell_type": "markdown",
   "id": "9fa0177a",
   "metadata": {},
   "source": [
    "##  Random Forest Classifier"
   ]
  },
  {
   "cell_type": "code",
   "execution_count": null,
   "id": "ee220bc8",
   "metadata": {},
   "outputs": [],
   "source": [
    "# create RandomForestClassifier model instance\n",
    "rf_clf_tfidf = RandomForestClassifier()\n",
    "# fit RandomForestClassifier model\n",
    "rf_clf_tfidf.fit(X_train_tfidf, y_train_tfidf)\n",
    "# make predictions\n",
    "y_pred_tfidf = rf_clf_tfidf.predict(X_test_tfidf)\n",
    "print(f\"Accuracy of Random Forest on test set : {accuracy_score(y_pred_tfidf, y_test_tfidf)}\")\n",
    "print(f\"F1 Score of Random Forest on test set : {f1_score(y_pred_tfidf, y_test_tfidf)}\")"
   ]
  },
  {
   "cell_type": "markdown",
   "id": "b0ffd112",
   "metadata": {},
   "source": [
    "### Classification Report "
   ]
  },
  {
   "cell_type": "code",
   "execution_count": null,
   "id": "53079640",
   "metadata": {},
   "outputs": [],
   "source": [
    "print(classification_report(y_test_tfidf, y_pred_tfidf))"
   ]
  },
  {
   "cell_type": "markdown",
   "id": "bf949b77",
   "metadata": {},
   "source": [
    "### Confusion Matrix "
   ]
  },
  {
   "cell_type": "code",
   "execution_count": null,
   "id": "659b544c",
   "metadata": {},
   "outputs": [],
   "source": [
    "confmatrix = confusion_matrix(y_test_tfidf, y_pred_tfidf)\n",
    "cm = ConfusionMatrixDisplay(confmatrix, display_labels=[\"0\", \"1\"])\n",
    "cm.plot(cmap=\"YlGnBu_r\")\n",
    "plt.show()"
   ]
  },
  {
   "cell_type": "markdown",
   "id": "b2afa5b2",
   "metadata": {},
   "source": [
    "## XGBoost Classifier "
   ]
  },
  {
   "cell_type": "code",
   "execution_count": null,
   "id": "32875c86",
   "metadata": {},
   "outputs": [],
   "source": [
    "# create XGBoost model instance\n",
    "xgb_clf_tfidf = XGBClassifier(n_estimators=50, max_depth=5, learning_rate=0.01, alpha = 10,objective='binary:logistic')\n",
    "# fit XGBoost model\n",
    "xgb_clf_tfidf.fit(X_train_tfidf, y_train_tfidf)\n",
    "# make predictions\n",
    "y_pred_tfidf = xgb_clf_tfidf.predict(X_test_tfidf)\n",
    "print(f\"Accuracy of XGBClassifier on test set : {accuracy_score(y_pred_tfidf, y_test_tfidf)}\")\n",
    "print(f\"F1 Score of XGBClassifier on test set : {f1_score(y_pred_tfidf, y_test_tfidf)}\")"
   ]
  },
  {
   "cell_type": "markdown",
   "id": "cf9f041f",
   "metadata": {},
   "source": [
    "### Classification Report "
   ]
  },
  {
   "cell_type": "code",
   "execution_count": null,
   "id": "2da9e410",
   "metadata": {},
   "outputs": [],
   "source": [
    "print(classification_report(y_test_tfidf, y_pred_tfidf))"
   ]
  },
  {
   "cell_type": "markdown",
   "id": "753439bf",
   "metadata": {},
   "source": [
    "### Confusion Matrix "
   ]
  },
  {
   "cell_type": "code",
   "execution_count": null,
   "id": "2e0cd1ce",
   "metadata": {},
   "outputs": [],
   "source": [
    "confmatrix = confusion_matrix(y_test_tfidf, y_pred_tfidf)\n",
    "cm = ConfusionMatrixDisplay(confmatrix, display_labels=[\"0\", \"1\"])\n",
    "cm.plot(cmap=\"YlGnBu_r\")\n",
    "plt.show()"
   ]
  },
  {
   "cell_type": "markdown",
   "id": "5bf36394",
   "metadata": {},
   "source": [
    "## Extratree Classifier "
   ]
  },
  {
   "cell_type": "code",
   "execution_count": null,
   "id": "15925a7c",
   "metadata": {},
   "outputs": [],
   "source": [
    "# create ExtraTreesClassifier model instance\n",
    "xtree_clf_tfidf = ExtraTreesClassifier(n_estimators=100, random_state=0)\n",
    "# fit ExtraTreesClassifier model\n",
    "xtree_clf_tfidf.fit(X_train_tfidf, y_train_tfidf)\n",
    "# make predictions\n",
    "y_pred_tfidf = xtree_clf_tfidf.predict(X_test_tfidf)\n",
    "print(f\"Accuracy of ExtraTreesClassifier on test set : {accuracy_score(y_pred_tfidf, y_test_tfidf)}\")\n",
    "print(f\"F1 Score of ExtraTreesClassifier on test set : {f1_score(y_pred_tfidf, y_test_tfidf)}\")"
   ]
  },
  {
   "cell_type": "markdown",
   "id": "56821209",
   "metadata": {},
   "source": [
    "### Classification Report "
   ]
  },
  {
   "cell_type": "code",
   "execution_count": null,
   "id": "b33603ef",
   "metadata": {},
   "outputs": [],
   "source": [
    "print(classification_report(y_test_tfidf, y_pred_tfidf))"
   ]
  },
  {
   "cell_type": "markdown",
   "id": "d49b6052",
   "metadata": {},
   "source": [
    "### Confusion Matrix "
   ]
  },
  {
   "cell_type": "code",
   "execution_count": null,
   "id": "97a6e843",
   "metadata": {},
   "outputs": [],
   "source": [
    "confmatrix = confusion_matrix(y_test_tfidf, y_pred_tfidf)\n",
    "cm = ConfusionMatrixDisplay(confmatrix, display_labels=[\"0\", \"1\"])\n",
    "cm.plot(cmap=\"YlGnBu_r\")\n",
    "plt.show()"
   ]
  },
  {
   "cell_type": "markdown",
   "id": "0b8d5127",
   "metadata": {},
   "source": [
    "### Saving the Extratree model "
   ]
  },
  {
   "cell_type": "code",
   "execution_count": null,
   "id": "acaf95bf",
   "metadata": {},
   "outputs": [],
   "source": [
    "import joblib\n",
    "  \n",
    "  \n",
    "# Save the model as a pickle in a file\n",
    "joblib.dump(xtree_clf, '/models/xtree_clf.pkl')\n",
    "  \n",
    "# # Load the model from the file\n",
    "# xtree_clf_from_joblib = joblib.load('/models/xtree_clf.pkl')\n",
    "  \n",
    "# # Use the loaded model to make predictions\n",
    "# xtree_clf_from_joblib.predict(X_test)"
   ]
  },
  {
   "cell_type": "markdown",
   "id": "d912fd81",
   "metadata": {},
   "source": [
    "### Testing of Extratree Classifier model on unknown data"
   ]
  },
  {
   "cell_type": "code",
   "execution_count": null,
   "id": "271a9ed5",
   "metadata": {},
   "outputs": [],
   "source": [
    "text=input(\" Enter your text for prediction \")"
   ]
  },
  {
   "cell_type": "code",
   "execution_count": null,
   "id": "8081a387",
   "metadata": {},
   "outputs": [],
   "source": [
    "# print('Vectorized Input:')\n",
    "v0 = tfidf_vectorizer.transform([text]).toarray()\n",
    "# print(v0)\n",
    "pred = xtree_clf.predict(v0)\n",
    "#print(\"Predicted Output = \",pred)\n",
    "if pred[0]==0:\n",
    "    print(\"It seems to be safe input\")\n",
    "else:\n",
    "    print(\"ALERT :::: This can be SQL injection\")"
   ]
  },
  {
   "cell_type": "markdown",
   "id": "bc7fcf10",
   "metadata": {},
   "source": [
    "### Inverse transform "
   ]
  },
  {
   "cell_type": "code",
   "execution_count": null,
   "id": "28a65640",
   "metadata": {},
   "outputs": [],
   "source": [
    "print('To the source:')\n",
    "print(tfidf_vectorizer.inverse_transform(v0))"
   ]
  },
  {
   "cell_type": "code",
   "execution_count": null,
   "id": "7acab34a",
   "metadata": {},
   "outputs": [],
   "source": []
  },
  {
   "cell_type": "code",
   "execution_count": null,
   "id": "189c0f09",
   "metadata": {},
   "outputs": [],
   "source": []
  }
 ],
 "metadata": {
  "kernelspec": {
   "display_name": "Python 3 (ipykernel)",
   "language": "python",
   "name": "python3"
  },
  "language_info": {
   "codemirror_mode": {
    "name": "ipython",
    "version": 3
   },
   "file_extension": ".py",
   "mimetype": "text/x-python",
   "name": "python",
   "nbconvert_exporter": "python",
   "pygments_lexer": "ipython3",
   "version": "3.8.0"
  }
 },
 "nbformat": 4,
 "nbformat_minor": 5
}
