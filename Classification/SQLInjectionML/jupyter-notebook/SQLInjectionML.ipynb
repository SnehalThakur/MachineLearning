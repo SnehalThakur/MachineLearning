{
 "cells": [
  {
   "cell_type": "markdown",
   "id": "ed697856",
   "metadata": {},
   "source": [
    "# SQL Injection Detection using Machine Learning"
   ]
  },
  {
   "cell_type": "code",
   "execution_count": 1,
   "id": "4d3ee147",
   "metadata": {},
   "outputs": [
    {
     "name": "stdout",
     "output_type": "stream",
     "text": [
      "Requirement already satisfied: seaborn in c:\\users\\public\\datascience\\envs\\sqlinjection\\lib\\site-packages (0.12.1)\n",
      "Requirement already satisfied: matplotlib!=3.6.1,>=3.1 in c:\\users\\public\\datascience\\envs\\sqlinjection\\lib\\site-packages (from seaborn) (3.6.2)\n",
      "Requirement already satisfied: numpy>=1.17 in c:\\users\\public\\datascience\\envs\\sqlinjection\\lib\\site-packages (from seaborn) (1.23.5)\n",
      "Requirement already satisfied: pandas>=0.25 in c:\\users\\public\\datascience\\envs\\sqlinjection\\lib\\site-packages (from seaborn) (1.5.1)\n",
      "Requirement already satisfied: packaging>=20.0 in c:\\users\\public\\datascience\\envs\\sqlinjection\\lib\\site-packages (from matplotlib!=3.6.1,>=3.1->seaborn) (21.3)\n",
      "Requirement already satisfied: pyparsing>=2.2.1 in c:\\users\\public\\datascience\\envs\\sqlinjection\\lib\\site-packages (from matplotlib!=3.6.1,>=3.1->seaborn) (3.0.9)\n",
      "Requirement already satisfied: pillow>=6.2.0 in c:\\users\\public\\datascience\\envs\\sqlinjection\\lib\\site-packages (from matplotlib!=3.6.1,>=3.1->seaborn) (9.3.0)\n",
      "Requirement already satisfied: python-dateutil>=2.7 in c:\\users\\public\\datascience\\envs\\sqlinjection\\lib\\site-packages (from matplotlib!=3.6.1,>=3.1->seaborn) (2.8.2)\n",
      "Requirement already satisfied: contourpy>=1.0.1 in c:\\users\\public\\datascience\\envs\\sqlinjection\\lib\\site-packages (from matplotlib!=3.6.1,>=3.1->seaborn) (1.0.6)\n",
      "Requirement already satisfied: kiwisolver>=1.0.1 in c:\\users\\public\\datascience\\envs\\sqlinjection\\lib\\site-packages (from matplotlib!=3.6.1,>=3.1->seaborn) (1.4.4)\n",
      "Requirement already satisfied: cycler>=0.10 in c:\\users\\public\\datascience\\envs\\sqlinjection\\lib\\site-packages (from matplotlib!=3.6.1,>=3.1->seaborn) (0.11.0)\n",
      "Requirement already satisfied: fonttools>=4.22.0 in c:\\users\\public\\datascience\\envs\\sqlinjection\\lib\\site-packages (from matplotlib!=3.6.1,>=3.1->seaborn) (4.38.0)\n",
      "Requirement already satisfied: pytz>=2020.1 in c:\\users\\public\\datascience\\envs\\sqlinjection\\lib\\site-packages (from pandas>=0.25->seaborn) (2022.6)\n",
      "Requirement already satisfied: six>=1.5 in c:\\users\\public\\datascience\\envs\\sqlinjection\\lib\\site-packages (from python-dateutil>=2.7->matplotlib!=3.6.1,>=3.1->seaborn) (1.16.0)\n",
      "Note: you may need to restart the kernel to use updated packages.\n",
      "Requirement already satisfied: nltk in c:\\users\\public\\datascience\\envs\\sqlinjection\\lib\\site-packages (3.7)\n",
      "Requirement already satisfied: regex>=2021.8.3 in c:\\users\\public\\datascience\\envs\\sqlinjection\\lib\\site-packages (from nltk) (2022.10.31)\n",
      "Requirement already satisfied: tqdm in c:\\users\\public\\datascience\\envs\\sqlinjection\\lib\\site-packages (from nltk) (4.64.1)\n",
      "Requirement already satisfied: joblib in c:\\users\\public\\datascience\\envs\\sqlinjection\\lib\\site-packages (from nltk) (1.2.0)\n",
      "Requirement already satisfied: click in c:\\users\\public\\datascience\\envs\\sqlinjection\\lib\\site-packages (from nltk) (8.1.3)\n",
      "Requirement already satisfied: colorama in c:\\users\\public\\datascience\\envs\\sqlinjection\\lib\\site-packages (from click->nltk) (0.4.6)\n",
      "Note: you may need to restart the kernel to use updated packages.\n",
      "Requirement already satisfied: xgboost in c:\\users\\public\\datascience\\envs\\sqlinjection\\lib\\site-packages (1.7.1)\n",
      "Requirement already satisfied: numpy in c:\\users\\public\\datascience\\envs\\sqlinjection\\lib\\site-packages (from xgboost) (1.23.5)\n",
      "Requirement already satisfied: scipy in c:\\users\\public\\datascience\\envs\\sqlinjection\\lib\\site-packages (from xgboost) (1.9.3)\n",
      "Note: you may need to restart the kernel to use updated packages.\n"
     ]
    }
   ],
   "source": [
    "%pip install seaborn\n",
    "%pip install nltk\n",
    "%pip install xgboost"
   ]
  },
  {
   "cell_type": "code",
   "execution_count": 2,
   "id": "5efe320b",
   "metadata": {},
   "outputs": [],
   "source": [
    "# importing required libraries\n",
    "import numpy as np \n",
    "import pandas as pd \n",
    "import seaborn as sns\n",
    "import matplotlib.pyplot as plt\n",
    "from sklearn.feature_extraction.text import CountVectorizer, TfidfVectorizer\n",
    "from sklearn.model_selection import train_test_split\n",
    "from nltk.corpus import stopwords\n",
    "from sklearn.metrics import accuracy_score, f1_score\n",
    "from sklearn.linear_model import LogisticRegression\n",
    "from sklearn.ensemble import RandomForestClassifier\n",
    "from sklearn.ensemble import ExtraTreesClassifier\n",
    "from xgboost import XGBClassifier\n",
    "from sklearn.svm import SVC\n",
    "from sklearn.naive_bayes import GaussianNB\n",
    "from sklearn.metrics import classification_report\n",
    "from sklearn.metrics import ConfusionMatrixDisplay, confusion_matrix"
   ]
  },
  {
   "cell_type": "markdown",
   "id": "dbd0a612",
   "metadata": {},
   "source": [
    "## Reading sql data file "
   ]
  },
  {
   "cell_type": "code",
   "execution_count": 3,
   "id": "ca9bc54e",
   "metadata": {},
   "outputs": [
    {
     "data": {
      "text/html": [
       "<div>\n",
       "<style scoped>\n",
       "    .dataframe tbody tr th:only-of-type {\n",
       "        vertical-align: middle;\n",
       "    }\n",
       "\n",
       "    .dataframe tbody tr th {\n",
       "        vertical-align: top;\n",
       "    }\n",
       "\n",
       "    .dataframe thead th {\n",
       "        text-align: right;\n",
       "    }\n",
       "</style>\n",
       "<table border=\"1\" class=\"dataframe\">\n",
       "  <thead>\n",
       "    <tr style=\"text-align: right;\">\n",
       "      <th></th>\n",
       "      <th>Sentence</th>\n",
       "      <th>Label</th>\n",
       "    </tr>\n",
       "  </thead>\n",
       "  <tbody>\n",
       "    <tr>\n",
       "      <th>0</th>\n",
       "      <td>a</td>\n",
       "      <td>1</td>\n",
       "    </tr>\n",
       "    <tr>\n",
       "      <th>1</th>\n",
       "      <td>a'</td>\n",
       "      <td>1</td>\n",
       "    </tr>\n",
       "    <tr>\n",
       "      <th>2</th>\n",
       "      <td>a' --</td>\n",
       "      <td>1</td>\n",
       "    </tr>\n",
       "    <tr>\n",
       "      <th>3</th>\n",
       "      <td>a' or 1 = 1; --</td>\n",
       "      <td>1</td>\n",
       "    </tr>\n",
       "    <tr>\n",
       "      <th>4</th>\n",
       "      <td>@</td>\n",
       "      <td>1</td>\n",
       "    </tr>\n",
       "    <tr>\n",
       "      <th>5</th>\n",
       "      <td>?</td>\n",
       "      <td>1</td>\n",
       "    </tr>\n",
       "    <tr>\n",
       "      <th>6</th>\n",
       "      <td>' and 1 = 0 )  union all</td>\n",
       "      <td>1</td>\n",
       "    </tr>\n",
       "    <tr>\n",
       "      <th>7</th>\n",
       "      <td>? or 1 = 1 --</td>\n",
       "      <td>1</td>\n",
       "    </tr>\n",
       "    <tr>\n",
       "      <th>8</th>\n",
       "      <td>x' and userid is NULL; --</td>\n",
       "      <td>1</td>\n",
       "    </tr>\n",
       "    <tr>\n",
       "      <th>9</th>\n",
       "      <td>x' and email is NULL; --</td>\n",
       "      <td>1</td>\n",
       "    </tr>\n",
       "  </tbody>\n",
       "</table>\n",
       "</div>"
      ],
      "text/plain": [
       "                    Sentence  Label\n",
       "0                          a      1\n",
       "1                        a'       1\n",
       "2                      a' --      1\n",
       "3            a' or 1 = 1; --      1\n",
       "4                          @      1\n",
       "5                          ?      1\n",
       "6   ' and 1 = 0 )  union all      1\n",
       "7              ? or 1 = 1 --      1\n",
       "8  x' and userid is NULL; --      1\n",
       "9   x' and email is NULL; --      1"
      ]
     },
     "execution_count": 3,
     "metadata": {},
     "output_type": "execute_result"
    }
   ],
   "source": [
    "df = pd.read_csv(r'C:\\Users\\Snehal Thakur\\PycharmProjects\\SQLInjectionML\\dataset\\sqlCleaned.csv', encoding = 'utf-16') # Read the dataset.\n",
    "# df = pd.read_csv(r'C:\\Users\\Snehal Thakur\\PycharmProjects\\SQLInjectionML\\dataset\\SQLRaw.csv') # Read the dataset.\n",
    "df.head(10)"
   ]
  },
  {
   "cell_type": "markdown",
   "id": "69e6a30d",
   "metadata": {},
   "source": [
    "## Shape of Dataframe"
   ]
  },
  {
   "cell_type": "code",
   "execution_count": 4,
   "id": "7a8cd4c0",
   "metadata": {},
   "outputs": [
    {
     "data": {
      "text/plain": [
       "(4200, 2)"
      ]
     },
     "execution_count": 4,
     "metadata": {},
     "output_type": "execute_result"
    }
   ],
   "source": [
    "df.shape"
   ]
  },
  {
   "cell_type": "code",
   "execution_count": 5,
   "id": "146e82a0",
   "metadata": {},
   "outputs": [],
   "source": [
    "# df.drop([\"Unnamed: 2\",\"Unnamed: 3\"], axis=1, inplace=True)"
   ]
  },
  {
   "cell_type": "code",
   "execution_count": 6,
   "id": "78654e79",
   "metadata": {},
   "outputs": [],
   "source": [
    "# df"
   ]
  },
  {
   "cell_type": "markdown",
   "id": "f564688b",
   "metadata": {},
   "source": [
    "## Dataframe column information "
   ]
  },
  {
   "cell_type": "code",
   "execution_count": 7,
   "id": "3cb7639f",
   "metadata": {},
   "outputs": [
    {
     "name": "stdout",
     "output_type": "stream",
     "text": [
      "<class 'pandas.core.frame.DataFrame'>\n",
      "RangeIndex: 4200 entries, 0 to 4199\n",
      "Data columns (total 2 columns):\n",
      " #   Column    Non-Null Count  Dtype \n",
      "---  ------    --------------  ----- \n",
      " 0   Sentence  4187 non-null   object\n",
      " 1   Label     4200 non-null   int64 \n",
      "dtypes: int64(1), object(1)\n",
      "memory usage: 65.8+ KB\n"
     ]
    }
   ],
   "source": [
    "df.info()"
   ]
  },
  {
   "cell_type": "markdown",
   "id": "dad3b006",
   "metadata": {},
   "source": [
    "## Describe Dataframe "
   ]
  },
  {
   "cell_type": "code",
   "execution_count": 8,
   "id": "ca048a40",
   "metadata": {},
   "outputs": [
    {
     "data": {
      "text/html": [
       "<div>\n",
       "<style scoped>\n",
       "    .dataframe tbody tr th:only-of-type {\n",
       "        vertical-align: middle;\n",
       "    }\n",
       "\n",
       "    .dataframe tbody tr th {\n",
       "        vertical-align: top;\n",
       "    }\n",
       "\n",
       "    .dataframe thead th {\n",
       "        text-align: right;\n",
       "    }\n",
       "</style>\n",
       "<table border=\"1\" class=\"dataframe\">\n",
       "  <thead>\n",
       "    <tr style=\"text-align: right;\">\n",
       "      <th></th>\n",
       "      <th>Sentence</th>\n",
       "      <th>Label</th>\n",
       "    </tr>\n",
       "  </thead>\n",
       "  <tbody>\n",
       "    <tr>\n",
       "      <th>count</th>\n",
       "      <td>4187</td>\n",
       "      <td>4200.000000</td>\n",
       "    </tr>\n",
       "    <tr>\n",
       "      <th>unique</th>\n",
       "      <td>3950</td>\n",
       "      <td>NaN</td>\n",
       "    </tr>\n",
       "    <tr>\n",
       "      <th>top</th>\n",
       "      <td>S</td>\n",
       "      <td>NaN</td>\n",
       "    </tr>\n",
       "    <tr>\n",
       "      <th>freq</th>\n",
       "      <td>29</td>\n",
       "      <td>NaN</td>\n",
       "    </tr>\n",
       "    <tr>\n",
       "      <th>mean</th>\n",
       "      <td>NaN</td>\n",
       "      <td>0.268571</td>\n",
       "    </tr>\n",
       "    <tr>\n",
       "      <th>std</th>\n",
       "      <td>NaN</td>\n",
       "      <td>0.443269</td>\n",
       "    </tr>\n",
       "    <tr>\n",
       "      <th>min</th>\n",
       "      <td>NaN</td>\n",
       "      <td>0.000000</td>\n",
       "    </tr>\n",
       "    <tr>\n",
       "      <th>25%</th>\n",
       "      <td>NaN</td>\n",
       "      <td>0.000000</td>\n",
       "    </tr>\n",
       "    <tr>\n",
       "      <th>50%</th>\n",
       "      <td>NaN</td>\n",
       "      <td>0.000000</td>\n",
       "    </tr>\n",
       "    <tr>\n",
       "      <th>75%</th>\n",
       "      <td>NaN</td>\n",
       "      <td>1.000000</td>\n",
       "    </tr>\n",
       "    <tr>\n",
       "      <th>max</th>\n",
       "      <td>NaN</td>\n",
       "      <td>1.000000</td>\n",
       "    </tr>\n",
       "  </tbody>\n",
       "</table>\n",
       "</div>"
      ],
      "text/plain": [
       "       Sentence        Label\n",
       "count      4187  4200.000000\n",
       "unique     3950          NaN\n",
       "top           S          NaN\n",
       "freq         29          NaN\n",
       "mean        NaN     0.268571\n",
       "std         NaN     0.443269\n",
       "min         NaN     0.000000\n",
       "25%         NaN     0.000000\n",
       "50%         NaN     0.000000\n",
       "75%         NaN     1.000000\n",
       "max         NaN     1.000000"
      ]
     },
     "execution_count": 8,
     "metadata": {},
     "output_type": "execute_result"
    }
   ],
   "source": [
    "df.describe(include=\"all\")"
   ]
  },
  {
   "cell_type": "markdown",
   "id": "7a3b0f93",
   "metadata": {},
   "source": [
    "## Describe Label column "
   ]
  },
  {
   "cell_type": "code",
   "execution_count": 9,
   "id": "756d1923",
   "metadata": {},
   "outputs": [
    {
     "data": {
      "text/plain": [
       "count    4200.000000\n",
       "mean        0.268571\n",
       "std         0.443269\n",
       "min         0.000000\n",
       "25%         0.000000\n",
       "50%         0.000000\n",
       "75%         1.000000\n",
       "max         1.000000\n",
       "Name: Label, dtype: float64"
      ]
     },
     "execution_count": 9,
     "metadata": {},
     "output_type": "execute_result"
    }
   ],
   "source": [
    "df['Label'].describe()"
   ]
  },
  {
   "cell_type": "markdown",
   "id": "bdf1a30f",
   "metadata": {},
   "source": [
    "## Check null values "
   ]
  },
  {
   "cell_type": "code",
   "execution_count": 10,
   "id": "dd8799ee",
   "metadata": {},
   "outputs": [
    {
     "data": {
      "text/plain": [
       "Sentence    13\n",
       "Label        0\n",
       "dtype: int64"
      ]
     },
     "execution_count": 10,
     "metadata": {},
     "output_type": "execute_result"
    }
   ],
   "source": [
    "df.isna().sum()"
   ]
  },
  {
   "cell_type": "markdown",
   "id": "1084a054",
   "metadata": {},
   "source": [
    "## Drop null values "
   ]
  },
  {
   "cell_type": "code",
   "execution_count": 11,
   "id": "0438f46f",
   "metadata": {},
   "outputs": [],
   "source": [
    "df.dropna(inplace=True)"
   ]
  },
  {
   "cell_type": "markdown",
   "id": "423cbc68",
   "metadata": {},
   "source": [
    "## Check null values after dropping null values "
   ]
  },
  {
   "cell_type": "code",
   "execution_count": 12,
   "id": "331b992b",
   "metadata": {},
   "outputs": [
    {
     "data": {
      "text/plain": [
       "Sentence    0\n",
       "Label       0\n",
       "dtype: int64"
      ]
     },
     "execution_count": 12,
     "metadata": {},
     "output_type": "execute_result"
    }
   ],
   "source": [
    "df.isna().sum()"
   ]
  },
  {
   "cell_type": "markdown",
   "id": "3b79de5d",
   "metadata": {},
   "source": [
    "##  Count values where Label is 1 "
   ]
  },
  {
   "cell_type": "code",
   "execution_count": 13,
   "id": "adcd876e",
   "metadata": {},
   "outputs": [
    {
     "data": {
      "text/plain": [
       "Sentence    1127\n",
       "Label       1127\n",
       "dtype: int64"
      ]
     },
     "execution_count": 13,
     "metadata": {},
     "output_type": "execute_result"
    }
   ],
   "source": [
    "df[df['Label'] == 1].count() # Count how much label are 1."
   ]
  },
  {
   "cell_type": "markdown",
   "id": "430c4c28",
   "metadata": {},
   "source": [
    "##  Count values where Label is 0"
   ]
  },
  {
   "cell_type": "code",
   "execution_count": 14,
   "id": "cb1f6a29",
   "metadata": {},
   "outputs": [
    {
     "data": {
      "text/plain": [
       "Sentence    3060\n",
       "Label       3060\n",
       "dtype: int64"
      ]
     },
     "execution_count": 14,
     "metadata": {},
     "output_type": "execute_result"
    }
   ],
   "source": [
    "df[df['Label'] == 0].count() # Count how much label are 0."
   ]
  },
  {
   "cell_type": "markdown",
   "id": "a38e1f2e",
   "metadata": {},
   "source": [
    "## Label value counts"
   ]
  },
  {
   "cell_type": "code",
   "execution_count": 15,
   "id": "44f9418d",
   "metadata": {},
   "outputs": [
    {
     "data": {
      "text/plain": [
       "0    3060\n",
       "1    1127\n",
       "Name: Label, dtype: int64"
      ]
     },
     "execution_count": 15,
     "metadata": {},
     "output_type": "execute_result"
    }
   ],
   "source": [
    "df['Label'].value_counts()"
   ]
  },
  {
   "cell_type": "markdown",
   "id": "bf2f682d",
   "metadata": {},
   "source": [
    "## Plot label counts "
   ]
  },
  {
   "cell_type": "code",
   "execution_count": 16,
   "id": "109365ce",
   "metadata": {},
   "outputs": [
    {
     "data": {
      "image/png": "[encoded data removed]",
      "text/plain": [
       "<Figure size 1200x400 with 2 Axes>"
      ]
     },
     "metadata": {},
     "output_type": "display_data"
    }
   ],
   "source": [
    "f,ax=plt.subplots(1,2,figsize=(12,4))\n",
    "df['Label'].value_counts().plot.pie(explode=[0,0.1],autopct='%1.1f%%',ax=ax[0],shadow=True)\n",
    "\n",
    "\n",
    "ax[0].set_title('Label')\n",
    "ax[0].set_ylabel('')\n",
    "sns.countplot(x=df[\"Label\"],ax=ax[1])\n",
    "ax[1].set_title('Label')\n",
    "plt.show()"
   ]
  },
  {
   "cell_type": "markdown",
   "id": "1cae4070",
   "metadata": {},
   "source": [
    "# Approach 1. Count Vectorizer"
   ]
  },
  {
   "cell_type": "markdown",
   "id": "7d414be0",
   "metadata": {},
   "source": [
    "##  CountVectorizer - Convert a collection of text documents to a matrix of token counts"
   ]
  },
  {
   "cell_type": "code",
   "execution_count": 17,
   "id": "aea0b561",
   "metadata": {},
   "outputs": [
    {
     "data": {
      "text/plain": [
       "array([[0, 0, 0, ..., 0, 0, 0],\n",
       "       [0, 0, 0, ..., 0, 0, 0],\n",
       "       [0, 0, 0, ..., 0, 0, 0],\n",
       "       ...,\n",
       "       [0, 0, 0, ..., 0, 0, 0],\n",
       "       [0, 0, 0, ..., 0, 0, 0],\n",
       "       [0, 0, 1, ..., 0, 0, 0]], dtype=int64)"
      ]
     },
     "execution_count": 17,
     "metadata": {},
     "output_type": "execute_result"
    }
   ],
   "source": [
    "X = df['Sentence']\n",
    "y = df['Label']\n",
    "# CountVectorizer - Convert a collection of text documents to a matrix of token counts\n",
    "count_vectorizer = CountVectorizer(min_df = 2, max_df = 0.8, stop_words = stopwords.words('english'))\n",
    "X = count_vectorizer.fit_transform(X.values.astype('U')).toarray()\n",
    "X"
   ]
  },
  {
   "cell_type": "code",
   "execution_count": 18,
   "id": "91a1a361",
   "metadata": {},
   "outputs": [
    {
     "name": "stderr",
     "output_type": "stream",
     "text": [
      "C:\\Users\\Public\\DataScience\\envs\\sqlinjection\\lib\\site-packages\\sklearn\\utils\\deprecation.py:87: FutureWarning: Function get_feature_names is deprecated; get_feature_names is deprecated in 1.0 and will be removed in 1.2. Please use get_feature_names_out instead.\n",
      "  warnings.warn(msg, category=FutureWarning)\n"
     ]
    },
    {
     "data": {
      "text/plain": [
       "['00',\n",
       " '000',\n",
       " '01',\n",
       " '04',\n",
       " '0x730065006c00650063007400200040004000760065007200730069006f006e00',\n",
       " '0x73656c65637420404076657273696f6e',\n",
       " '0x77616974666f722064656c61792027303a303a31302700',\n",
       " '10',\n",
       " '100',\n",
       " '10000000',\n",
       " '100aklima',\n",
       " '101',\n",
       " '106',\n",
       " '108',\n",
       " '11',\n",
       " '110',\n",
       " '112',\n",
       " '115',\n",
       " '116',\n",
       " '12',\n",
       " '120',\n",
       " '1234',\n",
       " '125',\n",
       " '129',\n",
       " '13',\n",
       " '14',\n",
       " '15',\n",
       " '150',\n",
       " '16',\n",
       " '17',\n",
       " '172',\n",
       " '18',\n",
       " '19',\n",
       " '1966',\n",
       " '1970s',\n",
       " '1992',\n",
       " '1997',\n",
       " '1_',\n",
       " '1a',\n",
       " '20',\n",
       " '200',\n",
       " '2000',\n",
       " '2001',\n",
       " '2002',\n",
       " '2003',\n",
       " '2004',\n",
       " '2005',\n",
       " '2006',\n",
       " '2007',\n",
       " '2008',\n",
       " '2009',\n",
       " '2010',\n",
       " '2011',\n",
       " '2012',\n",
       " '2013',\n",
       " '2014',\n",
       " '2015',\n",
       " '2017',\n",
       " '201704',\n",
       " '202',\n",
       " '2020',\n",
       " '203',\n",
       " '21',\n",
       " '214',\n",
       " '22',\n",
       " '220',\n",
       " '23',\n",
       " '24',\n",
       " '25',\n",
       " '250',\n",
       " '250th',\n",
       " '255',\n",
       " '26',\n",
       " '27',\n",
       " '28',\n",
       " '28mail',\n",
       " '28objectclass',\n",
       " '29',\n",
       " '2a',\n",
       " '2b',\n",
       " '30',\n",
       " '300',\n",
       " '31',\n",
       " '32',\n",
       " '325',\n",
       " '33',\n",
       " '330',\n",
       " '35',\n",
       " '36',\n",
       " '365',\n",
       " '37',\n",
       " '38',\n",
       " '39',\n",
       " '3d',\n",
       " '40',\n",
       " '4000',\n",
       " '4039',\n",
       " '40select',\n",
       " '41',\n",
       " '42',\n",
       " '44',\n",
       " '45',\n",
       " '457',\n",
       " '46',\n",
       " '47',\n",
       " '49',\n",
       " '50',\n",
       " '500',\n",
       " '50ft',\n",
       " '51',\n",
       " '52',\n",
       " '53',\n",
       " '59',\n",
       " '60',\n",
       " '600',\n",
       " '63',\n",
       " '67',\n",
       " '70',\n",
       " '700',\n",
       " '75',\n",
       " '7659',\n",
       " '777',\n",
       " '777x',\n",
       " '7c',\n",
       " '80',\n",
       " '800',\n",
       " '8000',\n",
       " '81dc9bdb52d04dc20036dbd8313ed055',\n",
       " '82',\n",
       " '83',\n",
       " '84',\n",
       " '88',\n",
       " '90',\n",
       " '900',\n",
       " '91',\n",
       " '93',\n",
       " '94',\n",
       " '945',\n",
       " '95',\n",
       " '96',\n",
       " '97',\n",
       " '99',\n",
       " '9th',\n",
       " '__time__',\n",
       " 'a350',\n",
       " 'aachen',\n",
       " 'aap',\n",
       " 'abbott',\n",
       " 'abc',\n",
       " 'abendmahlskirche',\n",
       " 'ability',\n",
       " 'able',\n",
       " 'abolition',\n",
       " 'abreast',\n",
       " 'abroad',\n",
       " 'absolute',\n",
       " 'absolutely',\n",
       " 'abuse',\n",
       " 'abused',\n",
       " 'accept',\n",
       " 'access',\n",
       " 'accessible',\n",
       " 'accident',\n",
       " 'accommodations',\n",
       " 'accompanied',\n",
       " 'accompany',\n",
       " 'according',\n",
       " 'account',\n",
       " 'accounts',\n",
       " 'accurate',\n",
       " 'accused',\n",
       " 'achieve',\n",
       " 'achieved',\n",
       " 'achim',\n",
       " 'acknowledged',\n",
       " 'acknowledges',\n",
       " 'acquire',\n",
       " 'across',\n",
       " 'act',\n",
       " 'acted',\n",
       " 'acting',\n",
       " 'action',\n",
       " 'actions',\n",
       " 'active',\n",
       " 'activist',\n",
       " 'activists',\n",
       " 'activities',\n",
       " 'activity',\n",
       " 'actor',\n",
       " 'acts',\n",
       " 'actual',\n",
       " 'actually',\n",
       " 'add',\n",
       " 'added',\n",
       " 'addiction',\n",
       " 'adding',\n",
       " 'addition',\n",
       " 'additional',\n",
       " 'address',\n",
       " 'addressed',\n",
       " 'addressing',\n",
       " 'adds',\n",
       " 'admin',\n",
       " 'administration',\n",
       " 'administrative',\n",
       " 'administrator',\n",
       " 'admission',\n",
       " 'admit',\n",
       " 'admitted',\n",
       " 'adopted',\n",
       " 'adult',\n",
       " 'adults',\n",
       " 'advance',\n",
       " 'advancing',\n",
       " 'advantage',\n",
       " 'adverbial',\n",
       " 'advertising',\n",
       " 'advice',\n",
       " 'advised',\n",
       " 'adviser',\n",
       " 'advisers',\n",
       " 'advises',\n",
       " 'advisory',\n",
       " 'advocates',\n",
       " 'aerospace',\n",
       " 'affair',\n",
       " 'affairs',\n",
       " 'affect',\n",
       " 'affectation',\n",
       " 'affected',\n",
       " 'afford',\n",
       " 'affordable',\n",
       " 'afghanistan',\n",
       " 'afraid',\n",
       " 'africa',\n",
       " 'african',\n",
       " 'afternoon',\n",
       " 'afterwards',\n",
       " 'age',\n",
       " 'agencies',\n",
       " 'agency',\n",
       " 'agent',\n",
       " 'agents',\n",
       " 'ages',\n",
       " 'aggressive',\n",
       " 'aging',\n",
       " 'ago',\n",
       " 'agree',\n",
       " 'agreed',\n",
       " 'agreement',\n",
       " 'agreements',\n",
       " 'ah',\n",
       " 'ahead',\n",
       " 'ailing',\n",
       " 'aims',\n",
       " 'air',\n",
       " 'airbus',\n",
       " 'aircraft',\n",
       " 'airline',\n",
       " 'airliners',\n",
       " 'airlines',\n",
       " 'airplane',\n",
       " 'airplanes',\n",
       " 'airport',\n",
       " 'airports',\n",
       " 'airshow',\n",
       " 'airways',\n",
       " 'al',\n",
       " 'alb',\n",
       " 'albert',\n",
       " 'alderson',\n",
       " 'alex',\n",
       " 'alexander',\n",
       " 'alexei',\n",
       " 'algorithms',\n",
       " 'alistair',\n",
       " 'all_tab_columns',\n",
       " 'all_tables',\n",
       " 'all_users',\n",
       " 'allegations',\n",
       " 'allergic',\n",
       " 'allergies',\n",
       " 'allies',\n",
       " 'allow',\n",
       " 'allowance',\n",
       " 'allowed',\n",
       " 'allowing',\n",
       " 'allows',\n",
       " 'almost',\n",
       " 'alone',\n",
       " 'along',\n",
       " 'alongside',\n",
       " 'already',\n",
       " 'also',\n",
       " 'alternative',\n",
       " 'alternatives',\n",
       " 'although',\n",
       " 'altitudes',\n",
       " 'always',\n",
       " 'amateur',\n",
       " 'amazing',\n",
       " 'ambiguous',\n",
       " 'ambitious',\n",
       " 'america',\n",
       " 'american',\n",
       " 'americans',\n",
       " 'amid',\n",
       " 'amirthalinga',\n",
       " 'among',\n",
       " 'amount',\n",
       " 'amp',\n",
       " 'analysts',\n",
       " 'ancient',\n",
       " 'anderson',\n",
       " 'andre',\n",
       " 'andrew',\n",
       " 'androgen',\n",
       " 'andy',\n",
       " 'angela',\n",
       " 'angeles',\n",
       " 'angels',\n",
       " 'anger',\n",
       " 'angle',\n",
       " 'angry',\n",
       " 'animal',\n",
       " 'animals',\n",
       " 'anna',\n",
       " 'anne',\n",
       " 'anniversary',\n",
       " 'announced',\n",
       " 'announcement',\n",
       " 'announcements',\n",
       " 'announcing',\n",
       " 'annual',\n",
       " 'anonymous',\n",
       " 'another',\n",
       " 'answer',\n",
       " 'answers',\n",
       " 'anthony',\n",
       " 'anti',\n",
       " 'antibodies',\n",
       " 'antibody',\n",
       " 'anticipated',\n",
       " 'anxious',\n",
       " 'anyone',\n",
       " 'anything',\n",
       " 'apartment',\n",
       " 'apology',\n",
       " 'apos',\n",
       " 'appeal',\n",
       " 'appealed',\n",
       " 'appealing',\n",
       " 'appeals',\n",
       " 'appear',\n",
       " 'appearance',\n",
       " 'appearances',\n",
       " 'appeared',\n",
       " 'appearing',\n",
       " 'apple',\n",
       " 'applicant',\n",
       " 'application',\n",
       " 'applications',\n",
       " 'applied',\n",
       " 'applies',\n",
       " 'apply2',\n",
       " 'approach',\n",
       " 'approaches',\n",
       " 'appropriate',\n",
       " 'approval',\n",
       " 'approved',\n",
       " 'arbitration',\n",
       " 'arch',\n",
       " 'archaeological',\n",
       " 'arctic',\n",
       " 'arduous',\n",
       " 'area',\n",
       " 'areas',\n",
       " 'arena',\n",
       " 'argue',\n",
       " 'argued',\n",
       " 'argument',\n",
       " 'armed',\n",
       " 'arms',\n",
       " 'army',\n",
       " 'arne',\n",
       " 'arnold',\n",
       " 'around',\n",
       " 'arrest',\n",
       " 'arrested',\n",
       " 'arrests',\n",
       " 'arrival',\n",
       " 'arrive',\n",
       " 'arrived',\n",
       " 'arrives',\n",
       " 'arriving',\n",
       " 'arsenal',\n",
       " 'art',\n",
       " 'artisans',\n",
       " 'asc',\n",
       " 'ascovime',\n",
       " 'ashamed',\n",
       " 'asia',\n",
       " 'asian',\n",
       " 'ask',\n",
       " 'asked',\n",
       " 'asking',\n",
       " 'aspect',\n",
       " 'aspects',\n",
       " 'assad',\n",
       " 'assailants',\n",
       " 'assange',\n",
       " 'assault',\n",
       " 'assessed',\n",
       " 'assets',\n",
       " 'assign',\n",
       " 'assigned',\n",
       " 'assigning',\n",
       " 'assignment',\n",
       " 'assist',\n",
       " 'assistance',\n",
       " 'associate',\n",
       " 'associated',\n",
       " 'association',\n",
       " 'assume',\n",
       " 'assumed',\n",
       " 'assumption',\n",
       " 'assured',\n",
       " 'astronomers',\n",
       " 'asylum',\n",
       " 'athletes',\n",
       " 'atmosphere',\n",
       " 'attached',\n",
       " 'attack',\n",
       " 'attacked',\n",
       " 'attackers',\n",
       " 'attacking',\n",
       " 'attacks',\n",
       " 'attempt',\n",
       " 'attempted',\n",
       " 'attendance',\n",
       " 'attended',\n",
       " 'attention',\n",
       " 'attorney',\n",
       " 'attracted',\n",
       " 'attractive',\n",
       " 'auction',\n",
       " 'audience',\n",
       " 'audiences',\n",
       " 'auf',\n",
       " 'august',\n",
       " 'austerity',\n",
       " 'australia',\n",
       " 'australian',\n",
       " 'author',\n",
       " 'authorisation',\n",
       " 'authoritarian',\n",
       " 'authorities',\n",
       " 'authority',\n",
       " 'authors',\n",
       " 'auto',\n",
       " 'automatic',\n",
       " 'autopsy',\n",
       " 'autumn',\n",
       " 'available',\n",
       " 'average',\n",
       " 'aviation',\n",
       " 'avoid',\n",
       " 'avoided',\n",
       " 'award',\n",
       " 'awards',\n",
       " 'aware',\n",
       " 'away',\n",
       " 'babe',\n",
       " 'babies',\n",
       " 'baby',\n",
       " 'back',\n",
       " 'backed',\n",
       " 'background',\n",
       " 'backlog',\n",
       " 'bad',\n",
       " 'baden',\n",
       " 'bader',\n",
       " 'bag',\n",
       " 'baggage',\n",
       " 'bags',\n",
       " 'bahn',\n",
       " 'baiersbronn',\n",
       " 'bail',\n",
       " 'balance',\n",
       " 'bali',\n",
       " 'ballerstedt',\n",
       " 'bamford',\n",
       " 'ban',\n",
       " 'band',\n",
       " 'bang',\n",
       " 'bank',\n",
       " 'bankers',\n",
       " 'bankrupt',\n",
       " 'bankruptcy',\n",
       " 'banks',\n",
       " 'banner',\n",
       " 'bar',\n",
       " 'barack',\n",
       " 'baratz',\n",
       " 'barclays',\n",
       " 'barely',\n",
       " 'baroness',\n",
       " 'barrel',\n",
       " 'barrels',\n",
       " 'barrier',\n",
       " 'barriers',\n",
       " 'bars',\n",
       " 'base',\n",
       " 'based',\n",
       " 'basharat',\n",
       " 'basic',\n",
       " 'basin',\n",
       " 'basis',\n",
       " 'basketball',\n",
       " 'bath',\n",
       " 'battered',\n",
       " 'battle',\n",
       " 'battled',\n",
       " 'bauer',\n",
       " 'bay',\n",
       " 'baywatch',\n",
       " 'bbs314',\n",
       " 'bbs338',\n",
       " 'bear',\n",
       " 'beating',\n",
       " 'beats',\n",
       " 'beaudoin',\n",
       " 'beautiful',\n",
       " 'became',\n",
       " 'becker',\n",
       " 'become',\n",
       " 'becomes',\n",
       " 'becoming',\n",
       " 'bed',\n",
       " 'bedroom',\n",
       " 'beer',\n",
       " 'beforehand',\n",
       " 'began',\n",
       " 'begin',\n",
       " 'beginning',\n",
       " 'begins',\n",
       " 'begun',\n",
       " 'behalf',\n",
       " 'behaviour',\n",
       " 'behind',\n",
       " 'believe',\n",
       " 'believed',\n",
       " 'believes',\n",
       " 'belonged',\n",
       " 'belongs',\n",
       " 'belt',\n",
       " 'ben',\n",
       " 'benchmark',\n",
       " 'bendemeer',\n",
       " 'beneath',\n",
       " 'benefit',\n",
       " 'benefits',\n",
       " 'benni',\n",
       " 'berlin',\n",
       " 'best',\n",
       " 'better',\n",
       " 'beyond',\n",
       " 'bfilename',\n",
       " 'bfv',\n",
       " 'bias',\n",
       " 'bible',\n",
       " 'bid',\n",
       " 'biden',\n",
       " 'big',\n",
       " 'bigger',\n",
       " 'biggest',\n",
       " 'bill',\n",
       " 'billion',\n",
       " 'bin',\n",
       " 'bins',\n",
       " 'biological',\n",
       " 'biosphere',\n",
       " 'bird',\n",
       " 'birmingham',\n",
       " 'birth',\n",
       " 'birthday',\n",
       " 'birthplace',\n",
       " 'bittner',\n",
       " 'black',\n",
       " 'blackburn',\n",
       " 'blair',\n",
       " 'blame',\n",
       " 'blames',\n",
       " 'blatant',\n",
       " 'bloc',\n",
       " 'block',\n",
       " 'blocked',\n",
       " 'blocks',\n",
       " 'blonde',\n",
       " 'bloody',\n",
       " 'bloom',\n",
       " 'blow',\n",
       " 'blown',\n",
       " 'blows',\n",
       " 'blue',\n",
       " 'blunkett',\n",
       " 'bmw',\n",
       " 'board',\n",
       " 'boat',\n",
       " 'bob',\n",
       " 'bodily',\n",
       " 'body',\n",
       " 'boeing',\n",
       " 'bomb',\n",
       " 'bombardier',\n",
       " 'bombing',\n",
       " 'bonndorf',\n",
       " 'book',\n",
       " 'books',\n",
       " 'booysen',\n",
       " 'border',\n",
       " 'born',\n",
       " 'borussia',\n",
       " 'boss',\n",
       " 'boston',\n",
       " 'bottles',\n",
       " 'bottom',\n",
       " 'bought',\n",
       " 'boundary',\n",
       " 'bowler',\n",
       " 'box',\n",
       " 'boxes',\n",
       " 'boy',\n",
       " 'boys',\n",
       " 'brain',\n",
       " 'brake',\n",
       " 'branch',\n",
       " 'brand',\n",
       " 'brazil',\n",
       " 'breaches',\n",
       " 'break',\n",
       " 'breakdowns',\n",
       " 'breakfast',\n",
       " 'breast',\n",
       " 'breasts',\n",
       " 'breath',\n",
       " 'bridge',\n",
       " 'briefly',\n",
       " 'bring',\n",
       " 'bringing',\n",
       " 'brings',\n",
       " 'bristol',\n",
       " 'britain',\n",
       " 'british',\n",
       " 'broadcaster',\n",
       " 'broke',\n",
       " 'broken',\n",
       " 'bronner',\n",
       " 'brooks',\n",
       " 'brother',\n",
       " 'brotherhood',\n",
       " 'brought',\n",
       " 'brown',\n",
       " 'bruce',\n",
       " 'brussels',\n",
       " 'brute',\n",
       " 'bräunlingen',\n",
       " 'bucket',\n",
       " 'budget',\n",
       " 'budgetary',\n",
       " 'bugged',\n",
       " 'build',\n",
       " 'building',\n",
       " 'buildings',\n",
       " 'built',\n",
       " 'bulgaria',\n",
       " 'bulgarian',\n",
       " 'bulk',\n",
       " 'bundesliga',\n",
       " 'bunker',\n",
       " 'burfien',\n",
       " 'buried',\n",
       " 'burt',\n",
       " 'bus',\n",
       " 'business',\n",
       " 'businesses',\n",
       " 'buy',\n",
       " 'buyer',\n",
       " 'buyers',\n",
       " 'bvb',\n",
       " 'bwelle',\n",
       " 'bypass',\n",
       " 'börsen',\n",
       " 'caber',\n",
       " 'cabin',\n",
       " 'cabins',\n",
       " 'cable',\n",
       " 'cairo',\n",
       " 'cake',\n",
       " 'calculated',\n",
       " 'california',\n",
       " 'call',\n",
       " 'called',\n",
       " 'calls',\n",
       " 'calm',\n",
       " 'came',\n",
       " 'cameroon',\n",
       " 'camp',\n",
       " 'campaign',\n",
       " 'campaigns',\n",
       " 'canal',\n",
       " 'cancelled',\n",
       " 'candidate',\n",
       " 'candy',\n",
       " 'canines',\n",
       " 'cannot',\n",
       " 'capabilities',\n",
       " 'capacity',\n",
       " 'capital',\n",
       " 'capo',\n",
       " 'car',\n",
       " 'carbon',\n",
       " 'card',\n",
       " 'cardiff',\n",
       " 'cardinal',\n",
       " 'cardinals',\n",
       " 'cards',\n",
       " 'care',\n",
       " 'career',\n",
       " 'careful',\n",
       " 'caringbah',\n",
       " 'carmen',\n",
       " 'carmichael',\n",
       " 'carolines',\n",
       " 'carried',\n",
       " 'carriers',\n",
       " 'carry',\n",
       " 'carrying',\n",
       " 'cars',\n",
       " 'cartels',\n",
       " 'carving',\n",
       " 'casa',\n",
       " 'case',\n",
       " 'cases',\n",
       " 'cash',\n",
       " 'cast',\n",
       " 'castle',\n",
       " 'cathedral',\n",
       " 'catholic',\n",
       " 'catholics',\n",
       " 'caught',\n",
       " 'cause',\n",
       " 'caused',\n",
       " 'ccaa',\n",
       " 'cctv',\n",
       " 'cdata',\n",
       " 'cdc',\n",
       " 'celebrate',\n",
       " 'celebrating',\n",
       " 'celebration',\n",
       " 'celebrations',\n",
       " 'celebratory',\n",
       " 'cell',\n",
       " 'cellphone',\n",
       " 'cellphones',\n",
       " 'cells',\n",
       " 'cent',\n",
       " 'center',\n",
       " 'centimetres',\n",
       " 'central',\n",
       " 'centre',\n",
       " 'cents',\n",
       " 'centuries',\n",
       " 'century',\n",
       " 'ceo',\n",
       " 'ceremonies',\n",
       " 'ceremony',\n",
       " 'certain',\n",
       " 'certainly',\n",
       " 'certificates',\n",
       " 'cgi',\n",
       " 'chain',\n",
       " 'chair',\n",
       " 'chairman',\n",
       " 'chairperson',\n",
       " 'challenge',\n",
       " 'challenging',\n",
       " 'chamber',\n",
       " 'champion',\n",
       " 'championships',\n",
       " 'chance',\n",
       " 'chancellor',\n",
       " 'change',\n",
       " 'changed',\n",
       " 'changes',\n",
       " 'channel',\n",
       " 'channels',\n",
       " 'chants',\n",
       " 'char',\n",
       " 'character',\n",
       " 'characterised',\n",
       " 'characteristics',\n",
       " 'charge',\n",
       " 'charged',\n",
       " 'charges',\n",
       " 'charging',\n",
       " 'charles',\n",
       " 'charlie',\n",
       " 'charred',\n",
       " 'chatting',\n",
       " 'cheap',\n",
       " 'cheaper',\n",
       " 'check',\n",
       " 'checks',\n",
       " 'cheese',\n",
       " 'chemical',\n",
       " 'chemicals',\n",
       " 'chen',\n",
       " 'cheops',\n",
       " 'chickens',\n",
       " 'chief',\n",
       " 'child',\n",
       " 'children',\n",
       " 'china',\n",
       " 'chinese',\n",
       " 'choice',\n",
       " 'choir',\n",
       " 'choose',\n",
       " 'choosing',\n",
       " 'chosen',\n",
       " 'chris',\n",
       " 'christ',\n",
       " 'christensen',\n",
       " 'christian',\n",
       " 'christmas',\n",
       " 'chromosomes',\n",
       " 'chronicle',\n",
       " 'church',\n",
       " 'churches',\n",
       " 'cigarette',\n",
       " 'circles',\n",
       " 'circuit',\n",
       " 'circular',\n",
       " 'circumstances',\n",
       " 'cited',\n",
       " 'cities',\n",
       " 'citigroup',\n",
       " 'citizen',\n",
       " 'citizens',\n",
       " 'city',\n",
       " 'civil',\n",
       " 'claim',\n",
       " 'claimed',\n",
       " 'claiming',\n",
       " 'claims',\n",
       " 'clapper',\n",
       " 'clarified',\n",
       " 'clarify',\n",
       " 'clark',\n",
       " 'clarke',\n",
       " 'clashes',\n",
       " 'class',\n",
       " 'classic',\n",
       " 'claudia',\n",
       " 'cleaned',\n",
       " 'clear',\n",
       " 'clearing',\n",
       " 'clearly',\n",
       " 'client',\n",
       " 'clients',\n",
       " 'cliff',\n",
       " 'climate',\n",
       " 'climb',\n",
       " 'clinic',\n",
       " 'clinics',\n",
       " 'clinton',\n",
       " 'close',\n",
       " 'closely',\n",
       " 'closer',\n",
       " 'closest',\n",
       " 'clothes',\n",
       " 'clothing',\n",
       " 'cloud',\n",
       " 'club',\n",
       " 'clubhouse',\n",
       " 'clubs',\n",
       " 'cnn',\n",
       " 'co',\n",
       " 'coach',\n",
       " 'coal',\n",
       " 'coalition',\n",
       " 'coals',\n",
       " 'coast',\n",
       " 'coat',\n",
       " 'cocaine',\n",
       " 'cocker',\n",
       " 'code',\n",
       " 'coffee',\n",
       " 'cold',\n",
       " 'collaboration',\n",
       " 'colleagues',\n",
       " 'collect',\n",
       " 'collected',\n",
       " 'collection',\n",
       " 'college',\n",
       " 'collided',\n",
       " 'collision',\n",
       " 'cologne',\n",
       " 'colour',\n",
       " 'column_name',\n",
       " 'com',\n",
       " 'com_k2',\n",
       " 'combined',\n",
       " 'come',\n",
       " 'comedians',\n",
       " 'comedy',\n",
       " 'comes',\n",
       " 'comfort',\n",
       " 'comfortable',\n",
       " 'coming',\n",
       " 'commander',\n",
       " 'comment',\n",
       " 'commented',\n",
       " 'comments',\n",
       " 'commerce',\n",
       " 'commercial',\n",
       " 'commission',\n",
       " 'commissioned',\n",
       " 'commitment',\n",
       " 'committed',\n",
       " 'committee',\n",
       " 'committees',\n",
       " 'common',\n",
       " 'commonly',\n",
       " 'commonwealth',\n",
       " 'communicate',\n",
       " 'communicated',\n",
       " 'communicating',\n",
       " 'communication',\n",
       " 'communications',\n",
       " 'communities',\n",
       " 'community',\n",
       " 'companies',\n",
       " 'company',\n",
       " 'compared',\n",
       " 'comparison',\n",
       " 'compensation',\n",
       " 'compete',\n",
       " 'competing',\n",
       " 'competition',\n",
       " 'competitive',\n",
       " 'competitors',\n",
       " 'complaints',\n",
       " 'complete',\n",
       " 'completed',\n",
       " 'completely',\n",
       " 'completion',\n",
       " 'complex',\n",
       " 'complexity',\n",
       " 'comply',\n",
       " 'composed',\n",
       " 'composition',\n",
       " 'comprehensive',\n",
       " 'compromised',\n",
       " 'computer',\n",
       " 'computers',\n",
       " 'computing',\n",
       " 'conceal',\n",
       " 'conceded',\n",
       " 'concept',\n",
       " 'concern',\n",
       " 'concerned',\n",
       " 'concerns',\n",
       " 'concert',\n",
       " 'concessions',\n",
       " 'concluded',\n",
       " 'conclusion',\n",
       " 'conclusions',\n",
       " 'concrete',\n",
       " 'condemned',\n",
       " 'condition',\n",
       " 'conditional',\n",
       " 'conditions',\n",
       " 'conduct',\n",
       " 'conducted',\n",
       " 'conducting',\n",
       " 'conference',\n",
       " 'confession',\n",
       " 'confessions',\n",
       " 'confidence',\n",
       " 'confident',\n",
       " 'confirm',\n",
       " 'confirmation',\n",
       " 'confirmed',\n",
       " 'conflict',\n",
       " 'conformity',\n",
       " 'confrontation',\n",
       " 'confusing',\n",
       " 'congregation',\n",
       " 'congress',\n",
       " ...]"
      ]
     },
     "execution_count": 18,
     "metadata": {},
     "output_type": "execute_result"
    }
   ],
   "source": [
    "count_vectorizer.get_feature_names()"
   ]
  },
  {
   "cell_type": "markdown",
   "id": "7341020f",
   "metadata": {},
   "source": [
    "### Train-test split "
   ]
  },
  {
   "cell_type": "code",
   "execution_count": 19,
   "id": "458d5e2f",
   "metadata": {},
   "outputs": [
    {
     "name": "stdout",
     "output_type": "stream",
     "text": [
      "X_train.shape -  (3349, 4716)\n",
      "y_train.shape - (3349,)\n",
      "X_test.shape - (838, 4716)\n",
      "y_test.shape - (838,)\n"
     ]
    }
   ],
   "source": [
    "X_train, X_test, y_train, y_test = train_test_split(X, y, test_size = 0.2)\n",
    "print(\"X_train.shape - \",X_train.shape)\n",
    "print(\"y_train.shape -\", y_train.shape)\n",
    "print(\"X_test.shape -\", X_test.shape)\n",
    "print(\"y_test.shape -\", y_test.shape)"
   ]
  },
  {
   "cell_type": "code",
   "execution_count": 20,
   "id": "36394134",
   "metadata": {},
   "outputs": [
    {
     "data": {
      "text/plain": [
       "array([0, 0, 0, ..., 0, 0, 0], dtype=int64)"
      ]
     },
     "execution_count": 20,
     "metadata": {},
     "output_type": "execute_result"
    }
   ],
   "source": [
    "X_test[0]"
   ]
  },
  {
   "cell_type": "markdown",
   "id": "a5b2c55b",
   "metadata": {},
   "source": [
    "## LogisticRegression Classifier "
   ]
  },
  {
   "cell_type": "code",
   "execution_count": 21,
   "id": "a6a2b52b",
   "metadata": {},
   "outputs": [
    {
     "name": "stdout",
     "output_type": "stream",
     "text": [
      "Accuracy of Logistic Regression on test set : 0.9307875894988067\n",
      "F1 Score of Logistic Regression on test set : 0.8693693693693694\n"
     ]
    }
   ],
   "source": [
    "lr_clf = LogisticRegression() \n",
    "lr_clf.fit(X_train, y_train) # training\n",
    "y_pred = lr_clf.predict(X_test)\n",
    "print(f\"Accuracy of Logistic Regression on test set : {accuracy_score(y_pred, y_test)}\")\n",
    "print(f\"F1 Score of Logistic Regression on test set : {f1_score(y_pred, y_test)}\")"
   ]
  },
  {
   "cell_type": "code",
   "execution_count": 22,
   "id": "ea80e0c0",
   "metadata": {},
   "outputs": [
    {
     "name": "stdout",
     "output_type": "stream",
     "text": [
      "              precision    recall  f1-score   support\n",
      "\n",
      "           0       0.91      1.00      0.95       589\n",
      "           1       0.99      0.78      0.87       249\n",
      "\n",
      "    accuracy                           0.93       838\n",
      "   macro avg       0.95      0.89      0.91       838\n",
      "weighted avg       0.94      0.93      0.93       838\n",
      "\n"
     ]
    }
   ],
   "source": [
    "print(classification_report(y_test, y_pred))"
   ]
  },
  {
   "cell_type": "code",
   "execution_count": 23,
   "id": "c110d9d4",
   "metadata": {},
   "outputs": [
    {
     "data": {
      "image/png": "[encoded data removed]",
      "text/plain": [
       "<Figure size 640x480 with 2 Axes>"
      ]
     },
     "metadata": {},
     "output_type": "display_data"
    }
   ],
   "source": [
    "confmatrix = confusion_matrix(y_test, y_pred)\n",
    "cm = ConfusionMatrixDisplay(confmatrix, display_labels=[\"0\", \"1\"])\n",
    "cm.plot(cmap=\"YlGnBu_r\")\n",
    "plt.show()"
   ]
  },
  {
   "cell_type": "markdown",
   "id": "6c816b1b",
   "metadata": {},
   "source": [
    "### Saving the Logistic Regression model "
   ]
  },
  {
   "cell_type": "code",
   "execution_count": 24,
   "id": "977df86f",
   "metadata": {},
   "outputs": [
    {
     "data": {
      "text/plain": [
       "['C:\\\\Users\\\\Snehal Thakur\\\\PycharmProjects\\\\SQLInjectionML\\\\models\\\\lr_clf.pkl']"
      ]
     },
     "execution_count": 24,
     "metadata": {},
     "output_type": "execute_result"
    }
   ],
   "source": [
    "import joblib\n",
    "  \n",
    "  \n",
    "# Save the model as a pickle in a file\n",
    "joblib.dump(lr_clf, r'C:\\Users\\Snehal Thakur\\PycharmProjects\\SQLInjectionML\\models\\lr_clf.pkl')\n",
    "  \n",
    "# # Load the model from the file\n",
    "# lr_clf_from_joblib = joblib.load('/models/lr_clf.pkl')\n",
    "  \n",
    "# # Use the loaded model to make predictions\n",
    "# lr_clf_from_joblib.predict(X_test)"
   ]
  },
  {
   "cell_type": "markdown",
   "id": "9ec7b935",
   "metadata": {},
   "source": [
    "## RandomForestClassifier "
   ]
  },
  {
   "cell_type": "code",
   "execution_count": 25,
   "id": "d850a810",
   "metadata": {},
   "outputs": [
    {
     "name": "stdout",
     "output_type": "stream",
     "text": [
      "Accuracy of Random Forest on test set : 0.9140811455847255\n",
      "F1 Score of Random Forest on test set : 0.8736842105263157\n"
     ]
    }
   ],
   "source": [
    "# create RandomForestClassifier model instance\n",
    "rf_clf = RandomForestClassifier()\n",
    "# fit RandomForestClassifier model\n",
    "rf_clf.fit(X_train, y_train)\n",
    "# make predictions\n",
    "y_pred = rf_clf.predict(X_test)\n",
    "print(f\"Accuracy of Random Forest on test set : {accuracy_score(y_pred, y_test)}\")\n",
    "print(f\"F1 Score of Random Forest on test set : {f1_score(y_pred, y_test)}\")"
   ]
  },
  {
   "cell_type": "markdown",
   "id": "ee21a016",
   "metadata": {},
   "source": [
    "### Classification Report of RandomForestClassifier"
   ]
  },
  {
   "cell_type": "code",
   "execution_count": 26,
   "id": "988b15f5",
   "metadata": {},
   "outputs": [
    {
     "name": "stdout",
     "output_type": "stream",
     "text": [
      "              precision    recall  f1-score   support\n",
      "\n",
      "           0       1.00      0.88      0.93       589\n",
      "           1       0.78      1.00      0.87       249\n",
      "\n",
      "    accuracy                           0.91       838\n",
      "   macro avg       0.89      0.94      0.90       838\n",
      "weighted avg       0.93      0.91      0.92       838\n",
      "\n"
     ]
    }
   ],
   "source": [
    "print(classification_report(y_test, y_pred))"
   ]
  },
  {
   "cell_type": "markdown",
   "id": "fbc30a4b",
   "metadata": {},
   "source": [
    "### Confusion  matrix of RandomForest Classifier"
   ]
  },
  {
   "cell_type": "code",
   "execution_count": 27,
   "id": "95cbad1e",
   "metadata": {},
   "outputs": [
    {
     "data": {
      "image/png": "[encoded data removed]",
      "text/plain": [
       "<Figure size 640x480 with 2 Axes>"
      ]
     },
     "metadata": {},
     "output_type": "display_data"
    }
   ],
   "source": [
    "confmatrix = confusion_matrix(y_test, y_pred)\n",
    "cm = ConfusionMatrixDisplay(confmatrix, display_labels=[\"0\", \"1\"])\n",
    "cm.plot(cmap=\"YlGnBu_r\")\n",
    "plt.show()"
   ]
  },
  {
   "cell_type": "markdown",
   "id": "ec7b2d65",
   "metadata": {},
   "source": [
    "### Saving the Random Forest Model "
   ]
  },
  {
   "cell_type": "code",
   "execution_count": 28,
   "id": "78a3c046",
   "metadata": {},
   "outputs": [
    {
     "data": {
      "text/plain": [
       "['C:\\\\Users\\\\Snehal Thakur\\\\PycharmProjects\\\\SQLInjectionML\\\\models\\\\rf_clf.pkl']"
      ]
     },
     "execution_count": 28,
     "metadata": {},
     "output_type": "execute_result"
    }
   ],
   "source": [
    "import joblib\n",
    "  \n",
    "  \n",
    "# Save the model as a pickle in a file\n",
    "joblib.dump(rf_clf, r'C:\\Users\\Snehal Thakur\\PycharmProjects\\SQLInjectionML\\models\\rf_clf.pkl')\n",
    "  \n",
    "# # Load the model from the file\n",
    "# rf_clf_from_joblib = joblib.load('/models/rf_clf.pkl')\n",
    "  \n",
    "# # Use the loaded model to make predictions\n",
    "# rf_clf_from_joblib.predict(X_test)"
   ]
  },
  {
   "cell_type": "markdown",
   "id": "a20210d7",
   "metadata": {},
   "source": [
    "## XGBoost Classifier "
   ]
  },
  {
   "cell_type": "code",
   "execution_count": 29,
   "id": "2c6e98cf",
   "metadata": {},
   "outputs": [
    {
     "name": "stdout",
     "output_type": "stream",
     "text": [
      "Accuracy of XGBClassifier on test set : 0.8902147971360382\n",
      "F1 Score of XGBClassifier on test set : 0.7733990147783252\n"
     ]
    }
   ],
   "source": [
    "# create XGBoost model instance\n",
    "xgb_clf = XGBClassifier(n_estimators=50, max_depth=5, learning_rate=0.01, alpha = 10,objective='binary:logistic')\n",
    "# fit XGBoost model\n",
    "xgb_clf.fit(X, y)\n",
    "# make predictions\n",
    "y_pred = xgb_clf.predict(X_test)\n",
    "print(f\"Accuracy of XGBClassifier on test set : {accuracy_score(y_pred, y_test)}\")\n",
    "print(f\"F1 Score of XGBClassifier on test set : {f1_score(y_pred, y_test)}\")"
   ]
  },
  {
   "cell_type": "markdown",
   "id": "c1f5d886",
   "metadata": {},
   "source": [
    "### Classification Report of XGBoost Classifier"
   ]
  },
  {
   "cell_type": "code",
   "execution_count": 30,
   "id": "a1a090ed",
   "metadata": {},
   "outputs": [
    {
     "name": "stdout",
     "output_type": "stream",
     "text": [
      "              precision    recall  f1-score   support\n",
      "\n",
      "           0       0.86      1.00      0.93       589\n",
      "           1       1.00      0.63      0.77       249\n",
      "\n",
      "    accuracy                           0.89       838\n",
      "   macro avg       0.93      0.82      0.85       838\n",
      "weighted avg       0.91      0.89      0.88       838\n",
      "\n"
     ]
    }
   ],
   "source": [
    "print(classification_report(y_test, y_pred))"
   ]
  },
  {
   "cell_type": "markdown",
   "id": "4b3d07ba",
   "metadata": {},
   "source": [
    "### Confusion Matrix of XGBoost Classifier"
   ]
  },
  {
   "cell_type": "code",
   "execution_count": 31,
   "id": "df415df1",
   "metadata": {},
   "outputs": [
    {
     "data": {
      "image/png": "[encoded data removed]",
      "text/plain": [
       "<Figure size 640x480 with 2 Axes>"
      ]
     },
     "metadata": {},
     "output_type": "display_data"
    }
   ],
   "source": [
    "confmatrix = confusion_matrix(y_test, y_pred)\n",
    "cm = ConfusionMatrixDisplay(confmatrix, display_labels=[\"0\", \"1\"])\n",
    "cm.plot(cmap=\"YlGnBu_r\")\n",
    "plt.show()"
   ]
  },
  {
   "cell_type": "markdown",
   "id": "f84ecfe3",
   "metadata": {},
   "source": [
    "### Saving the XGBoost Model "
   ]
  },
  {
   "cell_type": "code",
   "execution_count": 32,
   "id": "519b3b0f",
   "metadata": {},
   "outputs": [
    {
     "data": {
      "text/plain": [
       "['C:\\\\Users\\\\Snehal Thakur\\\\PycharmProjects\\\\SQLInjectionML\\\\models\\\\xgb_clf.pkl']"
      ]
     },
     "execution_count": 32,
     "metadata": {},
     "output_type": "execute_result"
    }
   ],
   "source": [
    "import joblib\n",
    "  \n",
    "  \n",
    "# Save the model as a pickle in a file\n",
    "joblib.dump(xgb_clf, r'C:\\Users\\Snehal Thakur\\PycharmProjects\\SQLInjectionML\\models\\xgb_clf.pkl')\n",
    "  \n",
    "# # Load the model from the file\n",
    "# xgb_clf_from_joblib = joblib.load('/models/xgb_clf.pkl')\n",
    "  \n",
    "# # Use the loaded model to make predictions\n",
    "# xgb_clf_from_joblib.predict(X_test)"
   ]
  },
  {
   "cell_type": "markdown",
   "id": "b2ab9104",
   "metadata": {},
   "source": [
    "## ExtraTreesClassifier "
   ]
  },
  {
   "cell_type": "code",
   "execution_count": 33,
   "id": "ba0166b9",
   "metadata": {},
   "outputs": [
    {
     "name": "stdout",
     "output_type": "stream",
     "text": [
      "Accuracy of ExtraTreesClassifier on test set : 0.9832935560859188\n",
      "F1 Score of ExtraTreesClassifier on test set : 0.97265625\n"
     ]
    }
   ],
   "source": [
    "# create ExtraTreesClassifier model instance\n",
    "xtree_clf = ExtraTreesClassifier(n_estimators=100, random_state=0)\n",
    "# fit ExtraTreesClassifier model\n",
    "xtree_clf.fit(X, y)\n",
    "# make predictions\n",
    "y_pred = xtree_clf.predict(X_test)\n",
    "print(f\"Accuracy of ExtraTreesClassifier on test set : {accuracy_score(y_pred, y_test)}\")\n",
    "print(f\"F1 Score of ExtraTreesClassifier on test set : {f1_score(y_pred, y_test)}\")"
   ]
  },
  {
   "cell_type": "markdown",
   "id": "cfa60e98",
   "metadata": {},
   "source": [
    "### Classification Report of ExtraTreesClassifier"
   ]
  },
  {
   "cell_type": "code",
   "execution_count": 34,
   "id": "6376df5c",
   "metadata": {},
   "outputs": [
    {
     "name": "stdout",
     "output_type": "stream",
     "text": [
      "              precision    recall  f1-score   support\n",
      "\n",
      "           0       1.00      0.98      0.99       589\n",
      "           1       0.95      1.00      0.97       249\n",
      "\n",
      "    accuracy                           0.98       838\n",
      "   macro avg       0.97      0.99      0.98       838\n",
      "weighted avg       0.98      0.98      0.98       838\n",
      "\n"
     ]
    }
   ],
   "source": [
    "print(classification_report(y_test, y_pred))"
   ]
  },
  {
   "cell_type": "markdown",
   "id": "8e450dd4",
   "metadata": {},
   "source": [
    "### Confusion Matrix of ExtraTreesClassifier"
   ]
  },
  {
   "cell_type": "code",
   "execution_count": 35,
   "id": "190e7859",
   "metadata": {},
   "outputs": [
    {
     "data": {
      "image/png": "[encoded data removed]",
      "text/plain": [
       "<Figure size 640x480 with 2 Axes>"
      ]
     },
     "metadata": {},
     "output_type": "display_data"
    }
   ],
   "source": [
    "confmatrix = confusion_matrix(y_test, y_pred)\n",
    "cm = ConfusionMatrixDisplay(confmatrix, display_labels=[\"0\", \"1\"])\n",
    "cm.plot(cmap=\"YlGnBu_r\")\n",
    "plt.show()"
   ]
  },
  {
   "cell_type": "markdown",
   "id": "c6ff10ab",
   "metadata": {},
   "source": [
    "### Saving the Extratree classifier model "
   ]
  },
  {
   "cell_type": "code",
   "execution_count": 36,
   "id": "4c3220d2",
   "metadata": {},
   "outputs": [
    {
     "data": {
      "text/plain": [
       "['C:\\\\Users\\\\Snehal Thakur\\\\PycharmProjects\\\\SQLInjectionML\\\\models\\\\xtree_clf.pkl']"
      ]
     },
     "execution_count": 36,
     "metadata": {},
     "output_type": "execute_result"
    }
   ],
   "source": [
    "import joblib\n",
    "  \n",
    "  \n",
    "# Save the model as a pickle in a file (Use your model dir path)\n",
    "joblib.dump(xtree_clf, r'C:\\Users\\Snehal Thakur\\PycharmProjects\\SQLInjectionML\\models\\xtree_clf.pkl')\n",
    "  \n",
    "# # Load the model from the file\n",
    "# xtree_clf_from_joblib = joblib.load('/models/xtree_clf.pkl')\n",
    "  \n",
    "# # Use the loaded model to make predictions\n",
    "# xtree_clf_from_joblib.predict(X_test)"
   ]
  },
  {
   "cell_type": "markdown",
   "id": "da644b49",
   "metadata": {},
   "source": [
    "# Approach 2. TF-IDF Vectorizer"
   ]
  },
  {
   "cell_type": "markdown",
   "id": "0fea958c",
   "metadata": {},
   "source": [
    "## TfidfVectorizer - Convert a collection of raw documents to a matrix of TF-IDF features. "
   ]
  },
  {
   "cell_type": "code",
   "execution_count": 37,
   "id": "3c32b833",
   "metadata": {},
   "outputs": [
    {
     "data": {
      "text/plain": [
       "array([[0.        , 0.        , 0.        , ..., 0.        , 0.        ,\n",
       "        0.        ],\n",
       "       [0.        , 0.        , 0.        , ..., 0.        , 0.        ,\n",
       "        0.        ],\n",
       "       [0.        , 0.        , 0.        , ..., 0.        , 0.        ,\n",
       "        0.        ],\n",
       "       ...,\n",
       "       [0.        , 0.        , 0.        , ..., 0.        , 0.        ,\n",
       "        0.        ],\n",
       "       [0.        , 0.        , 0.        , ..., 0.        , 0.        ,\n",
       "        0.        ],\n",
       "       [0.        , 0.        , 0.        , ..., 0.06693684, 0.        ,\n",
       "        0.        ]])"
      ]
     },
     "execution_count": 37,
     "metadata": {},
     "output_type": "execute_result"
    }
   ],
   "source": [
    "# TfidfVectorizer - Convert a collection of raw documents to a matrix of TF-IDF features.# \n",
    "\n",
    "X = df['Sentence']\n",
    "y = df['Label']\n",
    "\n",
    "tfidf_vectorizer = TfidfVectorizer()\n",
    "X_tfidf = tfidf_vectorizer.fit_transform(X.values.astype('U')).toarray()\n",
    "X_tfidf"
   ]
  },
  {
   "cell_type": "code",
   "execution_count": 38,
   "id": "6a76a834",
   "metadata": {},
   "outputs": [
    {
     "name": "stderr",
     "output_type": "stream",
     "text": [
      "C:\\Users\\Public\\DataScience\\envs\\sqlinjection\\lib\\site-packages\\sklearn\\utils\\deprecation.py:87: FutureWarning: Function get_feature_names is deprecated; get_feature_names is deprecated in 1.0 and will be removed in 1.2. Please use get_feature_names_out instead.\n",
      "  warnings.warn(msg, category=FutureWarning)\n"
     ]
    },
    {
     "data": {
      "text/plain": [
       "['00',\n",
       " '000',\n",
       " '00001491382788757',\n",
       " '00001491528420366',\n",
       " '00001491528883971',\n",
       " '00001491529916387',\n",
       " '00001491529916625',\n",
       " '00001491530124766',\n",
       " '00001491530253354',\n",
       " '00001491530253903',\n",
       " '00001491530747318',\n",
       " '00001491531111591',\n",
       " '00001491531111628',\n",
       " '00001491531280013',\n",
       " '00001491531338012',\n",
       " '00001491531745287',\n",
       " '00001491531967789',\n",
       " '001000000000000022',\n",
       " '004',\n",
       " '004000000000000011',\n",
       " '004000000000000012',\n",
       " '01',\n",
       " '010',\n",
       " '0101',\n",
       " '0102',\n",
       " '01024328836',\n",
       " '01026253919',\n",
       " '01052578483',\n",
       " '01055251172',\n",
       " '01055511178',\n",
       " '01082117188',\n",
       " '01087911493',\n",
       " '0109',\n",
       " '0124',\n",
       " '02',\n",
       " '02_01',\n",
       " '031003000270000',\n",
       " '032',\n",
       " '04',\n",
       " '05',\n",
       " '06',\n",
       " '067',\n",
       " '07',\n",
       " '08',\n",
       " '09',\n",
       " '0aia2oyla5nt1ckw3',\n",
       " '0px',\n",
       " '0qi5exwmdn30ulwjftbmc',\n",
       " '0x64',\n",
       " '0x65',\n",
       " '0x70',\n",
       " '0x72',\n",
       " '0x730065006c00650063',\n",
       " '0x730065006c0065006300740020004000400076006500',\n",
       " '0x730065006c00650063007400200040004000760065007200730069006f006e00',\n",
       " '0x73656c',\n",
       " '0x73656c6',\n",
       " '0x73656c65637420404076657273696f6e',\n",
       " '0x74',\n",
       " '0x770061',\n",
       " '0x770061006900740066006f0072002000640065006c00',\n",
       " '0x770061006900740066006f0072002000640065006c00610079002000270030003a0030003a',\n",
       " '0x770061006900740066006f0072002000640065006c00610079002000270030003a0030003a0031003000270000',\n",
       " '0x77616974',\n",
       " '0x77616974666f722064656c61792027303a303a313027',\n",
       " '0x77616974666f722064656c61792027303a303a31302700',\n",
       " '10',\n",
       " '100',\n",
       " '10000000',\n",
       " '10031',\n",
       " '10054',\n",
       " '10093',\n",
       " '100aklima',\n",
       " '101',\n",
       " '1013',\n",
       " '10134board',\n",
       " '10179',\n",
       " '102',\n",
       " '10229',\n",
       " '10250',\n",
       " '10293',\n",
       " '10348',\n",
       " '1038644987',\n",
       " '105',\n",
       " '1051',\n",
       " '1054',\n",
       " '106',\n",
       " '107',\n",
       " '1071',\n",
       " '1079',\n",
       " '108',\n",
       " '1081743475',\n",
       " '1085',\n",
       " '109',\n",
       " '109090',\n",
       " '1091',\n",
       " '1097',\n",
       " '10e',\n",
       " '10px',\n",
       " '10th',\n",
       " '11',\n",
       " '110',\n",
       " '111',\n",
       " '112',\n",
       " '114',\n",
       " '115',\n",
       " '116',\n",
       " '118',\n",
       " '119',\n",
       " '11am',\n",
       " '11pm',\n",
       " '12',\n",
       " '120',\n",
       " '122',\n",
       " '1234',\n",
       " '125',\n",
       " '129',\n",
       " '13',\n",
       " '130mph',\n",
       " '132',\n",
       " '134',\n",
       " '138',\n",
       " '14',\n",
       " '140',\n",
       " '140267892711',\n",
       " '143',\n",
       " '147',\n",
       " '1490110',\n",
       " '15',\n",
       " '150',\n",
       " '150th',\n",
       " '153',\n",
       " '1568',\n",
       " '157',\n",
       " '158',\n",
       " '15pm',\n",
       " '16',\n",
       " '160th',\n",
       " '161',\n",
       " '165th',\n",
       " '168',\n",
       " '17',\n",
       " '172',\n",
       " '1760s',\n",
       " '177',\n",
       " '1771',\n",
       " '18',\n",
       " '1826',\n",
       " '18489',\n",
       " '1850',\n",
       " '187',\n",
       " '19',\n",
       " '1908',\n",
       " '1912',\n",
       " '1913',\n",
       " '1914',\n",
       " '192',\n",
       " '1920',\n",
       " '1950s',\n",
       " '1956',\n",
       " '1962',\n",
       " '1966',\n",
       " '1970',\n",
       " '1970s',\n",
       " '1974',\n",
       " '1975',\n",
       " '1976',\n",
       " '1981',\n",
       " '1982',\n",
       " '19850616',\n",
       " '1987',\n",
       " '1989',\n",
       " '1990s',\n",
       " '1991',\n",
       " '1992',\n",
       " '1996',\n",
       " '1997',\n",
       " '1998',\n",
       " '19th',\n",
       " '1_',\n",
       " '1a',\n",
       " '1c',\n",
       " '1cgweoailj9q5nobm6nyipbgovj6yzgiencnt9gu6x6sgknppx0ygxxmss',\n",
       " '1d2rrer7vmuzdd4npcz',\n",
       " '1depaggurujqkjeum4hu90kohmbl2',\n",
       " '1s',\n",
       " '1sa23l',\n",
       " '20',\n",
       " '200',\n",
       " '2000',\n",
       " '20003',\n",
       " '2001',\n",
       " '2002',\n",
       " '2003',\n",
       " '2004',\n",
       " '2005',\n",
       " '2006',\n",
       " '2006b',\n",
       " '2007',\n",
       " '2008',\n",
       " '2009',\n",
       " '201',\n",
       " '2010',\n",
       " '2011',\n",
       " '2012',\n",
       " '2013',\n",
       " '2014',\n",
       " '2015',\n",
       " '2016',\n",
       " '2017',\n",
       " '201704',\n",
       " '20170407112157xyhcho',\n",
       " '202',\n",
       " '2020',\n",
       " '2022',\n",
       " '2025',\n",
       " '2026',\n",
       " '2028',\n",
       " '203',\n",
       " '2030',\n",
       " '2034',\n",
       " '204',\n",
       " '20438',\n",
       " '20648',\n",
       " '20721304',\n",
       " '20th',\n",
       " '21',\n",
       " '210km',\n",
       " '214',\n",
       " '2145',\n",
       " '215',\n",
       " '218',\n",
       " '21st',\n",
       " '22',\n",
       " '220',\n",
       " '22747',\n",
       " '23',\n",
       " '238',\n",
       " '23v',\n",
       " '24',\n",
       " '24242',\n",
       " '2453',\n",
       " '25',\n",
       " '250',\n",
       " '250th',\n",
       " '255',\n",
       " '259wruz3vehfzjpxlaogs9doevhdebaclkkuadu6f6fa2wfim58',\n",
       " '25s',\n",
       " '26',\n",
       " '2600',\n",
       " '27',\n",
       " '2700',\n",
       " '277',\n",
       " '28',\n",
       " '28845',\n",
       " '28988',\n",
       " '28mail',\n",
       " '28objectclass',\n",
       " '29',\n",
       " '290',\n",
       " '296',\n",
       " '2a',\n",
       " '2b',\n",
       " '2g',\n",
       " '2m',\n",
       " '2nd',\n",
       " '30',\n",
       " '300',\n",
       " '3000',\n",
       " '300er',\n",
       " '305',\n",
       " '307',\n",
       " '30tu412jwfjha',\n",
       " '31',\n",
       " '315',\n",
       " '32',\n",
       " '325',\n",
       " '325m',\n",
       " '327',\n",
       " '33',\n",
       " '330',\n",
       " '34',\n",
       " '340',\n",
       " '35',\n",
       " '350',\n",
       " '36',\n",
       " '360ml',\n",
       " '365',\n",
       " '366',\n",
       " '37',\n",
       " '373',\n",
       " '375',\n",
       " '38',\n",
       " '39',\n",
       " '393',\n",
       " '3945',\n",
       " '3980',\n",
       " '3c',\n",
       " '3d',\n",
       " '3gcbpscfj6qqew12gn',\n",
       " '3tn',\n",
       " '3v',\n",
       " '3wpctx1mj5sbdacl',\n",
       " '40',\n",
       " '400',\n",
       " '4000',\n",
       " '403',\n",
       " '4039',\n",
       " '406',\n",
       " '4065',\n",
       " '40select',\n",
       " '40th',\n",
       " '41',\n",
       " '413',\n",
       " '42',\n",
       " '43',\n",
       " '430',\n",
       " '44',\n",
       " '45',\n",
       " '450',\n",
       " '450px',\n",
       " '457',\n",
       " '457s',\n",
       " '46',\n",
       " '47',\n",
       " '47164',\n",
       " '47817',\n",
       " '482',\n",
       " '49',\n",
       " '497',\n",
       " '50',\n",
       " '500',\n",
       " '503',\n",
       " '50bn',\n",
       " '50ft',\n",
       " '51',\n",
       " '512k',\n",
       " '514',\n",
       " '52',\n",
       " '53',\n",
       " '532',\n",
       " '540',\n",
       " '542',\n",
       " '543',\n",
       " '544473',\n",
       " '556',\n",
       " '56',\n",
       " '57',\n",
       " '58',\n",
       " '59',\n",
       " '5c',\n",
       " '5hip5',\n",
       " '5km',\n",
       " '5million',\n",
       " '60',\n",
       " '600',\n",
       " '61',\n",
       " '615',\n",
       " '63',\n",
       " '634',\n",
       " '64',\n",
       " '660',\n",
       " '66m',\n",
       " '67',\n",
       " '678',\n",
       " '684',\n",
       " '69',\n",
       " '6bn',\n",
       " '6dpv',\n",
       " '6m',\n",
       " '70',\n",
       " '700',\n",
       " '708',\n",
       " '71',\n",
       " '73',\n",
       " '747',\n",
       " '75',\n",
       " '7520',\n",
       " '764',\n",
       " '7659',\n",
       " '77',\n",
       " '777',\n",
       " '777s',\n",
       " '777x',\n",
       " '79',\n",
       " '794',\n",
       " '7asdlfksaldfxrkgdvifabwtq7n',\n",
       " '7bn',\n",
       " '7c',\n",
       " '7e110e370ece',\n",
       " '7e115a25c0784',\n",
       " '7e1161151f9e',\n",
       " '7e116d19044c',\n",
       " '7e123d150600',\n",
       " '7e12422e2',\n",
       " '7e12422e2c090a',\n",
       " '7e12b2f1e1098',\n",
       " '7e12db131',\n",
       " '7e12db131f238a',\n",
       " '7e13482d1',\n",
       " '7e13482d1b1020',\n",
       " '7e135771c0f0c',\n",
       " '7e17a8320a4',\n",
       " '7e1846d0fba',\n",
       " '7e196581600',\n",
       " '7e1c7582640',\n",
       " '7qbui7a',\n",
       " '80',\n",
       " '800',\n",
       " '8000',\n",
       " '81dc9bdb52d04dc20036dbd8313ed055',\n",
       " '82',\n",
       " '83',\n",
       " '84',\n",
       " '840',\n",
       " '8482',\n",
       " '8628',\n",
       " '87',\n",
       " '872',\n",
       " '88',\n",
       " '89',\n",
       " '8b',\n",
       " '8d',\n",
       " '8dslusdf18e08zs4igmrk43bhv6oga6duw',\n",
       " '8f',\n",
       " '8xsq6ezasdfjpyt',\n",
       " '8xsq6ezjpyt',\n",
       " '90',\n",
       " '900',\n",
       " '90j19i2iwnutnidtzocf3uvy23shywmsbewhyasskdm7dfoppwhiwamqkkdcm5kowp',\n",
       " '91',\n",
       " '92fsdxfebatn',\n",
       " '92fxfebsdfatn',\n",
       " '93',\n",
       " '94',\n",
       " '945',\n",
       " '94q4asdfkqbzbmjn',\n",
       " '94qq2bzbmjn',\n",
       " '94qqbzbmjn',\n",
       " '95',\n",
       " '954',\n",
       " '96',\n",
       " '9636',\n",
       " '97',\n",
       " '98',\n",
       " '99',\n",
       " '9actxupa',\n",
       " '9actxupaas',\n",
       " '9aratgxun99s5bw1e',\n",
       " '9bedb57073',\n",
       " '9d',\n",
       " '9e',\n",
       " '9rcy4akdgqajlohmvnlk3ubctxbqs8xwjjk8',\n",
       " '9th',\n",
       " '9wdde55sqhloo5yon',\n",
       " '__time__',\n",
       " '_filter',\n",
       " 'a120',\n",
       " 'a1k',\n",
       " 'a3',\n",
       " 'a350',\n",
       " 'a3b10',\n",
       " 'a3b12c41',\n",
       " 'a3b12c411',\n",
       " 'a4',\n",
       " 'a7',\n",
       " 'a8',\n",
       " 'aach',\n",
       " 'aachen',\n",
       " 'aap',\n",
       " 'abandon',\n",
       " 'abandoned',\n",
       " 'abandoning',\n",
       " 'abbott',\n",
       " 'abbottabad',\n",
       " 'abbreviation',\n",
       " 'abc',\n",
       " 'abcnews',\n",
       " 'abdurrahman',\n",
       " 'abel',\n",
       " 'abendmahlskirche',\n",
       " 'abendsmahlskirche',\n",
       " 'aberdeen',\n",
       " 'abide',\n",
       " 'ability',\n",
       " 'abitur',\n",
       " 'able',\n",
       " 'abolished',\n",
       " 'abolishes',\n",
       " 'abolition',\n",
       " 'above',\n",
       " 'abreast',\n",
       " 'abroad',\n",
       " 'abseil',\n",
       " 'abseiled',\n",
       " 'absolute',\n",
       " 'absolutely',\n",
       " 'absolve',\n",
       " 'absurd',\n",
       " 'abuse',\n",
       " 'abused',\n",
       " 'abusing',\n",
       " 'ac',\n",
       " 'ac360',\n",
       " 'academy',\n",
       " 'accelerate',\n",
       " 'accept',\n",
       " 'acceptance',\n",
       " 'accepted',\n",
       " 'accepts',\n",
       " 'access',\n",
       " 'accessibility',\n",
       " 'accessible',\n",
       " 'accident',\n",
       " 'accidents',\n",
       " 'accommodate',\n",
       " 'accommodation',\n",
       " 'accommodations',\n",
       " 'accompanied',\n",
       " 'accompany',\n",
       " 'accomplice',\n",
       " 'accomplices',\n",
       " 'accomplish',\n",
       " 'accomplished',\n",
       " 'accomplishments',\n",
       " 'accord',\n",
       " 'according',\n",
       " 'account',\n",
       " 'accountability',\n",
       " 'accounts',\n",
       " 'accreditation',\n",
       " 'accumulated',\n",
       " 'accuracy',\n",
       " 'accurate',\n",
       " 'accusations',\n",
       " 'accused',\n",
       " 'accusing',\n",
       " 'achievable',\n",
       " 'achieve',\n",
       " 'achieved',\n",
       " 'achieving',\n",
       " 'achim',\n",
       " 'acknowledged',\n",
       " 'acknowledges',\n",
       " 'aclu',\n",
       " 'acne',\n",
       " 'acquire',\n",
       " 'acquired',\n",
       " 'acquittal',\n",
       " 'acquitted',\n",
       " 'across',\n",
       " 'acrostic',\n",
       " 'act',\n",
       " 'acted',\n",
       " 'acting',\n",
       " 'action',\n",
       " 'actions',\n",
       " 'active',\n",
       " 'activist',\n",
       " 'activists',\n",
       " 'activities',\n",
       " 'activity',\n",
       " 'actor',\n",
       " 'actors',\n",
       " 'actress',\n",
       " 'actresses',\n",
       " 'acts',\n",
       " 'actual',\n",
       " 'actually',\n",
       " 'ad',\n",
       " 'adams',\n",
       " 'adaptation',\n",
       " 'adapted',\n",
       " 'add',\n",
       " 'added',\n",
       " 'addict',\n",
       " 'addiction',\n",
       " 'adding',\n",
       " 'addition',\n",
       " 'additional',\n",
       " 'additionally',\n",
       " 'additions',\n",
       " 'address',\n",
       " 'addressed',\n",
       " 'addresses',\n",
       " 'addressing',\n",
       " 'adds',\n",
       " 'adduser',\n",
       " 'adel',\n",
       " 'adhere',\n",
       " 'adherence',\n",
       " 'adi',\n",
       " 'adjoining',\n",
       " 'adjourned',\n",
       " 'adjudicators',\n",
       " 'adjust',\n",
       " 'adjusted',\n",
       " 'adjusting',\n",
       " 'adjustment',\n",
       " 'adler',\n",
       " 'admin',\n",
       " 'administration',\n",
       " 'administrative',\n",
       " 'administrator',\n",
       " 'administrators',\n",
       " 'admired',\n",
       " 'admission',\n",
       " 'admit',\n",
       " 'admitted',\n",
       " 'admittedly',\n",
       " 'admitting',\n",
       " 'admonition',\n",
       " 'adopted',\n",
       " 'adoption',\n",
       " 'adored',\n",
       " 'adrian',\n",
       " 'adult',\n",
       " 'adults',\n",
       " 'advance',\n",
       " 'advanced',\n",
       " 'advances',\n",
       " 'advancing',\n",
       " 'advantage',\n",
       " 'advantageous',\n",
       " 'advcl',\n",
       " 'advent',\n",
       " 'adventure',\n",
       " 'adverbial',\n",
       " 'advertising',\n",
       " 'advice',\n",
       " 'advised',\n",
       " 'adviser',\n",
       " 'advisers',\n",
       " 'advises',\n",
       " 'advisory',\n",
       " 'advmod',\n",
       " 'advocated',\n",
       " 'advocates',\n",
       " 'advocating',\n",
       " 'aerospace',\n",
       " 'afar',\n",
       " 'affair',\n",
       " 'affairs',\n",
       " 'affect',\n",
       " 'affectation',\n",
       " 'affected',\n",
       " 'affecting',\n",
       " 'affections',\n",
       " 'affects',\n",
       " 'affinity',\n",
       " 'affluent',\n",
       " 'afford',\n",
       " 'affordable',\n",
       " 'affront',\n",
       " 'afghanistan',\n",
       " 'afgwo3pqlfhjq9s3rzk5krr6ii3e2vkhs36q7ngngailqniqno8cnbe8ivuxzchhvxaostpiun',\n",
       " 'afonso',\n",
       " 'afoul',\n",
       " 'afp',\n",
       " 'afraid',\n",
       " 'africa',\n",
       " 'african',\n",
       " 'africans',\n",
       " 'after',\n",
       " 'afternoon',\n",
       " 'afterwards',\n",
       " 'ag',\n",
       " 'agahmzm3mjmwmjns2wotx5wisosrniccx9vsfdnc',\n",
       " 'agahmzm3msdfjmwmexg6pvz1i3dhgd7dst5ve9qu',\n",
       " 'again',\n",
       " 'again_loan_mobile',\n",
       " 'against',\n",
       " 'age',\n",
       " 'aged',\n",
       " 'agencies',\n",
       " 'agency',\n",
       " 'agenda',\n",
       " 'agent',\n",
       " 'agents',\n",
       " 'ages',\n",
       " 'aggression',\n",
       " 'aggressive',\n",
       " 'aghast',\n",
       " 'aging',\n",
       " 'ago',\n",
       " 'agree',\n",
       " 'agree_10_1',\n",
       " 'agree_20_1',\n",
       " 'agree_20_2',\n",
       " 'agree_30_1',\n",
       " 'agree_30_2',\n",
       " 'agree_30_3',\n",
       " 'agree_30_4',\n",
       " 'agree_40_1',\n",
       " 'agree_40_2',\n",
       " 'agreed',\n",
       " 'agreeing',\n",
       " 'agreement',\n",
       " 'agreements',\n",
       " 'agricultural',\n",
       " 'agriculture',\n",
       " 'agrippinensium',\n",
       " 'agrippinians',\n",
       " 'ah',\n",
       " 'ahead',\n",
       " 'ahmet',\n",
       " 'ahronoth',\n",
       " 'aid',\n",
       " 'aide',\n",
       " 'aides',\n",
       " 'aidlingen',\n",
       " 'ailing',\n",
       " 'aim',\n",
       " 'aimed',\n",
       " 'aiming',\n",
       " 'aims',\n",
       " 'air',\n",
       " 'airbus',\n",
       " 'aircraft',\n",
       " 'aired',\n",
       " 'airforce',\n",
       " 'airlifted',\n",
       " 'airline',\n",
       " 'airliner',\n",
       " 'airliners',\n",
       " 'airlines',\n",
       " 'airplane',\n",
       " 'airplanes',\n",
       " 'airport',\n",
       " 'airports',\n",
       " 'airs',\n",
       " 'airshow',\n",
       " 'airstrikes',\n",
       " 'airways',\n",
       " 'aisle',\n",
       " 'al',\n",
       " 'alan',\n",
       " 'alarmed',\n",
       " 'alarmingly',\n",
       " 'alauddin',\n",
       " 'alawite',\n",
       " 'alb',\n",
       " 'albert',\n",
       " 'albtraum',\n",
       " 'album',\n",
       " 'alderson',\n",
       " 'alec',\n",
       " 'alex',\n",
       " 'alexander',\n",
       " 'alexandrian',\n",
       " 'alexei',\n",
       " 'alfred',\n",
       " 'algeria',\n",
       " 'algorithm',\n",
       " 'algorithms',\n",
       " 'ali',\n",
       " 'alienated',\n",
       " 'alike',\n",
       " 'alistair',\n",
       " 'alito',\n",
       " 'alive',\n",
       " 'all',\n",
       " 'all_tab_columns',\n",
       " 'all_tables',\n",
       " 'all_users',\n",
       " 'allegations',\n",
       " 'alleged',\n",
       " 'allegedly',\n",
       " 'allegiant',\n",
       " 'alleging',\n",
       " 'aller',\n",
       " 'allergic',\n",
       " 'allergies',\n",
       " 'allergy',\n",
       " 'alleviate',\n",
       " 'alley',\n",
       " 'allgäuer',\n",
       " 'alliance',\n",
       " 'alliances',\n",
       " 'allies',\n",
       " 'allmend',\n",
       " 'alloa',\n",
       " 'allocated',\n",
       " 'allow',\n",
       " 'allow_comment',\n",
       " 'allow_trackback',\n",
       " 'allowance',\n",
       " 'allowed',\n",
       " 'allowing',\n",
       " 'allows',\n",
       " 'allude',\n",
       " 'alluding',\n",
       " 'ally',\n",
       " 'almighty',\n",
       " 'almond',\n",
       " 'almost',\n",
       " 'alms',\n",
       " 'alone',\n",
       " 'along',\n",
       " 'alongside',\n",
       " 'alpine',\n",
       " 'alps',\n",
       " 'already',\n",
       " 'also',\n",
       " 'alt',\n",
       " 'altars',\n",
       " 'alternative',\n",
       " 'alternatives',\n",
       " 'although',\n",
       " 'altitudes',\n",
       " 'always',\n",
       " 'am',\n",
       " 'amateur',\n",
       " 'amazement',\n",
       " 'amazing',\n",
       " 'amazon',\n",
       " 'ambiguous',\n",
       " 'ambition',\n",
       " 'ambitious',\n",
       " 'ambulance',\n",
       " 'ambulances',\n",
       " 'amenable',\n",
       " 'amend',\n",
       " 'america',\n",
       " 'american',\n",
       " 'americans',\n",
       " 'amid',\n",
       " 'amirthalinga',\n",
       " 'among',\n",
       " 'amount',\n",
       " 'amounts',\n",
       " 'amp',\n",
       " 'ample',\n",
       " 'amrozi',\n",
       " 'an',\n",
       " 'anadarko',\n",
       " 'analyse',\n",
       " 'analysed',\n",
       " 'analyst',\n",
       " 'analysts',\n",
       " 'anaphylaxis',\n",
       " 'anchors',\n",
       " 'ancient',\n",
       " 'and',\n",
       " 'and1',\n",
       " 'andersen',\n",
       " 'anderson',\n",
       " 'andes',\n",
       " 'andre',\n",
       " 'andrea',\n",
       " 'andrew',\n",
       " 'androgen',\n",
       " 'android',\n",
       " 'andy',\n",
       " 'anecdotal',\n",
       " 'anene',\n",
       " 'anesthesia',\n",
       " 'ange',\n",
       " 'angela',\n",
       " 'angeles',\n",
       " 'angels',\n",
       " 'anger',\n",
       " 'angle',\n",
       " 'anglo',\n",
       " 'angry',\n",
       " 'anhalt',\n",
       " 'animal',\n",
       " 'animals',\n",
       " 'anja',\n",
       " 'ankle',\n",
       " 'anna',\n",
       " 'anne',\n",
       " 'anniversaries',\n",
       " 'anniversary',\n",
       " 'annotated',\n",
       " 'announce',\n",
       " 'announced',\n",
       " 'announcement',\n",
       " 'announcements',\n",
       " 'announcer',\n",
       " 'announcing',\n",
       " 'annoying',\n",
       " 'annoys',\n",
       " 'annual',\n",
       " 'annually',\n",
       " 'anonymous',\n",
       " 'another',\n",
       " 'answer',\n",
       " 'answered',\n",
       " 'answering',\n",
       " 'answers',\n",
       " 'antennas',\n",
       " 'anthem',\n",
       " 'anthony',\n",
       " 'anti',\n",
       " 'antibodies',\n",
       " 'antibody',\n",
       " 'anticipate',\n",
       " 'anticipated',\n",
       " 'anticipating',\n",
       " 'anticipation',\n",
       " 'antiterrorist',\n",
       " 'antony',\n",
       " 'anwar',\n",
       " 'anxiety',\n",
       " 'anxious',\n",
       " 'anybody',\n",
       " 'anymore',\n",
       " 'anyone',\n",
       " 'anything',\n",
       " 'anyway',\n",
       " 'anzeigeblatt',\n",
       " 'ap14',\n",
       " 'apart',\n",
       " 'apartheid',\n",
       " 'apartment',\n",
       " 'apartments',\n",
       " 'apologise',\n",
       " 'apologist',\n",
       " 'apologize',\n",
       " 'apology',\n",
       " 'apos',\n",
       " 'app',\n",
       " 'apparent',\n",
       " 'apparently',\n",
       " 'appeal',\n",
       " 'appealed',\n",
       " 'appealing',\n",
       " 'appeals',\n",
       " 'appear',\n",
       " 'appearance',\n",
       " 'appearances',\n",
       " 'appeared',\n",
       " 'appearing',\n",
       " 'appears',\n",
       " 'apple',\n",
       " 'applicant',\n",
       " 'application',\n",
       " 'applications',\n",
       " 'applied',\n",
       " 'applies',\n",
       " 'apply2',\n",
       " 'applying',\n",
       " 'appointed',\n",
       " 'appointing',\n",
       " 'apprehended',\n",
       " 'approach',\n",
       " 'approaches',\n",
       " 'appropriate',\n",
       " 'approval',\n",
       " 'approve',\n",
       " 'approved',\n",
       " 'april',\n",
       " 'ar',\n",
       " 'ara',\n",
       " 'arab',\n",
       " 'arabic',\n",
       " 'arabiya',\n",
       " 'arachnophobia',\n",
       " 'arbitration',\n",
       " 'arcane',\n",
       " 'arch',\n",
       " 'archaeological',\n",
       " 'arched',\n",
       " 'architect',\n",
       " 'architects',\n",
       " 'arctic',\n",
       " 'ard',\n",
       " 'arduous',\n",
       " 'are',\n",
       " 'area',\n",
       " 'areane',\n",
       " 'areas',\n",
       " 'arena',\n",
       " 'argue',\n",
       " 'argued',\n",
       " 'argues',\n",
       " 'argument',\n",
       " 'arguments',\n",
       " 'aristocrat',\n",
       " 'arithmetic',\n",
       " 'arizona',\n",
       " 'arlene',\n",
       " 'arm',\n",
       " 'armando',\n",
       " 'armed',\n",
       " 'arms',\n",
       " 'army',\n",
       " 'arndt',\n",
       " 'arne',\n",
       " 'arnold',\n",
       " 'around',\n",
       " 'aroused',\n",
       " 'arrange',\n",
       " 'arranged',\n",
       " 'arrangement',\n",
       " 'arrangements',\n",
       " 'arranging',\n",
       " 'arrest',\n",
       " 'arrested',\n",
       " ...]"
      ]
     },
     "execution_count": 38,
     "metadata": {},
     "output_type": "execute_result"
    }
   ],
   "source": [
    "# feature names\n",
    "tfidf_vectorizer.get_feature_names()"
   ]
  },
  {
   "cell_type": "markdown",
   "id": "a58aec95",
   "metadata": {},
   "source": [
    "### Train Test Split "
   ]
  },
  {
   "cell_type": "code",
   "execution_count": 39,
   "id": "940c63f6",
   "metadata": {},
   "outputs": [
    {
     "name": "stdout",
     "output_type": "stream",
     "text": [
      "X_train_tfidf.shape= (3349, 9911)\n",
      "y_train_tfidf.shape= (3349,)\n",
      "X_test_tfidf.shape= (838, 9911)\n",
      "y_test_tfidf.shape= (838,)\n"
     ]
    }
   ],
   "source": [
    "X_train_tfidf, X_test_tfidf, y_train_tfidf, y_test_tfidf = train_test_split(X_tfidf, y, test_size = 0.2)\n",
    "print(\"X_train_tfidf.shape=\", X_train_tfidf.shape)\n",
    "print(\"y_train_tfidf.shape=\", y_train_tfidf.shape)\n",
    "print(\"X_test_tfidf.shape=\", X_test_tfidf.shape)\n",
    "print(\"y_test_tfidf.shape=\", y_test_tfidf.shape)"
   ]
  },
  {
   "cell_type": "markdown",
   "id": "ab3f34e0",
   "metadata": {},
   "source": [
    "## Linear Regression "
   ]
  },
  {
   "cell_type": "code",
   "execution_count": 40,
   "id": "fd623851",
   "metadata": {},
   "outputs": [
    {
     "name": "stdout",
     "output_type": "stream",
     "text": [
      "Accuracy of Logistic Regression on test set : 0.9451073985680191\n",
      "F1 Score of Logistic Regression on test set : 0.8904761904761905\n"
     ]
    }
   ],
   "source": [
    "lr_clf_tfidf = LogisticRegression()\n",
    "lr_clf_tfidf.fit(X_train_tfidf, y_train_tfidf)\n",
    "y_pred_tfidf = lr_clf_tfidf.predict(X_test_tfidf)\n",
    "print(f\"Accuracy of Logistic Regression on test set : {accuracy_score(y_pred_tfidf, y_test_tfidf)}\")\n",
    "print(f\"F1 Score of Logistic Regression on test set : {f1_score(y_pred_tfidf, y_test_tfidf)}\")"
   ]
  },
  {
   "cell_type": "markdown",
   "id": "fa11db96",
   "metadata": {},
   "source": [
    "###  Classification Report"
   ]
  },
  {
   "cell_type": "code",
   "execution_count": 41,
   "id": "2baadbd4",
   "metadata": {},
   "outputs": [
    {
     "name": "stdout",
     "output_type": "stream",
     "text": [
      "              precision    recall  f1-score   support\n",
      "\n",
      "           0       0.93      1.00      0.96       605\n",
      "           1       1.00      0.80      0.89       233\n",
      "\n",
      "    accuracy                           0.95       838\n",
      "   macro avg       0.96      0.90      0.93       838\n",
      "weighted avg       0.95      0.95      0.94       838\n",
      "\n"
     ]
    }
   ],
   "source": [
    "print(classification_report(y_test_tfidf, y_pred_tfidf))"
   ]
  },
  {
   "cell_type": "markdown",
   "id": "222a536c",
   "metadata": {},
   "source": [
    "### Confusion Matrix "
   ]
  },
  {
   "cell_type": "code",
   "execution_count": 42,
   "id": "d32b2810",
   "metadata": {},
   "outputs": [
    {
     "data": {
      "image/png": "[encoded data removed]",
      "text/plain": [
       "<Figure size 640x480 with 2 Axes>"
      ]
     },
     "metadata": {},
     "output_type": "display_data"
    }
   ],
   "source": [
    "confmatrix = confusion_matrix(y_test_tfidf, y_pred_tfidf)\n",
    "cm = ConfusionMatrixDisplay(confmatrix, display_labels=[\"0\", \"1\"])\n",
    "cm.plot(cmap=\"YlGnBu_r\")\n",
    "plt.show()"
   ]
  },
  {
   "cell_type": "markdown",
   "id": "9fa0177a",
   "metadata": {},
   "source": [
    "##  Random Forest Classifier"
   ]
  },
  {
   "cell_type": "code",
   "execution_count": 43,
   "id": "ee220bc8",
   "metadata": {},
   "outputs": [
    {
     "name": "stdout",
     "output_type": "stream",
     "text": [
      "Accuracy of Random Forest on test set : 0.964200477326969\n",
      "F1 Score of Random Forest on test set : 0.9392712550607286\n"
     ]
    }
   ],
   "source": [
    "# create RandomForestClassifier model instance\n",
    "rf_clf_tfidf = RandomForestClassifier()\n",
    "# fit RandomForestClassifier model\n",
    "rf_clf_tfidf.fit(X_train_tfidf, y_train_tfidf)\n",
    "# make predictions\n",
    "y_pred_tfidf = rf_clf_tfidf.predict(X_test_tfidf)\n",
    "print(f\"Accuracy of Random Forest on test set : {accuracy_score(y_pred_tfidf, y_test_tfidf)}\")\n",
    "print(f\"F1 Score of Random Forest on test set : {f1_score(y_pred_tfidf, y_test_tfidf)}\")"
   ]
  },
  {
   "cell_type": "markdown",
   "id": "b0ffd112",
   "metadata": {},
   "source": [
    "### Classification Report "
   ]
  },
  {
   "cell_type": "code",
   "execution_count": 44,
   "id": "53079640",
   "metadata": {},
   "outputs": [
    {
     "name": "stdout",
     "output_type": "stream",
     "text": [
      "              precision    recall  f1-score   support\n",
      "\n",
      "           0       1.00      0.95      0.97       605\n",
      "           1       0.89      1.00      0.94       233\n",
      "\n",
      "    accuracy                           0.96       838\n",
      "   macro avg       0.94      0.97      0.96       838\n",
      "weighted avg       0.97      0.96      0.96       838\n",
      "\n"
     ]
    }
   ],
   "source": [
    "print(classification_report(y_test_tfidf, y_pred_tfidf))"
   ]
  },
  {
   "cell_type": "markdown",
   "id": "bf949b77",
   "metadata": {},
   "source": [
    "### Confusion Matrix "
   ]
  },
  {
   "cell_type": "code",
   "execution_count": 45,
   "id": "659b544c",
   "metadata": {},
   "outputs": [
    {
     "data": {
      "image/png": "[encoded data removed]",
      "text/plain": [
       "<Figure size 640x480 with 2 Axes>"
      ]
     },
     "metadata": {},
     "output_type": "display_data"
    }
   ],
   "source": [
    "confmatrix = confusion_matrix(y_test_tfidf, y_pred_tfidf)\n",
    "cm = ConfusionMatrixDisplay(confmatrix, display_labels=[\"0\", \"1\"])\n",
    "cm.plot(cmap=\"YlGnBu_r\")\n",
    "plt.show()"
   ]
  },
  {
   "cell_type": "markdown",
   "id": "b2afa5b2",
   "metadata": {},
   "source": [
    "## XGBoost Classifier "
   ]
  },
  {
   "cell_type": "code",
   "execution_count": 46,
   "id": "32875c86",
   "metadata": {},
   "outputs": [
    {
     "name": "stdout",
     "output_type": "stream",
     "text": [
      "Accuracy of XGBClassifier on test set : 0.918854415274463\n",
      "F1 Score of XGBClassifier on test set : 0.8291457286432161\n"
     ]
    }
   ],
   "source": [
    "# create XGBoost model instance\n",
    "xgb_clf_tfidf = XGBClassifier(n_estimators=50, max_depth=5, learning_rate=0.01, alpha = 10,objective='binary:logistic')\n",
    "# fit XGBoost model\n",
    "xgb_clf_tfidf.fit(X_train_tfidf, y_train_tfidf)\n",
    "# make predictions\n",
    "y_pred_tfidf = xgb_clf_tfidf.predict(X_test_tfidf)\n",
    "print(f\"Accuracy of XGBClassifier on test set : {accuracy_score(y_pred_tfidf, y_test_tfidf)}\")\n",
    "print(f\"F1 Score of XGBClassifier on test set : {f1_score(y_pred_tfidf, y_test_tfidf)}\")"
   ]
  },
  {
   "cell_type": "markdown",
   "id": "cf9f041f",
   "metadata": {},
   "source": [
    "### Classification Report "
   ]
  },
  {
   "cell_type": "code",
   "execution_count": 47,
   "id": "2da9e410",
   "metadata": {},
   "outputs": [
    {
     "name": "stdout",
     "output_type": "stream",
     "text": [
      "              precision    recall  f1-score   support\n",
      "\n",
      "           0       0.90      1.00      0.95       605\n",
      "           1       1.00      0.71      0.83       233\n",
      "\n",
      "    accuracy                           0.92       838\n",
      "   macro avg       0.95      0.85      0.89       838\n",
      "weighted avg       0.93      0.92      0.91       838\n",
      "\n"
     ]
    }
   ],
   "source": [
    "print(classification_report(y_test_tfidf, y_pred_tfidf))"
   ]
  },
  {
   "cell_type": "markdown",
   "id": "753439bf",
   "metadata": {},
   "source": [
    "### Confusion Matrix "
   ]
  },
  {
   "cell_type": "code",
   "execution_count": 48,
   "id": "2e0cd1ce",
   "metadata": {},
   "outputs": [
    {
     "data": {
      "image/png": "[encoded data removed]",
      "text/plain": [
       "<Figure size 640x480 with 2 Axes>"
      ]
     },
     "metadata": {},
     "output_type": "display_data"
    }
   ],
   "source": [
    "confmatrix = confusion_matrix(y_test_tfidf, y_pred_tfidf)\n",
    "cm = ConfusionMatrixDisplay(confmatrix, display_labels=[\"0\", \"1\"])\n",
    "cm.plot(cmap=\"YlGnBu_r\")\n",
    "plt.show()"
   ]
  },
  {
   "cell_type": "markdown",
   "id": "5bf36394",
   "metadata": {},
   "source": [
    "## Extratree Classifier "
   ]
  },
  {
   "cell_type": "code",
   "execution_count": 49,
   "id": "15925a7c",
   "metadata": {},
   "outputs": [
    {
     "name": "stdout",
     "output_type": "stream",
     "text": [
      "Accuracy of ExtraTreesClassifier on test set : 0.9725536992840096\n",
      "F1 Score of ExtraTreesClassifier on test set : 0.9527720739219713\n"
     ]
    }
   ],
   "source": [
    "# create ExtraTreesClassifier model instance\n",
    "xtree_clf_tfidf = ExtraTreesClassifier(n_estimators=100, random_state=0)\n",
    "# fit ExtraTreesClassifier model\n",
    "xtree_clf_tfidf.fit(X_train_tfidf, y_train_tfidf)\n",
    "# make predictions\n",
    "y_pred_tfidf = xtree_clf_tfidf.predict(X_test_tfidf)\n",
    "print(f\"Accuracy of ExtraTreesClassifier on test set : {accuracy_score(y_pred_tfidf, y_test_tfidf)}\")\n",
    "print(f\"F1 Score of ExtraTreesClassifier on test set : {f1_score(y_pred_tfidf, y_test_tfidf)}\")"
   ]
  },
  {
   "cell_type": "markdown",
   "id": "56821209",
   "metadata": {},
   "source": [
    "### Classification Report "
   ]
  },
  {
   "cell_type": "code",
   "execution_count": 50,
   "id": "b33603ef",
   "metadata": {},
   "outputs": [
    {
     "name": "stdout",
     "output_type": "stream",
     "text": [
      "              precision    recall  f1-score   support\n",
      "\n",
      "           0       1.00      0.96      0.98       605\n",
      "           1       0.91      1.00      0.95       233\n",
      "\n",
      "    accuracy                           0.97       838\n",
      "   macro avg       0.96      0.98      0.97       838\n",
      "weighted avg       0.97      0.97      0.97       838\n",
      "\n"
     ]
    }
   ],
   "source": [
    "print(classification_report(y_test_tfidf, y_pred_tfidf))"
   ]
  },
  {
   "cell_type": "markdown",
   "id": "d49b6052",
   "metadata": {},
   "source": [
    "### Confusion Matrix "
   ]
  },
  {
   "cell_type": "code",
   "execution_count": 51,
   "id": "97a6e843",
   "metadata": {},
   "outputs": [
    {
     "data": {
      "image/png": "[encoded data removed]",
      "text/plain": [
       "<Figure size 640x480 with 2 Axes>"
      ]
     },
     "metadata": {},
     "output_type": "display_data"
    }
   ],
   "source": [
    "confmatrix = confusion_matrix(y_test_tfidf, y_pred_tfidf)\n",
    "cm = ConfusionMatrixDisplay(confmatrix, display_labels=[\"0\", \"1\"])\n",
    "cm.plot(cmap=\"YlGnBu_r\")\n",
    "plt.show()"
   ]
  },
  {
   "cell_type": "markdown",
   "id": "0b8d5127",
   "metadata": {},
   "source": [
    "### Saving the Extratree model "
   ]
  },
  {
   "cell_type": "code",
   "execution_count": 52,
   "id": "acaf95bf",
   "metadata": {},
   "outputs": [
    {
     "data": {
      "text/plain": [
       "['C:\\\\Users\\\\Snehal Thakur\\\\PycharmProjects\\\\SQLInjectionML\\\\models\\\\xtree_clf.pkl']"
      ]
     },
     "execution_count": 52,
     "metadata": {},
     "output_type": "execute_result"
    }
   ],
   "source": [
    "import joblib\n",
    "  \n",
    "  \n",
    "# Save the model as a pickle in a file\n",
    "joblib.dump(xtree_clf, r'C:\\Users\\Snehal Thakur\\PycharmProjects\\SQLInjectionML\\models\\xtree_clf.pkl')\n",
    "  \n",
    "# # Load the model from the file\n",
    "# xtree_clf_from_joblib = joblib.load('/models/xtree_clf.pkl')\n",
    "  \n",
    "# # Use the loaded model to make predictions\n",
    "# xtree_clf_from_joblib.predict(X_test)"
   ]
  },
  {
   "cell_type": "markdown",
   "id": "d912fd81",
   "metadata": {},
   "source": [
    "### Testing of Extratree Classifier model on unknown data"
   ]
  },
  {
   "cell_type": "code",
   "execution_count": 53,
   "id": "271a9ed5",
   "metadata": {},
   "outputs": [
    {
     "name": "stdout",
     "output_type": "stream",
     "text": [
      " Enter your text for prediction SHOW FULL COLUMNS FROM 'wp_options'\n"
     ]
    }
   ],
   "source": [
    "text=input(\" Enter your text for prediction \")"
   ]
  },
  {
   "cell_type": "code",
   "execution_count": 54,
   "id": "8081a387",
   "metadata": {},
   "outputs": [
    {
     "name": "stdout",
     "output_type": "stream",
     "text": [
      "ALERT :::: This can be SQL injection\n"
     ]
    }
   ],
   "source": [
    "# print('Vectorized Input:')\n",
    "v0 = tfidf_vectorizer.transform([text]).toarray()\n",
    "# print(v0)\n",
    "pred = xtree_clf_tfidf.predict(v0)\n",
    "#print(\"Predicted Output = \",pred)\n",
    "if pred[0]==0:\n",
    "    print(\"It seems to be safe input\")\n",
    "else:\n",
    "    print(\"ALERT :::: This can be SQL injection\")"
   ]
  },
  {
   "cell_type": "markdown",
   "id": "bc7fcf10",
   "metadata": {},
   "source": [
    "### Inverse transform "
   ]
  },
  {
   "cell_type": "code",
   "execution_count": 55,
   "id": "28a65640",
   "metadata": {},
   "outputs": [
    {
     "name": "stdout",
     "output_type": "stream",
     "text": [
      "To the source:\n",
      "[array(['from', 'full', 'show'], dtype='<U170')]\n"
     ]
    }
   ],
   "source": [
    "print('To the source:')\n",
    "print(tfidf_vectorizer.inverse_transform(v0))"
   ]
  },
  {
   "cell_type": "code",
   "execution_count": null,
   "id": "7acab34a",
   "metadata": {},
   "outputs": [],
   "source": []
  },
  {
   "cell_type": "code",
   "execution_count": null,
   "id": "189c0f09",
   "metadata": {},
   "outputs": [],
   "source": []
  }
 ],
 "metadata": {
  "kernelspec": {
   "display_name": "Python 3 (ipykernel)",
   "language": "python",
   "name": "python3"
  },
  "language_info": {
   "codemirror_mode": {
    "name": "ipython",
    "version": 3
   },
   "file_extension": ".py",
   "mimetype": "text/x-python",
   "name": "python",
   "nbconvert_exporter": "python",
   "pygments_lexer": "ipython3",
   "version": "3.8.0"
  }
 },
 "nbformat": 4,
 "nbformat_minor": 5
}
